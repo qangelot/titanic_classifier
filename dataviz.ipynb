{
 "cells": [
  {
   "cell_type": "code",
   "execution_count": 1,
   "metadata": {},
   "outputs": [],
   "source": [
    "import cufflinks as cf\n",
    "import pandas as pd\n",
    "import numpy as np\n",
    "import plotly.graph_objects as go"
   ]
  },
  {
   "cell_type": "code",
   "execution_count": 2,
   "metadata": {},
   "outputs": [],
   "source": [
    "data = pd.read_csv('train.csv')\n",
    "test = pd.read_csv('test.csv')\n",
    "gender = pd.read_csv('gender_submission.csv')\n",
    "test = pd.concat((test, gender), axis=1)\n",
    "test.drop(['PassengerId', 'Cabin', 'Ticket', 'Name'], inplace = True, axis=1)\n",
    "data.drop(['PassengerId', 'Cabin', 'Ticket', 'Name'], inplace = True, axis=1)"
   ]
  },
  {
   "cell_type": "code",
   "execution_count": 3,
   "metadata": {},
   "outputs": [],
   "source": [
    "mean = data[\"Age\"].mean()\n",
    "std = data[\"Age\"].std()\n",
    "nan_ = data[\"Age\"].isnull().sum()\n",
    "\n",
    "# fill NaN values in Age column with random values generated from a normal distribution \n",
    "# with the mean and std of Age\n",
    "\n",
    "data['Age'].fillna(np.random.randint(mean - std, mean + std), inplace=True)\n",
    "data['Age']\n",
    "test['Age'].fillna(np.random.randint(mean - std, mean + std), inplace=True)\n",
    "test.dropna(inplace=True)\n",
    "data.dropna(inplace=True)"
   ]
  },
  {
   "cell_type": "code",
   "execution_count": 4,
   "metadata": {},
   "outputs": [],
   "source": [
    "# sum up those related columns\n",
    "data['fam_Size'] = data['SibSp'] + data['Parch'] + 1\n",
    "test['fam_Size'] = test['SibSp'] + test['Parch'] + 1\n",
    "data.drop(['SibSp', 'Parch'], axis=1, inplace=True)\n",
    "data.dropna(inplace=True)"
   ]
  },
  {
   "cell_type": "code",
   "execution_count": 5,
   "metadata": {},
   "outputs": [
    {
     "data": {
      "text/html": [
       "        <script type=\"text/javascript\">\n",
       "        window.PlotlyConfig = {MathJaxConfig: 'local'};\n",
       "        if (window.MathJax) {MathJax.Hub.Config({SVG: {font: \"STIX-Web\"}});}\n",
       "        if (typeof require !== 'undefined') {\n",
       "        require.undef(\"plotly\");\n",
       "        requirejs.config({\n",
       "            paths: {\n",
       "                'plotly': ['https://cdn.plot.ly/plotly-latest.min']\n",
       "            }\n",
       "        });\n",
       "        require(['plotly'], function(Plotly) {\n",
       "            window._Plotly = Plotly;\n",
       "        });\n",
       "        }\n",
       "        </script>\n",
       "        "
      ]
     },
     "metadata": {},
     "output_type": "display_data"
    },
    {
     "data": {
      "application/vnd.plotly.v1+json": {
       "config": {
        "plotlyServerURL": "https://plot.ly"
       },
       "data": [
        {
         "boxpoints": false,
         "line": {
          "width": 1.3
         },
         "marker": {
          "color": "rgba(255, 153, 51, 1.0)"
         },
         "name": "Male",
         "orientation": "v",
         "type": "box",
         "y": [
          22,
          null,
          null,
          null,
          35,
          29,
          54,
          2,
          null,
          null,
          null,
          null,
          20,
          39,
          null,
          null,
          2,
          29,
          null,
          null,
          35,
          34,
          null,
          28,
          null,
          null,
          29,
          19,
          null,
          29,
          40,
          null,
          null,
          66,
          28,
          42,
          29,
          21,
          null,
          null,
          null,
          null,
          29,
          null,
          null,
          29,
          29,
          null,
          29,
          null,
          7,
          21,
          null,
          null,
          65,
          29,
          null,
          28.5,
          null,
          11,
          22,
          45,
          4,
          29,
          29,
          null,
          19,
          null,
          26,
          32,
          null,
          21,
          26,
          32,
          25,
          29,
          29,
          0.83,
          null,
          22,
          29,
          null,
          28,
          null,
          null,
          16,
          29,
          null,
          24,
          29,
          20,
          46,
          26,
          59,
          29,
          71,
          23,
          null,
          34,
          null,
          29,
          21,
          33,
          37,
          28,
          null,
          29,
          38,
          null,
          47,
          null,
          22,
          null,
          null,
          21,
          70.5,
          29,
          24,
          null,
          21,
          29,
          32.5,
          null,
          54,
          12,
          29,
          24,
          null,
          45,
          33,
          20,
          null,
          null,
          25,
          23,
          null,
          37,
          16,
          24,
          null,
          null,
          null,
          19,
          18,
          19,
          27,
          null,
          36.5,
          42,
          51,
          null,
          55.5,
          40.5,
          29,
          51,
          null,
          30,
          29,
          29,
          44,
          null,
          26,
          17,
          1,
          9,
          null,
          null,
          29,
          28,
          61,
          4,
          null,
          21,
          56,
          18,
          29,
          null,
          30,
          36,
          null,
          29,
          9,
          1,
          null,
          29,
          null,
          45,
          40,
          36,
          null,
          19,
          null,
          3,
          null,
          null,
          29,
          42,
          null,
          null,
          28,
          29,
          34,
          45.5,
          18,
          null,
          32,
          26,
          null,
          40,
          24,
          null,
          22,
          30,
          29,
          null,
          null,
          42,
          null,
          30,
          16,
          27,
          51,
          29,
          38,
          22,
          19,
          20.5,
          18,
          null,
          null,
          29,
          59,
          null,
          24,
          null,
          44,
          null,
          19,
          33,
          null,
          null,
          29,
          22,
          30,
          44,
          null,
          null,
          37,
          54,
          29,
          null,
          62,
          30,
          null,
          null,
          null,
          null,
          null,
          null,
          29,
          3,
          52,
          40,
          null,
          36,
          16,
          25,
          null,
          null,
          29,
          25,
          null,
          37,
          null,
          null,
          null,
          29,
          7,
          null,
          65,
          28,
          16,
          19,
          29,
          33,
          30,
          22,
          42,
          null,
          null,
          null,
          36,
          null,
          24,
          29,
          23.5,
          null,
          29,
          null,
          null,
          29,
          19,
          null,
          29,
          0.92,
          null,
          null,
          30,
          null,
          null,
          null,
          null,
          28,
          43,
          null,
          null,
          54,
          null,
          null,
          22,
          27,
          null,
          null,
          29,
          null,
          61,
          null,
          null,
          null,
          null,
          45.5,
          38,
          16,
          null,
          29,
          29,
          null,
          45,
          45,
          2,
          null,
          28,
          25,
          36,
          null,
          null,
          null,
          3,
          42,
          23,
          29,
          15,
          25,
          29,
          28,
          null,
          null,
          null,
          null,
          40,
          29,
          null,
          35,
          29,
          30,
          null,
          null,
          null,
          null,
          25,
          18,
          19,
          22,
          null,
          null,
          null,
          27,
          20,
          19,
          null,
          null,
          32,
          null,
          29,
          18,
          1,
          null,
          29,
          null,
          36,
          21,
          28,
          null,
          null,
          22,
          null,
          46,
          23,
          null,
          39,
          26,
          null,
          28,
          null,
          34,
          51,
          3,
          21,
          null,
          29,
          29,
          null,
          29,
          44,
          null,
          null,
          null,
          30,
          null,
          29,
          21,
          29,
          null,
          18,
          29,
          null,
          null,
          29,
          32,
          28,
          null,
          null,
          17,
          50,
          null,
          null,
          null,
          64,
          31,
          null,
          20,
          25,
          null,
          29,
          4,
          null,
          34,
          null,
          52,
          36,
          29,
          30,
          49,
          29,
          29,
          65,
          null,
          null,
          29,
          48,
          34,
          47,
          48,
          29,
          38,
          29,
          56,
          29,
          null,
          29,
          38,
          null,
          null,
          null,
          29,
          34,
          29,
          22,
          null,
          9,
          29,
          50,
          null,
          25,
          null,
          null,
          58,
          30,
          9,
          29,
          21,
          55,
          71,
          21,
          29,
          null,
          29,
          null,
          24,
          17,
          null,
          null,
          null,
          null,
          18,
          null,
          29,
          28,
          26,
          29,
          29,
          36,
          null,
          24,
          47,
          null,
          29,
          null,
          32,
          null,
          22,
          29,
          null,
          29,
          40.5,
          null,
          29,
          39,
          23,
          null,
          29,
          17,
          null,
          null,
          null,
          45,
          null,
          29,
          null,
          null,
          null,
          null,
          32,
          50,
          64,
          null,
          29,
          33,
          8,
          17,
          27,
          29,
          22,
          null,
          62,
          null,
          29,
          null,
          null,
          29,
          40,
          28,
          29,
          null,
          24,
          19,
          null,
          29,
          32,
          62,
          null,
          36,
          null,
          16,
          19,
          null,
          null,
          null,
          32,
          null,
          null,
          54,
          36,
          29,
          null,
          47,
          60,
          22,
          29,
          35,
          null,
          47,
          null,
          37,
          36,
          null,
          49,
          29,
          49,
          null,
          29,
          29,
          44,
          35,
          36,
          30,
          27,
          null,
          null,
          null,
          29,
          null,
          29,
          35,
          null,
          34,
          null,
          null,
          26,
          27,
          42,
          20,
          21,
          21,
          61,
          57,
          null,
          26,
          29,
          80,
          51,
          32,
          29,
          null,
          null,
          32,
          31,
          null,
          29,
          20,
          null,
          null,
          29,
          null,
          48,
          19,
          56,
          29,
          null,
          29,
          null,
          21,
          null,
          null,
          24,
          29,
          null,
          23,
          58,
          50,
          40,
          47,
          36,
          20,
          32,
          25,
          29,
          43,
          null,
          null,
          31,
          70,
          31,
          29,
          18,
          24.5,
          null,
          null,
          36,
          null,
          27,
          20,
          14,
          60,
          25,
          14,
          19,
          18,
          null,
          31,
          null,
          29,
          25,
          60,
          52,
          44,
          null,
          49,
          42,
          null,
          35,
          null,
          25,
          26,
          39,
          null,
          42,
          null,
          29,
          null,
          29,
          48,
          29,
          52,
          19,
          null,
          null,
          29,
          33,
          null,
          17,
          34,
          50,
          27,
          20,
          null,
          null,
          25,
          null,
          null,
          11,
          29,
          23,
          23,
          28.5,
          null,
          35,
          29,
          29,
          29,
          36,
          null,
          24,
          31,
          70,
          16,
          null,
          19,
          31,
          null,
          6,
          33,
          23,
          null,
          0.67,
          28,
          18,
          34,
          null,
          29,
          41,
          20,
          null,
          16,
          null,
          29,
          null,
          29,
          32,
          24,
          48,
          null,
          29,
          null,
          18,
          29,
          null,
          29,
          null,
          null,
          null,
          29,
          29,
          25,
          25,
          null,
          8,
          1,
          46,
          29,
          16,
          null,
          29,
          25,
          39,
          null,
          null,
          30,
          null,
          34,
          null,
          11,
          0.42,
          27,
          31,
          39,
          null,
          39,
          null,
          26,
          39,
          35,
          null,
          30.5,
          29,
          null,
          31,
          43,
          10,
          null,
          27,
          38,
          null,
          2,
          29,
          29,
          1,
          29,
          null,
          0.83,
          29,
          23,
          18,
          null,
          21,
          29,
          32,
          29,
          20,
          16,
          null,
          34.5,
          17,
          42,
          29,
          35,
          28,
          null,
          4,
          74,
          null,
          null,
          null,
          null,
          null,
          51,
          null,
          29,
          41,
          21,
          null,
          null,
          24,
          null,
          null,
          31,
          29,
          4,
          26,
          null,
          33,
          47,
          null,
          null,
          20,
          19,
          29,
          null,
          null,
          33,
          null,
          28,
          25,
          null,
          27,
          null,
          null,
          26,
          32
         ]
        },
        {
         "boxpoints": false,
         "line": {
          "width": 1.3
         },
         "marker": {
          "color": "rgba(55, 128, 191, 1.0)"
         },
         "name": "Female",
         "orientation": "v",
         "type": "box",
         "y": [
          null,
          38,
          26,
          35,
          null,
          null,
          null,
          null,
          27,
          14,
          4,
          58,
          null,
          null,
          14,
          55,
          null,
          null,
          31,
          29,
          null,
          null,
          15,
          null,
          8,
          38,
          null,
          null,
          29,
          null,
          null,
          29,
          29,
          null,
          null,
          null,
          null,
          null,
          18,
          14,
          40,
          27,
          null,
          3,
          19,
          null,
          null,
          29,
          null,
          18,
          null,
          null,
          49,
          29,
          null,
          null,
          21,
          null,
          5,
          null,
          null,
          null,
          null,
          null,
          null,
          29,
          null,
          17,
          null,
          null,
          16,
          null,
          null,
          null,
          null,
          null,
          null,
          null,
          30,
          null,
          null,
          29,
          null,
          17,
          33,
          null,
          null,
          23,
          null,
          null,
          null,
          null,
          null,
          null,
          null,
          null,
          null,
          34,
          null,
          28,
          null,
          null,
          null,
          null,
          null,
          21,
          null,
          null,
          29,
          null,
          14.5,
          null,
          20,
          17,
          null,
          null,
          null,
          null,
          2,
          null,
          null,
          null,
          32.5,
          null,
          null,
          null,
          null,
          29,
          null,
          null,
          null,
          47,
          29,
          null,
          null,
          19,
          null,
          null,
          null,
          29,
          22,
          24,
          null,
          null,
          null,
          null,
          9,
          null,
          null,
          null,
          22,
          null,
          null,
          null,
          null,
          16,
          null,
          null,
          null,
          null,
          40,
          null,
          null,
          null,
          null,
          29,
          45,
          null,
          null,
          null,
          null,
          1,
          null,
          null,
          null,
          null,
          50,
          null,
          null,
          29,
          null,
          null,
          null,
          4,
          null,
          29,
          null,
          null,
          null,
          32,
          null,
          19,
          null,
          44,
          58,
          null,
          null,
          29,
          24,
          null,
          null,
          null,
          null,
          null,
          2,
          null,
          null,
          16,
          null,
          null,
          35,
          null,
          null,
          null,
          31,
          27,
          null,
          32,
          null,
          null,
          null,
          null,
          null,
          null,
          null,
          null,
          null,
          null,
          29,
          35,
          null,
          null,
          5,
          null,
          29,
          null,
          8,
          null,
          null,
          29,
          29,
          null,
          null,
          null,
          null,
          25,
          24,
          null,
          null,
          null,
          29,
          null,
          null,
          41,
          29,
          29,
          30,
          35,
          50,
          null,
          null,
          null,
          null,
          29,
          null,
          null,
          null,
          58,
          35,
          null,
          null,
          41,
          null,
          29,
          63,
          45,
          null,
          null,
          35,
          null,
          null,
          null,
          null,
          null,
          null,
          null,
          null,
          null,
          22,
          26,
          19,
          null,
          24,
          null,
          null,
          null,
          2,
          null,
          50,
          29,
          null,
          null,
          29,
          null,
          null,
          29,
          17,
          null,
          30,
          24,
          18,
          26,
          null,
          null,
          26,
          24,
          null,
          31,
          40,
          null,
          null,
          30,
          22,
          null,
          36,
          null,
          36,
          31,
          16,
          29,
          null,
          null,
          null,
          29,
          null,
          null,
          41,
          null,
          null,
          null,
          24,
          null,
          null,
          null,
          24,
          40,
          29,
          null,
          null,
          null,
          null,
          null,
          null,
          null,
          null,
          22,
          38,
          29,
          29,
          null,
          null,
          45,
          null,
          null,
          null,
          60,
          29,
          29,
          24,
          null,
          null,
          null,
          null,
          3,
          29,
          22,
          null,
          null,
          null,
          42,
          1,
          null,
          35,
          null,
          null,
          null,
          36,
          null,
          17,
          null,
          null,
          null,
          23,
          24,
          null,
          31,
          null,
          null,
          28,
          null,
          null,
          21,
          null,
          20,
          null,
          null,
          null,
          null,
          29,
          null,
          null,
          33,
          null,
          null,
          29,
          34,
          18,
          null,
          10,
          null,
          null,
          null,
          28,
          null,
          null,
          28,
          19,
          null,
          null,
          null,
          29,
          42,
          null,
          null,
          14,
          21,
          24,
          null,
          null,
          45,
          null,
          null,
          28,
          null,
          null,
          13,
          null,
          5,
          null,
          null,
          null,
          null,
          null,
          null,
          null,
          null,
          29,
          50,
          null,
          null,
          null,
          null,
          null,
          null,
          null,
          null,
          null,
          null,
          0.75,
          null,
          null,
          33,
          23,
          22,
          null,
          null,
          null,
          null,
          2,
          null,
          null,
          null,
          63,
          null,
          29,
          35,
          null,
          null,
          null,
          null,
          null,
          null,
          null,
          null,
          null,
          54,
          null,
          25,
          null,
          null,
          21,
          29,
          37,
          16,
          null,
          33,
          null,
          null,
          null,
          null,
          null,
          null,
          54,
          null,
          null,
          34,
          null,
          36,
          null,
          30,
          null,
          null,
          44,
          null,
          null,
          50,
          null,
          null,
          null,
          2,
          null,
          null,
          29,
          30,
          7,
          null,
          30,
          null,
          22,
          36,
          9,
          11,
          null,
          null,
          null,
          19,
          null,
          null,
          null,
          null,
          null,
          null,
          null,
          22,
          null,
          48,
          null,
          39,
          36,
          null,
          null,
          null,
          null,
          29,
          null,
          null,
          29,
          null,
          null,
          null,
          53,
          null,
          29,
          null,
          null,
          34,
          39,
          29,
          null,
          25,
          39,
          null,
          null,
          null,
          18,
          null,
          null,
          null,
          null,
          null,
          52,
          null,
          29,
          null,
          null,
          29,
          null,
          null,
          null,
          24,
          null,
          null,
          null,
          null,
          null,
          null,
          null,
          22,
          40,
          39,
          null,
          29,
          null,
          null,
          24,
          null,
          26,
          4,
          null,
          null,
          null,
          null,
          null,
          null,
          null,
          null,
          21,
          null,
          null,
          null,
          null,
          null,
          null,
          9,
          28,
          null,
          null,
          41,
          null,
          null,
          24,
          2,
          null,
          0.75,
          null,
          null,
          null,
          null,
          23,
          null,
          18,
          null,
          29,
          18,
          null,
          null,
          32,
          null,
          null,
          null,
          null,
          null,
          null,
          null,
          null,
          null,
          null,
          null,
          29,
          40,
          null,
          null,
          null,
          null,
          null,
          null,
          18,
          43,
          null,
          29,
          null,
          null,
          null,
          null,
          null,
          null,
          null,
          null,
          15,
          null,
          4,
          null,
          null,
          null,
          null,
          null,
          29,
          null,
          null,
          18,
          null,
          18,
          null,
          null,
          null,
          45,
          null,
          22,
          null,
          24,
          null,
          null,
          null,
          null,
          null,
          38,
          27,
          null,
          null,
          6,
          null,
          null,
          null,
          null,
          null,
          30,
          29,
          null,
          25,
          29,
          null,
          null,
          null,
          null,
          null,
          48,
          null,
          null,
          null,
          null,
          null,
          21,
          null,
          null,
          null,
          null,
          30,
          null,
          null,
          4,
          null,
          null,
          null,
          48,
          null,
          null,
          null,
          null,
          33,
          null,
          null,
          null,
          36,
          null,
          51,
          null,
          30.5,
          null,
          null,
          null,
          null,
          57,
          null,
          54,
          null,
          null,
          5,
          null,
          43,
          13,
          17,
          null,
          null,
          null,
          null,
          18,
          null,
          null,
          null,
          null,
          null,
          29,
          null,
          null,
          null,
          49,
          31,
          null,
          30,
          null,
          31,
          null,
          null,
          null,
          null,
          null,
          18,
          null,
          33,
          null,
          null,
          null,
          6,
          null,
          null,
          23,
          null,
          null,
          null,
          52,
          null,
          null,
          27,
          null,
          null,
          null,
          null,
          null,
          15,
          null,
          null,
          null,
          null,
          39,
          null,
          null,
          null,
          null,
          null,
          null,
          30,
          null,
          null,
          null,
          null,
          null,
          null,
          29,
          null,
          null,
          9,
          16,
          44,
          18,
          45,
          null,
          24,
          null,
          null,
          null,
          48,
          29,
          null,
          42,
          27,
          null,
          null,
          null,
          null,
          47,
          null,
          null,
          28,
          15,
          null,
          null,
          null,
          56,
          25,
          null,
          22,
          null,
          null,
          39,
          null,
          19,
          29,
          null,
          null
         ]
        }
       ],
       "layout": {
        "legend": {
         "bgcolor": "#F5F6F9",
         "font": {
          "color": "#4D5663"
         }
        },
        "paper_bgcolor": "#F5F6F9",
        "plot_bgcolor": "#F5F6F9",
        "template": {
         "data": {
          "bar": [
           {
            "error_x": {
             "color": "#2a3f5f"
            },
            "error_y": {
             "color": "#2a3f5f"
            },
            "marker": {
             "line": {
              "color": "#E5ECF6",
              "width": 0.5
             }
            },
            "type": "bar"
           }
          ],
          "barpolar": [
           {
            "marker": {
             "line": {
              "color": "#E5ECF6",
              "width": 0.5
             }
            },
            "type": "barpolar"
           }
          ],
          "carpet": [
           {
            "aaxis": {
             "endlinecolor": "#2a3f5f",
             "gridcolor": "white",
             "linecolor": "white",
             "minorgridcolor": "white",
             "startlinecolor": "#2a3f5f"
            },
            "baxis": {
             "endlinecolor": "#2a3f5f",
             "gridcolor": "white",
             "linecolor": "white",
             "minorgridcolor": "white",
             "startlinecolor": "#2a3f5f"
            },
            "type": "carpet"
           }
          ],
          "choropleth": [
           {
            "colorbar": {
             "outlinewidth": 0,
             "ticks": ""
            },
            "type": "choropleth"
           }
          ],
          "contour": [
           {
            "colorbar": {
             "outlinewidth": 0,
             "ticks": ""
            },
            "colorscale": [
             [
              0,
              "#0d0887"
             ],
             [
              0.1111111111111111,
              "#46039f"
             ],
             [
              0.2222222222222222,
              "#7201a8"
             ],
             [
              0.3333333333333333,
              "#9c179e"
             ],
             [
              0.4444444444444444,
              "#bd3786"
             ],
             [
              0.5555555555555556,
              "#d8576b"
             ],
             [
              0.6666666666666666,
              "#ed7953"
             ],
             [
              0.7777777777777778,
              "#fb9f3a"
             ],
             [
              0.8888888888888888,
              "#fdca26"
             ],
             [
              1,
              "#f0f921"
             ]
            ],
            "type": "contour"
           }
          ],
          "contourcarpet": [
           {
            "colorbar": {
             "outlinewidth": 0,
             "ticks": ""
            },
            "type": "contourcarpet"
           }
          ],
          "heatmap": [
           {
            "colorbar": {
             "outlinewidth": 0,
             "ticks": ""
            },
            "colorscale": [
             [
              0,
              "#0d0887"
             ],
             [
              0.1111111111111111,
              "#46039f"
             ],
             [
              0.2222222222222222,
              "#7201a8"
             ],
             [
              0.3333333333333333,
              "#9c179e"
             ],
             [
              0.4444444444444444,
              "#bd3786"
             ],
             [
              0.5555555555555556,
              "#d8576b"
             ],
             [
              0.6666666666666666,
              "#ed7953"
             ],
             [
              0.7777777777777778,
              "#fb9f3a"
             ],
             [
              0.8888888888888888,
              "#fdca26"
             ],
             [
              1,
              "#f0f921"
             ]
            ],
            "type": "heatmap"
           }
          ],
          "heatmapgl": [
           {
            "colorbar": {
             "outlinewidth": 0,
             "ticks": ""
            },
            "colorscale": [
             [
              0,
              "#0d0887"
             ],
             [
              0.1111111111111111,
              "#46039f"
             ],
             [
              0.2222222222222222,
              "#7201a8"
             ],
             [
              0.3333333333333333,
              "#9c179e"
             ],
             [
              0.4444444444444444,
              "#bd3786"
             ],
             [
              0.5555555555555556,
              "#d8576b"
             ],
             [
              0.6666666666666666,
              "#ed7953"
             ],
             [
              0.7777777777777778,
              "#fb9f3a"
             ],
             [
              0.8888888888888888,
              "#fdca26"
             ],
             [
              1,
              "#f0f921"
             ]
            ],
            "type": "heatmapgl"
           }
          ],
          "histogram": [
           {
            "marker": {
             "colorbar": {
              "outlinewidth": 0,
              "ticks": ""
             }
            },
            "type": "histogram"
           }
          ],
          "histogram2d": [
           {
            "colorbar": {
             "outlinewidth": 0,
             "ticks": ""
            },
            "colorscale": [
             [
              0,
              "#0d0887"
             ],
             [
              0.1111111111111111,
              "#46039f"
             ],
             [
              0.2222222222222222,
              "#7201a8"
             ],
             [
              0.3333333333333333,
              "#9c179e"
             ],
             [
              0.4444444444444444,
              "#bd3786"
             ],
             [
              0.5555555555555556,
              "#d8576b"
             ],
             [
              0.6666666666666666,
              "#ed7953"
             ],
             [
              0.7777777777777778,
              "#fb9f3a"
             ],
             [
              0.8888888888888888,
              "#fdca26"
             ],
             [
              1,
              "#f0f921"
             ]
            ],
            "type": "histogram2d"
           }
          ],
          "histogram2dcontour": [
           {
            "colorbar": {
             "outlinewidth": 0,
             "ticks": ""
            },
            "colorscale": [
             [
              0,
              "#0d0887"
             ],
             [
              0.1111111111111111,
              "#46039f"
             ],
             [
              0.2222222222222222,
              "#7201a8"
             ],
             [
              0.3333333333333333,
              "#9c179e"
             ],
             [
              0.4444444444444444,
              "#bd3786"
             ],
             [
              0.5555555555555556,
              "#d8576b"
             ],
             [
              0.6666666666666666,
              "#ed7953"
             ],
             [
              0.7777777777777778,
              "#fb9f3a"
             ],
             [
              0.8888888888888888,
              "#fdca26"
             ],
             [
              1,
              "#f0f921"
             ]
            ],
            "type": "histogram2dcontour"
           }
          ],
          "mesh3d": [
           {
            "colorbar": {
             "outlinewidth": 0,
             "ticks": ""
            },
            "type": "mesh3d"
           }
          ],
          "parcoords": [
           {
            "line": {
             "colorbar": {
              "outlinewidth": 0,
              "ticks": ""
             }
            },
            "type": "parcoords"
           }
          ],
          "pie": [
           {
            "automargin": true,
            "type": "pie"
           }
          ],
          "scatter": [
           {
            "marker": {
             "colorbar": {
              "outlinewidth": 0,
              "ticks": ""
             }
            },
            "type": "scatter"
           }
          ],
          "scatter3d": [
           {
            "line": {
             "colorbar": {
              "outlinewidth": 0,
              "ticks": ""
             }
            },
            "marker": {
             "colorbar": {
              "outlinewidth": 0,
              "ticks": ""
             }
            },
            "type": "scatter3d"
           }
          ],
          "scattercarpet": [
           {
            "marker": {
             "colorbar": {
              "outlinewidth": 0,
              "ticks": ""
             }
            },
            "type": "scattercarpet"
           }
          ],
          "scattergeo": [
           {
            "marker": {
             "colorbar": {
              "outlinewidth": 0,
              "ticks": ""
             }
            },
            "type": "scattergeo"
           }
          ],
          "scattergl": [
           {
            "marker": {
             "colorbar": {
              "outlinewidth": 0,
              "ticks": ""
             }
            },
            "type": "scattergl"
           }
          ],
          "scattermapbox": [
           {
            "marker": {
             "colorbar": {
              "outlinewidth": 0,
              "ticks": ""
             }
            },
            "type": "scattermapbox"
           }
          ],
          "scatterpolar": [
           {
            "marker": {
             "colorbar": {
              "outlinewidth": 0,
              "ticks": ""
             }
            },
            "type": "scatterpolar"
           }
          ],
          "scatterpolargl": [
           {
            "marker": {
             "colorbar": {
              "outlinewidth": 0,
              "ticks": ""
             }
            },
            "type": "scatterpolargl"
           }
          ],
          "scatterternary": [
           {
            "marker": {
             "colorbar": {
              "outlinewidth": 0,
              "ticks": ""
             }
            },
            "type": "scatterternary"
           }
          ],
          "surface": [
           {
            "colorbar": {
             "outlinewidth": 0,
             "ticks": ""
            },
            "colorscale": [
             [
              0,
              "#0d0887"
             ],
             [
              0.1111111111111111,
              "#46039f"
             ],
             [
              0.2222222222222222,
              "#7201a8"
             ],
             [
              0.3333333333333333,
              "#9c179e"
             ],
             [
              0.4444444444444444,
              "#bd3786"
             ],
             [
              0.5555555555555556,
              "#d8576b"
             ],
             [
              0.6666666666666666,
              "#ed7953"
             ],
             [
              0.7777777777777778,
              "#fb9f3a"
             ],
             [
              0.8888888888888888,
              "#fdca26"
             ],
             [
              1,
              "#f0f921"
             ]
            ],
            "type": "surface"
           }
          ],
          "table": [
           {
            "cells": {
             "fill": {
              "color": "#EBF0F8"
             },
             "line": {
              "color": "white"
             }
            },
            "header": {
             "fill": {
              "color": "#C8D4E3"
             },
             "line": {
              "color": "white"
             }
            },
            "type": "table"
           }
          ]
         },
         "layout": {
          "annotationdefaults": {
           "arrowcolor": "#2a3f5f",
           "arrowhead": 0,
           "arrowwidth": 1
          },
          "coloraxis": {
           "colorbar": {
            "outlinewidth": 0,
            "ticks": ""
           }
          },
          "colorscale": {
           "diverging": [
            [
             0,
             "#8e0152"
            ],
            [
             0.1,
             "#c51b7d"
            ],
            [
             0.2,
             "#de77ae"
            ],
            [
             0.3,
             "#f1b6da"
            ],
            [
             0.4,
             "#fde0ef"
            ],
            [
             0.5,
             "#f7f7f7"
            ],
            [
             0.6,
             "#e6f5d0"
            ],
            [
             0.7,
             "#b8e186"
            ],
            [
             0.8,
             "#7fbc41"
            ],
            [
             0.9,
             "#4d9221"
            ],
            [
             1,
             "#276419"
            ]
           ],
           "sequential": [
            [
             0,
             "#0d0887"
            ],
            [
             0.1111111111111111,
             "#46039f"
            ],
            [
             0.2222222222222222,
             "#7201a8"
            ],
            [
             0.3333333333333333,
             "#9c179e"
            ],
            [
             0.4444444444444444,
             "#bd3786"
            ],
            [
             0.5555555555555556,
             "#d8576b"
            ],
            [
             0.6666666666666666,
             "#ed7953"
            ],
            [
             0.7777777777777778,
             "#fb9f3a"
            ],
            [
             0.8888888888888888,
             "#fdca26"
            ],
            [
             1,
             "#f0f921"
            ]
           ],
           "sequentialminus": [
            [
             0,
             "#0d0887"
            ],
            [
             0.1111111111111111,
             "#46039f"
            ],
            [
             0.2222222222222222,
             "#7201a8"
            ],
            [
             0.3333333333333333,
             "#9c179e"
            ],
            [
             0.4444444444444444,
             "#bd3786"
            ],
            [
             0.5555555555555556,
             "#d8576b"
            ],
            [
             0.6666666666666666,
             "#ed7953"
            ],
            [
             0.7777777777777778,
             "#fb9f3a"
            ],
            [
             0.8888888888888888,
             "#fdca26"
            ],
            [
             1,
             "#f0f921"
            ]
           ]
          },
          "colorway": [
           "#636efa",
           "#EF553B",
           "#00cc96",
           "#ab63fa",
           "#FFA15A",
           "#19d3f3",
           "#FF6692",
           "#B6E880",
           "#FF97FF",
           "#FECB52"
          ],
          "font": {
           "color": "#2a3f5f"
          },
          "geo": {
           "bgcolor": "white",
           "lakecolor": "white",
           "landcolor": "#E5ECF6",
           "showlakes": true,
           "showland": true,
           "subunitcolor": "white"
          },
          "hoverlabel": {
           "align": "left"
          },
          "hovermode": "closest",
          "mapbox": {
           "style": "light"
          },
          "paper_bgcolor": "white",
          "plot_bgcolor": "#E5ECF6",
          "polar": {
           "angularaxis": {
            "gridcolor": "white",
            "linecolor": "white",
            "ticks": ""
           },
           "bgcolor": "#E5ECF6",
           "radialaxis": {
            "gridcolor": "white",
            "linecolor": "white",
            "ticks": ""
           }
          },
          "scene": {
           "xaxis": {
            "backgroundcolor": "#E5ECF6",
            "gridcolor": "white",
            "gridwidth": 2,
            "linecolor": "white",
            "showbackground": true,
            "ticks": "",
            "zerolinecolor": "white"
           },
           "yaxis": {
            "backgroundcolor": "#E5ECF6",
            "gridcolor": "white",
            "gridwidth": 2,
            "linecolor": "white",
            "showbackground": true,
            "ticks": "",
            "zerolinecolor": "white"
           },
           "zaxis": {
            "backgroundcolor": "#E5ECF6",
            "gridcolor": "white",
            "gridwidth": 2,
            "linecolor": "white",
            "showbackground": true,
            "ticks": "",
            "zerolinecolor": "white"
           }
          },
          "shapedefaults": {
           "line": {
            "color": "#2a3f5f"
           }
          },
          "ternary": {
           "aaxis": {
            "gridcolor": "white",
            "linecolor": "white",
            "ticks": ""
           },
           "baxis": {
            "gridcolor": "white",
            "linecolor": "white",
            "ticks": ""
           },
           "bgcolor": "#E5ECF6",
           "caxis": {
            "gridcolor": "white",
            "linecolor": "white",
            "ticks": ""
           }
          },
          "title": {
           "x": 0.05
          },
          "xaxis": {
           "automargin": true,
           "gridcolor": "white",
           "linecolor": "white",
           "ticks": "",
           "title": {
            "standoff": 15
           },
           "zerolinecolor": "white",
           "zerolinewidth": 2
          },
          "yaxis": {
           "automargin": true,
           "gridcolor": "white",
           "linecolor": "white",
           "ticks": "",
           "title": {
            "standoff": 15
           },
           "zerolinecolor": "white",
           "zerolinewidth": 2
          }
         }
        },
        "title": {
         "font": {
          "color": "#4D5663"
         },
         "text": "Age distribution by gender"
        },
        "xaxis": {
         "gridcolor": "#E1E5ED",
         "showgrid": true,
         "tickfont": {
          "color": "#4D5663"
         },
         "title": {
          "font": {
           "color": "#4D5663"
          },
          "text": ""
         },
         "zerolinecolor": "#E1E5ED"
        },
        "yaxis": {
         "gridcolor": "#E1E5ED",
         "showgrid": true,
         "tickfont": {
          "color": "#4D5663"
         },
         "title": {
          "font": {
           "color": "#4D5663"
          },
          "text": ""
         },
         "zerolinecolor": "#E1E5ED"
        }
       }
      },
      "text/html": [
       "<div>\n",
       "        \n",
       "        \n",
       "            <div id=\"002c650a-b1a0-4cda-b422-16935f30c2e2\" class=\"plotly-graph-div\" style=\"height:525px; width:100%;\"></div>\n",
       "            <script type=\"text/javascript\">\n",
       "                require([\"plotly\"], function(Plotly) {\n",
       "                    window.PLOTLYENV=window.PLOTLYENV || {};\n",
       "                    \n",
       "                if (document.getElementById(\"002c650a-b1a0-4cda-b422-16935f30c2e2\")) {\n",
       "                    Plotly.newPlot(\n",
       "                        '002c650a-b1a0-4cda-b422-16935f30c2e2',\n",
       "                        [{\"boxpoints\": false, \"line\": {\"width\": 1.3}, \"marker\": {\"color\": \"rgba(255, 153, 51, 1.0)\"}, \"name\": \"Male\", \"orientation\": \"v\", \"type\": \"box\", \"y\": [22.0, null, null, null, 35.0, 29.0, 54.0, 2.0, null, null, null, null, 20.0, 39.0, null, null, 2.0, 29.0, null, null, 35.0, 34.0, null, 28.0, null, null, 29.0, 19.0, null, 29.0, 40.0, null, null, 66.0, 28.0, 42.0, 29.0, 21.0, null, null, null, null, 29.0, null, null, 29.0, 29.0, null, 29.0, null, 7.0, 21.0, null, null, 65.0, 29.0, null, 28.5, null, 11.0, 22.0, 45.0, 4.0, 29.0, 29.0, null, 19.0, null, 26.0, 32.0, null, 21.0, 26.0, 32.0, 25.0, 29.0, 29.0, 0.83, null, 22.0, 29.0, null, 28.0, null, null, 16.0, 29.0, null, 24.0, 29.0, 20.0, 46.0, 26.0, 59.0, 29.0, 71.0, 23.0, null, 34.0, null, 29.0, 21.0, 33.0, 37.0, 28.0, null, 29.0, 38.0, null, 47.0, null, 22.0, null, null, 21.0, 70.5, 29.0, 24.0, null, 21.0, 29.0, 32.5, null, 54.0, 12.0, 29.0, 24.0, null, 45.0, 33.0, 20.0, null, null, 25.0, 23.0, null, 37.0, 16.0, 24.0, null, null, null, 19.0, 18.0, 19.0, 27.0, null, 36.5, 42.0, 51.0, null, 55.5, 40.5, 29.0, 51.0, null, 30.0, 29.0, 29.0, 44.0, null, 26.0, 17.0, 1.0, 9.0, null, null, 29.0, 28.0, 61.0, 4.0, null, 21.0, 56.0, 18.0, 29.0, null, 30.0, 36.0, null, 29.0, 9.0, 1.0, null, 29.0, null, 45.0, 40.0, 36.0, null, 19.0, null, 3.0, null, null, 29.0, 42.0, null, null, 28.0, 29.0, 34.0, 45.5, 18.0, null, 32.0, 26.0, null, 40.0, 24.0, null, 22.0, 30.0, 29.0, null, null, 42.0, null, 30.0, 16.0, 27.0, 51.0, 29.0, 38.0, 22.0, 19.0, 20.5, 18.0, null, null, 29.0, 59.0, null, 24.0, null, 44.0, null, 19.0, 33.0, null, null, 29.0, 22.0, 30.0, 44.0, null, null, 37.0, 54.0, 29.0, null, 62.0, 30.0, null, null, null, null, null, null, 29.0, 3.0, 52.0, 40.0, null, 36.0, 16.0, 25.0, null, null, 29.0, 25.0, null, 37.0, null, null, null, 29.0, 7.0, null, 65.0, 28.0, 16.0, 19.0, 29.0, 33.0, 30.0, 22.0, 42.0, null, null, null, 36.0, null, 24.0, 29.0, 23.5, null, 29.0, null, null, 29.0, 19.0, null, 29.0, 0.92, null, null, 30.0, null, null, null, null, 28.0, 43.0, null, null, 54.0, null, null, 22.0, 27.0, null, null, 29.0, null, 61.0, null, null, null, null, 45.5, 38.0, 16.0, null, 29.0, 29.0, null, 45.0, 45.0, 2.0, null, 28.0, 25.0, 36.0, null, null, null, 3.0, 42.0, 23.0, 29.0, 15.0, 25.0, 29.0, 28.0, null, null, null, null, 40.0, 29.0, null, 35.0, 29.0, 30.0, null, null, null, null, 25.0, 18.0, 19.0, 22.0, null, null, null, 27.0, 20.0, 19.0, null, null, 32.0, null, 29.0, 18.0, 1.0, null, 29.0, null, 36.0, 21.0, 28.0, null, null, 22.0, null, 46.0, 23.0, null, 39.0, 26.0, null, 28.0, null, 34.0, 51.0, 3.0, 21.0, null, 29.0, 29.0, null, 29.0, 44.0, null, null, null, 30.0, null, 29.0, 21.0, 29.0, null, 18.0, 29.0, null, null, 29.0, 32.0, 28.0, null, null, 17.0, 50.0, null, null, null, 64.0, 31.0, null, 20.0, 25.0, null, 29.0, 4.0, null, 34.0, null, 52.0, 36.0, 29.0, 30.0, 49.0, 29.0, 29.0, 65.0, null, null, 29.0, 48.0, 34.0, 47.0, 48.0, 29.0, 38.0, 29.0, 56.0, 29.0, null, 29.0, 38.0, null, null, null, 29.0, 34.0, 29.0, 22.0, null, 9.0, 29.0, 50.0, null, 25.0, null, null, 58.0, 30.0, 9.0, 29.0, 21.0, 55.0, 71.0, 21.0, 29.0, null, 29.0, null, 24.0, 17.0, null, null, null, null, 18.0, null, 29.0, 28.0, 26.0, 29.0, 29.0, 36.0, null, 24.0, 47.0, null, 29.0, null, 32.0, null, 22.0, 29.0, null, 29.0, 40.5, null, 29.0, 39.0, 23.0, null, 29.0, 17.0, null, null, null, 45.0, null, 29.0, null, null, null, null, 32.0, 50.0, 64.0, null, 29.0, 33.0, 8.0, 17.0, 27.0, 29.0, 22.0, null, 62.0, null, 29.0, null, null, 29.0, 40.0, 28.0, 29.0, null, 24.0, 19.0, null, 29.0, 32.0, 62.0, null, 36.0, null, 16.0, 19.0, null, null, null, 32.0, null, null, 54.0, 36.0, 29.0, null, 47.0, 60.0, 22.0, 29.0, 35.0, null, 47.0, null, 37.0, 36.0, null, 49.0, 29.0, 49.0, null, 29.0, 29.0, 44.0, 35.0, 36.0, 30.0, 27.0, null, null, null, 29.0, null, 29.0, 35.0, null, 34.0, null, null, 26.0, 27.0, 42.0, 20.0, 21.0, 21.0, 61.0, 57.0, null, 26.0, 29.0, 80.0, 51.0, 32.0, 29.0, null, null, 32.0, 31.0, null, 29.0, 20.0, null, null, 29.0, null, 48.0, 19.0, 56.0, 29.0, null, 29.0, null, 21.0, null, null, 24.0, 29.0, null, 23.0, 58.0, 50.0, 40.0, 47.0, 36.0, 20.0, 32.0, 25.0, 29.0, 43.0, null, null, 31.0, 70.0, 31.0, 29.0, 18.0, 24.5, null, null, 36.0, null, 27.0, 20.0, 14.0, 60.0, 25.0, 14.0, 19.0, 18.0, null, 31.0, null, 29.0, 25.0, 60.0, 52.0, 44.0, null, 49.0, 42.0, null, 35.0, null, 25.0, 26.0, 39.0, null, 42.0, null, 29.0, null, 29.0, 48.0, 29.0, 52.0, 19.0, null, null, 29.0, 33.0, null, 17.0, 34.0, 50.0, 27.0, 20.0, null, null, 25.0, null, null, 11.0, 29.0, 23.0, 23.0, 28.5, null, 35.0, 29.0, 29.0, 29.0, 36.0, null, 24.0, 31.0, 70.0, 16.0, null, 19.0, 31.0, null, 6.0, 33.0, 23.0, null, 0.67, 28.0, 18.0, 34.0, null, 29.0, 41.0, 20.0, null, 16.0, null, 29.0, null, 29.0, 32.0, 24.0, 48.0, null, 29.0, null, 18.0, 29.0, null, 29.0, null, null, null, 29.0, 29.0, 25.0, 25.0, null, 8.0, 1.0, 46.0, 29.0, 16.0, null, 29.0, 25.0, 39.0, null, null, 30.0, null, 34.0, null, 11.0, 0.42, 27.0, 31.0, 39.0, null, 39.0, null, 26.0, 39.0, 35.0, null, 30.5, 29.0, null, 31.0, 43.0, 10.0, null, 27.0, 38.0, null, 2.0, 29.0, 29.0, 1.0, 29.0, null, 0.83, 29.0, 23.0, 18.0, null, 21.0, 29.0, 32.0, 29.0, 20.0, 16.0, null, 34.5, 17.0, 42.0, 29.0, 35.0, 28.0, null, 4.0, 74.0, null, null, null, null, null, 51.0, null, 29.0, 41.0, 21.0, null, null, 24.0, null, null, 31.0, 29.0, 4.0, 26.0, null, 33.0, 47.0, null, null, 20.0, 19.0, 29.0, null, null, 33.0, null, 28.0, 25.0, null, 27.0, null, null, 26.0, 32.0]}, {\"boxpoints\": false, \"line\": {\"width\": 1.3}, \"marker\": {\"color\": \"rgba(55, 128, 191, 1.0)\"}, \"name\": \"Female\", \"orientation\": \"v\", \"type\": \"box\", \"y\": [null, 38.0, 26.0, 35.0, null, null, null, null, 27.0, 14.0, 4.0, 58.0, null, null, 14.0, 55.0, null, null, 31.0, 29.0, null, null, 15.0, null, 8.0, 38.0, null, null, 29.0, null, null, 29.0, 29.0, null, null, null, null, null, 18.0, 14.0, 40.0, 27.0, null, 3.0, 19.0, null, null, 29.0, null, 18.0, null, null, 49.0, 29.0, null, null, 21.0, null, 5.0, null, null, null, null, null, null, 29.0, null, 17.0, null, null, 16.0, null, null, null, null, null, null, null, 30.0, null, null, 29.0, null, 17.0, 33.0, null, null, 23.0, null, null, null, null, null, null, null, null, null, 34.0, null, 28.0, null, null, null, null, null, 21.0, null, null, 29.0, null, 14.5, null, 20.0, 17.0, null, null, null, null, 2.0, null, null, null, 32.5, null, null, null, null, 29.0, null, null, null, 47.0, 29.0, null, null, 19.0, null, null, null, 29.0, 22.0, 24.0, null, null, null, null, 9.0, null, null, null, 22.0, null, null, null, null, 16.0, null, null, null, null, 40.0, null, null, null, null, 29.0, 45.0, null, null, null, null, 1.0, null, null, null, null, 50.0, null, null, 29.0, null, null, null, 4.0, null, 29.0, null, null, null, 32.0, null, 19.0, null, 44.0, 58.0, null, null, 29.0, 24.0, null, null, null, null, null, 2.0, null, null, 16.0, null, null, 35.0, null, null, null, 31.0, 27.0, null, 32.0, null, null, null, null, null, null, null, null, null, null, 29.0, 35.0, null, null, 5.0, null, 29.0, null, 8.0, null, null, 29.0, 29.0, null, null, null, null, 25.0, 24.0, null, null, null, 29.0, null, null, 41.0, 29.0, 29.0, 30.0, 35.0, 50.0, null, null, null, null, 29.0, null, null, null, 58.0, 35.0, null, null, 41.0, null, 29.0, 63.0, 45.0, null, null, 35.0, null, null, null, null, null, null, null, null, null, 22.0, 26.0, 19.0, null, 24.0, null, null, null, 2.0, null, 50.0, 29.0, null, null, 29.0, null, null, 29.0, 17.0, null, 30.0, 24.0, 18.0, 26.0, null, null, 26.0, 24.0, null, 31.0, 40.0, null, null, 30.0, 22.0, null, 36.0, null, 36.0, 31.0, 16.0, 29.0, null, null, null, 29.0, null, null, 41.0, null, null, null, 24.0, null, null, null, 24.0, 40.0, 29.0, null, null, null, null, null, null, null, null, 22.0, 38.0, 29.0, 29.0, null, null, 45.0, null, null, null, 60.0, 29.0, 29.0, 24.0, null, null, null, null, 3.0, 29.0, 22.0, null, null, null, 42.0, 1.0, null, 35.0, null, null, null, 36.0, null, 17.0, null, null, null, 23.0, 24.0, null, 31.0, null, null, 28.0, null, null, 21.0, null, 20.0, null, null, null, null, 29.0, null, null, 33.0, null, null, 29.0, 34.0, 18.0, null, 10.0, null, null, null, 28.0, null, null, 28.0, 19.0, null, null, null, 29.0, 42.0, null, null, 14.0, 21.0, 24.0, null, null, 45.0, null, null, 28.0, null, null, 13.0, null, 5.0, null, null, null, null, null, null, null, null, 29.0, 50.0, null, null, null, null, null, null, null, null, null, null, 0.75, null, null, 33.0, 23.0, 22.0, null, null, null, null, 2.0, null, null, null, 63.0, null, 29.0, 35.0, null, null, null, null, null, null, null, null, null, 54.0, null, 25.0, null, null, 21.0, 29.0, 37.0, 16.0, null, 33.0, null, null, null, null, null, null, 54.0, null, null, 34.0, null, 36.0, null, 30.0, null, null, 44.0, null, null, 50.0, null, null, null, 2.0, null, null, 29.0, 30.0, 7.0, null, 30.0, null, 22.0, 36.0, 9.0, 11.0, null, null, null, 19.0, null, null, null, null, null, null, null, 22.0, null, 48.0, null, 39.0, 36.0, null, null, null, null, 29.0, null, null, 29.0, null, null, null, 53.0, null, 29.0, null, null, 34.0, 39.0, 29.0, null, 25.0, 39.0, null, null, null, 18.0, null, null, null, null, null, 52.0, null, 29.0, null, null, 29.0, null, null, null, 24.0, null, null, null, null, null, null, null, 22.0, 40.0, 39.0, null, 29.0, null, null, 24.0, null, 26.0, 4.0, null, null, null, null, null, null, null, null, 21.0, null, null, null, null, null, null, 9.0, 28.0, null, null, 41.0, null, null, 24.0, 2.0, null, 0.75, null, null, null, null, 23.0, null, 18.0, null, 29.0, 18.0, null, null, 32.0, null, null, null, null, null, null, null, null, null, null, null, 29.0, 40.0, null, null, null, null, null, null, 18.0, 43.0, null, 29.0, null, null, null, null, null, null, null, null, 15.0, null, 4.0, null, null, null, null, null, 29.0, null, null, 18.0, null, 18.0, null, null, null, 45.0, null, 22.0, null, 24.0, null, null, null, null, null, 38.0, 27.0, null, null, 6.0, null, null, null, null, null, 30.0, 29.0, null, 25.0, 29.0, null, null, null, null, null, 48.0, null, null, null, null, null, 21.0, null, null, null, null, 30.0, null, null, 4.0, null, null, null, 48.0, null, null, null, null, 33.0, null, null, null, 36.0, null, 51.0, null, 30.5, null, null, null, null, 57.0, null, 54.0, null, null, 5.0, null, 43.0, 13.0, 17.0, null, null, null, null, 18.0, null, null, null, null, null, 29.0, null, null, null, 49.0, 31.0, null, 30.0, null, 31.0, null, null, null, null, null, 18.0, null, 33.0, null, null, null, 6.0, null, null, 23.0, null, null, null, 52.0, null, null, 27.0, null, null, null, null, null, 15.0, null, null, null, null, 39.0, null, null, null, null, null, null, 30.0, null, null, null, null, null, null, 29.0, null, null, 9.0, 16.0, 44.0, 18.0, 45.0, null, 24.0, null, null, null, 48.0, 29.0, null, 42.0, 27.0, null, null, null, null, 47.0, null, null, 28.0, 15.0, null, null, null, 56.0, 25.0, null, 22.0, null, null, 39.0, null, 19.0, 29.0, null, null]}],\n",
       "                        {\"legend\": {\"bgcolor\": \"#F5F6F9\", \"font\": {\"color\": \"#4D5663\"}}, \"paper_bgcolor\": \"#F5F6F9\", \"plot_bgcolor\": \"#F5F6F9\", \"template\": {\"data\": {\"bar\": [{\"error_x\": {\"color\": \"#2a3f5f\"}, \"error_y\": {\"color\": \"#2a3f5f\"}, \"marker\": {\"line\": {\"color\": \"#E5ECF6\", \"width\": 0.5}}, \"type\": \"bar\"}], \"barpolar\": [{\"marker\": {\"line\": {\"color\": \"#E5ECF6\", \"width\": 0.5}}, \"type\": \"barpolar\"}], \"carpet\": [{\"aaxis\": {\"endlinecolor\": \"#2a3f5f\", \"gridcolor\": \"white\", \"linecolor\": \"white\", \"minorgridcolor\": \"white\", \"startlinecolor\": \"#2a3f5f\"}, \"baxis\": {\"endlinecolor\": \"#2a3f5f\", \"gridcolor\": \"white\", \"linecolor\": \"white\", \"minorgridcolor\": \"white\", \"startlinecolor\": \"#2a3f5f\"}, \"type\": \"carpet\"}], \"choropleth\": [{\"colorbar\": {\"outlinewidth\": 0, \"ticks\": \"\"}, \"type\": \"choropleth\"}], \"contour\": [{\"colorbar\": {\"outlinewidth\": 0, \"ticks\": \"\"}, \"colorscale\": [[0.0, \"#0d0887\"], [0.1111111111111111, \"#46039f\"], [0.2222222222222222, \"#7201a8\"], [0.3333333333333333, \"#9c179e\"], [0.4444444444444444, \"#bd3786\"], [0.5555555555555556, \"#d8576b\"], [0.6666666666666666, \"#ed7953\"], [0.7777777777777778, \"#fb9f3a\"], [0.8888888888888888, \"#fdca26\"], [1.0, \"#f0f921\"]], \"type\": \"contour\"}], \"contourcarpet\": [{\"colorbar\": {\"outlinewidth\": 0, \"ticks\": \"\"}, \"type\": \"contourcarpet\"}], \"heatmap\": [{\"colorbar\": {\"outlinewidth\": 0, \"ticks\": \"\"}, \"colorscale\": [[0.0, \"#0d0887\"], [0.1111111111111111, \"#46039f\"], [0.2222222222222222, \"#7201a8\"], [0.3333333333333333, \"#9c179e\"], [0.4444444444444444, \"#bd3786\"], [0.5555555555555556, \"#d8576b\"], [0.6666666666666666, \"#ed7953\"], [0.7777777777777778, \"#fb9f3a\"], [0.8888888888888888, \"#fdca26\"], [1.0, \"#f0f921\"]], \"type\": \"heatmap\"}], \"heatmapgl\": [{\"colorbar\": {\"outlinewidth\": 0, \"ticks\": \"\"}, \"colorscale\": [[0.0, \"#0d0887\"], [0.1111111111111111, \"#46039f\"], [0.2222222222222222, \"#7201a8\"], [0.3333333333333333, \"#9c179e\"], [0.4444444444444444, \"#bd3786\"], [0.5555555555555556, \"#d8576b\"], [0.6666666666666666, \"#ed7953\"], [0.7777777777777778, \"#fb9f3a\"], [0.8888888888888888, \"#fdca26\"], [1.0, \"#f0f921\"]], \"type\": \"heatmapgl\"}], \"histogram\": [{\"marker\": {\"colorbar\": {\"outlinewidth\": 0, \"ticks\": \"\"}}, \"type\": \"histogram\"}], \"histogram2d\": [{\"colorbar\": {\"outlinewidth\": 0, \"ticks\": \"\"}, \"colorscale\": [[0.0, \"#0d0887\"], [0.1111111111111111, \"#46039f\"], [0.2222222222222222, \"#7201a8\"], [0.3333333333333333, \"#9c179e\"], [0.4444444444444444, \"#bd3786\"], [0.5555555555555556, \"#d8576b\"], [0.6666666666666666, \"#ed7953\"], [0.7777777777777778, \"#fb9f3a\"], [0.8888888888888888, \"#fdca26\"], [1.0, \"#f0f921\"]], \"type\": \"histogram2d\"}], \"histogram2dcontour\": [{\"colorbar\": {\"outlinewidth\": 0, \"ticks\": \"\"}, \"colorscale\": [[0.0, \"#0d0887\"], [0.1111111111111111, \"#46039f\"], [0.2222222222222222, \"#7201a8\"], [0.3333333333333333, \"#9c179e\"], [0.4444444444444444, \"#bd3786\"], [0.5555555555555556, \"#d8576b\"], [0.6666666666666666, \"#ed7953\"], [0.7777777777777778, \"#fb9f3a\"], [0.8888888888888888, \"#fdca26\"], [1.0, \"#f0f921\"]], \"type\": \"histogram2dcontour\"}], \"mesh3d\": [{\"colorbar\": {\"outlinewidth\": 0, \"ticks\": \"\"}, \"type\": \"mesh3d\"}], \"parcoords\": [{\"line\": {\"colorbar\": {\"outlinewidth\": 0, \"ticks\": \"\"}}, \"type\": \"parcoords\"}], \"pie\": [{\"automargin\": true, \"type\": \"pie\"}], \"scatter\": [{\"marker\": {\"colorbar\": {\"outlinewidth\": 0, \"ticks\": \"\"}}, \"type\": \"scatter\"}], \"scatter3d\": [{\"line\": {\"colorbar\": {\"outlinewidth\": 0, \"ticks\": \"\"}}, \"marker\": {\"colorbar\": {\"outlinewidth\": 0, \"ticks\": \"\"}}, \"type\": \"scatter3d\"}], \"scattercarpet\": [{\"marker\": {\"colorbar\": {\"outlinewidth\": 0, \"ticks\": \"\"}}, \"type\": \"scattercarpet\"}], \"scattergeo\": [{\"marker\": {\"colorbar\": {\"outlinewidth\": 0, \"ticks\": \"\"}}, \"type\": \"scattergeo\"}], \"scattergl\": [{\"marker\": {\"colorbar\": {\"outlinewidth\": 0, \"ticks\": \"\"}}, \"type\": \"scattergl\"}], \"scattermapbox\": [{\"marker\": {\"colorbar\": {\"outlinewidth\": 0, \"ticks\": \"\"}}, \"type\": \"scattermapbox\"}], \"scatterpolar\": [{\"marker\": {\"colorbar\": {\"outlinewidth\": 0, \"ticks\": \"\"}}, \"type\": \"scatterpolar\"}], \"scatterpolargl\": [{\"marker\": {\"colorbar\": {\"outlinewidth\": 0, \"ticks\": \"\"}}, \"type\": \"scatterpolargl\"}], \"scatterternary\": [{\"marker\": {\"colorbar\": {\"outlinewidth\": 0, \"ticks\": \"\"}}, \"type\": \"scatterternary\"}], \"surface\": [{\"colorbar\": {\"outlinewidth\": 0, \"ticks\": \"\"}, \"colorscale\": [[0.0, \"#0d0887\"], [0.1111111111111111, \"#46039f\"], [0.2222222222222222, \"#7201a8\"], [0.3333333333333333, \"#9c179e\"], [0.4444444444444444, \"#bd3786\"], [0.5555555555555556, \"#d8576b\"], [0.6666666666666666, \"#ed7953\"], [0.7777777777777778, \"#fb9f3a\"], [0.8888888888888888, \"#fdca26\"], [1.0, \"#f0f921\"]], \"type\": \"surface\"}], \"table\": [{\"cells\": {\"fill\": {\"color\": \"#EBF0F8\"}, \"line\": {\"color\": \"white\"}}, \"header\": {\"fill\": {\"color\": \"#C8D4E3\"}, \"line\": {\"color\": \"white\"}}, \"type\": \"table\"}]}, \"layout\": {\"annotationdefaults\": {\"arrowcolor\": \"#2a3f5f\", \"arrowhead\": 0, \"arrowwidth\": 1}, \"coloraxis\": {\"colorbar\": {\"outlinewidth\": 0, \"ticks\": \"\"}}, \"colorscale\": {\"diverging\": [[0, \"#8e0152\"], [0.1, \"#c51b7d\"], [0.2, \"#de77ae\"], [0.3, \"#f1b6da\"], [0.4, \"#fde0ef\"], [0.5, \"#f7f7f7\"], [0.6, \"#e6f5d0\"], [0.7, \"#b8e186\"], [0.8, \"#7fbc41\"], [0.9, \"#4d9221\"], [1, \"#276419\"]], \"sequential\": [[0.0, \"#0d0887\"], [0.1111111111111111, \"#46039f\"], [0.2222222222222222, \"#7201a8\"], [0.3333333333333333, \"#9c179e\"], [0.4444444444444444, \"#bd3786\"], [0.5555555555555556, \"#d8576b\"], [0.6666666666666666, \"#ed7953\"], [0.7777777777777778, \"#fb9f3a\"], [0.8888888888888888, \"#fdca26\"], [1.0, \"#f0f921\"]], \"sequentialminus\": [[0.0, \"#0d0887\"], [0.1111111111111111, \"#46039f\"], [0.2222222222222222, \"#7201a8\"], [0.3333333333333333, \"#9c179e\"], [0.4444444444444444, \"#bd3786\"], [0.5555555555555556, \"#d8576b\"], [0.6666666666666666, \"#ed7953\"], [0.7777777777777778, \"#fb9f3a\"], [0.8888888888888888, \"#fdca26\"], [1.0, \"#f0f921\"]]}, \"colorway\": [\"#636efa\", \"#EF553B\", \"#00cc96\", \"#ab63fa\", \"#FFA15A\", \"#19d3f3\", \"#FF6692\", \"#B6E880\", \"#FF97FF\", \"#FECB52\"], \"font\": {\"color\": \"#2a3f5f\"}, \"geo\": {\"bgcolor\": \"white\", \"lakecolor\": \"white\", \"landcolor\": \"#E5ECF6\", \"showlakes\": true, \"showland\": true, \"subunitcolor\": \"white\"}, \"hoverlabel\": {\"align\": \"left\"}, \"hovermode\": \"closest\", \"mapbox\": {\"style\": \"light\"}, \"paper_bgcolor\": \"white\", \"plot_bgcolor\": \"#E5ECF6\", \"polar\": {\"angularaxis\": {\"gridcolor\": \"white\", \"linecolor\": \"white\", \"ticks\": \"\"}, \"bgcolor\": \"#E5ECF6\", \"radialaxis\": {\"gridcolor\": \"white\", \"linecolor\": \"white\", \"ticks\": \"\"}}, \"scene\": {\"xaxis\": {\"backgroundcolor\": \"#E5ECF6\", \"gridcolor\": \"white\", \"gridwidth\": 2, \"linecolor\": \"white\", \"showbackground\": true, \"ticks\": \"\", \"zerolinecolor\": \"white\"}, \"yaxis\": {\"backgroundcolor\": \"#E5ECF6\", \"gridcolor\": \"white\", \"gridwidth\": 2, \"linecolor\": \"white\", \"showbackground\": true, \"ticks\": \"\", \"zerolinecolor\": \"white\"}, \"zaxis\": {\"backgroundcolor\": \"#E5ECF6\", \"gridcolor\": \"white\", \"gridwidth\": 2, \"linecolor\": \"white\", \"showbackground\": true, \"ticks\": \"\", \"zerolinecolor\": \"white\"}}, \"shapedefaults\": {\"line\": {\"color\": \"#2a3f5f\"}}, \"ternary\": {\"aaxis\": {\"gridcolor\": \"white\", \"linecolor\": \"white\", \"ticks\": \"\"}, \"baxis\": {\"gridcolor\": \"white\", \"linecolor\": \"white\", \"ticks\": \"\"}, \"bgcolor\": \"#E5ECF6\", \"caxis\": {\"gridcolor\": \"white\", \"linecolor\": \"white\", \"ticks\": \"\"}}, \"title\": {\"x\": 0.05}, \"xaxis\": {\"automargin\": true, \"gridcolor\": \"white\", \"linecolor\": \"white\", \"ticks\": \"\", \"title\": {\"standoff\": 15}, \"zerolinecolor\": \"white\", \"zerolinewidth\": 2}, \"yaxis\": {\"automargin\": true, \"gridcolor\": \"white\", \"linecolor\": \"white\", \"ticks\": \"\", \"title\": {\"standoff\": 15}, \"zerolinecolor\": \"white\", \"zerolinewidth\": 2}}}, \"title\": {\"font\": {\"color\": \"#4D5663\"}, \"text\": \"Age distribution by gender\"}, \"xaxis\": {\"gridcolor\": \"#E1E5ED\", \"showgrid\": true, \"tickfont\": {\"color\": \"#4D5663\"}, \"title\": {\"font\": {\"color\": \"#4D5663\"}, \"text\": \"\"}, \"zerolinecolor\": \"#E1E5ED\"}, \"yaxis\": {\"gridcolor\": \"#E1E5ED\", \"showgrid\": true, \"tickfont\": {\"color\": \"#4D5663\"}, \"title\": {\"font\": {\"color\": \"#4D5663\"}, \"text\": \"\"}, \"zerolinecolor\": \"#E1E5ED\"}},\n",
       "                        {\"responsive\": true}\n",
       "                    ).then(function(){\n",
       "                            \n",
       "var gd = document.getElementById('002c650a-b1a0-4cda-b422-16935f30c2e2');\n",
       "var x = new MutationObserver(function (mutations, observer) {{\n",
       "        var display = window.getComputedStyle(gd).display;\n",
       "        if (!display || display === 'none') {{\n",
       "            console.log([gd, 'removed!']);\n",
       "            Plotly.purge(gd);\n",
       "            observer.disconnect();\n",
       "        }}\n",
       "}});\n",
       "\n",
       "// Listen for the removal of the full notebook cells\n",
       "var notebookContainer = gd.closest('#notebook-container');\n",
       "if (notebookContainer) {{\n",
       "    x.observe(notebookContainer, {childList: true});\n",
       "}}\n",
       "\n",
       "// Listen for the clearing of the current output cell\n",
       "var outputEl = gd.closest('.output');\n",
       "if (outputEl) {{\n",
       "    x.observe(outputEl, {childList: true});\n",
       "}}\n",
       "\n",
       "                        })\n",
       "                };\n",
       "                });\n",
       "            </script>\n",
       "        </div>"
      ]
     },
     "metadata": {},
     "output_type": "display_data"
    }
   ],
   "source": [
    "import plotly as py\n",
    "py.offline.init_notebook_mode(connected=True)\n",
    "\n",
    "\n",
    "fem = data['Age'].where(data[\"Sex\"] == 'female' )\n",
    "male = data['Age'].where(data[\"Sex\"] == 'male' )\n",
    "\n",
    "\n",
    "df = pd.DataFrame({'Male': male,\n",
    "                   'Female': fem})\n",
    "\n",
    "fig = df.iplot(asFigure=True, title='Age distribution by gender', kind=\"box\")\n",
    "fig.show()"
   ]
  },
  {
   "cell_type": "code",
   "execution_count": 6,
   "metadata": {},
   "outputs": [
    {
     "data": {
      "text/html": [
       "        <script type=\"text/javascript\">\n",
       "        window.PlotlyConfig = {MathJaxConfig: 'local'};\n",
       "        if (window.MathJax) {MathJax.Hub.Config({SVG: {font: \"STIX-Web\"}});}\n",
       "        if (typeof require !== 'undefined') {\n",
       "        require.undef(\"plotly\");\n",
       "        requirejs.config({\n",
       "            paths: {\n",
       "                'plotly': ['https://cdn.plot.ly/plotly-latest.min']\n",
       "            }\n",
       "        });\n",
       "        require(['plotly'], function(Plotly) {\n",
       "            window._Plotly = Plotly;\n",
       "        });\n",
       "        }\n",
       "        </script>\n",
       "        "
      ]
     },
     "metadata": {},
     "output_type": "display_data"
    },
    {
     "data": {
      "application/vnd.plotly.v1+json": {
       "config": {
        "plotlyServerURL": "https://plot.ly"
       },
       "data": [
        {
         "boxpoints": false,
         "line": {
          "width": 1.3
         },
         "marker": {
          "color": "rgba(255, 153, 51, 1.0)"
         },
         "name": "Male",
         "orientation": "v",
         "type": "box",
         "y": [
          7.25,
          null,
          null,
          null,
          8.05,
          8.4583,
          51.8625,
          21.075,
          null,
          null,
          null,
          null,
          8.05,
          31.275,
          null,
          null,
          29.125,
          13,
          null,
          null,
          26,
          13,
          null,
          35.5,
          null,
          null,
          7.225,
          null,
          7.8958,
          27.7208,
          null,
          10.5,
          82.1708,
          52,
          7.2292,
          8.05,
          null,
          null,
          null,
          null,
          7.8958,
          null,
          null,
          8.05,
          15.5,
          null,
          21.6792,
          null,
          39.6875,
          7.8,
          null,
          null,
          61.9792,
          35.5,
          null,
          7.2292,
          null,
          46.9,
          7.2292,
          83.475,
          27.9,
          27.7208,
          15.2458,
          null,
          8.1583,
          null,
          8.6625,
          10.5,
          null,
          73.5,
          14.4542,
          56.4958,
          7.65,
          7.8958,
          8.05,
          29,
          null,
          9,
          9.5,
          null,
          47.1,
          null,
          null,
          34.375,
          8.05,
          8.05,
          8.05,
          7.8542,
          61.175,
          20.575,
          7.25,
          8.05,
          34.6542,
          63.3583,
          null,
          26,
          null,
          7.8958,
          77.2875,
          8.6542,
          7.925,
          7.8958,
          null,
          7.775,
          7.8958,
          null,
          52,
          null,
          8.05,
          null,
          null,
          7.925,
          7.75,
          21,
          null,
          73.5,
          8.05,
          30.0708,
          null,
          77.2875,
          11.2417,
          7.75,
          7.1417,
          null,
          6.975,
          7.8958,
          7.05,
          null,
          null,
          13,
          15.0458,
          null,
          53.1,
          9.2167,
          79.2,
          null,
          null,
          null,
          6.75,
          11.5,
          36.75,
          7.7958,
          null,
          26,
          13,
          12.525,
          null,
          8.05,
          14.5,
          7.3125,
          61.3792,
          null,
          8.05,
          8.6625,
          69.55,
          16.1,
          null,
          7.775,
          8.6625,
          39.6875,
          20.525,
          null,
          null,
          25.925,
          56.4958,
          33.5,
          29.125,
          null,
          7.925,
          30.6958,
          7.8542,
          25.4667,
          null,
          13,
          0,
          null,
          15.05,
          31.3875,
          39,
          null,
          50,
          null,
          26.55,
          15.5,
          7.8958,
          null,
          13,
          null,
          26,
          null,
          7.75,
          8.4042,
          null,
          null,
          9.5,
          69.55,
          6.4958,
          7.225,
          8.05,
          null,
          15.85,
          18.7875,
          null,
          31,
          7.05,
          null,
          7.25,
          13,
          7.75,
          null,
          27,
          null,
          10.5,
          8.05,
          13,
          8.05,
          7.8958,
          90,
          9.35,
          10.5,
          7.25,
          13,
          null,
          null,
          7.775,
          13.5,
          null,
          10.5,
          null,
          26,
          null,
          10.5,
          12.275,
          null,
          null,
          10.5,
          7.125,
          7.225,
          90,
          null,
          null,
          52.5542,
          26,
          7.25,
          null,
          26.55,
          16.1,
          null,
          null,
          null,
          null,
          null,
          7.75,
          31.3875,
          79.65,
          0,
          null,
          10.5,
          39.6875,
          7.775,
          31,
          0,
          null,
          29.7,
          null,
          null,
          null,
          0,
          29.125,
          null,
          7.75,
          7.8542,
          9.5,
          8.05,
          26,
          8.6625,
          9.5,
          7.8958,
          13,
          null,
          null,
          null,
          12.875,
          null,
          7.8958,
          27.7208,
          7.2292,
          30.5,
          null,
          23.25,
          0,
          null,
          8.05,
          24,
          null,
          null,
          null,
          7.8958,
          26.25,
          null,
          null,
          14,
          7.25,
          7.8958,
          null,
          null,
          69.55,
          6.2375,
          null,
          null,
          null,
          null,
          28.5,
          18,
          7.8958,
          66.6,
          8.05,
          35.5,
          26,
          13,
          13,
          13,
          null,
          null,
          null,
          15.9,
          8.6625,
          9.225,
          35,
          7.2292,
          17.8,
          7.225,
          9.5,
          null,
          null,
          null,
          null,
          27.9,
          27.7208,
          null,
          7.05,
          15.5,
          7.25,
          null,
          null,
          null,
          null,
          55.4417,
          6.4958,
          8.05,
          null,
          null,
          null,
          4.0125,
          7.775,
          null,
          7.925,
          null,
          7.8958,
          73.5,
          46.9,
          null,
          7.7292,
          null,
          7.7958,
          7.925,
          null,
          7.7958,
          null,
          26,
          10.5,
          null,
          7.925,
          8.05,
          null,
          15.85,
          null,
          21,
          7.75,
          18.75,
          7.775,
          null,
          7.8958,
          6.8583,
          null,
          0,
          7.925,
          null,
          null,
          null,
          13,
          null,
          7.8958,
          7.7333,
          7.875,
          null,
          20.2125,
          7.25,
          null,
          null,
          7.75,
          8.05,
          26.55,
          null,
          null,
          7.125,
          55.9,
          null,
          null,
          10.5,
          null,
          9.5,
          7.775,
          null,
          8.1125,
          81.8583,
          null,
          26.55,
          null,
          30.5,
          27.75,
          19.9667,
          27.75,
          89.1042,
          8.05,
          7.8958,
          26.55,
          null,
          null,
          7.75,
          26.55,
          8.05,
          38.5,
          13,
          8.05,
          7.05,
          0,
          26.55,
          7.725,
          null,
          7.25,
          8.6625,
          null,
          null,
          null,
          52,
          21,
          7.0458,
          7.5208,
          null,
          46.9,
          0,
          8.05,
          null,
          91.0792,
          null,
          null,
          29.7,
          8.05,
          15.9,
          19.9667,
          7.25,
          30.5,
          49.5042,
          8.05,
          14.4583,
          null,
          15.1,
          7.7958,
          8.6625,
          null,
          null,
          null,
          null,
          null,
          26.55,
          22.525,
          56.4958,
          7.75,
          8.05,
          26.2875,
          null,
          7.4958,
          34.0208,
          null,
          24.15,
          null,
          7.8958,
          null,
          7.8958,
          7.225,
          null,
          7.2292,
          7.75,
          null,
          7.925,
          11.5,
          null,
          7.2292,
          7.2292,
          null,
          null,
          null,
          26.55,
          14.5,
          null,
          null,
          null,
          null,
          26,
          26,
          null,
          13.8625,
          20.525,
          36.75,
          26,
          7.8292,
          7.225,
          null,
          26.55,
          null,
          null,
          null,
          7.75,
          7.8958,
          13.5,
          8.05,
          null,
          24.15,
          7.8958,
          null,
          7.2292,
          7.8542,
          10.5,
          null,
          26.3875,
          null,
          8.05,
          14.5,
          null,
          null,
          null,
          7.925,
          null,
          26,
          40.125,
          8.7125,
          null,
          15,
          79.2,
          8.05,
          8.05,
          7.125,
          null,
          7.25,
          null,
          26,
          24.15,
          null,
          0,
          7.225,
          56.9292,
          null,
          7.8958,
          42.4,
          8.05,
          26.55,
          15.55,
          7.8958,
          30.5,
          null,
          null,
          7.05,
          null,
          7.75,
          8.05,
          null,
          14.4,
          null,
          null,
          10.5,
          14.4542,
          52.5542,
          15.7417,
          7.8542,
          16.1,
          32.3208,
          12.35,
          null,
          7.8958,
          7.7333,
          30,
          7.0542,
          30.5,
          0,
          null,
          null,
          7.925,
          26.25,
          null,
          16.1,
          7.8542,
          null,
          null,
          56.4958,
          null,
          76.7292,
          7.8958,
          35.5,
          7.55,
          null,
          7.8958,
          null,
          8.4333,
          null,
          null,
          73.5,
          7.8958,
          null,
          13,
          7.225,
          25.5875,
          7.4958,
          7.925,
          73.5,
          13,
          7.775,
          8.05,
          null,
          null,
          52,
          10.5,
          13,
          0,
          7.775,
          8.05,
          null,
          null,
          null,
          76.7292,
          9.225,
          46.9,
          39,
          41.5792,
          39.6875,
          10.1708,
          7.7958,
          57,
          null,
          56.4958,
          7.225,
          26.55,
          13.5,
          8.05,
          null,
          7.65,
          26.2875,
          null,
          7.7417,
          7.8542,
          26,
          null,
          26.2875,
          15.2458,
          null,
          26.55,
          52,
          9.4833,
          13,
          7.65,
          null,
          15.5,
          7.775,
          null,
          7.0542,
          13,
          13,
          53.1,
          8.6625,
          null,
          null,
          26,
          null,
          18.7875,
          0,
          13,
          13,
          16.1,
          null,
          7.8958,
          7.8958,
          30,
          78.85,
          16.1,
          7.925,
          71,
          20.25,
          null,
          53.1,
          7.75,
          null,
          12.475,
          9.5,
          7.8958,
          null,
          14.5,
          7.7958,
          11.5,
          8.05,
          null,
          14.5,
          7.125,
          7.2292,
          7.775,
          null,
          39.6,
          null,
          24.15,
          8.3625,
          9.5,
          7.8542,
          null,
          7.225,
          null,
          7.75,
          7.75,
          null,
          7.7375,
          null,
          null,
          30,
          23.45,
          7.05,
          7.25,
          null,
          29.125,
          20.575,
          79.2,
          7.75,
          26,
          null,
          30.6958,
          7.8958,
          13,
          null,
          null,
          7.2292,
          null,
          13,
          null,
          8.5167,
          6.975,
          7.775,
          0,
          null,
          13,
          null,
          7.8875,
          24.15,
          10.5,
          null,
          8.05,
          0,
          null,
          37.0042,
          6.45,
          27.9,
          null,
          8.6625,
          0,
          null,
          39.6875,
          6.95,
          56.4958,
          37.0042,
          7.75,
          null,
          18.75,
          7.2292,
          7.8542,
          8.3,
          null,
          8.6625,
          8.05,
          56.4958,
          29.7,
          7.925,
          10.5,
          null,
          6.4375,
          8.6625,
          7.55,
          69.55,
          7.8958,
          33,
          null,
          31.275,
          7.775,
          null,
          null,
          null,
          null,
          26.55,
          null,
          7.2292,
          14.1083,
          11.5,
          null,
          null,
          13,
          null,
          null,
          50.4958,
          9.5,
          11.1333,
          7.8958,
          null,
          5,
          9,
          null,
          null,
          9.8458,
          7.8958,
          7.8958,
          null,
          null,
          7.8958,
          null,
          10.5,
          7.05,
          null,
          13,
          null,
          null,
          30,
          7.75
         ]
        },
        {
         "boxpoints": false,
         "line": {
          "width": 1.3
         },
         "marker": {
          "color": "rgba(55, 128, 191, 1.0)"
         },
         "name": "Female",
         "orientation": "v",
         "type": "box",
         "y": [
          null,
          71.2833,
          7.925,
          53.1,
          null,
          null,
          null,
          null,
          11.1333,
          30.0708,
          16.7,
          26.55,
          null,
          null,
          7.8542,
          16,
          null,
          null,
          18,
          7.225,
          null,
          null,
          8.0292,
          null,
          21.075,
          31.3875,
          null,
          7.8792,
          null,
          null,
          7.75,
          null,
          null,
          null,
          null,
          null,
          18,
          11.2417,
          9.475,
          21,
          null,
          41.5792,
          7.8792,
          null,
          null,
          7.75,
          null,
          17.8,
          null,
          null,
          76.7292,
          26,
          null,
          null,
          10.5,
          null,
          27.75,
          null,
          null,
          null,
          null,
          null,
          null,
          10.5,
          null,
          7.925,
          null,
          null,
          46.9,
          null,
          null,
          null,
          null,
          null,
          null,
          null,
          12.475,
          null,
          null,
          7.7875,
          null,
          10.5,
          15.85,
          null,
          null,
          null,
          null,
          null,
          null,
          null,
          null,
          null,
          null,
          null,
          23,
          null,
          7.8958,
          null,
          null,
          null,
          null,
          null,
          7.65,
          null,
          null,
          24.15,
          null,
          14.4542,
          null,
          9.825,
          14.4583,
          null,
          null,
          null,
          31.275,
          null,
          null,
          null,
          13,
          null,
          null,
          null,
          null,
          22.3583,
          null,
          null,
          null,
          14.5,
          26,
          null,
          null,
          26.2833,
          null,
          null,
          null,
          15.2458,
          7.75,
          15.85,
          null,
          null,
          null,
          null,
          34.375,
          null,
          null,
          null,
          66.6,
          null,
          null,
          null,
          null,
          7.7333,
          null,
          null,
          null,
          null,
          15.75,
          null,
          null,
          null,
          null,
          55,
          27.9,
          null,
          null,
          null,
          null,
          11.1333,
          null,
          null,
          null,
          null,
          28.7125,
          null,
          null,
          69.55,
          null,
          null,
          null,
          22.025,
          null,
          15.5,
          null,
          null,
          null,
          13,
          null,
          7.8542,
          null,
          27.7208,
          null,
          null,
          7.75,
          13,
          null,
          null,
          null,
          null,
          null,
          10.4625,
          null,
          null,
          7.75,
          null,
          null,
          21,
          null,
          null,
          null,
          7.925,
          null,
          76.2917,
          null,
          null,
          null,
          null,
          null,
          null,
          null,
          null,
          null,
          null,
          25.4667,
          83.475,
          null,
          null,
          31.3875,
          null,
          7.55,
          null,
          26.25,
          null,
          null,
          14.4542,
          15.5,
          null,
          null,
          null,
          null,
          7.775,
          14.5,
          null,
          null,
          null,
          10.4625,
          null,
          null,
          20.2125,
          15.2458,
          79.2,
          86.5,
          26,
          null,
          null,
          null,
          null,
          7.75,
          null,
          null,
          null,
          null,
          null,
          19.5,
          null,
          7.75,
          77.9583,
          7.75,
          null,
          null,
          20.25,
          null,
          null,
          null,
          null,
          null,
          null,
          null,
          null,
          null,
          7.75,
          78.85,
          91.0792,
          null,
          8.85,
          null,
          null,
          null,
          null,
          7.75,
          null,
          null,
          12.35,
          null,
          null,
          56.9292,
          83.1583,
          26,
          null,
          null,
          7.8542,
          26,
          null,
          null,
          null,
          12.35,
          29,
          null,
          null,
          13,
          20.525,
          57.9792,
          23.25,
          null,
          null,
          null,
          null,
          null,
          null,
          null,
          null,
          null,
          null,
          13,
          13,
          16.1,
          null,
          null,
          null,
          null,
          null,
          null,
          null,
          null,
          55,
          13,
          7.8792,
          7.8792,
          null,
          null,
          14.4542,
          null,
          null,
          null,
          75.25,
          7.2292,
          7.75,
          69.3,
          null,
          null,
          null,
          21.075,
          82.1708,
          7.25,
          null,
          null,
          15.7417,
          null,
          52,
          null,
          null,
          null,
          13,
          null,
          12,
          null,
          null,
          16.7,
          null,
          7.8542,
          null,
          null,
          12.65,
          null,
          null,
          9.825,
          null,
          8.6625,
          null,
          null,
          null,
          null,
          25.4667,
          null,
          null,
          90,
          null,
          null,
          8.05,
          32.5,
          13,
          null,
          24.15,
          null,
          null,
          null,
          14.4,
          null,
          null,
          26,
          26,
          null,
          null,
          null,
          16.1,
          26,
          null,
          null,
          34.375,
          18.75,
          null,
          26.25,
          null,
          null,
          13,
          null,
          null,
          19.5,
          null,
          19.2583,
          null,
          null,
          null,
          null,
          null,
          null,
          null,
          null,
          51.8625,
          10.5,
          null,
          null,
          null,
          null,
          null,
          null,
          null,
          null,
          null,
          null,
          19.2583,
          null,
          null,
          27.75,
          13.7917,
          9.8375,
          null,
          null,
          null,
          null,
          12.2875,
          null,
          null,
          null,
          9.5875,
          null,
          25.4667,
          90,
          null,
          null,
          null,
          null,
          null,
          null,
          null,
          null,
          null,
          78.2667,
          null,
          null,
          null,
          7.75,
          7.6292,
          9.5875,
          86.5,
          26,
          null,
          null,
          null,
          null,
          null,
          null,
          59.4,
          null,
          null,
          10.5,
          null,
          26,
          null,
          93.5,
          null,
          null,
          57.9792,
          null,
          null,
          10.5,
          null,
          null,
          26,
          null,
          null,
          22.3583,
          8.6625,
          26.25,
          null,
          null,
          49.5,
          71,
          31.275,
          31.275,
          null,
          null,
          26,
          null,
          null,
          null,
          null,
          null,
          null,
          7.775,
          null,
          39.6,
          79.65,
          17.4,
          null,
          null,
          null,
          null,
          8.05,
          null,
          null,
          21.075,
          null,
          null,
          null,
          51.4792,
          null,
          7.75,
          null,
          null,
          13,
          55.9,
          14.4583,
          null,
          30,
          null,
          null,
          null,
          79.65,
          null,
          null,
          null,
          null,
          null,
          78.2667,
          null,
          7.75,
          null,
          null,
          33,
          null,
          null,
          null,
          27,
          null,
          null,
          null,
          null,
          null,
          null,
          null,
          41.5792,
          31.275,
          null,
          15.5,
          null,
          null,
          65,
          null,
          16.1,
          39,
          null,
          null,
          null,
          null,
          null,
          null,
          null,
          null,
          77.9583,
          null,
          null,
          null,
          null,
          null,
          null,
          27.9,
          13,
          null,
          null,
          39.6875,
          null,
          null,
          69.3,
          27.9,
          null,
          19.2583,
          null,
          null,
          null,
          null,
          7.55,
          null,
          23,
          null,
          7.8292,
          6.75,
          null,
          null,
          15.5,
          null,
          null,
          null,
          null,
          null,
          null,
          null,
          null,
          null,
          52,
          39,
          null,
          null,
          null,
          null,
          null,
          null,
          9.8417,
          46.9,
          8.1375,
          null,
          null,
          null,
          null,
          null,
          null,
          null,
          null,
          null,
          13.4167,
          null,
          null,
          null,
          null,
          null,
          7.7333,
          null,
          null,
          14.4542,
          null,
          null,
          null,
          13.5,
          null,
          null,
          49.5042,
          null,
          null,
          null,
          null,
          null,
          10.5,
          null,
          null,
          33,
          null,
          null,
          null,
          null,
          null,
          21,
          7.7375,
          null,
          7.925,
          null,
          null,
          null,
          null,
          null,
          34.375,
          null,
          null,
          null,
          null,
          null,
          null,
          null,
          null,
          13,
          null,
          null,
          23,
          null,
          null,
          null,
          65,
          null,
          null,
          null,
          null,
          86.5,
          null,
          null,
          null,
          null,
          77.9583,
          null,
          7.75,
          null,
          null,
          null,
          null,
          10.5,
          null,
          23,
          null,
          null,
          12.475,
          null,
          7.2292,
          57,
          null,
          null,
          null,
          null,
          7.4958,
          null,
          null,
          null,
          null,
          null,
          69.55,
          null,
          null,
          null,
          25.9292,
          8.6833,
          null,
          24.15,
          null,
          26.25,
          null,
          null,
          null,
          null,
          7.775,
          null,
          53.1,
          null,
          null,
          null,
          31.275,
          null,
          null,
          7.925,
          null,
          null,
          null,
          93.5,
          null,
          null,
          12.475,
          null,
          null,
          null,
          null,
          null,
          14.4542,
          null,
          null,
          null,
          null,
          83.1583,
          null,
          null,
          null,
          null,
          null,
          null,
          31,
          null,
          null,
          null,
          null,
          null,
          null,
          89.1042,
          null,
          null,
          15.2458,
          39.4,
          26,
          9.35,
          null,
          19.2583,
          null,
          null,
          null,
          25.9292,
          69.55,
          null,
          13,
          13.8583,
          null,
          null,
          null,
          null,
          52.5542,
          null,
          null,
          24,
          7.225,
          null,
          null,
          null,
          83.1583,
          26,
          null,
          10.5167,
          null,
          null,
          29.125,
          null,
          30,
          23.45,
          null,
          null
         ]
        }
       ],
       "layout": {
        "legend": {
         "bgcolor": "#F5F6F9",
         "font": {
          "color": "#4D5663"
         }
        },
        "paper_bgcolor": "#F5F6F9",
        "plot_bgcolor": "#F5F6F9",
        "template": {
         "data": {
          "bar": [
           {
            "error_x": {
             "color": "#2a3f5f"
            },
            "error_y": {
             "color": "#2a3f5f"
            },
            "marker": {
             "line": {
              "color": "#E5ECF6",
              "width": 0.5
             }
            },
            "type": "bar"
           }
          ],
          "barpolar": [
           {
            "marker": {
             "line": {
              "color": "#E5ECF6",
              "width": 0.5
             }
            },
            "type": "barpolar"
           }
          ],
          "carpet": [
           {
            "aaxis": {
             "endlinecolor": "#2a3f5f",
             "gridcolor": "white",
             "linecolor": "white",
             "minorgridcolor": "white",
             "startlinecolor": "#2a3f5f"
            },
            "baxis": {
             "endlinecolor": "#2a3f5f",
             "gridcolor": "white",
             "linecolor": "white",
             "minorgridcolor": "white",
             "startlinecolor": "#2a3f5f"
            },
            "type": "carpet"
           }
          ],
          "choropleth": [
           {
            "colorbar": {
             "outlinewidth": 0,
             "ticks": ""
            },
            "type": "choropleth"
           }
          ],
          "contour": [
           {
            "colorbar": {
             "outlinewidth": 0,
             "ticks": ""
            },
            "colorscale": [
             [
              0,
              "#0d0887"
             ],
             [
              0.1111111111111111,
              "#46039f"
             ],
             [
              0.2222222222222222,
              "#7201a8"
             ],
             [
              0.3333333333333333,
              "#9c179e"
             ],
             [
              0.4444444444444444,
              "#bd3786"
             ],
             [
              0.5555555555555556,
              "#d8576b"
             ],
             [
              0.6666666666666666,
              "#ed7953"
             ],
             [
              0.7777777777777778,
              "#fb9f3a"
             ],
             [
              0.8888888888888888,
              "#fdca26"
             ],
             [
              1,
              "#f0f921"
             ]
            ],
            "type": "contour"
           }
          ],
          "contourcarpet": [
           {
            "colorbar": {
             "outlinewidth": 0,
             "ticks": ""
            },
            "type": "contourcarpet"
           }
          ],
          "heatmap": [
           {
            "colorbar": {
             "outlinewidth": 0,
             "ticks": ""
            },
            "colorscale": [
             [
              0,
              "#0d0887"
             ],
             [
              0.1111111111111111,
              "#46039f"
             ],
             [
              0.2222222222222222,
              "#7201a8"
             ],
             [
              0.3333333333333333,
              "#9c179e"
             ],
             [
              0.4444444444444444,
              "#bd3786"
             ],
             [
              0.5555555555555556,
              "#d8576b"
             ],
             [
              0.6666666666666666,
              "#ed7953"
             ],
             [
              0.7777777777777778,
              "#fb9f3a"
             ],
             [
              0.8888888888888888,
              "#fdca26"
             ],
             [
              1,
              "#f0f921"
             ]
            ],
            "type": "heatmap"
           }
          ],
          "heatmapgl": [
           {
            "colorbar": {
             "outlinewidth": 0,
             "ticks": ""
            },
            "colorscale": [
             [
              0,
              "#0d0887"
             ],
             [
              0.1111111111111111,
              "#46039f"
             ],
             [
              0.2222222222222222,
              "#7201a8"
             ],
             [
              0.3333333333333333,
              "#9c179e"
             ],
             [
              0.4444444444444444,
              "#bd3786"
             ],
             [
              0.5555555555555556,
              "#d8576b"
             ],
             [
              0.6666666666666666,
              "#ed7953"
             ],
             [
              0.7777777777777778,
              "#fb9f3a"
             ],
             [
              0.8888888888888888,
              "#fdca26"
             ],
             [
              1,
              "#f0f921"
             ]
            ],
            "type": "heatmapgl"
           }
          ],
          "histogram": [
           {
            "marker": {
             "colorbar": {
              "outlinewidth": 0,
              "ticks": ""
             }
            },
            "type": "histogram"
           }
          ],
          "histogram2d": [
           {
            "colorbar": {
             "outlinewidth": 0,
             "ticks": ""
            },
            "colorscale": [
             [
              0,
              "#0d0887"
             ],
             [
              0.1111111111111111,
              "#46039f"
             ],
             [
              0.2222222222222222,
              "#7201a8"
             ],
             [
              0.3333333333333333,
              "#9c179e"
             ],
             [
              0.4444444444444444,
              "#bd3786"
             ],
             [
              0.5555555555555556,
              "#d8576b"
             ],
             [
              0.6666666666666666,
              "#ed7953"
             ],
             [
              0.7777777777777778,
              "#fb9f3a"
             ],
             [
              0.8888888888888888,
              "#fdca26"
             ],
             [
              1,
              "#f0f921"
             ]
            ],
            "type": "histogram2d"
           }
          ],
          "histogram2dcontour": [
           {
            "colorbar": {
             "outlinewidth": 0,
             "ticks": ""
            },
            "colorscale": [
             [
              0,
              "#0d0887"
             ],
             [
              0.1111111111111111,
              "#46039f"
             ],
             [
              0.2222222222222222,
              "#7201a8"
             ],
             [
              0.3333333333333333,
              "#9c179e"
             ],
             [
              0.4444444444444444,
              "#bd3786"
             ],
             [
              0.5555555555555556,
              "#d8576b"
             ],
             [
              0.6666666666666666,
              "#ed7953"
             ],
             [
              0.7777777777777778,
              "#fb9f3a"
             ],
             [
              0.8888888888888888,
              "#fdca26"
             ],
             [
              1,
              "#f0f921"
             ]
            ],
            "type": "histogram2dcontour"
           }
          ],
          "mesh3d": [
           {
            "colorbar": {
             "outlinewidth": 0,
             "ticks": ""
            },
            "type": "mesh3d"
           }
          ],
          "parcoords": [
           {
            "line": {
             "colorbar": {
              "outlinewidth": 0,
              "ticks": ""
             }
            },
            "type": "parcoords"
           }
          ],
          "pie": [
           {
            "automargin": true,
            "type": "pie"
           }
          ],
          "scatter": [
           {
            "marker": {
             "colorbar": {
              "outlinewidth": 0,
              "ticks": ""
             }
            },
            "type": "scatter"
           }
          ],
          "scatter3d": [
           {
            "line": {
             "colorbar": {
              "outlinewidth": 0,
              "ticks": ""
             }
            },
            "marker": {
             "colorbar": {
              "outlinewidth": 0,
              "ticks": ""
             }
            },
            "type": "scatter3d"
           }
          ],
          "scattercarpet": [
           {
            "marker": {
             "colorbar": {
              "outlinewidth": 0,
              "ticks": ""
             }
            },
            "type": "scattercarpet"
           }
          ],
          "scattergeo": [
           {
            "marker": {
             "colorbar": {
              "outlinewidth": 0,
              "ticks": ""
             }
            },
            "type": "scattergeo"
           }
          ],
          "scattergl": [
           {
            "marker": {
             "colorbar": {
              "outlinewidth": 0,
              "ticks": ""
             }
            },
            "type": "scattergl"
           }
          ],
          "scattermapbox": [
           {
            "marker": {
             "colorbar": {
              "outlinewidth": 0,
              "ticks": ""
             }
            },
            "type": "scattermapbox"
           }
          ],
          "scatterpolar": [
           {
            "marker": {
             "colorbar": {
              "outlinewidth": 0,
              "ticks": ""
             }
            },
            "type": "scatterpolar"
           }
          ],
          "scatterpolargl": [
           {
            "marker": {
             "colorbar": {
              "outlinewidth": 0,
              "ticks": ""
             }
            },
            "type": "scatterpolargl"
           }
          ],
          "scatterternary": [
           {
            "marker": {
             "colorbar": {
              "outlinewidth": 0,
              "ticks": ""
             }
            },
            "type": "scatterternary"
           }
          ],
          "surface": [
           {
            "colorbar": {
             "outlinewidth": 0,
             "ticks": ""
            },
            "colorscale": [
             [
              0,
              "#0d0887"
             ],
             [
              0.1111111111111111,
              "#46039f"
             ],
             [
              0.2222222222222222,
              "#7201a8"
             ],
             [
              0.3333333333333333,
              "#9c179e"
             ],
             [
              0.4444444444444444,
              "#bd3786"
             ],
             [
              0.5555555555555556,
              "#d8576b"
             ],
             [
              0.6666666666666666,
              "#ed7953"
             ],
             [
              0.7777777777777778,
              "#fb9f3a"
             ],
             [
              0.8888888888888888,
              "#fdca26"
             ],
             [
              1,
              "#f0f921"
             ]
            ],
            "type": "surface"
           }
          ],
          "table": [
           {
            "cells": {
             "fill": {
              "color": "#EBF0F8"
             },
             "line": {
              "color": "white"
             }
            },
            "header": {
             "fill": {
              "color": "#C8D4E3"
             },
             "line": {
              "color": "white"
             }
            },
            "type": "table"
           }
          ]
         },
         "layout": {
          "annotationdefaults": {
           "arrowcolor": "#2a3f5f",
           "arrowhead": 0,
           "arrowwidth": 1
          },
          "coloraxis": {
           "colorbar": {
            "outlinewidth": 0,
            "ticks": ""
           }
          },
          "colorscale": {
           "diverging": [
            [
             0,
             "#8e0152"
            ],
            [
             0.1,
             "#c51b7d"
            ],
            [
             0.2,
             "#de77ae"
            ],
            [
             0.3,
             "#f1b6da"
            ],
            [
             0.4,
             "#fde0ef"
            ],
            [
             0.5,
             "#f7f7f7"
            ],
            [
             0.6,
             "#e6f5d0"
            ],
            [
             0.7,
             "#b8e186"
            ],
            [
             0.8,
             "#7fbc41"
            ],
            [
             0.9,
             "#4d9221"
            ],
            [
             1,
             "#276419"
            ]
           ],
           "sequential": [
            [
             0,
             "#0d0887"
            ],
            [
             0.1111111111111111,
             "#46039f"
            ],
            [
             0.2222222222222222,
             "#7201a8"
            ],
            [
             0.3333333333333333,
             "#9c179e"
            ],
            [
             0.4444444444444444,
             "#bd3786"
            ],
            [
             0.5555555555555556,
             "#d8576b"
            ],
            [
             0.6666666666666666,
             "#ed7953"
            ],
            [
             0.7777777777777778,
             "#fb9f3a"
            ],
            [
             0.8888888888888888,
             "#fdca26"
            ],
            [
             1,
             "#f0f921"
            ]
           ],
           "sequentialminus": [
            [
             0,
             "#0d0887"
            ],
            [
             0.1111111111111111,
             "#46039f"
            ],
            [
             0.2222222222222222,
             "#7201a8"
            ],
            [
             0.3333333333333333,
             "#9c179e"
            ],
            [
             0.4444444444444444,
             "#bd3786"
            ],
            [
             0.5555555555555556,
             "#d8576b"
            ],
            [
             0.6666666666666666,
             "#ed7953"
            ],
            [
             0.7777777777777778,
             "#fb9f3a"
            ],
            [
             0.8888888888888888,
             "#fdca26"
            ],
            [
             1,
             "#f0f921"
            ]
           ]
          },
          "colorway": [
           "#636efa",
           "#EF553B",
           "#00cc96",
           "#ab63fa",
           "#FFA15A",
           "#19d3f3",
           "#FF6692",
           "#B6E880",
           "#FF97FF",
           "#FECB52"
          ],
          "font": {
           "color": "#2a3f5f"
          },
          "geo": {
           "bgcolor": "white",
           "lakecolor": "white",
           "landcolor": "#E5ECF6",
           "showlakes": true,
           "showland": true,
           "subunitcolor": "white"
          },
          "hoverlabel": {
           "align": "left"
          },
          "hovermode": "closest",
          "mapbox": {
           "style": "light"
          },
          "paper_bgcolor": "white",
          "plot_bgcolor": "#E5ECF6",
          "polar": {
           "angularaxis": {
            "gridcolor": "white",
            "linecolor": "white",
            "ticks": ""
           },
           "bgcolor": "#E5ECF6",
           "radialaxis": {
            "gridcolor": "white",
            "linecolor": "white",
            "ticks": ""
           }
          },
          "scene": {
           "xaxis": {
            "backgroundcolor": "#E5ECF6",
            "gridcolor": "white",
            "gridwidth": 2,
            "linecolor": "white",
            "showbackground": true,
            "ticks": "",
            "zerolinecolor": "white"
           },
           "yaxis": {
            "backgroundcolor": "#E5ECF6",
            "gridcolor": "white",
            "gridwidth": 2,
            "linecolor": "white",
            "showbackground": true,
            "ticks": "",
            "zerolinecolor": "white"
           },
           "zaxis": {
            "backgroundcolor": "#E5ECF6",
            "gridcolor": "white",
            "gridwidth": 2,
            "linecolor": "white",
            "showbackground": true,
            "ticks": "",
            "zerolinecolor": "white"
           }
          },
          "shapedefaults": {
           "line": {
            "color": "#2a3f5f"
           }
          },
          "ternary": {
           "aaxis": {
            "gridcolor": "white",
            "linecolor": "white",
            "ticks": ""
           },
           "baxis": {
            "gridcolor": "white",
            "linecolor": "white",
            "ticks": ""
           },
           "bgcolor": "#E5ECF6",
           "caxis": {
            "gridcolor": "white",
            "linecolor": "white",
            "ticks": ""
           }
          },
          "title": {
           "x": 0.05
          },
          "xaxis": {
           "automargin": true,
           "gridcolor": "white",
           "linecolor": "white",
           "ticks": "",
           "title": {
            "standoff": 15
           },
           "zerolinecolor": "white",
           "zerolinewidth": 2
          },
          "yaxis": {
           "automargin": true,
           "gridcolor": "white",
           "linecolor": "white",
           "ticks": "",
           "title": {
            "standoff": 15
           },
           "zerolinecolor": "white",
           "zerolinewidth": 2
          }
         }
        },
        "title": {
         "font": {
          "color": "#4D5663"
         },
         "text": "Low Fare Analysis by gender"
        },
        "xaxis": {
         "gridcolor": "#E1E5ED",
         "showgrid": true,
         "tickfont": {
          "color": "#4D5663"
         },
         "title": {
          "font": {
           "color": "#4D5663"
          },
          "text": ""
         },
         "zerolinecolor": "#E1E5ED"
        },
        "yaxis": {
         "gridcolor": "#E1E5ED",
         "showgrid": true,
         "tickfont": {
          "color": "#4D5663"
         },
         "title": {
          "font": {
           "color": "#4D5663"
          },
          "text": ""
         },
         "zerolinecolor": "#E1E5ED"
        }
       }
      },
      "text/html": [
       "<div>\n",
       "        \n",
       "        \n",
       "            <div id=\"92365068-7b6d-4e71-ab2b-e5b8472432b7\" class=\"plotly-graph-div\" style=\"height:525px; width:100%;\"></div>\n",
       "            <script type=\"text/javascript\">\n",
       "                require([\"plotly\"], function(Plotly) {\n",
       "                    window.PLOTLYENV=window.PLOTLYENV || {};\n",
       "                    \n",
       "                if (document.getElementById(\"92365068-7b6d-4e71-ab2b-e5b8472432b7\")) {\n",
       "                    Plotly.newPlot(\n",
       "                        '92365068-7b6d-4e71-ab2b-e5b8472432b7',\n",
       "                        [{\"boxpoints\": false, \"line\": {\"width\": 1.3}, \"marker\": {\"color\": \"rgba(255, 153, 51, 1.0)\"}, \"name\": \"Male\", \"orientation\": \"v\", \"type\": \"box\", \"y\": [7.25, null, null, null, 8.05, 8.4583, 51.8625, 21.075, null, null, null, null, 8.05, 31.275, null, null, 29.125, 13.0, null, null, 26.0, 13.0, null, 35.5, null, null, 7.225, null, 7.8958, 27.7208, null, 10.5, 82.1708, 52.0, 7.2292, 8.05, null, null, null, null, 7.8958, null, null, 8.05, 15.5, null, 21.6792, null, 39.6875, 7.8, null, null, 61.9792, 35.5, null, 7.2292, null, 46.9, 7.2292, 83.475, 27.9, 27.7208, 15.2458, null, 8.1583, null, 8.6625, 10.5, null, 73.5, 14.4542, 56.4958, 7.65, 7.8958, 8.05, 29.0, null, 9.0, 9.5, null, 47.1, null, null, 34.375, 8.05, 8.05, 8.05, 7.8542, 61.175, 20.575, 7.25, 8.05, 34.6542, 63.3583, null, 26.0, null, 7.8958, 77.2875, 8.6542, 7.925, 7.8958, null, 7.775, 7.8958, null, 52.0, null, 8.05, null, null, 7.925, 7.75, 21.0, null, 73.5, 8.05, 30.0708, null, 77.2875, 11.2417, 7.75, 7.1417, null, 6.975, 7.8958, 7.05, null, null, 13.0, 15.0458, null, 53.1, 9.2167, 79.2, null, null, null, 6.75, 11.5, 36.75, 7.7958, null, 26.0, 13.0, 12.525, null, 8.05, 14.5, 7.3125, 61.3792, null, 8.05, 8.6625, 69.55, 16.1, null, 7.775, 8.6625, 39.6875, 20.525, null, null, 25.925, 56.4958, 33.5, 29.125, null, 7.925, 30.6958, 7.8542, 25.4667, null, 13.0, 0.0, null, 15.05, 31.3875, 39.0, null, 50.0, null, 26.55, 15.5, 7.8958, null, 13.0, null, 26.0, null, 7.75, 8.4042, null, null, 9.5, 69.55, 6.4958, 7.225, 8.05, null, 15.85, 18.7875, null, 31.0, 7.05, null, 7.25, 13.0, 7.75, null, 27.0, null, 10.5, 8.05, 13.0, 8.05, 7.8958, 90.0, 9.35, 10.5, 7.25, 13.0, null, null, 7.775, 13.5, null, 10.5, null, 26.0, null, 10.5, 12.275, null, null, 10.5, 7.125, 7.225, 90.0, null, null, 52.5542, 26.0, 7.25, null, 26.55, 16.1, null, null, null, null, null, 7.75, 31.3875, 79.65, 0.0, null, 10.5, 39.6875, 7.775, 31.0, 0.0, null, 29.7, null, null, null, 0.0, 29.125, null, 7.75, 7.8542, 9.5, 8.05, 26.0, 8.6625, 9.5, 7.8958, 13.0, null, null, null, 12.875, null, 7.8958, 27.7208, 7.2292, 30.5, null, 23.25, 0.0, null, 8.05, 24.0, null, null, null, 7.8958, 26.25, null, null, 14.0, 7.25, 7.8958, null, null, 69.55, 6.2375, null, null, null, null, 28.5, 18.0, 7.8958, 66.6, 8.05, 35.5, 26.0, 13.0, 13.0, 13.0, null, null, null, 15.9, 8.6625, 9.225, 35.0, 7.2292, 17.8, 7.225, 9.5, null, null, null, null, 27.9, 27.7208, null, 7.05, 15.5, 7.25, null, null, null, null, 55.4417, 6.4958, 8.05, null, null, null, 4.0125, 7.775, null, 7.925, null, 7.8958, 73.5, 46.9, null, 7.7292, null, 7.7958, 7.925, null, 7.7958, null, 26.0, 10.5, null, 7.925, 8.05, null, 15.85, null, 21.0, 7.75, 18.75, 7.775, null, 7.8958, 6.8583, null, 0.0, 7.925, null, null, null, 13.0, null, 7.8958, 7.7333, 7.875, null, 20.2125, 7.25, null, null, 7.75, 8.05, 26.55, null, null, 7.125, 55.9, null, null, 10.5, null, 9.5, 7.775, null, 8.1125, 81.8583, null, 26.55, null, 30.5, 27.75, 19.9667, 27.75, 89.1042, 8.05, 7.8958, 26.55, null, null, 7.75, 26.55, 8.05, 38.5, 13.0, 8.05, 7.05, 0.0, 26.55, 7.725, null, 7.25, 8.6625, null, null, null, 52.0, 21.0, 7.0458, 7.5208, null, 46.9, 0.0, 8.05, null, 91.0792, null, null, 29.7, 8.05, 15.9, 19.9667, 7.25, 30.5, 49.5042, 8.05, 14.4583, null, 15.1, 7.7958, 8.6625, null, null, null, null, null, 26.55, 22.525, 56.4958, 7.75, 8.05, 26.2875, null, 7.4958, 34.0208, null, 24.15, null, 7.8958, null, 7.8958, 7.225, null, 7.2292, 7.75, null, 7.925, 11.5, null, 7.2292, 7.2292, null, null, null, 26.55, 14.5, null, null, null, null, 26.0, 26.0, null, 13.8625, 20.525, 36.75, 26.0, 7.8292, 7.225, null, 26.55, null, null, null, 7.75, 7.8958, 13.5, 8.05, null, 24.15, 7.8958, null, 7.2292, 7.8542, 10.5, null, 26.3875, null, 8.05, 14.5, null, null, null, 7.925, null, 26.0, 40.125, 8.7125, null, 15.0, 79.2, 8.05, 8.05, 7.125, null, 7.25, null, 26.0, 24.15, null, 0.0, 7.225, 56.9292, null, 7.8958, 42.4, 8.05, 26.55, 15.55, 7.8958, 30.5, null, null, 7.05, null, 7.75, 8.05, null, 14.4, null, null, 10.5, 14.4542, 52.5542, 15.7417, 7.8542, 16.1, 32.3208, 12.35, null, 7.8958, 7.7333, 30.0, 7.0542, 30.5, 0.0, null, null, 7.925, 26.25, null, 16.1, 7.8542, null, null, 56.4958, null, 76.7292, 7.8958, 35.5, 7.55, null, 7.8958, null, 8.4333, null, null, 73.5, 7.8958, null, 13.0, 7.225, 25.5875, 7.4958, 7.925, 73.5, 13.0, 7.775, 8.05, null, null, 52.0, 10.5, 13.0, 0.0, 7.775, 8.05, null, null, null, 76.7292, 9.225, 46.9, 39.0, 41.5792, 39.6875, 10.1708, 7.7958, 57.0, null, 56.4958, 7.225, 26.55, 13.5, 8.05, null, 7.65, 26.2875, null, 7.7417, 7.8542, 26.0, null, 26.2875, 15.2458, null, 26.55, 52.0, 9.4833, 13.0, 7.65, null, 15.5, 7.775, null, 7.0542, 13.0, 13.0, 53.1, 8.6625, null, null, 26.0, null, 18.7875, 0.0, 13.0, 13.0, 16.1, null, 7.8958, 7.8958, 30.0, 78.85, 16.1, 7.925, 71.0, 20.25, null, 53.1, 7.75, null, 12.475, 9.5, 7.8958, null, 14.5, 7.7958, 11.5, 8.05, null, 14.5, 7.125, 7.2292, 7.775, null, 39.6, null, 24.15, 8.3625, 9.5, 7.8542, null, 7.225, null, 7.75, 7.75, null, 7.7375, null, null, 30.0, 23.45, 7.05, 7.25, null, 29.125, 20.575, 79.2, 7.75, 26.0, null, 30.6958, 7.8958, 13.0, null, null, 7.2292, null, 13.0, null, 8.5167, 6.975, 7.775, 0.0, null, 13.0, null, 7.8875, 24.15, 10.5, null, 8.05, 0.0, null, 37.0042, 6.45, 27.9, null, 8.6625, 0.0, null, 39.6875, 6.95, 56.4958, 37.0042, 7.75, null, 18.75, 7.2292, 7.8542, 8.3, null, 8.6625, 8.05, 56.4958, 29.7, 7.925, 10.5, null, 6.4375, 8.6625, 7.55, 69.55, 7.8958, 33.0, null, 31.275, 7.775, null, null, null, null, 26.55, null, 7.2292, 14.1083, 11.5, null, null, 13.0, null, null, 50.4958, 9.5, 11.1333, 7.8958, null, 5.0, 9.0, null, null, 9.8458, 7.8958, 7.8958, null, null, 7.8958, null, 10.5, 7.05, null, 13.0, null, null, 30.0, 7.75]}, {\"boxpoints\": false, \"line\": {\"width\": 1.3}, \"marker\": {\"color\": \"rgba(55, 128, 191, 1.0)\"}, \"name\": \"Female\", \"orientation\": \"v\", \"type\": \"box\", \"y\": [null, 71.2833, 7.925, 53.1, null, null, null, null, 11.1333, 30.0708, 16.7, 26.55, null, null, 7.8542, 16.0, null, null, 18.0, 7.225, null, null, 8.0292, null, 21.075, 31.3875, null, 7.8792, null, null, 7.75, null, null, null, null, null, 18.0, 11.2417, 9.475, 21.0, null, 41.5792, 7.8792, null, null, 7.75, null, 17.8, null, null, 76.7292, 26.0, null, null, 10.5, null, 27.75, null, null, null, null, null, null, 10.5, null, 7.925, null, null, 46.9, null, null, null, null, null, null, null, 12.475, null, null, 7.7875, null, 10.5, 15.85, null, null, null, null, null, null, null, null, null, null, null, 23.0, null, 7.8958, null, null, null, null, null, 7.65, null, null, 24.15, null, 14.4542, null, 9.825, 14.4583, null, null, null, 31.275, null, null, null, 13.0, null, null, null, null, 22.3583, null, null, null, 14.5, 26.0, null, null, 26.2833, null, null, null, 15.2458, 7.75, 15.85, null, null, null, null, 34.375, null, null, null, 66.6, null, null, null, null, 7.7333, null, null, null, null, 15.75, null, null, null, null, 55.0, 27.9, null, null, null, null, 11.1333, null, null, null, null, 28.7125, null, null, 69.55, null, null, null, 22.025, null, 15.5, null, null, null, 13.0, null, 7.8542, null, 27.7208, null, null, 7.75, 13.0, null, null, null, null, null, 10.4625, null, null, 7.75, null, null, 21.0, null, null, null, 7.925, null, 76.2917, null, null, null, null, null, null, null, null, null, null, 25.4667, 83.475, null, null, 31.3875, null, 7.55, null, 26.25, null, null, 14.4542, 15.5, null, null, null, null, 7.775, 14.5, null, null, null, 10.4625, null, null, 20.2125, 15.2458, 79.2, 86.5, 26.0, null, null, null, null, 7.75, null, null, null, null, null, 19.5, null, 7.75, 77.9583, 7.75, null, null, 20.25, null, null, null, null, null, null, null, null, null, 7.75, 78.85, 91.0792, null, 8.85, null, null, null, null, 7.75, null, null, 12.35, null, null, 56.9292, 83.1583, 26.0, null, null, 7.8542, 26.0, null, null, null, 12.35, 29.0, null, null, 13.0, 20.525, 57.9792, 23.25, null, null, null, null, null, null, null, null, null, null, 13.0, 13.0, 16.1, null, null, null, null, null, null, null, null, 55.0, 13.0, 7.8792, 7.8792, null, null, 14.4542, null, null, null, 75.25, 7.2292, 7.75, 69.3, null, null, null, 21.075, 82.1708, 7.25, null, null, 15.7417, null, 52.0, null, null, null, 13.0, null, 12.0, null, null, 16.7, null, 7.8542, null, null, 12.65, null, null, 9.825, null, 8.6625, null, null, null, null, 25.4667, null, null, 90.0, null, null, 8.05, 32.5, 13.0, null, 24.15, null, null, null, 14.4, null, null, 26.0, 26.0, null, null, null, 16.1, 26.0, null, null, 34.375, 18.75, null, 26.25, null, null, 13.0, null, null, 19.5, null, 19.2583, null, null, null, null, null, null, null, null, 51.8625, 10.5, null, null, null, null, null, null, null, null, null, null, 19.2583, null, null, 27.75, 13.7917, 9.8375, null, null, null, null, 12.2875, null, null, null, 9.5875, null, 25.4667, 90.0, null, null, null, null, null, null, null, null, null, 78.2667, null, null, null, 7.75, 7.6292, 9.5875, 86.5, 26.0, null, null, null, null, null, null, 59.4, null, null, 10.5, null, 26.0, null, 93.5, null, null, 57.9792, null, null, 10.5, null, null, 26.0, null, null, 22.3583, 8.6625, 26.25, null, null, 49.5, 71.0, 31.275, 31.275, null, null, 26.0, null, null, null, null, null, null, 7.775, null, 39.6, 79.65, 17.4, null, null, null, null, 8.05, null, null, 21.075, null, null, null, 51.4792, null, 7.75, null, null, 13.0, 55.9, 14.4583, null, 30.0, null, null, null, 79.65, null, null, null, null, null, 78.2667, null, 7.75, null, null, 33.0, null, null, null, 27.0, null, null, null, null, null, null, null, 41.5792, 31.275, null, 15.5, null, null, 65.0, null, 16.1, 39.0, null, null, null, null, null, null, null, null, 77.9583, null, null, null, null, null, null, 27.9, 13.0, null, null, 39.6875, null, null, 69.3, 27.9, null, 19.2583, null, null, null, null, 7.55, null, 23.0, null, 7.8292, 6.75, null, null, 15.5, null, null, null, null, null, null, null, null, null, 52.0, 39.0, null, null, null, null, null, null, 9.8417, 46.9, 8.1375, null, null, null, null, null, null, null, null, null, 13.4167, null, null, null, null, null, 7.7333, null, null, 14.4542, null, null, null, 13.5, null, null, 49.5042, null, null, null, null, null, 10.5, null, null, 33.0, null, null, null, null, null, 21.0, 7.7375, null, 7.925, null, null, null, null, null, 34.375, null, null, null, null, null, null, null, null, 13.0, null, null, 23.0, null, null, null, 65.0, null, null, null, null, 86.5, null, null, null, null, 77.9583, null, 7.75, null, null, null, null, 10.5, null, 23.0, null, null, 12.475, null, 7.2292, 57.0, null, null, null, null, 7.4958, null, null, null, null, null, 69.55, null, null, null, 25.9292, 8.6833, null, 24.15, null, 26.25, null, null, null, null, 7.775, null, 53.1, null, null, null, 31.275, null, null, 7.925, null, null, null, 93.5, null, null, 12.475, null, null, null, null, null, 14.4542, null, null, null, null, 83.1583, null, null, null, null, null, null, 31.0, null, null, null, null, null, null, 89.1042, null, null, 15.2458, 39.4, 26.0, 9.35, null, 19.2583, null, null, null, 25.9292, 69.55, null, 13.0, 13.8583, null, null, null, null, 52.5542, null, null, 24.0, 7.225, null, null, null, 83.1583, 26.0, null, 10.5167, null, null, 29.125, null, 30.0, 23.45, null, null]}],\n",
       "                        {\"legend\": {\"bgcolor\": \"#F5F6F9\", \"font\": {\"color\": \"#4D5663\"}}, \"paper_bgcolor\": \"#F5F6F9\", \"plot_bgcolor\": \"#F5F6F9\", \"template\": {\"data\": {\"bar\": [{\"error_x\": {\"color\": \"#2a3f5f\"}, \"error_y\": {\"color\": \"#2a3f5f\"}, \"marker\": {\"line\": {\"color\": \"#E5ECF6\", \"width\": 0.5}}, \"type\": \"bar\"}], \"barpolar\": [{\"marker\": {\"line\": {\"color\": \"#E5ECF6\", \"width\": 0.5}}, \"type\": \"barpolar\"}], \"carpet\": [{\"aaxis\": {\"endlinecolor\": \"#2a3f5f\", \"gridcolor\": \"white\", \"linecolor\": \"white\", \"minorgridcolor\": \"white\", \"startlinecolor\": \"#2a3f5f\"}, \"baxis\": {\"endlinecolor\": \"#2a3f5f\", \"gridcolor\": \"white\", \"linecolor\": \"white\", \"minorgridcolor\": \"white\", \"startlinecolor\": \"#2a3f5f\"}, \"type\": \"carpet\"}], \"choropleth\": [{\"colorbar\": {\"outlinewidth\": 0, \"ticks\": \"\"}, \"type\": \"choropleth\"}], \"contour\": [{\"colorbar\": {\"outlinewidth\": 0, \"ticks\": \"\"}, \"colorscale\": [[0.0, \"#0d0887\"], [0.1111111111111111, \"#46039f\"], [0.2222222222222222, \"#7201a8\"], [0.3333333333333333, \"#9c179e\"], [0.4444444444444444, \"#bd3786\"], [0.5555555555555556, \"#d8576b\"], [0.6666666666666666, \"#ed7953\"], [0.7777777777777778, \"#fb9f3a\"], [0.8888888888888888, \"#fdca26\"], [1.0, \"#f0f921\"]], \"type\": \"contour\"}], \"contourcarpet\": [{\"colorbar\": {\"outlinewidth\": 0, \"ticks\": \"\"}, \"type\": \"contourcarpet\"}], \"heatmap\": [{\"colorbar\": {\"outlinewidth\": 0, \"ticks\": \"\"}, \"colorscale\": [[0.0, \"#0d0887\"], [0.1111111111111111, \"#46039f\"], [0.2222222222222222, \"#7201a8\"], [0.3333333333333333, \"#9c179e\"], [0.4444444444444444, \"#bd3786\"], [0.5555555555555556, \"#d8576b\"], [0.6666666666666666, \"#ed7953\"], [0.7777777777777778, \"#fb9f3a\"], [0.8888888888888888, \"#fdca26\"], [1.0, \"#f0f921\"]], \"type\": \"heatmap\"}], \"heatmapgl\": [{\"colorbar\": {\"outlinewidth\": 0, \"ticks\": \"\"}, \"colorscale\": [[0.0, \"#0d0887\"], [0.1111111111111111, \"#46039f\"], [0.2222222222222222, \"#7201a8\"], [0.3333333333333333, \"#9c179e\"], [0.4444444444444444, \"#bd3786\"], [0.5555555555555556, \"#d8576b\"], [0.6666666666666666, \"#ed7953\"], [0.7777777777777778, \"#fb9f3a\"], [0.8888888888888888, \"#fdca26\"], [1.0, \"#f0f921\"]], \"type\": \"heatmapgl\"}], \"histogram\": [{\"marker\": {\"colorbar\": {\"outlinewidth\": 0, \"ticks\": \"\"}}, \"type\": \"histogram\"}], \"histogram2d\": [{\"colorbar\": {\"outlinewidth\": 0, \"ticks\": \"\"}, \"colorscale\": [[0.0, \"#0d0887\"], [0.1111111111111111, \"#46039f\"], [0.2222222222222222, \"#7201a8\"], [0.3333333333333333, \"#9c179e\"], [0.4444444444444444, \"#bd3786\"], [0.5555555555555556, \"#d8576b\"], [0.6666666666666666, \"#ed7953\"], [0.7777777777777778, \"#fb9f3a\"], [0.8888888888888888, \"#fdca26\"], [1.0, \"#f0f921\"]], \"type\": \"histogram2d\"}], \"histogram2dcontour\": [{\"colorbar\": {\"outlinewidth\": 0, \"ticks\": \"\"}, \"colorscale\": [[0.0, \"#0d0887\"], [0.1111111111111111, \"#46039f\"], [0.2222222222222222, \"#7201a8\"], [0.3333333333333333, \"#9c179e\"], [0.4444444444444444, \"#bd3786\"], [0.5555555555555556, \"#d8576b\"], [0.6666666666666666, \"#ed7953\"], [0.7777777777777778, \"#fb9f3a\"], [0.8888888888888888, \"#fdca26\"], [1.0, \"#f0f921\"]], \"type\": \"histogram2dcontour\"}], \"mesh3d\": [{\"colorbar\": {\"outlinewidth\": 0, \"ticks\": \"\"}, \"type\": \"mesh3d\"}], \"parcoords\": [{\"line\": {\"colorbar\": {\"outlinewidth\": 0, \"ticks\": \"\"}}, \"type\": \"parcoords\"}], \"pie\": [{\"automargin\": true, \"type\": \"pie\"}], \"scatter\": [{\"marker\": {\"colorbar\": {\"outlinewidth\": 0, \"ticks\": \"\"}}, \"type\": \"scatter\"}], \"scatter3d\": [{\"line\": {\"colorbar\": {\"outlinewidth\": 0, \"ticks\": \"\"}}, \"marker\": {\"colorbar\": {\"outlinewidth\": 0, \"ticks\": \"\"}}, \"type\": \"scatter3d\"}], \"scattercarpet\": [{\"marker\": {\"colorbar\": {\"outlinewidth\": 0, \"ticks\": \"\"}}, \"type\": \"scattercarpet\"}], \"scattergeo\": [{\"marker\": {\"colorbar\": {\"outlinewidth\": 0, \"ticks\": \"\"}}, \"type\": \"scattergeo\"}], \"scattergl\": [{\"marker\": {\"colorbar\": {\"outlinewidth\": 0, \"ticks\": \"\"}}, \"type\": \"scattergl\"}], \"scattermapbox\": [{\"marker\": {\"colorbar\": {\"outlinewidth\": 0, \"ticks\": \"\"}}, \"type\": \"scattermapbox\"}], \"scatterpolar\": [{\"marker\": {\"colorbar\": {\"outlinewidth\": 0, \"ticks\": \"\"}}, \"type\": \"scatterpolar\"}], \"scatterpolargl\": [{\"marker\": {\"colorbar\": {\"outlinewidth\": 0, \"ticks\": \"\"}}, \"type\": \"scatterpolargl\"}], \"scatterternary\": [{\"marker\": {\"colorbar\": {\"outlinewidth\": 0, \"ticks\": \"\"}}, \"type\": \"scatterternary\"}], \"surface\": [{\"colorbar\": {\"outlinewidth\": 0, \"ticks\": \"\"}, \"colorscale\": [[0.0, \"#0d0887\"], [0.1111111111111111, \"#46039f\"], [0.2222222222222222, \"#7201a8\"], [0.3333333333333333, \"#9c179e\"], [0.4444444444444444, \"#bd3786\"], [0.5555555555555556, \"#d8576b\"], [0.6666666666666666, \"#ed7953\"], [0.7777777777777778, \"#fb9f3a\"], [0.8888888888888888, \"#fdca26\"], [1.0, \"#f0f921\"]], \"type\": \"surface\"}], \"table\": [{\"cells\": {\"fill\": {\"color\": \"#EBF0F8\"}, \"line\": {\"color\": \"white\"}}, \"header\": {\"fill\": {\"color\": \"#C8D4E3\"}, \"line\": {\"color\": \"white\"}}, \"type\": \"table\"}]}, \"layout\": {\"annotationdefaults\": {\"arrowcolor\": \"#2a3f5f\", \"arrowhead\": 0, \"arrowwidth\": 1}, \"coloraxis\": {\"colorbar\": {\"outlinewidth\": 0, \"ticks\": \"\"}}, \"colorscale\": {\"diverging\": [[0, \"#8e0152\"], [0.1, \"#c51b7d\"], [0.2, \"#de77ae\"], [0.3, \"#f1b6da\"], [0.4, \"#fde0ef\"], [0.5, \"#f7f7f7\"], [0.6, \"#e6f5d0\"], [0.7, \"#b8e186\"], [0.8, \"#7fbc41\"], [0.9, \"#4d9221\"], [1, \"#276419\"]], \"sequential\": [[0.0, \"#0d0887\"], [0.1111111111111111, \"#46039f\"], [0.2222222222222222, \"#7201a8\"], [0.3333333333333333, \"#9c179e\"], [0.4444444444444444, \"#bd3786\"], [0.5555555555555556, \"#d8576b\"], [0.6666666666666666, \"#ed7953\"], [0.7777777777777778, \"#fb9f3a\"], [0.8888888888888888, \"#fdca26\"], [1.0, \"#f0f921\"]], \"sequentialminus\": [[0.0, \"#0d0887\"], [0.1111111111111111, \"#46039f\"], [0.2222222222222222, \"#7201a8\"], [0.3333333333333333, \"#9c179e\"], [0.4444444444444444, \"#bd3786\"], [0.5555555555555556, \"#d8576b\"], [0.6666666666666666, \"#ed7953\"], [0.7777777777777778, \"#fb9f3a\"], [0.8888888888888888, \"#fdca26\"], [1.0, \"#f0f921\"]]}, \"colorway\": [\"#636efa\", \"#EF553B\", \"#00cc96\", \"#ab63fa\", \"#FFA15A\", \"#19d3f3\", \"#FF6692\", \"#B6E880\", \"#FF97FF\", \"#FECB52\"], \"font\": {\"color\": \"#2a3f5f\"}, \"geo\": {\"bgcolor\": \"white\", \"lakecolor\": \"white\", \"landcolor\": \"#E5ECF6\", \"showlakes\": true, \"showland\": true, \"subunitcolor\": \"white\"}, \"hoverlabel\": {\"align\": \"left\"}, \"hovermode\": \"closest\", \"mapbox\": {\"style\": \"light\"}, \"paper_bgcolor\": \"white\", \"plot_bgcolor\": \"#E5ECF6\", \"polar\": {\"angularaxis\": {\"gridcolor\": \"white\", \"linecolor\": \"white\", \"ticks\": \"\"}, \"bgcolor\": \"#E5ECF6\", \"radialaxis\": {\"gridcolor\": \"white\", \"linecolor\": \"white\", \"ticks\": \"\"}}, \"scene\": {\"xaxis\": {\"backgroundcolor\": \"#E5ECF6\", \"gridcolor\": \"white\", \"gridwidth\": 2, \"linecolor\": \"white\", \"showbackground\": true, \"ticks\": \"\", \"zerolinecolor\": \"white\"}, \"yaxis\": {\"backgroundcolor\": \"#E5ECF6\", \"gridcolor\": \"white\", \"gridwidth\": 2, \"linecolor\": \"white\", \"showbackground\": true, \"ticks\": \"\", \"zerolinecolor\": \"white\"}, \"zaxis\": {\"backgroundcolor\": \"#E5ECF6\", \"gridcolor\": \"white\", \"gridwidth\": 2, \"linecolor\": \"white\", \"showbackground\": true, \"ticks\": \"\", \"zerolinecolor\": \"white\"}}, \"shapedefaults\": {\"line\": {\"color\": \"#2a3f5f\"}}, \"ternary\": {\"aaxis\": {\"gridcolor\": \"white\", \"linecolor\": \"white\", \"ticks\": \"\"}, \"baxis\": {\"gridcolor\": \"white\", \"linecolor\": \"white\", \"ticks\": \"\"}, \"bgcolor\": \"#E5ECF6\", \"caxis\": {\"gridcolor\": \"white\", \"linecolor\": \"white\", \"ticks\": \"\"}}, \"title\": {\"x\": 0.05}, \"xaxis\": {\"automargin\": true, \"gridcolor\": \"white\", \"linecolor\": \"white\", \"ticks\": \"\", \"title\": {\"standoff\": 15}, \"zerolinecolor\": \"white\", \"zerolinewidth\": 2}, \"yaxis\": {\"automargin\": true, \"gridcolor\": \"white\", \"linecolor\": \"white\", \"ticks\": \"\", \"title\": {\"standoff\": 15}, \"zerolinecolor\": \"white\", \"zerolinewidth\": 2}}}, \"title\": {\"font\": {\"color\": \"#4D5663\"}, \"text\": \"Low Fare Analysis by gender\"}, \"xaxis\": {\"gridcolor\": \"#E1E5ED\", \"showgrid\": true, \"tickfont\": {\"color\": \"#4D5663\"}, \"title\": {\"font\": {\"color\": \"#4D5663\"}, \"text\": \"\"}, \"zerolinecolor\": \"#E1E5ED\"}, \"yaxis\": {\"gridcolor\": \"#E1E5ED\", \"showgrid\": true, \"tickfont\": {\"color\": \"#4D5663\"}, \"title\": {\"font\": {\"color\": \"#4D5663\"}, \"text\": \"\"}, \"zerolinecolor\": \"#E1E5ED\"}},\n",
       "                        {\"responsive\": true}\n",
       "                    ).then(function(){\n",
       "                            \n",
       "var gd = document.getElementById('92365068-7b6d-4e71-ab2b-e5b8472432b7');\n",
       "var x = new MutationObserver(function (mutations, observer) {{\n",
       "        var display = window.getComputedStyle(gd).display;\n",
       "        if (!display || display === 'none') {{\n",
       "            console.log([gd, 'removed!']);\n",
       "            Plotly.purge(gd);\n",
       "            observer.disconnect();\n",
       "        }}\n",
       "}});\n",
       "\n",
       "// Listen for the removal of the full notebook cells\n",
       "var notebookContainer = gd.closest('#notebook-container');\n",
       "if (notebookContainer) {{\n",
       "    x.observe(notebookContainer, {childList: true});\n",
       "}}\n",
       "\n",
       "// Listen for the clearing of the current output cell\n",
       "var outputEl = gd.closest('.output');\n",
       "if (outputEl) {{\n",
       "    x.observe(outputEl, {childList: true});\n",
       "}}\n",
       "\n",
       "                        })\n",
       "                };\n",
       "                });\n",
       "            </script>\n",
       "        </div>"
      ]
     },
     "metadata": {},
     "output_type": "display_data"
    }
   ],
   "source": [
    "import plotly as py\n",
    "py.offline.init_notebook_mode(connected=True)\n",
    "\n",
    "\n",
    "d = data[data['Fare'] < 100]\n",
    "fem = d['Fare'].where(data[\"Sex\"] == 'female' )\n",
    "male = d['Fare'].where(data[\"Sex\"] == 'male' )\n",
    "\n",
    "df = pd.DataFrame({'Male': male,\n",
    "                   'Female': fem})\n",
    "\n",
    "fig = df.iplot(asFigure=True, title='Low Fare Analysis by gender', kind=\"box\")\n",
    "fig.show()"
   ]
  },
  {
   "cell_type": "code",
   "execution_count": 7,
   "metadata": {},
   "outputs": [
    {
     "data": {
      "text/html": [
       "        <script type=\"text/javascript\">\n",
       "        window.PlotlyConfig = {MathJaxConfig: 'local'};\n",
       "        if (window.MathJax) {MathJax.Hub.Config({SVG: {font: \"STIX-Web\"}});}\n",
       "        if (typeof require !== 'undefined') {\n",
       "        require.undef(\"plotly\");\n",
       "        requirejs.config({\n",
       "            paths: {\n",
       "                'plotly': ['https://cdn.plot.ly/plotly-latest.min']\n",
       "            }\n",
       "        });\n",
       "        require(['plotly'], function(Plotly) {\n",
       "            window._Plotly = Plotly;\n",
       "        });\n",
       "        }\n",
       "        </script>\n",
       "        "
      ]
     },
     "metadata": {},
     "output_type": "display_data"
    },
    {
     "data": {
      "application/vnd.plotly.v1+json": {
       "config": {
        "plotlyServerURL": "https://plot.ly"
       },
       "data": [
        {
         "boxpoints": false,
         "line": {
          "width": 1.3
         },
         "marker": {
          "color": "rgba(255, 153, 51, 1.0)"
         },
         "name": "1",
         "orientation": "v",
         "type": "box",
         "y": [
          null,
          2,
          null,
          2,
          null,
          null,
          1,
          null,
          null,
          null,
          null,
          1,
          null,
          null,
          null,
          null,
          null,
          null,
          null,
          null,
          null,
          null,
          null,
          1,
          null,
          null,
          null,
          6,
          null,
          null,
          1,
          2,
          null,
          null,
          2,
          2,
          null,
          null,
          null,
          null,
          null,
          null,
          null,
          null,
          null,
          null,
          null,
          null,
          null,
          null,
          null,
          null,
          2,
          null,
          2,
          1,
          null,
          null,
          null,
          null,
          null,
          2,
          null,
          1,
          null,
          null,
          null,
          null,
          null,
          null,
          null,
          null,
          null,
          null,
          null,
          null,
          null,
          null,
          null,
          null,
          null,
          null,
          1,
          null,
          null,
          null,
          null,
          6,
          null,
          null,
          null,
          2,
          null,
          null,
          null,
          1,
          2,
          null,
          null,
          null,
          null,
          2,
          null,
          null,
          null,
          null,
          null,
          null,
          null,
          1,
          null,
          null,
          null,
          null,
          null,
          null,
          null,
          2,
          null,
          null,
          null,
          null,
          null,
          2,
          null,
          null,
          null,
          null,
          null,
          null,
          null,
          null,
          null,
          null,
          null,
          3,
          2,
          null,
          1,
          null,
          null,
          null,
          null,
          null,
          null,
          null,
          null,
          null,
          null,
          null,
          2,
          null,
          null,
          null,
          2,
          null,
          null,
          null,
          null,
          null,
          null,
          null,
          null,
          null,
          null,
          2,
          null,
          1,
          null,
          1,
          null,
          null,
          null,
          1,
          null,
          null,
          1,
          null,
          null,
          null,
          null,
          null,
          null,
          null,
          1,
          null,
          1,
          null,
          null,
          null,
          null,
          null,
          null,
          1,
          1,
          null,
          null,
          null,
          null,
          null,
          null,
          null,
          null,
          null,
          null,
          null,
          null,
          null,
          1,
          null,
          null,
          null,
          null,
          null,
          2,
          null,
          null,
          1,
          null,
          null,
          null,
          null,
          null,
          2,
          null,
          null,
          null,
          null,
          null,
          2,
          null,
          null,
          null,
          null,
          null,
          null,
          null,
          null,
          null,
          null,
          null,
          null,
          null,
          null,
          3,
          null,
          null,
          3,
          null,
          null,
          null,
          1,
          null,
          null,
          null,
          1,
          1,
          1,
          null,
          null,
          null,
          3,
          1,
          null,
          null,
          null,
          null,
          2,
          1,
          1,
          null,
          null,
          2,
          null,
          2,
          null,
          null,
          null,
          null,
          null,
          null,
          null,
          null,
          1,
          null,
          null,
          null,
          null,
          null,
          1,
          2,
          null,
          null,
          null,
          1,
          null,
          4,
          1,
          2,
          null,
          null,
          null,
          null,
          null,
          4,
          1,
          2,
          null,
          1,
          1,
          5,
          null,
          null,
          null,
          null,
          null,
          null,
          3,
          3,
          null,
          null,
          null,
          null,
          null,
          1,
          null,
          null,
          null,
          2,
          null,
          1,
          2,
          null,
          2,
          null,
          2,
          1,
          null,
          1,
          null,
          6,
          null,
          null,
          null,
          null,
          null,
          null,
          null,
          null,
          null,
          1,
          null,
          null,
          null,
          null,
          2,
          null,
          null,
          null,
          null,
          null,
          null,
          null,
          null,
          null,
          2,
          null,
          null,
          1,
          2,
          null,
          null,
          1,
          null,
          2,
          null,
          3,
          null,
          null,
          1,
          null,
          null,
          2,
          null,
          null,
          null,
          null,
          null,
          null,
          4,
          null,
          null,
          2,
          null,
          null,
          null,
          null,
          null,
          null,
          null,
          null,
          null,
          null,
          null,
          null,
          null,
          null,
          null,
          null,
          null,
          null,
          2,
          null,
          null,
          null,
          null,
          null,
          null,
          null,
          null,
          null,
          null,
          null,
          null,
          null,
          null,
          null,
          null,
          null,
          1,
          null,
          null,
          null,
          2,
          4,
          null,
          null,
          6,
          null,
          null,
          null,
          null,
          null,
          null,
          3,
          null,
          1,
          null,
          1,
          null,
          null,
          1,
          2,
          null,
          null,
          1,
          2,
          null,
          null,
          1,
          null,
          1,
          null,
          null,
          null,
          null,
          1,
          null,
          null,
          null,
          null,
          null,
          null,
          null,
          1,
          null,
          null,
          null,
          null,
          null,
          null,
          null,
          null,
          2,
          null,
          2,
          1,
          null,
          null,
          null,
          null,
          1,
          1,
          null,
          null,
          2,
          null,
          4,
          null,
          null,
          null,
          null,
          null,
          1,
          2,
          null,
          1,
          null,
          null,
          null,
          null,
          1,
          2,
          null,
          1,
          null,
          null,
          null,
          null,
          1,
          null,
          null,
          2,
          null,
          null,
          null,
          1,
          null,
          null,
          null,
          null,
          null,
          null,
          null,
          null,
          1,
          1,
          null,
          3,
          3,
          null,
          null,
          null,
          2,
          1,
          null,
          null,
          null,
          null,
          3,
          null,
          null,
          null,
          null,
          1,
          2,
          1,
          3,
          null,
          null,
          null,
          null,
          null,
          null,
          null,
          null,
          null,
          null,
          null,
          null,
          3,
          1,
          null,
          null,
          null,
          null,
          2,
          null,
          null,
          null,
          3,
          null,
          1,
          null,
          3,
          null,
          3,
          null,
          null,
          null,
          2,
          null,
          null,
          null,
          null,
          null,
          null,
          null,
          2,
          null,
          null,
          1,
          null,
          1,
          null,
          null,
          1,
          null,
          1,
          null,
          null,
          null,
          null,
          null,
          null,
          null,
          null,
          null,
          null,
          null,
          2,
          null,
          null,
          null,
          1,
          null,
          1,
          null,
          null,
          1,
          null,
          1,
          1,
          null,
          null,
          null,
          null,
          null,
          null,
          null,
          1,
          null,
          null,
          null,
          2,
          null,
          1,
          null,
          null,
          null,
          null,
          null,
          null,
          null,
          null,
          null,
          null,
          null,
          3,
          3,
          null,
          1,
          null,
          null,
          null,
          null,
          null,
          null,
          2,
          null,
          2,
          null,
          null,
          null,
          null,
          null,
          null,
          null,
          2,
          null,
          1,
          null,
          null,
          null,
          null,
          null,
          null,
          null,
          2,
          2,
          null,
          null,
          null,
          1,
          null,
          null,
          null,
          3,
          null,
          2,
          1,
          null,
          null,
          null,
          null,
          null,
          1,
          1,
          null,
          1,
          1,
          2,
          null,
          null,
          null,
          1,
          null,
          null,
          null,
          null,
          null,
          null,
          null,
          2,
          null,
          null,
          null,
          null,
          null,
          1,
          null,
          null,
          null,
          null,
          null,
          null,
          1,
          null,
          null,
          1,
          2,
          5,
          null,
          null,
          3,
          null,
          null,
          2,
          null,
          null,
          null,
          null,
          null,
          null,
          null,
          null,
          null,
          null,
          1,
          null,
          null,
          null,
          4,
          null,
          2,
          1,
          null,
          null,
          null,
          null,
          null,
          null,
          null,
          null,
          null,
          null,
          null,
          null,
          2,
          null,
          2,
          1,
          null,
          null,
          null,
          null,
          null,
          null,
          1,
          null,
          null,
          null,
          1,
          null,
          null,
          1,
          null,
          null,
          null,
          null,
          null,
          4,
          null,
          null,
          null,
          1,
          null,
          null,
          2,
          null,
          null,
          null,
          null,
          null,
          1,
          null,
          null,
          null,
          null,
          3,
          null,
          1,
          null,
          null,
          null,
          null,
          null,
          null,
          null,
          null,
          null,
          null,
          null,
          3,
          null,
          null,
          null,
          1,
          null,
          null,
          1,
          null,
          null,
          null,
          null,
          null,
          null,
          2,
          null,
          null,
          null,
          2,
          null,
          null,
          3,
          1,
          null,
          null,
          null,
          null,
          1,
          null,
          null,
          null,
          null,
          1,
          null,
          null,
          null,
          3,
          1,
          null,
          null,
          null,
          null,
          null,
          null,
          2,
          null,
          null,
          null,
          null,
          null,
          null,
          null,
          1,
          null,
          1,
          null
         ]
        },
        {
         "boxpoints": false,
         "line": {
          "width": 1.3
         },
         "marker": {
          "color": "rgba(55, 128, 191, 1.0)"
         },
         "name": "2",
         "orientation": "v",
         "type": "box",
         "y": [
          null,
          null,
          null,
          null,
          null,
          null,
          null,
          null,
          null,
          2,
          null,
          null,
          null,
          null,
          null,
          1,
          null,
          1,
          null,
          null,
          1,
          1,
          null,
          null,
          null,
          null,
          null,
          null,
          null,
          null,
          null,
          null,
          null,
          1,
          null,
          null,
          null,
          null,
          null,
          null,
          null,
          2,
          null,
          4,
          null,
          null,
          null,
          null,
          null,
          null,
          null,
          null,
          null,
          2,
          null,
          null,
          1,
          null,
          4,
          null,
          null,
          null,
          null,
          null,
          null,
          1,
          null,
          null,
          null,
          1,
          null,
          1,
          null,
          null,
          null,
          null,
          null,
          3,
          null,
          null,
          null,
          null,
          null,
          1,
          null,
          null,
          null,
          null,
          null,
          null,
          null,
          null,
          null,
          null,
          null,
          null,
          null,
          2,
          2,
          null,
          null,
          null,
          null,
          null,
          null,
          null,
          null,
          null,
          null,
          null,
          null,
          null,
          null,
          null,
          null,
          null,
          2,
          null,
          null,
          3,
          null,
          2,
          1,
          null,
          null,
          null,
          null,
          null,
          null,
          null,
          null,
          null,
          2,
          1,
          1,
          null,
          null,
          null,
          null,
          null,
          null,
          null,
          null,
          1,
          3,
          null,
          null,
          3,
          1,
          1,
          null,
          null,
          null,
          null,
          null,
          null,
          null,
          null,
          null,
          null,
          1,
          null,
          null,
          null,
          null,
          null,
          null,
          null,
          null,
          null,
          null,
          null,
          null,
          null,
          null,
          null,
          null,
          1,
          null,
          null,
          1,
          null,
          4,
          null,
          null,
          null,
          null,
          null,
          null,
          1,
          1,
          null,
          3,
          null,
          null,
          null,
          null,
          null,
          1,
          null,
          null,
          null,
          null,
          null,
          null,
          null,
          null,
          null,
          null,
          null,
          1,
          null,
          1,
          null,
          null,
          null,
          2,
          null,
          1,
          null,
          1,
          null,
          null,
          null,
          null,
          1,
          null,
          1,
          null,
          null,
          null,
          1,
          null,
          1,
          null,
          2,
          3,
          1,
          1,
          null,
          null,
          1,
          null,
          null,
          null,
          null,
          3,
          null,
          2,
          null,
          null,
          null,
          null,
          null,
          null,
          null,
          null,
          null,
          2,
          null,
          null,
          null,
          null,
          null,
          1,
          null,
          null,
          null,
          null,
          null,
          null,
          2,
          null,
          null,
          null,
          null,
          1,
          null,
          null,
          null,
          null,
          null,
          null,
          null,
          null,
          null,
          null,
          1,
          null,
          null,
          null,
          1,
          null,
          null,
          null,
          null,
          null,
          null,
          null,
          null,
          null,
          null,
          1,
          null,
          null,
          null,
          null,
          2,
          null,
          null,
          null,
          3,
          null,
          3,
          null,
          2,
          1,
          null,
          null,
          null,
          null,
          1,
          3,
          null,
          null,
          null,
          1,
          null,
          null,
          null,
          null,
          null,
          null,
          null,
          null,
          null,
          null,
          null,
          null,
          3,
          null,
          1,
          1,
          1,
          1,
          1,
          null,
          null,
          null,
          null,
          null,
          null,
          null,
          null,
          null,
          null,
          1,
          null,
          null,
          null,
          2,
          null,
          null,
          null,
          null,
          null,
          null,
          null,
          null,
          null,
          null,
          null,
          null,
          null,
          null,
          null,
          null,
          null,
          null,
          null,
          null,
          null,
          null,
          null,
          1,
          null,
          1,
          null,
          1,
          null,
          null,
          null,
          null,
          null,
          null,
          null,
          1,
          1,
          1,
          null,
          null,
          null,
          null,
          null,
          2,
          null,
          3,
          null,
          null,
          null,
          null,
          null,
          1,
          null,
          null,
          3,
          3,
          1,
          null,
          null,
          null,
          null,
          null,
          null,
          null,
          2,
          1,
          null,
          null,
          null,
          null,
          2,
          null,
          null,
          null,
          null,
          6,
          null,
          1,
          3,
          null,
          null,
          1,
          null,
          null,
          2,
          null,
          null,
          null,
          4,
          null,
          null,
          null,
          null,
          null,
          null,
          null,
          1,
          null,
          null,
          null,
          null,
          1,
          null,
          null,
          1,
          null,
          null,
          null,
          null,
          null,
          4,
          1,
          null,
          null,
          2,
          null,
          null,
          null,
          null,
          1,
          null,
          null,
          null,
          null,
          null,
          null,
          null,
          null,
          null,
          null,
          null,
          null,
          null,
          null,
          null,
          null,
          null,
          null,
          null,
          null,
          null,
          null,
          null,
          null,
          3,
          null,
          null,
          null,
          null,
          null,
          null,
          null,
          null,
          null,
          1,
          null,
          2,
          null,
          null,
          null,
          null,
          null,
          null,
          null,
          1,
          null,
          null,
          4,
          3,
          null,
          null,
          null,
          null,
          3,
          null,
          null,
          null,
          null,
          null,
          null,
          null,
          2,
          null,
          null,
          2,
          1,
          null,
          3,
          null,
          1,
          null,
          null,
          null,
          null,
          null,
          null,
          null,
          null,
          null,
          null,
          1,
          null,
          null,
          null,
          null,
          null,
          null,
          null,
          1,
          null,
          null,
          null,
          null,
          null,
          1,
          null,
          null,
          null,
          3,
          null,
          1,
          null,
          null,
          null,
          1,
          null,
          null,
          null,
          null,
          null,
          null,
          null,
          2,
          null,
          1,
          null,
          null,
          null,
          4,
          null,
          null,
          null,
          null,
          null,
          null,
          null,
          4,
          null,
          null,
          null,
          null,
          null,
          null,
          4,
          null,
          null,
          4,
          1,
          null,
          null,
          null,
          null,
          null,
          null,
          1,
          null,
          null,
          null,
          null,
          null,
          null,
          null,
          null,
          1,
          null,
          3,
          null,
          null,
          null,
          null,
          null,
          null,
          null,
          null,
          null,
          null,
          null,
          null,
          null,
          2,
          null,
          null,
          null,
          3,
          null,
          null,
          1,
          null,
          null,
          null,
          null,
          null,
          null,
          3,
          1,
          null,
          null,
          null,
          3,
          null,
          1,
          1,
          1,
          null,
          null,
          null,
          null,
          null,
          null,
          null,
          null,
          null,
          3,
          4,
          null,
          null,
          null,
          null,
          null,
          null,
          null,
          null,
          null,
          1,
          null,
          null,
          null,
          null,
          null,
          null,
          null,
          null,
          null,
          1,
          1,
          null,
          null,
          null,
          null,
          null,
          null,
          null,
          1,
          null,
          null,
          1,
          null,
          null,
          2,
          null,
          1,
          1,
          null,
          null,
          4,
          null,
          2,
          null,
          null,
          null,
          1,
          1,
          1,
          null,
          null,
          null,
          null,
          null,
          null,
          null,
          null,
          null,
          null,
          null,
          null,
          1,
          null,
          null,
          3,
          null,
          null,
          null,
          4,
          3,
          null,
          1,
          null,
          null,
          null,
          null,
          null,
          null,
          null,
          null,
          null,
          null,
          null,
          null,
          null,
          null,
          1,
          null,
          5,
          null,
          null,
          null,
          null,
          null,
          null,
          null,
          null,
          null,
          null,
          null,
          null,
          null,
          null,
          null,
          null,
          1,
          null,
          null,
          null,
          1,
          null,
          null,
          null,
          null,
          1,
          3,
          null,
          null,
          null,
          null,
          null,
          null,
          1,
          null,
          null,
          null,
          1,
          null,
          null,
          null,
          null,
          3,
          null,
          null,
          null,
          null,
          null,
          null,
          null,
          null,
          null,
          3,
          null,
          null,
          3,
          null,
          null,
          null,
          null,
          null,
          null,
          null,
          null,
          null,
          1,
          null,
          null,
          null,
          null,
          null,
          null,
          2,
          null,
          null,
          null,
          null,
          null,
          2,
          null,
          null,
          null,
          null,
          null,
          null,
          2,
          null,
          null,
          1,
          1,
          2,
          null,
          null,
          null,
          null,
          null,
          null,
          null,
          2,
          null,
          null,
          null,
          null,
          null,
          2,
          null,
          null,
          1,
          null,
          null,
          1,
          null,
          null,
          null,
          null
         ]
        },
        {
         "boxpoints": false,
         "line": {
          "width": 1.3
         },
         "marker": {
          "color": "rgba(50, 171, 96, 1.0)"
         },
         "name": "3",
         "orientation": "v",
         "type": "box",
         "y": [
          2,
          null,
          1,
          null,
          1,
          1,
          null,
          5,
          3,
          null,
          3,
          null,
          1,
          7,
          1,
          null,
          6,
          null,
          2,
          1,
          null,
          null,
          1,
          null,
          5,
          7,
          1,
          null,
          1,
          1,
          null,
          null,
          1,
          null,
          null,
          null,
          1,
          1,
          3,
          2,
          2,
          null,
          1,
          null,
          1,
          1,
          2,
          1,
          3,
          2,
          6,
          1,
          null,
          null,
          null,
          null,
          null,
          1,
          null,
          8,
          1,
          null,
          6,
          null,
          3,
          null,
          1,
          7,
          3,
          null,
          8,
          null,
          2,
          1,
          1,
          1,
          1,
          null,
          1,
          1,
          1,
          1,
          null,
          null,
          4,
          5,
          1,
          null,
          1,
          1,
          1,
          null,
          4,
          1,
          1,
          null,
          null,
          null,
          null,
          1,
          1,
          null,
          1,
          3,
          1,
          1,
          1,
          1,
          2,
          null,
          2,
          1,
          2,
          1,
          1,
          1,
          null,
          null,
          7,
          null,
          1,
          null,
          null,
          null,
          2,
          1,
          1,
          3,
          1,
          1,
          1,
          2,
          null,
          null,
          null,
          null,
          null,
          1,
          null,
          3,
          1,
          2,
          1,
          null,
          null,
          1,
          5,
          null,
          null,
          null,
          null,
          1,
          3,
          1,
          null,
          1,
          1,
          1,
          11,
          2,
          null,
          1,
          1,
          6,
          3,
          null,
          6,
          null,
          1,
          null,
          6,
          3,
          1,
          null,
          3,
          5,
          null,
          null,
          1,
          11,
          null,
          7,
          null,
          3,
          null,
          2,
          null,
          3,
          1,
          null,
          null,
          2,
          null,
          null,
          null,
          1,
          2,
          1,
          null,
          1,
          11,
          1,
          1,
          1,
          2,
          2,
          1,
          1,
          null,
          1,
          null,
          1,
          null,
          2,
          null,
          1,
          null,
          null,
          null,
          1,
          null,
          1,
          1,
          null,
          1,
          null,
          1,
          null,
          5,
          null,
          1,
          null,
          7,
          null,
          1,
          null,
          null,
          null,
          null,
          2,
          2,
          null,
          1,
          1,
          null,
          1,
          null,
          null,
          null,
          1,
          3,
          null,
          2,
          3,
          3,
          null,
          null,
          null,
          null,
          1,
          7,
          null,
          null,
          1,
          null,
          6,
          2,
          null,
          null,
          null,
          1,
          null,
          null,
          1,
          null,
          1,
          null,
          6,
          3,
          1,
          1,
          1,
          1,
          null,
          1,
          1,
          1,
          null,
          1,
          null,
          null,
          null,
          1,
          1,
          null,
          1,
          null,
          null,
          null,
          1,
          3,
          1,
          null,
          1,
          null,
          null,
          null,
          null,
          null,
          null,
          null,
          null,
          1,
          null,
          1,
          null,
          null,
          null,
          null,
          1,
          1,
          null,
          null,
          11,
          null,
          1,
          null,
          3,
          null,
          3,
          null,
          null,
          3,
          null,
          1,
          null,
          null,
          1,
          null,
          null,
          null,
          null,
          null,
          null,
          null,
          null,
          2,
          3,
          1,
          1,
          null,
          3,
          2,
          1,
          1,
          null,
          null,
          1,
          1,
          6,
          null,
          2,
          1,
          2,
          1,
          null,
          1,
          1,
          null,
          null,
          2,
          1,
          null,
          5,
          null,
          1,
          null,
          1,
          1,
          null,
          3,
          1,
          null,
          1,
          null,
          8,
          null,
          1,
          null,
          null,
          1,
          3,
          null,
          3,
          1,
          1,
          null,
          null,
          null,
          1,
          1,
          2,
          2,
          1,
          null,
          1,
          null,
          1,
          5,
          1,
          1,
          null,
          null,
          1,
          1,
          null,
          null,
          null,
          3,
          1,
          1,
          1,
          3,
          3,
          1,
          null,
          null,
          1,
          1,
          null,
          2,
          null,
          1,
          null,
          null,
          5,
          null,
          null,
          null,
          null,
          1,
          2,
          null,
          1,
          null,
          null,
          null,
          4,
          null,
          null,
          2,
          null,
          null,
          1,
          1,
          null,
          null,
          null,
          1,
          null,
          1,
          null,
          null,
          1,
          1,
          null,
          null,
          1,
          4,
          1,
          1,
          null,
          null,
          1,
          null,
          null,
          2,
          1,
          2,
          8,
          null,
          1,
          1,
          null,
          5,
          null,
          null,
          1,
          3,
          2,
          1,
          null,
          null,
          1,
          1,
          null,
          1,
          null,
          1,
          1,
          1,
          1,
          1,
          null,
          null,
          null,
          null,
          1,
          1,
          1,
          1,
          null,
          null,
          1,
          null,
          null,
          1,
          null,
          1,
          null,
          1,
          1,
          null,
          1,
          1,
          null,
          null,
          1,
          null,
          null,
          1,
          3,
          3,
          1,
          null,
          null,
          null,
          1,
          null,
          null,
          7,
          7,
          null,
          null,
          null,
          null,
          null,
          3,
          null,
          null,
          null,
          1,
          1,
          1,
          null,
          null,
          null,
          null,
          2,
          1,
          1,
          null,
          1,
          1,
          3,
          1,
          5,
          1,
          1,
          null,
          null,
          null,
          1,
          1,
          1,
          null,
          null,
          2,
          1,
          null,
          null,
          null,
          null,
          1,
          null,
          null,
          null,
          1,
          1,
          1,
          null,
          1,
          3,
          null,
          3,
          null,
          1,
          1,
          null,
          null,
          1,
          null,
          1,
          null,
          2,
          1,
          null,
          null,
          null,
          7,
          1,
          2,
          1,
          1,
          null,
          3,
          2,
          null,
          null,
          2,
          null,
          3,
          1,
          1,
          null,
          null,
          null,
          1,
          1,
          null,
          1,
          null,
          null,
          6,
          null,
          1,
          null,
          6,
          2,
          1,
          null,
          6,
          1,
          4,
          null,
          1,
          null,
          1,
          1,
          1,
          null,
          1,
          1,
          1,
          null,
          1,
          3,
          null,
          null,
          null,
          1,
          null,
          1,
          2,
          null,
          null,
          1,
          1,
          null,
          null,
          null,
          null,
          null,
          null,
          1,
          1,
          1,
          8,
          null,
          1,
          null,
          1,
          8,
          null,
          null,
          6,
          1,
          1,
          null,
          null,
          2,
          1,
          1,
          null,
          null,
          1,
          1,
          null,
          1,
          null,
          null,
          2,
          1,
          2,
          null,
          null,
          null,
          null,
          3,
          null,
          null,
          null,
          1,
          null,
          1,
          null,
          null,
          1,
          1,
          null,
          2,
          null,
          null,
          null,
          1,
          null,
          1,
          null,
          2,
          null,
          1,
          null,
          null,
          null,
          1,
          5,
          null,
          1,
          1,
          null,
          null,
          null,
          2,
          1,
          null,
          3,
          null,
          null,
          1,
          null,
          2,
          1,
          1,
          null,
          null,
          1,
          null,
          1,
          null,
          1,
          1,
          1,
          null,
          1,
          null,
          null,
          1,
          2,
          1,
          1,
          1,
          null,
          1,
          null,
          1,
          1,
          1,
          1,
          null,
          1,
          null,
          null,
          4,
          1,
          1,
          1,
          6,
          4,
          null,
          1,
          null,
          11,
          null,
          1,
          null,
          null,
          1,
          1,
          3,
          null,
          null,
          null,
          2,
          1,
          1,
          null,
          1,
          null,
          null,
          1,
          1,
          null,
          7,
          1,
          null,
          1,
          null,
          1,
          6,
          null,
          1,
          null,
          2,
          6,
          1,
          1,
          null,
          1,
          2,
          null,
          1,
          1,
          1,
          null,
          1,
          1,
          1,
          null,
          1,
          null,
          null,
          1,
          1,
          1,
          11,
          1,
          null,
          null,
          7,
          1,
          3,
          null,
          null,
          2,
          null,
          null,
          4,
          1,
          3,
          null,
          null,
          11,
          null,
          null,
          null,
          null,
          1,
          3,
          1,
          null,
          null,
          1,
          null,
          1,
          1,
          1,
          1,
          null,
          null,
          1,
          1,
          null,
          1,
          6,
          null,
          null,
          4,
          null,
          1
         ]
        }
       ],
       "layout": {
        "legend": {
         "bgcolor": "#F5F6F9",
         "font": {
          "color": "#4D5663"
         }
        },
        "paper_bgcolor": "#F5F6F9",
        "plot_bgcolor": "#F5F6F9",
        "template": {
         "data": {
          "bar": [
           {
            "error_x": {
             "color": "#2a3f5f"
            },
            "error_y": {
             "color": "#2a3f5f"
            },
            "marker": {
             "line": {
              "color": "#E5ECF6",
              "width": 0.5
             }
            },
            "type": "bar"
           }
          ],
          "barpolar": [
           {
            "marker": {
             "line": {
              "color": "#E5ECF6",
              "width": 0.5
             }
            },
            "type": "barpolar"
           }
          ],
          "carpet": [
           {
            "aaxis": {
             "endlinecolor": "#2a3f5f",
             "gridcolor": "white",
             "linecolor": "white",
             "minorgridcolor": "white",
             "startlinecolor": "#2a3f5f"
            },
            "baxis": {
             "endlinecolor": "#2a3f5f",
             "gridcolor": "white",
             "linecolor": "white",
             "minorgridcolor": "white",
             "startlinecolor": "#2a3f5f"
            },
            "type": "carpet"
           }
          ],
          "choropleth": [
           {
            "colorbar": {
             "outlinewidth": 0,
             "ticks": ""
            },
            "type": "choropleth"
           }
          ],
          "contour": [
           {
            "colorbar": {
             "outlinewidth": 0,
             "ticks": ""
            },
            "colorscale": [
             [
              0,
              "#0d0887"
             ],
             [
              0.1111111111111111,
              "#46039f"
             ],
             [
              0.2222222222222222,
              "#7201a8"
             ],
             [
              0.3333333333333333,
              "#9c179e"
             ],
             [
              0.4444444444444444,
              "#bd3786"
             ],
             [
              0.5555555555555556,
              "#d8576b"
             ],
             [
              0.6666666666666666,
              "#ed7953"
             ],
             [
              0.7777777777777778,
              "#fb9f3a"
             ],
             [
              0.8888888888888888,
              "#fdca26"
             ],
             [
              1,
              "#f0f921"
             ]
            ],
            "type": "contour"
           }
          ],
          "contourcarpet": [
           {
            "colorbar": {
             "outlinewidth": 0,
             "ticks": ""
            },
            "type": "contourcarpet"
           }
          ],
          "heatmap": [
           {
            "colorbar": {
             "outlinewidth": 0,
             "ticks": ""
            },
            "colorscale": [
             [
              0,
              "#0d0887"
             ],
             [
              0.1111111111111111,
              "#46039f"
             ],
             [
              0.2222222222222222,
              "#7201a8"
             ],
             [
              0.3333333333333333,
              "#9c179e"
             ],
             [
              0.4444444444444444,
              "#bd3786"
             ],
             [
              0.5555555555555556,
              "#d8576b"
             ],
             [
              0.6666666666666666,
              "#ed7953"
             ],
             [
              0.7777777777777778,
              "#fb9f3a"
             ],
             [
              0.8888888888888888,
              "#fdca26"
             ],
             [
              1,
              "#f0f921"
             ]
            ],
            "type": "heatmap"
           }
          ],
          "heatmapgl": [
           {
            "colorbar": {
             "outlinewidth": 0,
             "ticks": ""
            },
            "colorscale": [
             [
              0,
              "#0d0887"
             ],
             [
              0.1111111111111111,
              "#46039f"
             ],
             [
              0.2222222222222222,
              "#7201a8"
             ],
             [
              0.3333333333333333,
              "#9c179e"
             ],
             [
              0.4444444444444444,
              "#bd3786"
             ],
             [
              0.5555555555555556,
              "#d8576b"
             ],
             [
              0.6666666666666666,
              "#ed7953"
             ],
             [
              0.7777777777777778,
              "#fb9f3a"
             ],
             [
              0.8888888888888888,
              "#fdca26"
             ],
             [
              1,
              "#f0f921"
             ]
            ],
            "type": "heatmapgl"
           }
          ],
          "histogram": [
           {
            "marker": {
             "colorbar": {
              "outlinewidth": 0,
              "ticks": ""
             }
            },
            "type": "histogram"
           }
          ],
          "histogram2d": [
           {
            "colorbar": {
             "outlinewidth": 0,
             "ticks": ""
            },
            "colorscale": [
             [
              0,
              "#0d0887"
             ],
             [
              0.1111111111111111,
              "#46039f"
             ],
             [
              0.2222222222222222,
              "#7201a8"
             ],
             [
              0.3333333333333333,
              "#9c179e"
             ],
             [
              0.4444444444444444,
              "#bd3786"
             ],
             [
              0.5555555555555556,
              "#d8576b"
             ],
             [
              0.6666666666666666,
              "#ed7953"
             ],
             [
              0.7777777777777778,
              "#fb9f3a"
             ],
             [
              0.8888888888888888,
              "#fdca26"
             ],
             [
              1,
              "#f0f921"
             ]
            ],
            "type": "histogram2d"
           }
          ],
          "histogram2dcontour": [
           {
            "colorbar": {
             "outlinewidth": 0,
             "ticks": ""
            },
            "colorscale": [
             [
              0,
              "#0d0887"
             ],
             [
              0.1111111111111111,
              "#46039f"
             ],
             [
              0.2222222222222222,
              "#7201a8"
             ],
             [
              0.3333333333333333,
              "#9c179e"
             ],
             [
              0.4444444444444444,
              "#bd3786"
             ],
             [
              0.5555555555555556,
              "#d8576b"
             ],
             [
              0.6666666666666666,
              "#ed7953"
             ],
             [
              0.7777777777777778,
              "#fb9f3a"
             ],
             [
              0.8888888888888888,
              "#fdca26"
             ],
             [
              1,
              "#f0f921"
             ]
            ],
            "type": "histogram2dcontour"
           }
          ],
          "mesh3d": [
           {
            "colorbar": {
             "outlinewidth": 0,
             "ticks": ""
            },
            "type": "mesh3d"
           }
          ],
          "parcoords": [
           {
            "line": {
             "colorbar": {
              "outlinewidth": 0,
              "ticks": ""
             }
            },
            "type": "parcoords"
           }
          ],
          "pie": [
           {
            "automargin": true,
            "type": "pie"
           }
          ],
          "scatter": [
           {
            "marker": {
             "colorbar": {
              "outlinewidth": 0,
              "ticks": ""
             }
            },
            "type": "scatter"
           }
          ],
          "scatter3d": [
           {
            "line": {
             "colorbar": {
              "outlinewidth": 0,
              "ticks": ""
             }
            },
            "marker": {
             "colorbar": {
              "outlinewidth": 0,
              "ticks": ""
             }
            },
            "type": "scatter3d"
           }
          ],
          "scattercarpet": [
           {
            "marker": {
             "colorbar": {
              "outlinewidth": 0,
              "ticks": ""
             }
            },
            "type": "scattercarpet"
           }
          ],
          "scattergeo": [
           {
            "marker": {
             "colorbar": {
              "outlinewidth": 0,
              "ticks": ""
             }
            },
            "type": "scattergeo"
           }
          ],
          "scattergl": [
           {
            "marker": {
             "colorbar": {
              "outlinewidth": 0,
              "ticks": ""
             }
            },
            "type": "scattergl"
           }
          ],
          "scattermapbox": [
           {
            "marker": {
             "colorbar": {
              "outlinewidth": 0,
              "ticks": ""
             }
            },
            "type": "scattermapbox"
           }
          ],
          "scatterpolar": [
           {
            "marker": {
             "colorbar": {
              "outlinewidth": 0,
              "ticks": ""
             }
            },
            "type": "scatterpolar"
           }
          ],
          "scatterpolargl": [
           {
            "marker": {
             "colorbar": {
              "outlinewidth": 0,
              "ticks": ""
             }
            },
            "type": "scatterpolargl"
           }
          ],
          "scatterternary": [
           {
            "marker": {
             "colorbar": {
              "outlinewidth": 0,
              "ticks": ""
             }
            },
            "type": "scatterternary"
           }
          ],
          "surface": [
           {
            "colorbar": {
             "outlinewidth": 0,
             "ticks": ""
            },
            "colorscale": [
             [
              0,
              "#0d0887"
             ],
             [
              0.1111111111111111,
              "#46039f"
             ],
             [
              0.2222222222222222,
              "#7201a8"
             ],
             [
              0.3333333333333333,
              "#9c179e"
             ],
             [
              0.4444444444444444,
              "#bd3786"
             ],
             [
              0.5555555555555556,
              "#d8576b"
             ],
             [
              0.6666666666666666,
              "#ed7953"
             ],
             [
              0.7777777777777778,
              "#fb9f3a"
             ],
             [
              0.8888888888888888,
              "#fdca26"
             ],
             [
              1,
              "#f0f921"
             ]
            ],
            "type": "surface"
           }
          ],
          "table": [
           {
            "cells": {
             "fill": {
              "color": "#EBF0F8"
             },
             "line": {
              "color": "white"
             }
            },
            "header": {
             "fill": {
              "color": "#C8D4E3"
             },
             "line": {
              "color": "white"
             }
            },
            "type": "table"
           }
          ]
         },
         "layout": {
          "annotationdefaults": {
           "arrowcolor": "#2a3f5f",
           "arrowhead": 0,
           "arrowwidth": 1
          },
          "coloraxis": {
           "colorbar": {
            "outlinewidth": 0,
            "ticks": ""
           }
          },
          "colorscale": {
           "diverging": [
            [
             0,
             "#8e0152"
            ],
            [
             0.1,
             "#c51b7d"
            ],
            [
             0.2,
             "#de77ae"
            ],
            [
             0.3,
             "#f1b6da"
            ],
            [
             0.4,
             "#fde0ef"
            ],
            [
             0.5,
             "#f7f7f7"
            ],
            [
             0.6,
             "#e6f5d0"
            ],
            [
             0.7,
             "#b8e186"
            ],
            [
             0.8,
             "#7fbc41"
            ],
            [
             0.9,
             "#4d9221"
            ],
            [
             1,
             "#276419"
            ]
           ],
           "sequential": [
            [
             0,
             "#0d0887"
            ],
            [
             0.1111111111111111,
             "#46039f"
            ],
            [
             0.2222222222222222,
             "#7201a8"
            ],
            [
             0.3333333333333333,
             "#9c179e"
            ],
            [
             0.4444444444444444,
             "#bd3786"
            ],
            [
             0.5555555555555556,
             "#d8576b"
            ],
            [
             0.6666666666666666,
             "#ed7953"
            ],
            [
             0.7777777777777778,
             "#fb9f3a"
            ],
            [
             0.8888888888888888,
             "#fdca26"
            ],
            [
             1,
             "#f0f921"
            ]
           ],
           "sequentialminus": [
            [
             0,
             "#0d0887"
            ],
            [
             0.1111111111111111,
             "#46039f"
            ],
            [
             0.2222222222222222,
             "#7201a8"
            ],
            [
             0.3333333333333333,
             "#9c179e"
            ],
            [
             0.4444444444444444,
             "#bd3786"
            ],
            [
             0.5555555555555556,
             "#d8576b"
            ],
            [
             0.6666666666666666,
             "#ed7953"
            ],
            [
             0.7777777777777778,
             "#fb9f3a"
            ],
            [
             0.8888888888888888,
             "#fdca26"
            ],
            [
             1,
             "#f0f921"
            ]
           ]
          },
          "colorway": [
           "#636efa",
           "#EF553B",
           "#00cc96",
           "#ab63fa",
           "#FFA15A",
           "#19d3f3",
           "#FF6692",
           "#B6E880",
           "#FF97FF",
           "#FECB52"
          ],
          "font": {
           "color": "#2a3f5f"
          },
          "geo": {
           "bgcolor": "white",
           "lakecolor": "white",
           "landcolor": "#E5ECF6",
           "showlakes": true,
           "showland": true,
           "subunitcolor": "white"
          },
          "hoverlabel": {
           "align": "left"
          },
          "hovermode": "closest",
          "mapbox": {
           "style": "light"
          },
          "paper_bgcolor": "white",
          "plot_bgcolor": "#E5ECF6",
          "polar": {
           "angularaxis": {
            "gridcolor": "white",
            "linecolor": "white",
            "ticks": ""
           },
           "bgcolor": "#E5ECF6",
           "radialaxis": {
            "gridcolor": "white",
            "linecolor": "white",
            "ticks": ""
           }
          },
          "scene": {
           "xaxis": {
            "backgroundcolor": "#E5ECF6",
            "gridcolor": "white",
            "gridwidth": 2,
            "linecolor": "white",
            "showbackground": true,
            "ticks": "",
            "zerolinecolor": "white"
           },
           "yaxis": {
            "backgroundcolor": "#E5ECF6",
            "gridcolor": "white",
            "gridwidth": 2,
            "linecolor": "white",
            "showbackground": true,
            "ticks": "",
            "zerolinecolor": "white"
           },
           "zaxis": {
            "backgroundcolor": "#E5ECF6",
            "gridcolor": "white",
            "gridwidth": 2,
            "linecolor": "white",
            "showbackground": true,
            "ticks": "",
            "zerolinecolor": "white"
           }
          },
          "shapedefaults": {
           "line": {
            "color": "#2a3f5f"
           }
          },
          "ternary": {
           "aaxis": {
            "gridcolor": "white",
            "linecolor": "white",
            "ticks": ""
           },
           "baxis": {
            "gridcolor": "white",
            "linecolor": "white",
            "ticks": ""
           },
           "bgcolor": "#E5ECF6",
           "caxis": {
            "gridcolor": "white",
            "linecolor": "white",
            "ticks": ""
           }
          },
          "title": {
           "x": 0.05
          },
          "xaxis": {
           "automargin": true,
           "gridcolor": "white",
           "linecolor": "white",
           "ticks": "",
           "title": {
            "standoff": 15
           },
           "zerolinecolor": "white",
           "zerolinewidth": 2
          },
          "yaxis": {
           "automargin": true,
           "gridcolor": "white",
           "linecolor": "white",
           "ticks": "",
           "title": {
            "standoff": 15
           },
           "zerolinecolor": "white",
           "zerolinewidth": 2
          }
         }
        },
        "title": {
         "font": {
          "color": "#4D5663"
         },
         "text": "Family size by classes"
        },
        "xaxis": {
         "gridcolor": "#E1E5ED",
         "showgrid": true,
         "tickfont": {
          "color": "#4D5663"
         },
         "title": {
          "font": {
           "color": "#4D5663"
          },
          "text": ""
         },
         "zerolinecolor": "#E1E5ED"
        },
        "yaxis": {
         "gridcolor": "#E1E5ED",
         "showgrid": true,
         "tickfont": {
          "color": "#4D5663"
         },
         "title": {
          "font": {
           "color": "#4D5663"
          },
          "text": ""
         },
         "zerolinecolor": "#E1E5ED"
        }
       }
      },
      "text/html": [
       "<div>\n",
       "        \n",
       "        \n",
       "            <div id=\"aeaf9a2a-26f6-498e-a987-9a222c7f77a3\" class=\"plotly-graph-div\" style=\"height:525px; width:100%;\"></div>\n",
       "            <script type=\"text/javascript\">\n",
       "                require([\"plotly\"], function(Plotly) {\n",
       "                    window.PLOTLYENV=window.PLOTLYENV || {};\n",
       "                    \n",
       "                if (document.getElementById(\"aeaf9a2a-26f6-498e-a987-9a222c7f77a3\")) {\n",
       "                    Plotly.newPlot(\n",
       "                        'aeaf9a2a-26f6-498e-a987-9a222c7f77a3',\n",
       "                        [{\"boxpoints\": false, \"line\": {\"width\": 1.3}, \"marker\": {\"color\": \"rgba(255, 153, 51, 1.0)\"}, \"name\": \"1\", \"orientation\": \"v\", \"type\": \"box\", \"y\": [null, 2.0, null, 2.0, null, null, 1.0, null, null, null, null, 1.0, null, null, null, null, null, null, null, null, null, null, null, 1.0, null, null, null, 6.0, null, null, 1.0, 2.0, null, null, 2.0, 2.0, null, null, null, null, null, null, null, null, null, null, null, null, null, null, null, null, 2.0, null, 2.0, 1.0, null, null, null, null, null, 2.0, null, 1.0, null, null, null, null, null, null, null, null, null, null, null, null, null, null, null, null, null, null, 1.0, null, null, null, null, 6.0, null, null, null, 2.0, null, null, null, 1.0, 2.0, null, null, null, null, 2.0, null, null, null, null, null, null, null, 1.0, null, null, null, null, null, null, null, 2.0, null, null, null, null, null, 2.0, null, null, null, null, null, null, null, null, null, null, null, 3.0, 2.0, null, 1.0, null, null, null, null, null, null, null, null, null, null, null, 2.0, null, null, null, 2.0, null, null, null, null, null, null, null, null, null, null, 2.0, null, 1.0, null, 1.0, null, null, null, 1.0, null, null, 1.0, null, null, null, null, null, null, null, 1.0, null, 1.0, null, null, null, null, null, null, 1.0, 1.0, null, null, null, null, null, null, null, null, null, null, null, null, null, 1.0, null, null, null, null, null, 2.0, null, null, 1.0, null, null, null, null, null, 2.0, null, null, null, null, null, 2.0, null, null, null, null, null, null, null, null, null, null, null, null, null, null, 3.0, null, null, 3.0, null, null, null, 1.0, null, null, null, 1.0, 1.0, 1.0, null, null, null, 3.0, 1.0, null, null, null, null, 2.0, 1.0, 1.0, null, null, 2.0, null, 2.0, null, null, null, null, null, null, null, null, 1.0, null, null, null, null, null, 1.0, 2.0, null, null, null, 1.0, null, 4.0, 1.0, 2.0, null, null, null, null, null, 4.0, 1.0, 2.0, null, 1.0, 1.0, 5.0, null, null, null, null, null, null, 3.0, 3.0, null, null, null, null, null, 1.0, null, null, null, 2.0, null, 1.0, 2.0, null, 2.0, null, 2.0, 1.0, null, 1.0, null, 6.0, null, null, null, null, null, null, null, null, null, 1.0, null, null, null, null, 2.0, null, null, null, null, null, null, null, null, null, 2.0, null, null, 1.0, 2.0, null, null, 1.0, null, 2.0, null, 3.0, null, null, 1.0, null, null, 2.0, null, null, null, null, null, null, 4.0, null, null, 2.0, null, null, null, null, null, null, null, null, null, null, null, null, null, null, null, null, null, null, 2.0, null, null, null, null, null, null, null, null, null, null, null, null, null, null, null, null, null, 1.0, null, null, null, 2.0, 4.0, null, null, 6.0, null, null, null, null, null, null, 3.0, null, 1.0, null, 1.0, null, null, 1.0, 2.0, null, null, 1.0, 2.0, null, null, 1.0, null, 1.0, null, null, null, null, 1.0, null, null, null, null, null, null, null, 1.0, null, null, null, null, null, null, null, null, 2.0, null, 2.0, 1.0, null, null, null, null, 1.0, 1.0, null, null, 2.0, null, 4.0, null, null, null, null, null, 1.0, 2.0, null, 1.0, null, null, null, null, 1.0, 2.0, null, 1.0, null, null, null, null, 1.0, null, null, 2.0, null, null, null, 1.0, null, null, null, null, null, null, null, null, 1.0, 1.0, null, 3.0, 3.0, null, null, null, 2.0, 1.0, null, null, null, null, 3.0, null, null, null, null, 1.0, 2.0, 1.0, 3.0, null, null, null, null, null, null, null, null, null, null, null, null, 3.0, 1.0, null, null, null, null, 2.0, null, null, null, 3.0, null, 1.0, null, 3.0, null, 3.0, null, null, null, 2.0, null, null, null, null, null, null, null, 2.0, null, null, 1.0, null, 1.0, null, null, 1.0, null, 1.0, null, null, null, null, null, null, null, null, null, null, null, 2.0, null, null, null, 1.0, null, 1.0, null, null, 1.0, null, 1.0, 1.0, null, null, null, null, null, null, null, 1.0, null, null, null, 2.0, null, 1.0, null, null, null, null, null, null, null, null, null, null, null, 3.0, 3.0, null, 1.0, null, null, null, null, null, null, 2.0, null, 2.0, null, null, null, null, null, null, null, 2.0, null, 1.0, null, null, null, null, null, null, null, 2.0, 2.0, null, null, null, 1.0, null, null, null, 3.0, null, 2.0, 1.0, null, null, null, null, null, 1.0, 1.0, null, 1.0, 1.0, 2.0, null, null, null, 1.0, null, null, null, null, null, null, null, 2.0, null, null, null, null, null, 1.0, null, null, null, null, null, null, 1.0, null, null, 1.0, 2.0, 5.0, null, null, 3.0, null, null, 2.0, null, null, null, null, null, null, null, null, null, null, 1.0, null, null, null, 4.0, null, 2.0, 1.0, null, null, null, null, null, null, null, null, null, null, null, null, 2.0, null, 2.0, 1.0, null, null, null, null, null, null, 1.0, null, null, null, 1.0, null, null, 1.0, null, null, null, null, null, 4.0, null, null, null, 1.0, null, null, 2.0, null, null, null, null, null, 1.0, null, null, null, null, 3.0, null, 1.0, null, null, null, null, null, null, null, null, null, null, null, 3.0, null, null, null, 1.0, null, null, 1.0, null, null, null, null, null, null, 2.0, null, null, null, 2.0, null, null, 3.0, 1.0, null, null, null, null, 1.0, null, null, null, null, 1.0, null, null, null, 3.0, 1.0, null, null, null, null, null, null, 2.0, null, null, null, null, null, null, null, 1.0, null, 1.0, null]}, {\"boxpoints\": false, \"line\": {\"width\": 1.3}, \"marker\": {\"color\": \"rgba(55, 128, 191, 1.0)\"}, \"name\": \"2\", \"orientation\": \"v\", \"type\": \"box\", \"y\": [null, null, null, null, null, null, null, null, null, 2.0, null, null, null, null, null, 1.0, null, 1.0, null, null, 1.0, 1.0, null, null, null, null, null, null, null, null, null, null, null, 1.0, null, null, null, null, null, null, null, 2.0, null, 4.0, null, null, null, null, null, null, null, null, null, 2.0, null, null, 1.0, null, 4.0, null, null, null, null, null, null, 1.0, null, null, null, 1.0, null, 1.0, null, null, null, null, null, 3.0, null, null, null, null, null, 1.0, null, null, null, null, null, null, null, null, null, null, null, null, null, 2.0, 2.0, null, null, null, null, null, null, null, null, null, null, null, null, null, null, null, null, null, 2.0, null, null, 3.0, null, 2.0, 1.0, null, null, null, null, null, null, null, null, null, 2.0, 1.0, 1.0, null, null, null, null, null, null, null, null, 1.0, 3.0, null, null, 3.0, 1.0, 1.0, null, null, null, null, null, null, null, null, null, null, 1.0, null, null, null, null, null, null, null, null, null, null, null, null, null, null, null, null, 1.0, null, null, 1.0, null, 4.0, null, null, null, null, null, null, 1.0, 1.0, null, 3.0, null, null, null, null, null, 1.0, null, null, null, null, null, null, null, null, null, null, null, 1.0, null, 1.0, null, null, null, 2.0, null, 1.0, null, 1.0, null, null, null, null, 1.0, null, 1.0, null, null, null, 1.0, null, 1.0, null, 2.0, 3.0, 1.0, 1.0, null, null, 1.0, null, null, null, null, 3.0, null, 2.0, null, null, null, null, null, null, null, null, null, 2.0, null, null, null, null, null, 1.0, null, null, null, null, null, null, 2.0, null, null, null, null, 1.0, null, null, null, null, null, null, null, null, null, null, 1.0, null, null, null, 1.0, null, null, null, null, null, null, null, null, null, null, 1.0, null, null, null, null, 2.0, null, null, null, 3.0, null, 3.0, null, 2.0, 1.0, null, null, null, null, 1.0, 3.0, null, null, null, 1.0, null, null, null, null, null, null, null, null, null, null, null, null, 3.0, null, 1.0, 1.0, 1.0, 1.0, 1.0, null, null, null, null, null, null, null, null, null, null, 1.0, null, null, null, 2.0, null, null, null, null, null, null, null, null, null, null, null, null, null, null, null, null, null, null, null, null, null, null, null, 1.0, null, 1.0, null, 1.0, null, null, null, null, null, null, null, 1.0, 1.0, 1.0, null, null, null, null, null, 2.0, null, 3.0, null, null, null, null, null, 1.0, null, null, 3.0, 3.0, 1.0, null, null, null, null, null, null, null, 2.0, 1.0, null, null, null, null, 2.0, null, null, null, null, 6.0, null, 1.0, 3.0, null, null, 1.0, null, null, 2.0, null, null, null, 4.0, null, null, null, null, null, null, null, 1.0, null, null, null, null, 1.0, null, null, 1.0, null, null, null, null, null, 4.0, 1.0, null, null, 2.0, null, null, null, null, 1.0, null, null, null, null, null, null, null, null, null, null, null, null, null, null, null, null, null, null, null, null, null, null, null, null, 3.0, null, null, null, null, null, null, null, null, null, 1.0, null, 2.0, null, null, null, null, null, null, null, 1.0, null, null, 4.0, 3.0, null, null, null, null, 3.0, null, null, null, null, null, null, null, 2.0, null, null, 2.0, 1.0, null, 3.0, null, 1.0, null, null, null, null, null, null, null, null, null, null, 1.0, null, null, null, null, null, null, null, 1.0, null, null, null, null, null, 1.0, null, null, null, 3.0, null, 1.0, null, null, null, 1.0, null, null, null, null, null, null, null, 2.0, null, 1.0, null, null, null, 4.0, null, null, null, null, null, null, null, 4.0, null, null, null, null, null, null, 4.0, null, null, 4.0, 1.0, null, null, null, null, null, null, 1.0, null, null, null, null, null, null, null, null, 1.0, null, 3.0, null, null, null, null, null, null, null, null, null, null, null, null, null, 2.0, null, null, null, 3.0, null, null, 1.0, null, null, null, null, null, null, 3.0, 1.0, null, null, null, 3.0, null, 1.0, 1.0, 1.0, null, null, null, null, null, null, null, null, null, 3.0, 4.0, null, null, null, null, null, null, null, null, null, 1.0, null, null, null, null, null, null, null, null, null, 1.0, 1.0, null, null, null, null, null, null, null, 1.0, null, null, 1.0, null, null, 2.0, null, 1.0, 1.0, null, null, 4.0, null, 2.0, null, null, null, 1.0, 1.0, 1.0, null, null, null, null, null, null, null, null, null, null, null, null, 1.0, null, null, 3.0, null, null, null, 4.0, 3.0, null, 1.0, null, null, null, null, null, null, null, null, null, null, null, null, null, null, 1.0, null, 5.0, null, null, null, null, null, null, null, null, null, null, null, null, null, null, null, null, 1.0, null, null, null, 1.0, null, null, null, null, 1.0, 3.0, null, null, null, null, null, null, 1.0, null, null, null, 1.0, null, null, null, null, 3.0, null, null, null, null, null, null, null, null, null, 3.0, null, null, 3.0, null, null, null, null, null, null, null, null, null, 1.0, null, null, null, null, null, null, 2.0, null, null, null, null, null, 2.0, null, null, null, null, null, null, 2.0, null, null, 1.0, 1.0, 2.0, null, null, null, null, null, null, null, 2.0, null, null, null, null, null, 2.0, null, null, 1.0, null, null, 1.0, null, null, null, null]}, {\"boxpoints\": false, \"line\": {\"width\": 1.3}, \"marker\": {\"color\": \"rgba(50, 171, 96, 1.0)\"}, \"name\": \"3\", \"orientation\": \"v\", \"type\": \"box\", \"y\": [2.0, null, 1.0, null, 1.0, 1.0, null, 5.0, 3.0, null, 3.0, null, 1.0, 7.0, 1.0, null, 6.0, null, 2.0, 1.0, null, null, 1.0, null, 5.0, 7.0, 1.0, null, 1.0, 1.0, null, null, 1.0, null, null, null, 1.0, 1.0, 3.0, 2.0, 2.0, null, 1.0, null, 1.0, 1.0, 2.0, 1.0, 3.0, 2.0, 6.0, 1.0, null, null, null, null, null, 1.0, null, 8.0, 1.0, null, 6.0, null, 3.0, null, 1.0, 7.0, 3.0, null, 8.0, null, 2.0, 1.0, 1.0, 1.0, 1.0, null, 1.0, 1.0, 1.0, 1.0, null, null, 4.0, 5.0, 1.0, null, 1.0, 1.0, 1.0, null, 4.0, 1.0, 1.0, null, null, null, null, 1.0, 1.0, null, 1.0, 3.0, 1.0, 1.0, 1.0, 1.0, 2.0, null, 2.0, 1.0, 2.0, 1.0, 1.0, 1.0, null, null, 7.0, null, 1.0, null, null, null, 2.0, 1.0, 1.0, 3.0, 1.0, 1.0, 1.0, 2.0, null, null, null, null, null, 1.0, null, 3.0, 1.0, 2.0, 1.0, null, null, 1.0, 5.0, null, null, null, null, 1.0, 3.0, 1.0, null, 1.0, 1.0, 1.0, 11.0, 2.0, null, 1.0, 1.0, 6.0, 3.0, null, 6.0, null, 1.0, null, 6.0, 3.0, 1.0, null, 3.0, 5.0, null, null, 1.0, 11.0, null, 7.0, null, 3.0, null, 2.0, null, 3.0, 1.0, null, null, 2.0, null, null, null, 1.0, 2.0, 1.0, null, 1.0, 11.0, 1.0, 1.0, 1.0, 2.0, 2.0, 1.0, 1.0, null, 1.0, null, 1.0, null, 2.0, null, 1.0, null, null, null, 1.0, null, 1.0, 1.0, null, 1.0, null, 1.0, null, 5.0, null, 1.0, null, 7.0, null, 1.0, null, null, null, null, 2.0, 2.0, null, 1.0, 1.0, null, 1.0, null, null, null, 1.0, 3.0, null, 2.0, 3.0, 3.0, null, null, null, null, 1.0, 7.0, null, null, 1.0, null, 6.0, 2.0, null, null, null, 1.0, null, null, 1.0, null, 1.0, null, 6.0, 3.0, 1.0, 1.0, 1.0, 1.0, null, 1.0, 1.0, 1.0, null, 1.0, null, null, null, 1.0, 1.0, null, 1.0, null, null, null, 1.0, 3.0, 1.0, null, 1.0, null, null, null, null, null, null, null, null, 1.0, null, 1.0, null, null, null, null, 1.0, 1.0, null, null, 11.0, null, 1.0, null, 3.0, null, 3.0, null, null, 3.0, null, 1.0, null, null, 1.0, null, null, null, null, null, null, null, null, 2.0, 3.0, 1.0, 1.0, null, 3.0, 2.0, 1.0, 1.0, null, null, 1.0, 1.0, 6.0, null, 2.0, 1.0, 2.0, 1.0, null, 1.0, 1.0, null, null, 2.0, 1.0, null, 5.0, null, 1.0, null, 1.0, 1.0, null, 3.0, 1.0, null, 1.0, null, 8.0, null, 1.0, null, null, 1.0, 3.0, null, 3.0, 1.0, 1.0, null, null, null, 1.0, 1.0, 2.0, 2.0, 1.0, null, 1.0, null, 1.0, 5.0, 1.0, 1.0, null, null, 1.0, 1.0, null, null, null, 3.0, 1.0, 1.0, 1.0, 3.0, 3.0, 1.0, null, null, 1.0, 1.0, null, 2.0, null, 1.0, null, null, 5.0, null, null, null, null, 1.0, 2.0, null, 1.0, null, null, null, 4.0, null, null, 2.0, null, null, 1.0, 1.0, null, null, null, 1.0, null, 1.0, null, null, 1.0, 1.0, null, null, 1.0, 4.0, 1.0, 1.0, null, null, 1.0, null, null, 2.0, 1.0, 2.0, 8.0, null, 1.0, 1.0, null, 5.0, null, null, 1.0, 3.0, 2.0, 1.0, null, null, 1.0, 1.0, null, 1.0, null, 1.0, 1.0, 1.0, 1.0, 1.0, null, null, null, null, 1.0, 1.0, 1.0, 1.0, null, null, 1.0, null, null, 1.0, null, 1.0, null, 1.0, 1.0, null, 1.0, 1.0, null, null, 1.0, null, null, 1.0, 3.0, 3.0, 1.0, null, null, null, 1.0, null, null, 7.0, 7.0, null, null, null, null, null, 3.0, null, null, null, 1.0, 1.0, 1.0, null, null, null, null, 2.0, 1.0, 1.0, null, 1.0, 1.0, 3.0, 1.0, 5.0, 1.0, 1.0, null, null, null, 1.0, 1.0, 1.0, null, null, 2.0, 1.0, null, null, null, null, 1.0, null, null, null, 1.0, 1.0, 1.0, null, 1.0, 3.0, null, 3.0, null, 1.0, 1.0, null, null, 1.0, null, 1.0, null, 2.0, 1.0, null, null, null, 7.0, 1.0, 2.0, 1.0, 1.0, null, 3.0, 2.0, null, null, 2.0, null, 3.0, 1.0, 1.0, null, null, null, 1.0, 1.0, null, 1.0, null, null, 6.0, null, 1.0, null, 6.0, 2.0, 1.0, null, 6.0, 1.0, 4.0, null, 1.0, null, 1.0, 1.0, 1.0, null, 1.0, 1.0, 1.0, null, 1.0, 3.0, null, null, null, 1.0, null, 1.0, 2.0, null, null, 1.0, 1.0, null, null, null, null, null, null, 1.0, 1.0, 1.0, 8.0, null, 1.0, null, 1.0, 8.0, null, null, 6.0, 1.0, 1.0, null, null, 2.0, 1.0, 1.0, null, null, 1.0, 1.0, null, 1.0, null, null, 2.0, 1.0, 2.0, null, null, null, null, 3.0, null, null, null, 1.0, null, 1.0, null, null, 1.0, 1.0, null, 2.0, null, null, null, 1.0, null, 1.0, null, 2.0, null, 1.0, null, null, null, 1.0, 5.0, null, 1.0, 1.0, null, null, null, 2.0, 1.0, null, 3.0, null, null, 1.0, null, 2.0, 1.0, 1.0, null, null, 1.0, null, 1.0, null, 1.0, 1.0, 1.0, null, 1.0, null, null, 1.0, 2.0, 1.0, 1.0, 1.0, null, 1.0, null, 1.0, 1.0, 1.0, 1.0, null, 1.0, null, null, 4.0, 1.0, 1.0, 1.0, 6.0, 4.0, null, 1.0, null, 11.0, null, 1.0, null, null, 1.0, 1.0, 3.0, null, null, null, 2.0, 1.0, 1.0, null, 1.0, null, null, 1.0, 1.0, null, 7.0, 1.0, null, 1.0, null, 1.0, 6.0, null, 1.0, null, 2.0, 6.0, 1.0, 1.0, null, 1.0, 2.0, null, 1.0, 1.0, 1.0, null, 1.0, 1.0, 1.0, null, 1.0, null, null, 1.0, 1.0, 1.0, 11.0, 1.0, null, null, 7.0, 1.0, 3.0, null, null, 2.0, null, null, 4.0, 1.0, 3.0, null, null, 11.0, null, null, null, null, 1.0, 3.0, 1.0, null, null, 1.0, null, 1.0, 1.0, 1.0, 1.0, null, null, 1.0, 1.0, null, 1.0, 6.0, null, null, 4.0, null, 1.0]}],\n",
       "                        {\"legend\": {\"bgcolor\": \"#F5F6F9\", \"font\": {\"color\": \"#4D5663\"}}, \"paper_bgcolor\": \"#F5F6F9\", \"plot_bgcolor\": \"#F5F6F9\", \"template\": {\"data\": {\"bar\": [{\"error_x\": {\"color\": \"#2a3f5f\"}, \"error_y\": {\"color\": \"#2a3f5f\"}, \"marker\": {\"line\": {\"color\": \"#E5ECF6\", \"width\": 0.5}}, \"type\": \"bar\"}], \"barpolar\": [{\"marker\": {\"line\": {\"color\": \"#E5ECF6\", \"width\": 0.5}}, \"type\": \"barpolar\"}], \"carpet\": [{\"aaxis\": {\"endlinecolor\": \"#2a3f5f\", \"gridcolor\": \"white\", \"linecolor\": \"white\", \"minorgridcolor\": \"white\", \"startlinecolor\": \"#2a3f5f\"}, \"baxis\": {\"endlinecolor\": \"#2a3f5f\", \"gridcolor\": \"white\", \"linecolor\": \"white\", \"minorgridcolor\": \"white\", \"startlinecolor\": \"#2a3f5f\"}, \"type\": \"carpet\"}], \"choropleth\": [{\"colorbar\": {\"outlinewidth\": 0, \"ticks\": \"\"}, \"type\": \"choropleth\"}], \"contour\": [{\"colorbar\": {\"outlinewidth\": 0, \"ticks\": \"\"}, \"colorscale\": [[0.0, \"#0d0887\"], [0.1111111111111111, \"#46039f\"], [0.2222222222222222, \"#7201a8\"], [0.3333333333333333, \"#9c179e\"], [0.4444444444444444, \"#bd3786\"], [0.5555555555555556, \"#d8576b\"], [0.6666666666666666, \"#ed7953\"], [0.7777777777777778, \"#fb9f3a\"], [0.8888888888888888, \"#fdca26\"], [1.0, \"#f0f921\"]], \"type\": \"contour\"}], \"contourcarpet\": [{\"colorbar\": {\"outlinewidth\": 0, \"ticks\": \"\"}, \"type\": \"contourcarpet\"}], \"heatmap\": [{\"colorbar\": {\"outlinewidth\": 0, \"ticks\": \"\"}, \"colorscale\": [[0.0, \"#0d0887\"], [0.1111111111111111, \"#46039f\"], [0.2222222222222222, \"#7201a8\"], [0.3333333333333333, \"#9c179e\"], [0.4444444444444444, \"#bd3786\"], [0.5555555555555556, \"#d8576b\"], [0.6666666666666666, \"#ed7953\"], [0.7777777777777778, \"#fb9f3a\"], [0.8888888888888888, \"#fdca26\"], [1.0, \"#f0f921\"]], \"type\": \"heatmap\"}], \"heatmapgl\": [{\"colorbar\": {\"outlinewidth\": 0, \"ticks\": \"\"}, \"colorscale\": [[0.0, \"#0d0887\"], [0.1111111111111111, \"#46039f\"], [0.2222222222222222, \"#7201a8\"], [0.3333333333333333, \"#9c179e\"], [0.4444444444444444, \"#bd3786\"], [0.5555555555555556, \"#d8576b\"], [0.6666666666666666, \"#ed7953\"], [0.7777777777777778, \"#fb9f3a\"], [0.8888888888888888, \"#fdca26\"], [1.0, \"#f0f921\"]], \"type\": \"heatmapgl\"}], \"histogram\": [{\"marker\": {\"colorbar\": {\"outlinewidth\": 0, \"ticks\": \"\"}}, \"type\": \"histogram\"}], \"histogram2d\": [{\"colorbar\": {\"outlinewidth\": 0, \"ticks\": \"\"}, \"colorscale\": [[0.0, \"#0d0887\"], [0.1111111111111111, \"#46039f\"], [0.2222222222222222, \"#7201a8\"], [0.3333333333333333, \"#9c179e\"], [0.4444444444444444, \"#bd3786\"], [0.5555555555555556, \"#d8576b\"], [0.6666666666666666, \"#ed7953\"], [0.7777777777777778, \"#fb9f3a\"], [0.8888888888888888, \"#fdca26\"], [1.0, \"#f0f921\"]], \"type\": \"histogram2d\"}], \"histogram2dcontour\": [{\"colorbar\": {\"outlinewidth\": 0, \"ticks\": \"\"}, \"colorscale\": [[0.0, \"#0d0887\"], [0.1111111111111111, \"#46039f\"], [0.2222222222222222, \"#7201a8\"], [0.3333333333333333, \"#9c179e\"], [0.4444444444444444, \"#bd3786\"], [0.5555555555555556, \"#d8576b\"], [0.6666666666666666, \"#ed7953\"], [0.7777777777777778, \"#fb9f3a\"], [0.8888888888888888, \"#fdca26\"], [1.0, \"#f0f921\"]], \"type\": \"histogram2dcontour\"}], \"mesh3d\": [{\"colorbar\": {\"outlinewidth\": 0, \"ticks\": \"\"}, \"type\": \"mesh3d\"}], \"parcoords\": [{\"line\": {\"colorbar\": {\"outlinewidth\": 0, \"ticks\": \"\"}}, \"type\": \"parcoords\"}], \"pie\": [{\"automargin\": true, \"type\": \"pie\"}], \"scatter\": [{\"marker\": {\"colorbar\": {\"outlinewidth\": 0, \"ticks\": \"\"}}, \"type\": \"scatter\"}], \"scatter3d\": [{\"line\": {\"colorbar\": {\"outlinewidth\": 0, \"ticks\": \"\"}}, \"marker\": {\"colorbar\": {\"outlinewidth\": 0, \"ticks\": \"\"}}, \"type\": \"scatter3d\"}], \"scattercarpet\": [{\"marker\": {\"colorbar\": {\"outlinewidth\": 0, \"ticks\": \"\"}}, \"type\": \"scattercarpet\"}], \"scattergeo\": [{\"marker\": {\"colorbar\": {\"outlinewidth\": 0, \"ticks\": \"\"}}, \"type\": \"scattergeo\"}], \"scattergl\": [{\"marker\": {\"colorbar\": {\"outlinewidth\": 0, \"ticks\": \"\"}}, \"type\": \"scattergl\"}], \"scattermapbox\": [{\"marker\": {\"colorbar\": {\"outlinewidth\": 0, \"ticks\": \"\"}}, \"type\": \"scattermapbox\"}], \"scatterpolar\": [{\"marker\": {\"colorbar\": {\"outlinewidth\": 0, \"ticks\": \"\"}}, \"type\": \"scatterpolar\"}], \"scatterpolargl\": [{\"marker\": {\"colorbar\": {\"outlinewidth\": 0, \"ticks\": \"\"}}, \"type\": \"scatterpolargl\"}], \"scatterternary\": [{\"marker\": {\"colorbar\": {\"outlinewidth\": 0, \"ticks\": \"\"}}, \"type\": \"scatterternary\"}], \"surface\": [{\"colorbar\": {\"outlinewidth\": 0, \"ticks\": \"\"}, \"colorscale\": [[0.0, \"#0d0887\"], [0.1111111111111111, \"#46039f\"], [0.2222222222222222, \"#7201a8\"], [0.3333333333333333, \"#9c179e\"], [0.4444444444444444, \"#bd3786\"], [0.5555555555555556, \"#d8576b\"], [0.6666666666666666, \"#ed7953\"], [0.7777777777777778, \"#fb9f3a\"], [0.8888888888888888, \"#fdca26\"], [1.0, \"#f0f921\"]], \"type\": \"surface\"}], \"table\": [{\"cells\": {\"fill\": {\"color\": \"#EBF0F8\"}, \"line\": {\"color\": \"white\"}}, \"header\": {\"fill\": {\"color\": \"#C8D4E3\"}, \"line\": {\"color\": \"white\"}}, \"type\": \"table\"}]}, \"layout\": {\"annotationdefaults\": {\"arrowcolor\": \"#2a3f5f\", \"arrowhead\": 0, \"arrowwidth\": 1}, \"coloraxis\": {\"colorbar\": {\"outlinewidth\": 0, \"ticks\": \"\"}}, \"colorscale\": {\"diverging\": [[0, \"#8e0152\"], [0.1, \"#c51b7d\"], [0.2, \"#de77ae\"], [0.3, \"#f1b6da\"], [0.4, \"#fde0ef\"], [0.5, \"#f7f7f7\"], [0.6, \"#e6f5d0\"], [0.7, \"#b8e186\"], [0.8, \"#7fbc41\"], [0.9, \"#4d9221\"], [1, \"#276419\"]], \"sequential\": [[0.0, \"#0d0887\"], [0.1111111111111111, \"#46039f\"], [0.2222222222222222, \"#7201a8\"], [0.3333333333333333, \"#9c179e\"], [0.4444444444444444, \"#bd3786\"], [0.5555555555555556, \"#d8576b\"], [0.6666666666666666, \"#ed7953\"], [0.7777777777777778, \"#fb9f3a\"], [0.8888888888888888, \"#fdca26\"], [1.0, \"#f0f921\"]], \"sequentialminus\": [[0.0, \"#0d0887\"], [0.1111111111111111, \"#46039f\"], [0.2222222222222222, \"#7201a8\"], [0.3333333333333333, \"#9c179e\"], [0.4444444444444444, \"#bd3786\"], [0.5555555555555556, \"#d8576b\"], [0.6666666666666666, \"#ed7953\"], [0.7777777777777778, \"#fb9f3a\"], [0.8888888888888888, \"#fdca26\"], [1.0, \"#f0f921\"]]}, \"colorway\": [\"#636efa\", \"#EF553B\", \"#00cc96\", \"#ab63fa\", \"#FFA15A\", \"#19d3f3\", \"#FF6692\", \"#B6E880\", \"#FF97FF\", \"#FECB52\"], \"font\": {\"color\": \"#2a3f5f\"}, \"geo\": {\"bgcolor\": \"white\", \"lakecolor\": \"white\", \"landcolor\": \"#E5ECF6\", \"showlakes\": true, \"showland\": true, \"subunitcolor\": \"white\"}, \"hoverlabel\": {\"align\": \"left\"}, \"hovermode\": \"closest\", \"mapbox\": {\"style\": \"light\"}, \"paper_bgcolor\": \"white\", \"plot_bgcolor\": \"#E5ECF6\", \"polar\": {\"angularaxis\": {\"gridcolor\": \"white\", \"linecolor\": \"white\", \"ticks\": \"\"}, \"bgcolor\": \"#E5ECF6\", \"radialaxis\": {\"gridcolor\": \"white\", \"linecolor\": \"white\", \"ticks\": \"\"}}, \"scene\": {\"xaxis\": {\"backgroundcolor\": \"#E5ECF6\", \"gridcolor\": \"white\", \"gridwidth\": 2, \"linecolor\": \"white\", \"showbackground\": true, \"ticks\": \"\", \"zerolinecolor\": \"white\"}, \"yaxis\": {\"backgroundcolor\": \"#E5ECF6\", \"gridcolor\": \"white\", \"gridwidth\": 2, \"linecolor\": \"white\", \"showbackground\": true, \"ticks\": \"\", \"zerolinecolor\": \"white\"}, \"zaxis\": {\"backgroundcolor\": \"#E5ECF6\", \"gridcolor\": \"white\", \"gridwidth\": 2, \"linecolor\": \"white\", \"showbackground\": true, \"ticks\": \"\", \"zerolinecolor\": \"white\"}}, \"shapedefaults\": {\"line\": {\"color\": \"#2a3f5f\"}}, \"ternary\": {\"aaxis\": {\"gridcolor\": \"white\", \"linecolor\": \"white\", \"ticks\": \"\"}, \"baxis\": {\"gridcolor\": \"white\", \"linecolor\": \"white\", \"ticks\": \"\"}, \"bgcolor\": \"#E5ECF6\", \"caxis\": {\"gridcolor\": \"white\", \"linecolor\": \"white\", \"ticks\": \"\"}}, \"title\": {\"x\": 0.05}, \"xaxis\": {\"automargin\": true, \"gridcolor\": \"white\", \"linecolor\": \"white\", \"ticks\": \"\", \"title\": {\"standoff\": 15}, \"zerolinecolor\": \"white\", \"zerolinewidth\": 2}, \"yaxis\": {\"automargin\": true, \"gridcolor\": \"white\", \"linecolor\": \"white\", \"ticks\": \"\", \"title\": {\"standoff\": 15}, \"zerolinecolor\": \"white\", \"zerolinewidth\": 2}}}, \"title\": {\"font\": {\"color\": \"#4D5663\"}, \"text\": \"Family size by classes\"}, \"xaxis\": {\"gridcolor\": \"#E1E5ED\", \"showgrid\": true, \"tickfont\": {\"color\": \"#4D5663\"}, \"title\": {\"font\": {\"color\": \"#4D5663\"}, \"text\": \"\"}, \"zerolinecolor\": \"#E1E5ED\"}, \"yaxis\": {\"gridcolor\": \"#E1E5ED\", \"showgrid\": true, \"tickfont\": {\"color\": \"#4D5663\"}, \"title\": {\"font\": {\"color\": \"#4D5663\"}, \"text\": \"\"}, \"zerolinecolor\": \"#E1E5ED\"}},\n",
       "                        {\"responsive\": true}\n",
       "                    ).then(function(){\n",
       "                            \n",
       "var gd = document.getElementById('aeaf9a2a-26f6-498e-a987-9a222c7f77a3');\n",
       "var x = new MutationObserver(function (mutations, observer) {{\n",
       "        var display = window.getComputedStyle(gd).display;\n",
       "        if (!display || display === 'none') {{\n",
       "            console.log([gd, 'removed!']);\n",
       "            Plotly.purge(gd);\n",
       "            observer.disconnect();\n",
       "        }}\n",
       "}});\n",
       "\n",
       "// Listen for the removal of the full notebook cells\n",
       "var notebookContainer = gd.closest('#notebook-container');\n",
       "if (notebookContainer) {{\n",
       "    x.observe(notebookContainer, {childList: true});\n",
       "}}\n",
       "\n",
       "// Listen for the clearing of the current output cell\n",
       "var outputEl = gd.closest('.output');\n",
       "if (outputEl) {{\n",
       "    x.observe(outputEl, {childList: true});\n",
       "}}\n",
       "\n",
       "                        })\n",
       "                };\n",
       "                });\n",
       "            </script>\n",
       "        </div>"
      ]
     },
     "metadata": {},
     "output_type": "display_data"
    }
   ],
   "source": [
    "import plotly as py\n",
    "py.offline.init_notebook_mode(connected=True)\n",
    "\n",
    "first = data['fam_Size'].where(data[\"Pclass\"] == 1 )\n",
    "second = data['fam_Size'].where(data[\"Pclass\"] == 2 )\n",
    "third = data['fam_Size'].where(data[\"Pclass\"] == 3 )\n",
    "\n",
    "df = pd.DataFrame({'1': first,\n",
    "                   '2': second,\n",
    "                   '3': third})\n",
    "\n",
    "fig = df.iplot(asFigure=True, title='Family size by classes', kind=\"box\")\n",
    "fig.show()"
   ]
  },
  {
   "cell_type": "code",
   "execution_count": 11,
   "metadata": {},
   "outputs": [
    {
     "data": {
      "application/vnd.plotly.v1+json": {
       "config": {
        "plotlyServerURL": "https://plot.ly"
       },
       "data": [
        {
         "marker": {
          "color": "#FFAA19"
         },
         "nbinsx": 10,
         "opacity": 0.7,
         "type": "histogram",
         "x": [
          22,
          38,
          26,
          35,
          35,
          29,
          54,
          2,
          27,
          14,
          4,
          58,
          20,
          39,
          14,
          55,
          2,
          29,
          31,
          29,
          35,
          34,
          15,
          28,
          8,
          38,
          29,
          19,
          29,
          29,
          40,
          29,
          29,
          66,
          28,
          42,
          29,
          21,
          18,
          14,
          40,
          27,
          29,
          3,
          19,
          29,
          29,
          29,
          29,
          18,
          7,
          21,
          49,
          29,
          65,
          29,
          21,
          28.5,
          5,
          11,
          22,
          45,
          4,
          29,
          29,
          29,
          19,
          17,
          26,
          32,
          16,
          21,
          26,
          32,
          25,
          29,
          29,
          0.83,
          30,
          22,
          29,
          29,
          28,
          17,
          33,
          16,
          29,
          23,
          24,
          29,
          20,
          46,
          26,
          59,
          29,
          71,
          23,
          34,
          34,
          28,
          29,
          21,
          33,
          37,
          28,
          21,
          29,
          38,
          29,
          47,
          14.5,
          22,
          20,
          17,
          21,
          70.5,
          29,
          24,
          2,
          21,
          29,
          32.5,
          32.5,
          54,
          12,
          29,
          24,
          29,
          45,
          33,
          20,
          47,
          29,
          25,
          23,
          19,
          37,
          16,
          24,
          29,
          22,
          24,
          19,
          18,
          19,
          27,
          9,
          36.5,
          42,
          51,
          22,
          55.5,
          40.5,
          29,
          51,
          16,
          30,
          29,
          29,
          44,
          40,
          26,
          17,
          1,
          9,
          29,
          45,
          29,
          28,
          61,
          4,
          1,
          21,
          56,
          18,
          29,
          50,
          30,
          36,
          29,
          29,
          9,
          1,
          4,
          29,
          29,
          45,
          40,
          36,
          32,
          19,
          19,
          3,
          44,
          58,
          29,
          42,
          29,
          24,
          28,
          29,
          34,
          45.5,
          18,
          2,
          32,
          26,
          16,
          40,
          24,
          35,
          22,
          30,
          29,
          31,
          27,
          42,
          32,
          30,
          16,
          27,
          51,
          29,
          38,
          22,
          19,
          20.5,
          18,
          29,
          35,
          29,
          59,
          5,
          24,
          29,
          44,
          8,
          19,
          33,
          29,
          29,
          29,
          22,
          30,
          44,
          25,
          24,
          37,
          54,
          29,
          29,
          62,
          30,
          41,
          29,
          29,
          30,
          35,
          50,
          29,
          3,
          52,
          40,
          29,
          36,
          16,
          25,
          58,
          35,
          29,
          25,
          41,
          37,
          29,
          63,
          45,
          29,
          7,
          35,
          65,
          28,
          16,
          19,
          29,
          33,
          30,
          22,
          42,
          22,
          26,
          19,
          36,
          24,
          24,
          29,
          23.5,
          2,
          29,
          50,
          29,
          29,
          19,
          29,
          29,
          0.92,
          29,
          17,
          30,
          30,
          24,
          18,
          26,
          28,
          43,
          26,
          24,
          54,
          31,
          40,
          22,
          27,
          30,
          22,
          29,
          36,
          61,
          36,
          31,
          16,
          29,
          45.5,
          38,
          16,
          29,
          29,
          29,
          41,
          45,
          45,
          2,
          24,
          28,
          25,
          36,
          24,
          40,
          29,
          3,
          42,
          23,
          29,
          15,
          25,
          29,
          28,
          22,
          38,
          29,
          29,
          40,
          29,
          45,
          35,
          29,
          30,
          60,
          29,
          29,
          24,
          25,
          18,
          19,
          22,
          3,
          29,
          22,
          27,
          20,
          19,
          42,
          1,
          32,
          35,
          29,
          18,
          1,
          36,
          29,
          17,
          36,
          21,
          28,
          23,
          24,
          22,
          31,
          46,
          23,
          28,
          39,
          26,
          21,
          28,
          20,
          34,
          51,
          3,
          21,
          29,
          29,
          29,
          33,
          29,
          44,
          29,
          34,
          18,
          30,
          10,
          29,
          21,
          29,
          28,
          18,
          29,
          28,
          19,
          29,
          32,
          28,
          29,
          42,
          17,
          50,
          14,
          21,
          24,
          64,
          31,
          45,
          20,
          25,
          28,
          29,
          4,
          13,
          34,
          5,
          52,
          36,
          29,
          30,
          49,
          29,
          29,
          65,
          29,
          50,
          29,
          48,
          34,
          47,
          48,
          29,
          38,
          29,
          56,
          29,
          0.75,
          29,
          38,
          33,
          23,
          22,
          29,
          34,
          29,
          22,
          2,
          9,
          29,
          50,
          63,
          25,
          29,
          35,
          58,
          30,
          9,
          29,
          21,
          55,
          71,
          21,
          29,
          54,
          29,
          25,
          24,
          17,
          21,
          29,
          37,
          16,
          18,
          33,
          29,
          28,
          26,
          29,
          29,
          36,
          54,
          24,
          47,
          34,
          29,
          36,
          32,
          30,
          22,
          29,
          44,
          29,
          40.5,
          50,
          29,
          39,
          23,
          2,
          29,
          17,
          29,
          30,
          7,
          45,
          30,
          29,
          22,
          36,
          9,
          11,
          32,
          50,
          64,
          19,
          29,
          33,
          8,
          17,
          27,
          29,
          22,
          22,
          62,
          48,
          29,
          39,
          36,
          29,
          40,
          28,
          29,
          29,
          24,
          19,
          29,
          29,
          32,
          62,
          53,
          36,
          29,
          16,
          19,
          34,
          39,
          29,
          32,
          25,
          39,
          54,
          36,
          29,
          18,
          47,
          60,
          22,
          29,
          35,
          52,
          47,
          29,
          37,
          36,
          29,
          49,
          29,
          49,
          24,
          29,
          29,
          44,
          35,
          36,
          30,
          27,
          22,
          40,
          39,
          29,
          29,
          29,
          35,
          24,
          34,
          26,
          4,
          26,
          27,
          42,
          20,
          21,
          21,
          61,
          57,
          21,
          26,
          29,
          80,
          51,
          32,
          29,
          9,
          28,
          32,
          31,
          41,
          29,
          20,
          24,
          2,
          29,
          0.75,
          48,
          19,
          56,
          29,
          23,
          29,
          18,
          21,
          29,
          18,
          24,
          29,
          32,
          23,
          58,
          50,
          40,
          47,
          36,
          20,
          32,
          25,
          29,
          43,
          29,
          40,
          31,
          70,
          31,
          29,
          18,
          24.5,
          18,
          43,
          36,
          29,
          27,
          20,
          14,
          60,
          25,
          14,
          19,
          18,
          15,
          31,
          4,
          29,
          25,
          60,
          52,
          44,
          29,
          49,
          42,
          18,
          35,
          18,
          25,
          26,
          39,
          45,
          42,
          22,
          29,
          24,
          29,
          48,
          29,
          52,
          19,
          38,
          27,
          29,
          33,
          6,
          17,
          34,
          50,
          27,
          20,
          30,
          29,
          25,
          25,
          29,
          11,
          29,
          23,
          23,
          28.5,
          48,
          35,
          29,
          29,
          29,
          36,
          21,
          24,
          31,
          70,
          16,
          30,
          19,
          31,
          4,
          6,
          33,
          23,
          48,
          0.67,
          28,
          18,
          34,
          33,
          29,
          41,
          20,
          36,
          16,
          51,
          29,
          30.5,
          29,
          32,
          24,
          48,
          57,
          29,
          54,
          18,
          29,
          5,
          29,
          43,
          13,
          17,
          29,
          29,
          25,
          25,
          18,
          8,
          1,
          46,
          29,
          16,
          29,
          29,
          25,
          39,
          49,
          31,
          30,
          30,
          34,
          31,
          11,
          0.42,
          27,
          31,
          39,
          18,
          39,
          33,
          26,
          39,
          35,
          6,
          30.5,
          29,
          23,
          31,
          43,
          10,
          52,
          27,
          38,
          27,
          2,
          29,
          29,
          1,
          29,
          15,
          0.83,
          29,
          23,
          18,
          39,
          21,
          29,
          32,
          29,
          20,
          16,
          30,
          34.5,
          17,
          42,
          29,
          35,
          28,
          29,
          4,
          74,
          9,
          16,
          44,
          18,
          45,
          51,
          24,
          29,
          41,
          21,
          48,
          29,
          24,
          42,
          27,
          31,
          29,
          4,
          26,
          47,
          33,
          47,
          28,
          15,
          20,
          19,
          29,
          56,
          25,
          33,
          22,
          28,
          25,
          39,
          27,
          19,
          29,
          26,
          32
         ]
        }
       ],
       "layout": {
        "template": {
         "data": {
          "bar": [
           {
            "error_x": {
             "color": "#2a3f5f"
            },
            "error_y": {
             "color": "#2a3f5f"
            },
            "marker": {
             "line": {
              "color": "#E5ECF6",
              "width": 0.5
             }
            },
            "type": "bar"
           }
          ],
          "barpolar": [
           {
            "marker": {
             "line": {
              "color": "#E5ECF6",
              "width": 0.5
             }
            },
            "type": "barpolar"
           }
          ],
          "carpet": [
           {
            "aaxis": {
             "endlinecolor": "#2a3f5f",
             "gridcolor": "white",
             "linecolor": "white",
             "minorgridcolor": "white",
             "startlinecolor": "#2a3f5f"
            },
            "baxis": {
             "endlinecolor": "#2a3f5f",
             "gridcolor": "white",
             "linecolor": "white",
             "minorgridcolor": "white",
             "startlinecolor": "#2a3f5f"
            },
            "type": "carpet"
           }
          ],
          "choropleth": [
           {
            "colorbar": {
             "outlinewidth": 0,
             "ticks": ""
            },
            "type": "choropleth"
           }
          ],
          "contour": [
           {
            "colorbar": {
             "outlinewidth": 0,
             "ticks": ""
            },
            "colorscale": [
             [
              0,
              "#0d0887"
             ],
             [
              0.1111111111111111,
              "#46039f"
             ],
             [
              0.2222222222222222,
              "#7201a8"
             ],
             [
              0.3333333333333333,
              "#9c179e"
             ],
             [
              0.4444444444444444,
              "#bd3786"
             ],
             [
              0.5555555555555556,
              "#d8576b"
             ],
             [
              0.6666666666666666,
              "#ed7953"
             ],
             [
              0.7777777777777778,
              "#fb9f3a"
             ],
             [
              0.8888888888888888,
              "#fdca26"
             ],
             [
              1,
              "#f0f921"
             ]
            ],
            "type": "contour"
           }
          ],
          "contourcarpet": [
           {
            "colorbar": {
             "outlinewidth": 0,
             "ticks": ""
            },
            "type": "contourcarpet"
           }
          ],
          "heatmap": [
           {
            "colorbar": {
             "outlinewidth": 0,
             "ticks": ""
            },
            "colorscale": [
             [
              0,
              "#0d0887"
             ],
             [
              0.1111111111111111,
              "#46039f"
             ],
             [
              0.2222222222222222,
              "#7201a8"
             ],
             [
              0.3333333333333333,
              "#9c179e"
             ],
             [
              0.4444444444444444,
              "#bd3786"
             ],
             [
              0.5555555555555556,
              "#d8576b"
             ],
             [
              0.6666666666666666,
              "#ed7953"
             ],
             [
              0.7777777777777778,
              "#fb9f3a"
             ],
             [
              0.8888888888888888,
              "#fdca26"
             ],
             [
              1,
              "#f0f921"
             ]
            ],
            "type": "heatmap"
           }
          ],
          "heatmapgl": [
           {
            "colorbar": {
             "outlinewidth": 0,
             "ticks": ""
            },
            "colorscale": [
             [
              0,
              "#0d0887"
             ],
             [
              0.1111111111111111,
              "#46039f"
             ],
             [
              0.2222222222222222,
              "#7201a8"
             ],
             [
              0.3333333333333333,
              "#9c179e"
             ],
             [
              0.4444444444444444,
              "#bd3786"
             ],
             [
              0.5555555555555556,
              "#d8576b"
             ],
             [
              0.6666666666666666,
              "#ed7953"
             ],
             [
              0.7777777777777778,
              "#fb9f3a"
             ],
             [
              0.8888888888888888,
              "#fdca26"
             ],
             [
              1,
              "#f0f921"
             ]
            ],
            "type": "heatmapgl"
           }
          ],
          "histogram": [
           {
            "marker": {
             "colorbar": {
              "outlinewidth": 0,
              "ticks": ""
             }
            },
            "type": "histogram"
           }
          ],
          "histogram2d": [
           {
            "colorbar": {
             "outlinewidth": 0,
             "ticks": ""
            },
            "colorscale": [
             [
              0,
              "#0d0887"
             ],
             [
              0.1111111111111111,
              "#46039f"
             ],
             [
              0.2222222222222222,
              "#7201a8"
             ],
             [
              0.3333333333333333,
              "#9c179e"
             ],
             [
              0.4444444444444444,
              "#bd3786"
             ],
             [
              0.5555555555555556,
              "#d8576b"
             ],
             [
              0.6666666666666666,
              "#ed7953"
             ],
             [
              0.7777777777777778,
              "#fb9f3a"
             ],
             [
              0.8888888888888888,
              "#fdca26"
             ],
             [
              1,
              "#f0f921"
             ]
            ],
            "type": "histogram2d"
           }
          ],
          "histogram2dcontour": [
           {
            "colorbar": {
             "outlinewidth": 0,
             "ticks": ""
            },
            "colorscale": [
             [
              0,
              "#0d0887"
             ],
             [
              0.1111111111111111,
              "#46039f"
             ],
             [
              0.2222222222222222,
              "#7201a8"
             ],
             [
              0.3333333333333333,
              "#9c179e"
             ],
             [
              0.4444444444444444,
              "#bd3786"
             ],
             [
              0.5555555555555556,
              "#d8576b"
             ],
             [
              0.6666666666666666,
              "#ed7953"
             ],
             [
              0.7777777777777778,
              "#fb9f3a"
             ],
             [
              0.8888888888888888,
              "#fdca26"
             ],
             [
              1,
              "#f0f921"
             ]
            ],
            "type": "histogram2dcontour"
           }
          ],
          "mesh3d": [
           {
            "colorbar": {
             "outlinewidth": 0,
             "ticks": ""
            },
            "type": "mesh3d"
           }
          ],
          "parcoords": [
           {
            "line": {
             "colorbar": {
              "outlinewidth": 0,
              "ticks": ""
             }
            },
            "type": "parcoords"
           }
          ],
          "pie": [
           {
            "automargin": true,
            "type": "pie"
           }
          ],
          "scatter": [
           {
            "marker": {
             "colorbar": {
              "outlinewidth": 0,
              "ticks": ""
             }
            },
            "type": "scatter"
           }
          ],
          "scatter3d": [
           {
            "line": {
             "colorbar": {
              "outlinewidth": 0,
              "ticks": ""
             }
            },
            "marker": {
             "colorbar": {
              "outlinewidth": 0,
              "ticks": ""
             }
            },
            "type": "scatter3d"
           }
          ],
          "scattercarpet": [
           {
            "marker": {
             "colorbar": {
              "outlinewidth": 0,
              "ticks": ""
             }
            },
            "type": "scattercarpet"
           }
          ],
          "scattergeo": [
           {
            "marker": {
             "colorbar": {
              "outlinewidth": 0,
              "ticks": ""
             }
            },
            "type": "scattergeo"
           }
          ],
          "scattergl": [
           {
            "marker": {
             "colorbar": {
              "outlinewidth": 0,
              "ticks": ""
             }
            },
            "type": "scattergl"
           }
          ],
          "scattermapbox": [
           {
            "marker": {
             "colorbar": {
              "outlinewidth": 0,
              "ticks": ""
             }
            },
            "type": "scattermapbox"
           }
          ],
          "scatterpolar": [
           {
            "marker": {
             "colorbar": {
              "outlinewidth": 0,
              "ticks": ""
             }
            },
            "type": "scatterpolar"
           }
          ],
          "scatterpolargl": [
           {
            "marker": {
             "colorbar": {
              "outlinewidth": 0,
              "ticks": ""
             }
            },
            "type": "scatterpolargl"
           }
          ],
          "scatterternary": [
           {
            "marker": {
             "colorbar": {
              "outlinewidth": 0,
              "ticks": ""
             }
            },
            "type": "scatterternary"
           }
          ],
          "surface": [
           {
            "colorbar": {
             "outlinewidth": 0,
             "ticks": ""
            },
            "colorscale": [
             [
              0,
              "#0d0887"
             ],
             [
              0.1111111111111111,
              "#46039f"
             ],
             [
              0.2222222222222222,
              "#7201a8"
             ],
             [
              0.3333333333333333,
              "#9c179e"
             ],
             [
              0.4444444444444444,
              "#bd3786"
             ],
             [
              0.5555555555555556,
              "#d8576b"
             ],
             [
              0.6666666666666666,
              "#ed7953"
             ],
             [
              0.7777777777777778,
              "#fb9f3a"
             ],
             [
              0.8888888888888888,
              "#fdca26"
             ],
             [
              1,
              "#f0f921"
             ]
            ],
            "type": "surface"
           }
          ],
          "table": [
           {
            "cells": {
             "fill": {
              "color": "#EBF0F8"
             },
             "line": {
              "color": "white"
             }
            },
            "header": {
             "fill": {
              "color": "#C8D4E3"
             },
             "line": {
              "color": "white"
             }
            },
            "type": "table"
           }
          ]
         },
         "layout": {
          "annotationdefaults": {
           "arrowcolor": "#2a3f5f",
           "arrowhead": 0,
           "arrowwidth": 1
          },
          "coloraxis": {
           "colorbar": {
            "outlinewidth": 0,
            "ticks": ""
           }
          },
          "colorscale": {
           "diverging": [
            [
             0,
             "#8e0152"
            ],
            [
             0.1,
             "#c51b7d"
            ],
            [
             0.2,
             "#de77ae"
            ],
            [
             0.3,
             "#f1b6da"
            ],
            [
             0.4,
             "#fde0ef"
            ],
            [
             0.5,
             "#f7f7f7"
            ],
            [
             0.6,
             "#e6f5d0"
            ],
            [
             0.7,
             "#b8e186"
            ],
            [
             0.8,
             "#7fbc41"
            ],
            [
             0.9,
             "#4d9221"
            ],
            [
             1,
             "#276419"
            ]
           ],
           "sequential": [
            [
             0,
             "#0d0887"
            ],
            [
             0.1111111111111111,
             "#46039f"
            ],
            [
             0.2222222222222222,
             "#7201a8"
            ],
            [
             0.3333333333333333,
             "#9c179e"
            ],
            [
             0.4444444444444444,
             "#bd3786"
            ],
            [
             0.5555555555555556,
             "#d8576b"
            ],
            [
             0.6666666666666666,
             "#ed7953"
            ],
            [
             0.7777777777777778,
             "#fb9f3a"
            ],
            [
             0.8888888888888888,
             "#fdca26"
            ],
            [
             1,
             "#f0f921"
            ]
           ],
           "sequentialminus": [
            [
             0,
             "#0d0887"
            ],
            [
             0.1111111111111111,
             "#46039f"
            ],
            [
             0.2222222222222222,
             "#7201a8"
            ],
            [
             0.3333333333333333,
             "#9c179e"
            ],
            [
             0.4444444444444444,
             "#bd3786"
            ],
            [
             0.5555555555555556,
             "#d8576b"
            ],
            [
             0.6666666666666666,
             "#ed7953"
            ],
            [
             0.7777777777777778,
             "#fb9f3a"
            ],
            [
             0.8888888888888888,
             "#fdca26"
            ],
            [
             1,
             "#f0f921"
            ]
           ]
          },
          "colorway": [
           "#636efa",
           "#EF553B",
           "#00cc96",
           "#ab63fa",
           "#FFA15A",
           "#19d3f3",
           "#FF6692",
           "#B6E880",
           "#FF97FF",
           "#FECB52"
          ],
          "font": {
           "color": "#2a3f5f"
          },
          "geo": {
           "bgcolor": "white",
           "lakecolor": "white",
           "landcolor": "#E5ECF6",
           "showlakes": true,
           "showland": true,
           "subunitcolor": "white"
          },
          "hoverlabel": {
           "align": "left"
          },
          "hovermode": "closest",
          "mapbox": {
           "style": "light"
          },
          "paper_bgcolor": "white",
          "plot_bgcolor": "#E5ECF6",
          "polar": {
           "angularaxis": {
            "gridcolor": "white",
            "linecolor": "white",
            "ticks": ""
           },
           "bgcolor": "#E5ECF6",
           "radialaxis": {
            "gridcolor": "white",
            "linecolor": "white",
            "ticks": ""
           }
          },
          "scene": {
           "xaxis": {
            "backgroundcolor": "#E5ECF6",
            "gridcolor": "white",
            "gridwidth": 2,
            "linecolor": "white",
            "showbackground": true,
            "ticks": "",
            "zerolinecolor": "white"
           },
           "yaxis": {
            "backgroundcolor": "#E5ECF6",
            "gridcolor": "white",
            "gridwidth": 2,
            "linecolor": "white",
            "showbackground": true,
            "ticks": "",
            "zerolinecolor": "white"
           },
           "zaxis": {
            "backgroundcolor": "#E5ECF6",
            "gridcolor": "white",
            "gridwidth": 2,
            "linecolor": "white",
            "showbackground": true,
            "ticks": "",
            "zerolinecolor": "white"
           }
          },
          "shapedefaults": {
           "line": {
            "color": "#2a3f5f"
           }
          },
          "ternary": {
           "aaxis": {
            "gridcolor": "white",
            "linecolor": "white",
            "ticks": ""
           },
           "baxis": {
            "gridcolor": "white",
            "linecolor": "white",
            "ticks": ""
           },
           "bgcolor": "#E5ECF6",
           "caxis": {
            "gridcolor": "white",
            "linecolor": "white",
            "ticks": ""
           }
          },
          "title": {
           "x": 0.05
          },
          "xaxis": {
           "automargin": true,
           "gridcolor": "white",
           "linecolor": "white",
           "ticks": "",
           "title": {
            "standoff": 15
           },
           "zerolinecolor": "white",
           "zerolinewidth": 2
          },
          "yaxis": {
           "automargin": true,
           "gridcolor": "white",
           "linecolor": "white",
           "ticks": "",
           "title": {
            "standoff": 15
           },
           "zerolinecolor": "white",
           "zerolinewidth": 2
          }
         }
        },
        "title": {
         "text": "Age"
        }
       }
      },
      "text/html": [
       "<div>\n",
       "        \n",
       "        \n",
       "            <div id=\"b7acc0bb-8bb8-4b80-9988-998abc3fe9b6\" class=\"plotly-graph-div\" style=\"height:525px; width:100%;\"></div>\n",
       "            <script type=\"text/javascript\">\n",
       "                require([\"plotly\"], function(Plotly) {\n",
       "                    window.PLOTLYENV=window.PLOTLYENV || {};\n",
       "                    \n",
       "                if (document.getElementById(\"b7acc0bb-8bb8-4b80-9988-998abc3fe9b6\")) {\n",
       "                    Plotly.newPlot(\n",
       "                        'b7acc0bb-8bb8-4b80-9988-998abc3fe9b6',\n",
       "                        [{\"marker\": {\"color\": \"#FFAA19\"}, \"nbinsx\": 10, \"opacity\": 0.7, \"type\": \"histogram\", \"x\": [22.0, 38.0, 26.0, 35.0, 35.0, 29.0, 54.0, 2.0, 27.0, 14.0, 4.0, 58.0, 20.0, 39.0, 14.0, 55.0, 2.0, 29.0, 31.0, 29.0, 35.0, 34.0, 15.0, 28.0, 8.0, 38.0, 29.0, 19.0, 29.0, 29.0, 40.0, 29.0, 29.0, 66.0, 28.0, 42.0, 29.0, 21.0, 18.0, 14.0, 40.0, 27.0, 29.0, 3.0, 19.0, 29.0, 29.0, 29.0, 29.0, 18.0, 7.0, 21.0, 49.0, 29.0, 65.0, 29.0, 21.0, 28.5, 5.0, 11.0, 22.0, 45.0, 4.0, 29.0, 29.0, 29.0, 19.0, 17.0, 26.0, 32.0, 16.0, 21.0, 26.0, 32.0, 25.0, 29.0, 29.0, 0.83, 30.0, 22.0, 29.0, 29.0, 28.0, 17.0, 33.0, 16.0, 29.0, 23.0, 24.0, 29.0, 20.0, 46.0, 26.0, 59.0, 29.0, 71.0, 23.0, 34.0, 34.0, 28.0, 29.0, 21.0, 33.0, 37.0, 28.0, 21.0, 29.0, 38.0, 29.0, 47.0, 14.5, 22.0, 20.0, 17.0, 21.0, 70.5, 29.0, 24.0, 2.0, 21.0, 29.0, 32.5, 32.5, 54.0, 12.0, 29.0, 24.0, 29.0, 45.0, 33.0, 20.0, 47.0, 29.0, 25.0, 23.0, 19.0, 37.0, 16.0, 24.0, 29.0, 22.0, 24.0, 19.0, 18.0, 19.0, 27.0, 9.0, 36.5, 42.0, 51.0, 22.0, 55.5, 40.5, 29.0, 51.0, 16.0, 30.0, 29.0, 29.0, 44.0, 40.0, 26.0, 17.0, 1.0, 9.0, 29.0, 45.0, 29.0, 28.0, 61.0, 4.0, 1.0, 21.0, 56.0, 18.0, 29.0, 50.0, 30.0, 36.0, 29.0, 29.0, 9.0, 1.0, 4.0, 29.0, 29.0, 45.0, 40.0, 36.0, 32.0, 19.0, 19.0, 3.0, 44.0, 58.0, 29.0, 42.0, 29.0, 24.0, 28.0, 29.0, 34.0, 45.5, 18.0, 2.0, 32.0, 26.0, 16.0, 40.0, 24.0, 35.0, 22.0, 30.0, 29.0, 31.0, 27.0, 42.0, 32.0, 30.0, 16.0, 27.0, 51.0, 29.0, 38.0, 22.0, 19.0, 20.5, 18.0, 29.0, 35.0, 29.0, 59.0, 5.0, 24.0, 29.0, 44.0, 8.0, 19.0, 33.0, 29.0, 29.0, 29.0, 22.0, 30.0, 44.0, 25.0, 24.0, 37.0, 54.0, 29.0, 29.0, 62.0, 30.0, 41.0, 29.0, 29.0, 30.0, 35.0, 50.0, 29.0, 3.0, 52.0, 40.0, 29.0, 36.0, 16.0, 25.0, 58.0, 35.0, 29.0, 25.0, 41.0, 37.0, 29.0, 63.0, 45.0, 29.0, 7.0, 35.0, 65.0, 28.0, 16.0, 19.0, 29.0, 33.0, 30.0, 22.0, 42.0, 22.0, 26.0, 19.0, 36.0, 24.0, 24.0, 29.0, 23.5, 2.0, 29.0, 50.0, 29.0, 29.0, 19.0, 29.0, 29.0, 0.92, 29.0, 17.0, 30.0, 30.0, 24.0, 18.0, 26.0, 28.0, 43.0, 26.0, 24.0, 54.0, 31.0, 40.0, 22.0, 27.0, 30.0, 22.0, 29.0, 36.0, 61.0, 36.0, 31.0, 16.0, 29.0, 45.5, 38.0, 16.0, 29.0, 29.0, 29.0, 41.0, 45.0, 45.0, 2.0, 24.0, 28.0, 25.0, 36.0, 24.0, 40.0, 29.0, 3.0, 42.0, 23.0, 29.0, 15.0, 25.0, 29.0, 28.0, 22.0, 38.0, 29.0, 29.0, 40.0, 29.0, 45.0, 35.0, 29.0, 30.0, 60.0, 29.0, 29.0, 24.0, 25.0, 18.0, 19.0, 22.0, 3.0, 29.0, 22.0, 27.0, 20.0, 19.0, 42.0, 1.0, 32.0, 35.0, 29.0, 18.0, 1.0, 36.0, 29.0, 17.0, 36.0, 21.0, 28.0, 23.0, 24.0, 22.0, 31.0, 46.0, 23.0, 28.0, 39.0, 26.0, 21.0, 28.0, 20.0, 34.0, 51.0, 3.0, 21.0, 29.0, 29.0, 29.0, 33.0, 29.0, 44.0, 29.0, 34.0, 18.0, 30.0, 10.0, 29.0, 21.0, 29.0, 28.0, 18.0, 29.0, 28.0, 19.0, 29.0, 32.0, 28.0, 29.0, 42.0, 17.0, 50.0, 14.0, 21.0, 24.0, 64.0, 31.0, 45.0, 20.0, 25.0, 28.0, 29.0, 4.0, 13.0, 34.0, 5.0, 52.0, 36.0, 29.0, 30.0, 49.0, 29.0, 29.0, 65.0, 29.0, 50.0, 29.0, 48.0, 34.0, 47.0, 48.0, 29.0, 38.0, 29.0, 56.0, 29.0, 0.75, 29.0, 38.0, 33.0, 23.0, 22.0, 29.0, 34.0, 29.0, 22.0, 2.0, 9.0, 29.0, 50.0, 63.0, 25.0, 29.0, 35.0, 58.0, 30.0, 9.0, 29.0, 21.0, 55.0, 71.0, 21.0, 29.0, 54.0, 29.0, 25.0, 24.0, 17.0, 21.0, 29.0, 37.0, 16.0, 18.0, 33.0, 29.0, 28.0, 26.0, 29.0, 29.0, 36.0, 54.0, 24.0, 47.0, 34.0, 29.0, 36.0, 32.0, 30.0, 22.0, 29.0, 44.0, 29.0, 40.5, 50.0, 29.0, 39.0, 23.0, 2.0, 29.0, 17.0, 29.0, 30.0, 7.0, 45.0, 30.0, 29.0, 22.0, 36.0, 9.0, 11.0, 32.0, 50.0, 64.0, 19.0, 29.0, 33.0, 8.0, 17.0, 27.0, 29.0, 22.0, 22.0, 62.0, 48.0, 29.0, 39.0, 36.0, 29.0, 40.0, 28.0, 29.0, 29.0, 24.0, 19.0, 29.0, 29.0, 32.0, 62.0, 53.0, 36.0, 29.0, 16.0, 19.0, 34.0, 39.0, 29.0, 32.0, 25.0, 39.0, 54.0, 36.0, 29.0, 18.0, 47.0, 60.0, 22.0, 29.0, 35.0, 52.0, 47.0, 29.0, 37.0, 36.0, 29.0, 49.0, 29.0, 49.0, 24.0, 29.0, 29.0, 44.0, 35.0, 36.0, 30.0, 27.0, 22.0, 40.0, 39.0, 29.0, 29.0, 29.0, 35.0, 24.0, 34.0, 26.0, 4.0, 26.0, 27.0, 42.0, 20.0, 21.0, 21.0, 61.0, 57.0, 21.0, 26.0, 29.0, 80.0, 51.0, 32.0, 29.0, 9.0, 28.0, 32.0, 31.0, 41.0, 29.0, 20.0, 24.0, 2.0, 29.0, 0.75, 48.0, 19.0, 56.0, 29.0, 23.0, 29.0, 18.0, 21.0, 29.0, 18.0, 24.0, 29.0, 32.0, 23.0, 58.0, 50.0, 40.0, 47.0, 36.0, 20.0, 32.0, 25.0, 29.0, 43.0, 29.0, 40.0, 31.0, 70.0, 31.0, 29.0, 18.0, 24.5, 18.0, 43.0, 36.0, 29.0, 27.0, 20.0, 14.0, 60.0, 25.0, 14.0, 19.0, 18.0, 15.0, 31.0, 4.0, 29.0, 25.0, 60.0, 52.0, 44.0, 29.0, 49.0, 42.0, 18.0, 35.0, 18.0, 25.0, 26.0, 39.0, 45.0, 42.0, 22.0, 29.0, 24.0, 29.0, 48.0, 29.0, 52.0, 19.0, 38.0, 27.0, 29.0, 33.0, 6.0, 17.0, 34.0, 50.0, 27.0, 20.0, 30.0, 29.0, 25.0, 25.0, 29.0, 11.0, 29.0, 23.0, 23.0, 28.5, 48.0, 35.0, 29.0, 29.0, 29.0, 36.0, 21.0, 24.0, 31.0, 70.0, 16.0, 30.0, 19.0, 31.0, 4.0, 6.0, 33.0, 23.0, 48.0, 0.67, 28.0, 18.0, 34.0, 33.0, 29.0, 41.0, 20.0, 36.0, 16.0, 51.0, 29.0, 30.5, 29.0, 32.0, 24.0, 48.0, 57.0, 29.0, 54.0, 18.0, 29.0, 5.0, 29.0, 43.0, 13.0, 17.0, 29.0, 29.0, 25.0, 25.0, 18.0, 8.0, 1.0, 46.0, 29.0, 16.0, 29.0, 29.0, 25.0, 39.0, 49.0, 31.0, 30.0, 30.0, 34.0, 31.0, 11.0, 0.42, 27.0, 31.0, 39.0, 18.0, 39.0, 33.0, 26.0, 39.0, 35.0, 6.0, 30.5, 29.0, 23.0, 31.0, 43.0, 10.0, 52.0, 27.0, 38.0, 27.0, 2.0, 29.0, 29.0, 1.0, 29.0, 15.0, 0.83, 29.0, 23.0, 18.0, 39.0, 21.0, 29.0, 32.0, 29.0, 20.0, 16.0, 30.0, 34.5, 17.0, 42.0, 29.0, 35.0, 28.0, 29.0, 4.0, 74.0, 9.0, 16.0, 44.0, 18.0, 45.0, 51.0, 24.0, 29.0, 41.0, 21.0, 48.0, 29.0, 24.0, 42.0, 27.0, 31.0, 29.0, 4.0, 26.0, 47.0, 33.0, 47.0, 28.0, 15.0, 20.0, 19.0, 29.0, 56.0, 25.0, 33.0, 22.0, 28.0, 25.0, 39.0, 27.0, 19.0, 29.0, 26.0, 32.0]}],\n",
       "                        {\"template\": {\"data\": {\"bar\": [{\"error_x\": {\"color\": \"#2a3f5f\"}, \"error_y\": {\"color\": \"#2a3f5f\"}, \"marker\": {\"line\": {\"color\": \"#E5ECF6\", \"width\": 0.5}}, \"type\": \"bar\"}], \"barpolar\": [{\"marker\": {\"line\": {\"color\": \"#E5ECF6\", \"width\": 0.5}}, \"type\": \"barpolar\"}], \"carpet\": [{\"aaxis\": {\"endlinecolor\": \"#2a3f5f\", \"gridcolor\": \"white\", \"linecolor\": \"white\", \"minorgridcolor\": \"white\", \"startlinecolor\": \"#2a3f5f\"}, \"baxis\": {\"endlinecolor\": \"#2a3f5f\", \"gridcolor\": \"white\", \"linecolor\": \"white\", \"minorgridcolor\": \"white\", \"startlinecolor\": \"#2a3f5f\"}, \"type\": \"carpet\"}], \"choropleth\": [{\"colorbar\": {\"outlinewidth\": 0, \"ticks\": \"\"}, \"type\": \"choropleth\"}], \"contour\": [{\"colorbar\": {\"outlinewidth\": 0, \"ticks\": \"\"}, \"colorscale\": [[0.0, \"#0d0887\"], [0.1111111111111111, \"#46039f\"], [0.2222222222222222, \"#7201a8\"], [0.3333333333333333, \"#9c179e\"], [0.4444444444444444, \"#bd3786\"], [0.5555555555555556, \"#d8576b\"], [0.6666666666666666, \"#ed7953\"], [0.7777777777777778, \"#fb9f3a\"], [0.8888888888888888, \"#fdca26\"], [1.0, \"#f0f921\"]], \"type\": \"contour\"}], \"contourcarpet\": [{\"colorbar\": {\"outlinewidth\": 0, \"ticks\": \"\"}, \"type\": \"contourcarpet\"}], \"heatmap\": [{\"colorbar\": {\"outlinewidth\": 0, \"ticks\": \"\"}, \"colorscale\": [[0.0, \"#0d0887\"], [0.1111111111111111, \"#46039f\"], [0.2222222222222222, \"#7201a8\"], [0.3333333333333333, \"#9c179e\"], [0.4444444444444444, \"#bd3786\"], [0.5555555555555556, \"#d8576b\"], [0.6666666666666666, \"#ed7953\"], [0.7777777777777778, \"#fb9f3a\"], [0.8888888888888888, \"#fdca26\"], [1.0, \"#f0f921\"]], \"type\": \"heatmap\"}], \"heatmapgl\": [{\"colorbar\": {\"outlinewidth\": 0, \"ticks\": \"\"}, \"colorscale\": [[0.0, \"#0d0887\"], [0.1111111111111111, \"#46039f\"], [0.2222222222222222, \"#7201a8\"], [0.3333333333333333, \"#9c179e\"], [0.4444444444444444, \"#bd3786\"], [0.5555555555555556, \"#d8576b\"], [0.6666666666666666, \"#ed7953\"], [0.7777777777777778, \"#fb9f3a\"], [0.8888888888888888, \"#fdca26\"], [1.0, \"#f0f921\"]], \"type\": \"heatmapgl\"}], \"histogram\": [{\"marker\": {\"colorbar\": {\"outlinewidth\": 0, \"ticks\": \"\"}}, \"type\": \"histogram\"}], \"histogram2d\": [{\"colorbar\": {\"outlinewidth\": 0, \"ticks\": \"\"}, \"colorscale\": [[0.0, \"#0d0887\"], [0.1111111111111111, \"#46039f\"], [0.2222222222222222, \"#7201a8\"], [0.3333333333333333, \"#9c179e\"], [0.4444444444444444, \"#bd3786\"], [0.5555555555555556, \"#d8576b\"], [0.6666666666666666, \"#ed7953\"], [0.7777777777777778, \"#fb9f3a\"], [0.8888888888888888, \"#fdca26\"], [1.0, \"#f0f921\"]], \"type\": \"histogram2d\"}], \"histogram2dcontour\": [{\"colorbar\": {\"outlinewidth\": 0, \"ticks\": \"\"}, \"colorscale\": [[0.0, \"#0d0887\"], [0.1111111111111111, \"#46039f\"], [0.2222222222222222, \"#7201a8\"], [0.3333333333333333, \"#9c179e\"], [0.4444444444444444, \"#bd3786\"], [0.5555555555555556, \"#d8576b\"], [0.6666666666666666, \"#ed7953\"], [0.7777777777777778, \"#fb9f3a\"], [0.8888888888888888, \"#fdca26\"], [1.0, \"#f0f921\"]], \"type\": \"histogram2dcontour\"}], \"mesh3d\": [{\"colorbar\": {\"outlinewidth\": 0, \"ticks\": \"\"}, \"type\": \"mesh3d\"}], \"parcoords\": [{\"line\": {\"colorbar\": {\"outlinewidth\": 0, \"ticks\": \"\"}}, \"type\": \"parcoords\"}], \"pie\": [{\"automargin\": true, \"type\": \"pie\"}], \"scatter\": [{\"marker\": {\"colorbar\": {\"outlinewidth\": 0, \"ticks\": \"\"}}, \"type\": \"scatter\"}], \"scatter3d\": [{\"line\": {\"colorbar\": {\"outlinewidth\": 0, \"ticks\": \"\"}}, \"marker\": {\"colorbar\": {\"outlinewidth\": 0, \"ticks\": \"\"}}, \"type\": \"scatter3d\"}], \"scattercarpet\": [{\"marker\": {\"colorbar\": {\"outlinewidth\": 0, \"ticks\": \"\"}}, \"type\": \"scattercarpet\"}], \"scattergeo\": [{\"marker\": {\"colorbar\": {\"outlinewidth\": 0, \"ticks\": \"\"}}, \"type\": \"scattergeo\"}], \"scattergl\": [{\"marker\": {\"colorbar\": {\"outlinewidth\": 0, \"ticks\": \"\"}}, \"type\": \"scattergl\"}], \"scattermapbox\": [{\"marker\": {\"colorbar\": {\"outlinewidth\": 0, \"ticks\": \"\"}}, \"type\": \"scattermapbox\"}], \"scatterpolar\": [{\"marker\": {\"colorbar\": {\"outlinewidth\": 0, \"ticks\": \"\"}}, \"type\": \"scatterpolar\"}], \"scatterpolargl\": [{\"marker\": {\"colorbar\": {\"outlinewidth\": 0, \"ticks\": \"\"}}, \"type\": \"scatterpolargl\"}], \"scatterternary\": [{\"marker\": {\"colorbar\": {\"outlinewidth\": 0, \"ticks\": \"\"}}, \"type\": \"scatterternary\"}], \"surface\": [{\"colorbar\": {\"outlinewidth\": 0, \"ticks\": \"\"}, \"colorscale\": [[0.0, \"#0d0887\"], [0.1111111111111111, \"#46039f\"], [0.2222222222222222, \"#7201a8\"], [0.3333333333333333, \"#9c179e\"], [0.4444444444444444, \"#bd3786\"], [0.5555555555555556, \"#d8576b\"], [0.6666666666666666, \"#ed7953\"], [0.7777777777777778, \"#fb9f3a\"], [0.8888888888888888, \"#fdca26\"], [1.0, \"#f0f921\"]], \"type\": \"surface\"}], \"table\": [{\"cells\": {\"fill\": {\"color\": \"#EBF0F8\"}, \"line\": {\"color\": \"white\"}}, \"header\": {\"fill\": {\"color\": \"#C8D4E3\"}, \"line\": {\"color\": \"white\"}}, \"type\": \"table\"}]}, \"layout\": {\"annotationdefaults\": {\"arrowcolor\": \"#2a3f5f\", \"arrowhead\": 0, \"arrowwidth\": 1}, \"coloraxis\": {\"colorbar\": {\"outlinewidth\": 0, \"ticks\": \"\"}}, \"colorscale\": {\"diverging\": [[0, \"#8e0152\"], [0.1, \"#c51b7d\"], [0.2, \"#de77ae\"], [0.3, \"#f1b6da\"], [0.4, \"#fde0ef\"], [0.5, \"#f7f7f7\"], [0.6, \"#e6f5d0\"], [0.7, \"#b8e186\"], [0.8, \"#7fbc41\"], [0.9, \"#4d9221\"], [1, \"#276419\"]], \"sequential\": [[0.0, \"#0d0887\"], [0.1111111111111111, \"#46039f\"], [0.2222222222222222, \"#7201a8\"], [0.3333333333333333, \"#9c179e\"], [0.4444444444444444, \"#bd3786\"], [0.5555555555555556, \"#d8576b\"], [0.6666666666666666, \"#ed7953\"], [0.7777777777777778, \"#fb9f3a\"], [0.8888888888888888, \"#fdca26\"], [1.0, \"#f0f921\"]], \"sequentialminus\": [[0.0, \"#0d0887\"], [0.1111111111111111, \"#46039f\"], [0.2222222222222222, \"#7201a8\"], [0.3333333333333333, \"#9c179e\"], [0.4444444444444444, \"#bd3786\"], [0.5555555555555556, \"#d8576b\"], [0.6666666666666666, \"#ed7953\"], [0.7777777777777778, \"#fb9f3a\"], [0.8888888888888888, \"#fdca26\"], [1.0, \"#f0f921\"]]}, \"colorway\": [\"#636efa\", \"#EF553B\", \"#00cc96\", \"#ab63fa\", \"#FFA15A\", \"#19d3f3\", \"#FF6692\", \"#B6E880\", \"#FF97FF\", \"#FECB52\"], \"font\": {\"color\": \"#2a3f5f\"}, \"geo\": {\"bgcolor\": \"white\", \"lakecolor\": \"white\", \"landcolor\": \"#E5ECF6\", \"showlakes\": true, \"showland\": true, \"subunitcolor\": \"white\"}, \"hoverlabel\": {\"align\": \"left\"}, \"hovermode\": \"closest\", \"mapbox\": {\"style\": \"light\"}, \"paper_bgcolor\": \"white\", \"plot_bgcolor\": \"#E5ECF6\", \"polar\": {\"angularaxis\": {\"gridcolor\": \"white\", \"linecolor\": \"white\", \"ticks\": \"\"}, \"bgcolor\": \"#E5ECF6\", \"radialaxis\": {\"gridcolor\": \"white\", \"linecolor\": \"white\", \"ticks\": \"\"}}, \"scene\": {\"xaxis\": {\"backgroundcolor\": \"#E5ECF6\", \"gridcolor\": \"white\", \"gridwidth\": 2, \"linecolor\": \"white\", \"showbackground\": true, \"ticks\": \"\", \"zerolinecolor\": \"white\"}, \"yaxis\": {\"backgroundcolor\": \"#E5ECF6\", \"gridcolor\": \"white\", \"gridwidth\": 2, \"linecolor\": \"white\", \"showbackground\": true, \"ticks\": \"\", \"zerolinecolor\": \"white\"}, \"zaxis\": {\"backgroundcolor\": \"#E5ECF6\", \"gridcolor\": \"white\", \"gridwidth\": 2, \"linecolor\": \"white\", \"showbackground\": true, \"ticks\": \"\", \"zerolinecolor\": \"white\"}}, \"shapedefaults\": {\"line\": {\"color\": \"#2a3f5f\"}}, \"ternary\": {\"aaxis\": {\"gridcolor\": \"white\", \"linecolor\": \"white\", \"ticks\": \"\"}, \"baxis\": {\"gridcolor\": \"white\", \"linecolor\": \"white\", \"ticks\": \"\"}, \"bgcolor\": \"#E5ECF6\", \"caxis\": {\"gridcolor\": \"white\", \"linecolor\": \"white\", \"ticks\": \"\"}}, \"title\": {\"x\": 0.05}, \"xaxis\": {\"automargin\": true, \"gridcolor\": \"white\", \"linecolor\": \"white\", \"ticks\": \"\", \"title\": {\"standoff\": 15}, \"zerolinecolor\": \"white\", \"zerolinewidth\": 2}, \"yaxis\": {\"automargin\": true, \"gridcolor\": \"white\", \"linecolor\": \"white\", \"ticks\": \"\", \"title\": {\"standoff\": 15}, \"zerolinecolor\": \"white\", \"zerolinewidth\": 2}}}, \"title\": {\"text\": \"Age\"}},\n",
       "                        {\"responsive\": true}\n",
       "                    ).then(function(){\n",
       "                            \n",
       "var gd = document.getElementById('b7acc0bb-8bb8-4b80-9988-998abc3fe9b6');\n",
       "var x = new MutationObserver(function (mutations, observer) {{\n",
       "        var display = window.getComputedStyle(gd).display;\n",
       "        if (!display || display === 'none') {{\n",
       "            console.log([gd, 'removed!']);\n",
       "            Plotly.purge(gd);\n",
       "            observer.disconnect();\n",
       "        }}\n",
       "}});\n",
       "\n",
       "// Listen for the removal of the full notebook cells\n",
       "var notebookContainer = gd.closest('#notebook-container');\n",
       "if (notebookContainer) {{\n",
       "    x.observe(notebookContainer, {childList: true});\n",
       "}}\n",
       "\n",
       "// Listen for the clearing of the current output cell\n",
       "var outputEl = gd.closest('.output');\n",
       "if (outputEl) {{\n",
       "    x.observe(outputEl, {childList: true});\n",
       "}}\n",
       "\n",
       "                        })\n",
       "                };\n",
       "                });\n",
       "            </script>\n",
       "        </div>"
      ]
     },
     "metadata": {},
     "output_type": "display_data"
    },
    {
     "data": {
      "application/vnd.plotly.v1+json": {
       "config": {
        "plotlyServerURL": "https://plot.ly"
       },
       "data": [
        {
         "marker": {
          "color": "#08F67F"
         },
         "nbinsx": 10,
         "opacity": 0.7,
         "type": "histogram",
         "x": [
          2,
          2,
          1,
          2,
          1,
          1,
          1,
          5,
          3,
          2,
          3,
          1,
          1,
          7,
          1,
          1,
          6,
          1,
          2,
          1,
          1,
          1,
          1,
          1,
          5,
          7,
          1,
          6,
          1,
          1,
          1,
          2,
          1,
          1,
          2,
          2,
          1,
          1,
          3,
          2,
          2,
          2,
          1,
          4,
          1,
          1,
          2,
          1,
          3,
          2,
          6,
          1,
          2,
          2,
          2,
          1,
          1,
          1,
          4,
          8,
          1,
          2,
          6,
          1,
          3,
          1,
          1,
          7,
          3,
          1,
          8,
          1,
          2,
          1,
          1,
          1,
          1,
          3,
          1,
          1,
          1,
          1,
          1,
          1,
          4,
          5,
          1,
          6,
          1,
          1,
          1,
          2,
          4,
          1,
          1,
          1,
          2,
          2,
          2,
          1,
          1,
          2,
          1,
          3,
          1,
          1,
          1,
          1,
          2,
          1,
          2,
          1,
          2,
          1,
          1,
          1,
          2,
          2,
          7,
          3,
          1,
          2,
          1,
          2,
          2,
          1,
          1,
          3,
          1,
          1,
          1,
          2,
          2,
          1,
          1,
          3,
          2,
          1,
          1,
          3,
          1,
          2,
          1,
          1,
          3,
          1,
          5,
          3,
          1,
          1,
          2,
          1,
          3,
          1,
          2,
          1,
          1,
          1,
          11,
          2,
          1,
          1,
          1,
          6,
          3,
          2,
          6,
          1,
          1,
          1,
          6,
          3,
          1,
          1,
          3,
          5,
          1,
          1,
          1,
          11,
          1,
          7,
          4,
          3,
          1,
          2,
          1,
          3,
          1,
          1,
          1,
          2,
          3,
          1,
          1,
          1,
          2,
          1,
          1,
          1,
          11,
          1,
          1,
          1,
          2,
          2,
          1,
          1,
          1,
          1,
          1,
          1,
          1,
          2,
          2,
          1,
          2,
          1,
          1,
          1,
          1,
          1,
          1,
          2,
          1,
          1,
          1,
          1,
          5,
          2,
          1,
          1,
          7,
          1,
          1,
          2,
          3,
          1,
          1,
          2,
          2,
          1,
          1,
          1,
          3,
          1,
          3,
          3,
          2,
          1,
          3,
          1,
          2,
          3,
          3,
          1,
          1,
          1,
          2,
          1,
          7,
          3,
          1,
          1,
          1,
          6,
          2,
          2,
          1,
          1,
          1,
          2,
          2,
          1,
          2,
          1,
          1,
          6,
          3,
          1,
          1,
          1,
          1,
          1,
          1,
          1,
          1,
          1,
          1,
          1,
          2,
          1,
          1,
          1,
          1,
          1,
          4,
          1,
          2,
          1,
          3,
          1,
          1,
          1,
          4,
          1,
          2,
          2,
          1,
          1,
          5,
          3,
          1,
          3,
          1,
          2,
          1,
          3,
          3,
          1,
          1,
          1,
          3,
          11,
          1,
          1,
          1,
          3,
          2,
          3,
          1,
          2,
          3,
          2,
          1,
          2,
          1,
          1,
          1,
          3,
          6,
          1,
          1,
          1,
          1,
          1,
          2,
          3,
          1,
          1,
          1,
          3,
          2,
          1,
          1,
          2,
          1,
          1,
          1,
          6,
          2,
          2,
          1,
          2,
          1,
          2,
          1,
          1,
          1,
          2,
          2,
          1,
          1,
          5,
          2,
          1,
          3,
          1,
          1,
          1,
          3,
          1,
          2,
          1,
          1,
          8,
          1,
          1,
          1,
          4,
          1,
          3,
          2,
          3,
          1,
          1,
          1,
          1,
          1,
          1,
          1,
          2,
          2,
          1,
          2,
          1,
          3,
          1,
          5,
          1,
          1,
          2,
          1,
          1,
          1,
          3,
          3,
          1,
          3,
          1,
          1,
          1,
          3,
          3,
          1,
          2,
          1,
          1,
          1,
          1,
          2,
          2,
          1,
          2,
          4,
          5,
          6,
          6,
          1,
          3,
          1,
          2,
          1,
          1,
          3,
          2,
          1,
          4,
          1,
          4,
          2,
          1,
          2,
          1,
          1,
          1,
          2,
          1,
          1,
          1,
          1,
          1,
          1,
          1,
          1,
          1,
          1,
          1,
          4,
          1,
          1,
          4,
          1,
          1,
          1,
          2,
          2,
          1,
          2,
          8,
          1,
          1,
          1,
          2,
          5,
          2,
          1,
          1,
          3,
          2,
          1,
          1,
          1,
          1,
          1,
          2,
          1,
          4,
          1,
          1,
          1,
          1,
          1,
          1,
          2,
          3,
          1,
          1,
          1,
          1,
          1,
          1,
          2,
          1,
          1,
          1,
          1,
          2,
          1,
          1,
          1,
          1,
          2,
          1,
          1,
          1,
          1,
          1,
          4,
          3,
          1,
          3,
          3,
          1,
          3,
          1,
          1,
          1,
          3,
          3,
          7,
          7,
          2,
          2,
          1,
          2,
          1,
          3,
          3,
          3,
          1,
          1,
          1,
          1,
          1,
          2,
          1,
          3,
          2,
          1,
          1,
          1,
          1,
          1,
          3,
          1,
          5,
          1,
          1,
          1,
          3,
          1,
          1,
          1,
          1,
          1,
          2,
          2,
          1,
          3,
          3,
          1,
          1,
          1,
          3,
          1,
          3,
          1,
          1,
          1,
          2,
          1,
          3,
          2,
          3,
          1,
          1,
          1,
          2,
          4,
          1,
          1,
          1,
          1,
          2,
          1,
          1,
          4,
          1,
          7,
          1,
          2,
          1,
          1,
          4,
          3,
          2,
          4,
          1,
          2,
          2,
          3,
          1,
          1,
          1,
          1,
          1,
          1,
          1,
          1,
          1,
          1,
          1,
          6,
          1,
          1,
          3,
          6,
          2,
          1,
          1,
          6,
          1,
          4,
          2,
          1,
          1,
          1,
          1,
          1,
          2,
          1,
          1,
          1,
          3,
          1,
          3,
          1,
          3,
          3,
          1,
          1,
          1,
          2,
          3,
          1,
          1,
          1,
          2,
          3,
          2,
          1,
          1,
          1,
          1,
          1,
          1,
          8,
          2,
          1,
          1,
          1,
          8,
          3,
          4,
          6,
          1,
          1,
          2,
          2,
          2,
          1,
          1,
          1,
          1,
          1,
          1,
          3,
          1,
          2,
          1,
          2,
          1,
          2,
          1,
          1,
          1,
          1,
          3,
          1,
          1,
          2,
          1,
          1,
          1,
          1,
          1,
          1,
          1,
          2,
          2,
          1,
          1,
          2,
          1,
          4,
          1,
          2,
          2,
          1,
          1,
          1,
          1,
          1,
          1,
          5,
          1,
          1,
          1,
          1,
          2,
          5,
          2,
          1,
          3,
          3,
          1,
          2,
          1,
          3,
          2,
          1,
          1,
          4,
          3,
          1,
          1,
          1,
          1,
          1,
          1,
          1,
          4,
          1,
          2,
          1,
          1,
          2,
          1,
          1,
          1,
          1,
          1,
          5,
          1,
          1,
          1,
          1,
          2,
          1,
          2,
          1,
          4,
          1,
          1,
          1,
          6,
          4,
          1,
          1,
          1,
          11,
          1,
          1,
          1,
          1,
          1,
          1,
          3,
          1,
          3,
          4,
          2,
          1,
          1,
          1,
          1,
          1,
          2,
          1,
          1,
          1,
          7,
          1,
          1,
          1,
          3,
          1,
          6,
          3,
          1,
          1,
          2,
          6,
          1,
          1,
          3,
          1,
          2,
          3,
          1,
          1,
          1,
          3,
          1,
          1,
          1,
          1,
          1,
          1,
          1,
          1,
          1,
          1,
          11,
          1,
          2,
          2,
          7,
          1,
          3,
          2,
          2,
          2,
          3,
          1,
          4,
          1,
          3,
          2,
          1,
          11,
          1,
          1,
          2,
          1,
          1,
          3,
          1,
          3,
          1,
          1,
          2,
          1,
          1,
          1,
          1,
          2,
          2,
          1,
          1,
          1,
          1,
          6,
          1,
          1,
          4,
          1,
          1
         ]
        }
       ],
       "layout": {
        "template": {
         "data": {
          "bar": [
           {
            "error_x": {
             "color": "#2a3f5f"
            },
            "error_y": {
             "color": "#2a3f5f"
            },
            "marker": {
             "line": {
              "color": "#E5ECF6",
              "width": 0.5
             }
            },
            "type": "bar"
           }
          ],
          "barpolar": [
           {
            "marker": {
             "line": {
              "color": "#E5ECF6",
              "width": 0.5
             }
            },
            "type": "barpolar"
           }
          ],
          "carpet": [
           {
            "aaxis": {
             "endlinecolor": "#2a3f5f",
             "gridcolor": "white",
             "linecolor": "white",
             "minorgridcolor": "white",
             "startlinecolor": "#2a3f5f"
            },
            "baxis": {
             "endlinecolor": "#2a3f5f",
             "gridcolor": "white",
             "linecolor": "white",
             "minorgridcolor": "white",
             "startlinecolor": "#2a3f5f"
            },
            "type": "carpet"
           }
          ],
          "choropleth": [
           {
            "colorbar": {
             "outlinewidth": 0,
             "ticks": ""
            },
            "type": "choropleth"
           }
          ],
          "contour": [
           {
            "colorbar": {
             "outlinewidth": 0,
             "ticks": ""
            },
            "colorscale": [
             [
              0,
              "#0d0887"
             ],
             [
              0.1111111111111111,
              "#46039f"
             ],
             [
              0.2222222222222222,
              "#7201a8"
             ],
             [
              0.3333333333333333,
              "#9c179e"
             ],
             [
              0.4444444444444444,
              "#bd3786"
             ],
             [
              0.5555555555555556,
              "#d8576b"
             ],
             [
              0.6666666666666666,
              "#ed7953"
             ],
             [
              0.7777777777777778,
              "#fb9f3a"
             ],
             [
              0.8888888888888888,
              "#fdca26"
             ],
             [
              1,
              "#f0f921"
             ]
            ],
            "type": "contour"
           }
          ],
          "contourcarpet": [
           {
            "colorbar": {
             "outlinewidth": 0,
             "ticks": ""
            },
            "type": "contourcarpet"
           }
          ],
          "heatmap": [
           {
            "colorbar": {
             "outlinewidth": 0,
             "ticks": ""
            },
            "colorscale": [
             [
              0,
              "#0d0887"
             ],
             [
              0.1111111111111111,
              "#46039f"
             ],
             [
              0.2222222222222222,
              "#7201a8"
             ],
             [
              0.3333333333333333,
              "#9c179e"
             ],
             [
              0.4444444444444444,
              "#bd3786"
             ],
             [
              0.5555555555555556,
              "#d8576b"
             ],
             [
              0.6666666666666666,
              "#ed7953"
             ],
             [
              0.7777777777777778,
              "#fb9f3a"
             ],
             [
              0.8888888888888888,
              "#fdca26"
             ],
             [
              1,
              "#f0f921"
             ]
            ],
            "type": "heatmap"
           }
          ],
          "heatmapgl": [
           {
            "colorbar": {
             "outlinewidth": 0,
             "ticks": ""
            },
            "colorscale": [
             [
              0,
              "#0d0887"
             ],
             [
              0.1111111111111111,
              "#46039f"
             ],
             [
              0.2222222222222222,
              "#7201a8"
             ],
             [
              0.3333333333333333,
              "#9c179e"
             ],
             [
              0.4444444444444444,
              "#bd3786"
             ],
             [
              0.5555555555555556,
              "#d8576b"
             ],
             [
              0.6666666666666666,
              "#ed7953"
             ],
             [
              0.7777777777777778,
              "#fb9f3a"
             ],
             [
              0.8888888888888888,
              "#fdca26"
             ],
             [
              1,
              "#f0f921"
             ]
            ],
            "type": "heatmapgl"
           }
          ],
          "histogram": [
           {
            "marker": {
             "colorbar": {
              "outlinewidth": 0,
              "ticks": ""
             }
            },
            "type": "histogram"
           }
          ],
          "histogram2d": [
           {
            "colorbar": {
             "outlinewidth": 0,
             "ticks": ""
            },
            "colorscale": [
             [
              0,
              "#0d0887"
             ],
             [
              0.1111111111111111,
              "#46039f"
             ],
             [
              0.2222222222222222,
              "#7201a8"
             ],
             [
              0.3333333333333333,
              "#9c179e"
             ],
             [
              0.4444444444444444,
              "#bd3786"
             ],
             [
              0.5555555555555556,
              "#d8576b"
             ],
             [
              0.6666666666666666,
              "#ed7953"
             ],
             [
              0.7777777777777778,
              "#fb9f3a"
             ],
             [
              0.8888888888888888,
              "#fdca26"
             ],
             [
              1,
              "#f0f921"
             ]
            ],
            "type": "histogram2d"
           }
          ],
          "histogram2dcontour": [
           {
            "colorbar": {
             "outlinewidth": 0,
             "ticks": ""
            },
            "colorscale": [
             [
              0,
              "#0d0887"
             ],
             [
              0.1111111111111111,
              "#46039f"
             ],
             [
              0.2222222222222222,
              "#7201a8"
             ],
             [
              0.3333333333333333,
              "#9c179e"
             ],
             [
              0.4444444444444444,
              "#bd3786"
             ],
             [
              0.5555555555555556,
              "#d8576b"
             ],
             [
              0.6666666666666666,
              "#ed7953"
             ],
             [
              0.7777777777777778,
              "#fb9f3a"
             ],
             [
              0.8888888888888888,
              "#fdca26"
             ],
             [
              1,
              "#f0f921"
             ]
            ],
            "type": "histogram2dcontour"
           }
          ],
          "mesh3d": [
           {
            "colorbar": {
             "outlinewidth": 0,
             "ticks": ""
            },
            "type": "mesh3d"
           }
          ],
          "parcoords": [
           {
            "line": {
             "colorbar": {
              "outlinewidth": 0,
              "ticks": ""
             }
            },
            "type": "parcoords"
           }
          ],
          "pie": [
           {
            "automargin": true,
            "type": "pie"
           }
          ],
          "scatter": [
           {
            "marker": {
             "colorbar": {
              "outlinewidth": 0,
              "ticks": ""
             }
            },
            "type": "scatter"
           }
          ],
          "scatter3d": [
           {
            "line": {
             "colorbar": {
              "outlinewidth": 0,
              "ticks": ""
             }
            },
            "marker": {
             "colorbar": {
              "outlinewidth": 0,
              "ticks": ""
             }
            },
            "type": "scatter3d"
           }
          ],
          "scattercarpet": [
           {
            "marker": {
             "colorbar": {
              "outlinewidth": 0,
              "ticks": ""
             }
            },
            "type": "scattercarpet"
           }
          ],
          "scattergeo": [
           {
            "marker": {
             "colorbar": {
              "outlinewidth": 0,
              "ticks": ""
             }
            },
            "type": "scattergeo"
           }
          ],
          "scattergl": [
           {
            "marker": {
             "colorbar": {
              "outlinewidth": 0,
              "ticks": ""
             }
            },
            "type": "scattergl"
           }
          ],
          "scattermapbox": [
           {
            "marker": {
             "colorbar": {
              "outlinewidth": 0,
              "ticks": ""
             }
            },
            "type": "scattermapbox"
           }
          ],
          "scatterpolar": [
           {
            "marker": {
             "colorbar": {
              "outlinewidth": 0,
              "ticks": ""
             }
            },
            "type": "scatterpolar"
           }
          ],
          "scatterpolargl": [
           {
            "marker": {
             "colorbar": {
              "outlinewidth": 0,
              "ticks": ""
             }
            },
            "type": "scatterpolargl"
           }
          ],
          "scatterternary": [
           {
            "marker": {
             "colorbar": {
              "outlinewidth": 0,
              "ticks": ""
             }
            },
            "type": "scatterternary"
           }
          ],
          "surface": [
           {
            "colorbar": {
             "outlinewidth": 0,
             "ticks": ""
            },
            "colorscale": [
             [
              0,
              "#0d0887"
             ],
             [
              0.1111111111111111,
              "#46039f"
             ],
             [
              0.2222222222222222,
              "#7201a8"
             ],
             [
              0.3333333333333333,
              "#9c179e"
             ],
             [
              0.4444444444444444,
              "#bd3786"
             ],
             [
              0.5555555555555556,
              "#d8576b"
             ],
             [
              0.6666666666666666,
              "#ed7953"
             ],
             [
              0.7777777777777778,
              "#fb9f3a"
             ],
             [
              0.8888888888888888,
              "#fdca26"
             ],
             [
              1,
              "#f0f921"
             ]
            ],
            "type": "surface"
           }
          ],
          "table": [
           {
            "cells": {
             "fill": {
              "color": "#EBF0F8"
             },
             "line": {
              "color": "white"
             }
            },
            "header": {
             "fill": {
              "color": "#C8D4E3"
             },
             "line": {
              "color": "white"
             }
            },
            "type": "table"
           }
          ]
         },
         "layout": {
          "annotationdefaults": {
           "arrowcolor": "#2a3f5f",
           "arrowhead": 0,
           "arrowwidth": 1
          },
          "coloraxis": {
           "colorbar": {
            "outlinewidth": 0,
            "ticks": ""
           }
          },
          "colorscale": {
           "diverging": [
            [
             0,
             "#8e0152"
            ],
            [
             0.1,
             "#c51b7d"
            ],
            [
             0.2,
             "#de77ae"
            ],
            [
             0.3,
             "#f1b6da"
            ],
            [
             0.4,
             "#fde0ef"
            ],
            [
             0.5,
             "#f7f7f7"
            ],
            [
             0.6,
             "#e6f5d0"
            ],
            [
             0.7,
             "#b8e186"
            ],
            [
             0.8,
             "#7fbc41"
            ],
            [
             0.9,
             "#4d9221"
            ],
            [
             1,
             "#276419"
            ]
           ],
           "sequential": [
            [
             0,
             "#0d0887"
            ],
            [
             0.1111111111111111,
             "#46039f"
            ],
            [
             0.2222222222222222,
             "#7201a8"
            ],
            [
             0.3333333333333333,
             "#9c179e"
            ],
            [
             0.4444444444444444,
             "#bd3786"
            ],
            [
             0.5555555555555556,
             "#d8576b"
            ],
            [
             0.6666666666666666,
             "#ed7953"
            ],
            [
             0.7777777777777778,
             "#fb9f3a"
            ],
            [
             0.8888888888888888,
             "#fdca26"
            ],
            [
             1,
             "#f0f921"
            ]
           ],
           "sequentialminus": [
            [
             0,
             "#0d0887"
            ],
            [
             0.1111111111111111,
             "#46039f"
            ],
            [
             0.2222222222222222,
             "#7201a8"
            ],
            [
             0.3333333333333333,
             "#9c179e"
            ],
            [
             0.4444444444444444,
             "#bd3786"
            ],
            [
             0.5555555555555556,
             "#d8576b"
            ],
            [
             0.6666666666666666,
             "#ed7953"
            ],
            [
             0.7777777777777778,
             "#fb9f3a"
            ],
            [
             0.8888888888888888,
             "#fdca26"
            ],
            [
             1,
             "#f0f921"
            ]
           ]
          },
          "colorway": [
           "#636efa",
           "#EF553B",
           "#00cc96",
           "#ab63fa",
           "#FFA15A",
           "#19d3f3",
           "#FF6692",
           "#B6E880",
           "#FF97FF",
           "#FECB52"
          ],
          "font": {
           "color": "#2a3f5f"
          },
          "geo": {
           "bgcolor": "white",
           "lakecolor": "white",
           "landcolor": "#E5ECF6",
           "showlakes": true,
           "showland": true,
           "subunitcolor": "white"
          },
          "hoverlabel": {
           "align": "left"
          },
          "hovermode": "closest",
          "mapbox": {
           "style": "light"
          },
          "paper_bgcolor": "white",
          "plot_bgcolor": "#E5ECF6",
          "polar": {
           "angularaxis": {
            "gridcolor": "white",
            "linecolor": "white",
            "ticks": ""
           },
           "bgcolor": "#E5ECF6",
           "radialaxis": {
            "gridcolor": "white",
            "linecolor": "white",
            "ticks": ""
           }
          },
          "scene": {
           "xaxis": {
            "backgroundcolor": "#E5ECF6",
            "gridcolor": "white",
            "gridwidth": 2,
            "linecolor": "white",
            "showbackground": true,
            "ticks": "",
            "zerolinecolor": "white"
           },
           "yaxis": {
            "backgroundcolor": "#E5ECF6",
            "gridcolor": "white",
            "gridwidth": 2,
            "linecolor": "white",
            "showbackground": true,
            "ticks": "",
            "zerolinecolor": "white"
           },
           "zaxis": {
            "backgroundcolor": "#E5ECF6",
            "gridcolor": "white",
            "gridwidth": 2,
            "linecolor": "white",
            "showbackground": true,
            "ticks": "",
            "zerolinecolor": "white"
           }
          },
          "shapedefaults": {
           "line": {
            "color": "#2a3f5f"
           }
          },
          "ternary": {
           "aaxis": {
            "gridcolor": "white",
            "linecolor": "white",
            "ticks": ""
           },
           "baxis": {
            "gridcolor": "white",
            "linecolor": "white",
            "ticks": ""
           },
           "bgcolor": "#E5ECF6",
           "caxis": {
            "gridcolor": "white",
            "linecolor": "white",
            "ticks": ""
           }
          },
          "title": {
           "x": 0.05
          },
          "xaxis": {
           "automargin": true,
           "gridcolor": "white",
           "linecolor": "white",
           "ticks": "",
           "title": {
            "standoff": 15
           },
           "zerolinecolor": "white",
           "zerolinewidth": 2
          },
          "yaxis": {
           "automargin": true,
           "gridcolor": "white",
           "linecolor": "white",
           "ticks": "",
           "title": {
            "standoff": 15
           },
           "zerolinecolor": "white",
           "zerolinewidth": 2
          }
         }
        },
        "title": {
         "text": "fam_Size"
        }
       }
      },
      "text/html": [
       "<div>\n",
       "        \n",
       "        \n",
       "            <div id=\"86e8f006-0618-4ee4-ba77-b1a3e43a7695\" class=\"plotly-graph-div\" style=\"height:525px; width:100%;\"></div>\n",
       "            <script type=\"text/javascript\">\n",
       "                require([\"plotly\"], function(Plotly) {\n",
       "                    window.PLOTLYENV=window.PLOTLYENV || {};\n",
       "                    \n",
       "                if (document.getElementById(\"86e8f006-0618-4ee4-ba77-b1a3e43a7695\")) {\n",
       "                    Plotly.newPlot(\n",
       "                        '86e8f006-0618-4ee4-ba77-b1a3e43a7695',\n",
       "                        [{\"marker\": {\"color\": \"#08F67F\"}, \"nbinsx\": 10, \"opacity\": 0.7, \"type\": \"histogram\", \"x\": [2, 2, 1, 2, 1, 1, 1, 5, 3, 2, 3, 1, 1, 7, 1, 1, 6, 1, 2, 1, 1, 1, 1, 1, 5, 7, 1, 6, 1, 1, 1, 2, 1, 1, 2, 2, 1, 1, 3, 2, 2, 2, 1, 4, 1, 1, 2, 1, 3, 2, 6, 1, 2, 2, 2, 1, 1, 1, 4, 8, 1, 2, 6, 1, 3, 1, 1, 7, 3, 1, 8, 1, 2, 1, 1, 1, 1, 3, 1, 1, 1, 1, 1, 1, 4, 5, 1, 6, 1, 1, 1, 2, 4, 1, 1, 1, 2, 2, 2, 1, 1, 2, 1, 3, 1, 1, 1, 1, 2, 1, 2, 1, 2, 1, 1, 1, 2, 2, 7, 3, 1, 2, 1, 2, 2, 1, 1, 3, 1, 1, 1, 2, 2, 1, 1, 3, 2, 1, 1, 3, 1, 2, 1, 1, 3, 1, 5, 3, 1, 1, 2, 1, 3, 1, 2, 1, 1, 1, 11, 2, 1, 1, 1, 6, 3, 2, 6, 1, 1, 1, 6, 3, 1, 1, 3, 5, 1, 1, 1, 11, 1, 7, 4, 3, 1, 2, 1, 3, 1, 1, 1, 2, 3, 1, 1, 1, 2, 1, 1, 1, 11, 1, 1, 1, 2, 2, 1, 1, 1, 1, 1, 1, 1, 2, 2, 1, 2, 1, 1, 1, 1, 1, 1, 2, 1, 1, 1, 1, 5, 2, 1, 1, 7, 1, 1, 2, 3, 1, 1, 2, 2, 1, 1, 1, 3, 1, 3, 3, 2, 1, 3, 1, 2, 3, 3, 1, 1, 1, 2, 1, 7, 3, 1, 1, 1, 6, 2, 2, 1, 1, 1, 2, 2, 1, 2, 1, 1, 6, 3, 1, 1, 1, 1, 1, 1, 1, 1, 1, 1, 1, 2, 1, 1, 1, 1, 1, 4, 1, 2, 1, 3, 1, 1, 1, 4, 1, 2, 2, 1, 1, 5, 3, 1, 3, 1, 2, 1, 3, 3, 1, 1, 1, 3, 11, 1, 1, 1, 3, 2, 3, 1, 2, 3, 2, 1, 2, 1, 1, 1, 3, 6, 1, 1, 1, 1, 1, 2, 3, 1, 1, 1, 3, 2, 1, 1, 2, 1, 1, 1, 6, 2, 2, 1, 2, 1, 2, 1, 1, 1, 2, 2, 1, 1, 5, 2, 1, 3, 1, 1, 1, 3, 1, 2, 1, 1, 8, 1, 1, 1, 4, 1, 3, 2, 3, 1, 1, 1, 1, 1, 1, 1, 2, 2, 1, 2, 1, 3, 1, 5, 1, 1, 2, 1, 1, 1, 3, 3, 1, 3, 1, 1, 1, 3, 3, 1, 2, 1, 1, 1, 1, 2, 2, 1, 2, 4, 5, 6, 6, 1, 3, 1, 2, 1, 1, 3, 2, 1, 4, 1, 4, 2, 1, 2, 1, 1, 1, 2, 1, 1, 1, 1, 1, 1, 1, 1, 1, 1, 1, 4, 1, 1, 4, 1, 1, 1, 2, 2, 1, 2, 8, 1, 1, 1, 2, 5, 2, 1, 1, 3, 2, 1, 1, 1, 1, 1, 2, 1, 4, 1, 1, 1, 1, 1, 1, 2, 3, 1, 1, 1, 1, 1, 1, 2, 1, 1, 1, 1, 2, 1, 1, 1, 1, 2, 1, 1, 1, 1, 1, 4, 3, 1, 3, 3, 1, 3, 1, 1, 1, 3, 3, 7, 7, 2, 2, 1, 2, 1, 3, 3, 3, 1, 1, 1, 1, 1, 2, 1, 3, 2, 1, 1, 1, 1, 1, 3, 1, 5, 1, 1, 1, 3, 1, 1, 1, 1, 1, 2, 2, 1, 3, 3, 1, 1, 1, 3, 1, 3, 1, 1, 1, 2, 1, 3, 2, 3, 1, 1, 1, 2, 4, 1, 1, 1, 1, 2, 1, 1, 4, 1, 7, 1, 2, 1, 1, 4, 3, 2, 4, 1, 2, 2, 3, 1, 1, 1, 1, 1, 1, 1, 1, 1, 1, 1, 6, 1, 1, 3, 6, 2, 1, 1, 6, 1, 4, 2, 1, 1, 1, 1, 1, 2, 1, 1, 1, 3, 1, 3, 1, 3, 3, 1, 1, 1, 2, 3, 1, 1, 1, 2, 3, 2, 1, 1, 1, 1, 1, 1, 8, 2, 1, 1, 1, 8, 3, 4, 6, 1, 1, 2, 2, 2, 1, 1, 1, 1, 1, 1, 3, 1, 2, 1, 2, 1, 2, 1, 1, 1, 1, 3, 1, 1, 2, 1, 1, 1, 1, 1, 1, 1, 2, 2, 1, 1, 2, 1, 4, 1, 2, 2, 1, 1, 1, 1, 1, 1, 5, 1, 1, 1, 1, 2, 5, 2, 1, 3, 3, 1, 2, 1, 3, 2, 1, 1, 4, 3, 1, 1, 1, 1, 1, 1, 1, 4, 1, 2, 1, 1, 2, 1, 1, 1, 1, 1, 5, 1, 1, 1, 1, 2, 1, 2, 1, 4, 1, 1, 1, 6, 4, 1, 1, 1, 11, 1, 1, 1, 1, 1, 1, 3, 1, 3, 4, 2, 1, 1, 1, 1, 1, 2, 1, 1, 1, 7, 1, 1, 1, 3, 1, 6, 3, 1, 1, 2, 6, 1, 1, 3, 1, 2, 3, 1, 1, 1, 3, 1, 1, 1, 1, 1, 1, 1, 1, 1, 1, 11, 1, 2, 2, 7, 1, 3, 2, 2, 2, 3, 1, 4, 1, 3, 2, 1, 11, 1, 1, 2, 1, 1, 3, 1, 3, 1, 1, 2, 1, 1, 1, 1, 2, 2, 1, 1, 1, 1, 6, 1, 1, 4, 1, 1]}],\n",
       "                        {\"template\": {\"data\": {\"bar\": [{\"error_x\": {\"color\": \"#2a3f5f\"}, \"error_y\": {\"color\": \"#2a3f5f\"}, \"marker\": {\"line\": {\"color\": \"#E5ECF6\", \"width\": 0.5}}, \"type\": \"bar\"}], \"barpolar\": [{\"marker\": {\"line\": {\"color\": \"#E5ECF6\", \"width\": 0.5}}, \"type\": \"barpolar\"}], \"carpet\": [{\"aaxis\": {\"endlinecolor\": \"#2a3f5f\", \"gridcolor\": \"white\", \"linecolor\": \"white\", \"minorgridcolor\": \"white\", \"startlinecolor\": \"#2a3f5f\"}, \"baxis\": {\"endlinecolor\": \"#2a3f5f\", \"gridcolor\": \"white\", \"linecolor\": \"white\", \"minorgridcolor\": \"white\", \"startlinecolor\": \"#2a3f5f\"}, \"type\": \"carpet\"}], \"choropleth\": [{\"colorbar\": {\"outlinewidth\": 0, \"ticks\": \"\"}, \"type\": \"choropleth\"}], \"contour\": [{\"colorbar\": {\"outlinewidth\": 0, \"ticks\": \"\"}, \"colorscale\": [[0.0, \"#0d0887\"], [0.1111111111111111, \"#46039f\"], [0.2222222222222222, \"#7201a8\"], [0.3333333333333333, \"#9c179e\"], [0.4444444444444444, \"#bd3786\"], [0.5555555555555556, \"#d8576b\"], [0.6666666666666666, \"#ed7953\"], [0.7777777777777778, \"#fb9f3a\"], [0.8888888888888888, \"#fdca26\"], [1.0, \"#f0f921\"]], \"type\": \"contour\"}], \"contourcarpet\": [{\"colorbar\": {\"outlinewidth\": 0, \"ticks\": \"\"}, \"type\": \"contourcarpet\"}], \"heatmap\": [{\"colorbar\": {\"outlinewidth\": 0, \"ticks\": \"\"}, \"colorscale\": [[0.0, \"#0d0887\"], [0.1111111111111111, \"#46039f\"], [0.2222222222222222, \"#7201a8\"], [0.3333333333333333, \"#9c179e\"], [0.4444444444444444, \"#bd3786\"], [0.5555555555555556, \"#d8576b\"], [0.6666666666666666, \"#ed7953\"], [0.7777777777777778, \"#fb9f3a\"], [0.8888888888888888, \"#fdca26\"], [1.0, \"#f0f921\"]], \"type\": \"heatmap\"}], \"heatmapgl\": [{\"colorbar\": {\"outlinewidth\": 0, \"ticks\": \"\"}, \"colorscale\": [[0.0, \"#0d0887\"], [0.1111111111111111, \"#46039f\"], [0.2222222222222222, \"#7201a8\"], [0.3333333333333333, \"#9c179e\"], [0.4444444444444444, \"#bd3786\"], [0.5555555555555556, \"#d8576b\"], [0.6666666666666666, \"#ed7953\"], [0.7777777777777778, \"#fb9f3a\"], [0.8888888888888888, \"#fdca26\"], [1.0, \"#f0f921\"]], \"type\": \"heatmapgl\"}], \"histogram\": [{\"marker\": {\"colorbar\": {\"outlinewidth\": 0, \"ticks\": \"\"}}, \"type\": \"histogram\"}], \"histogram2d\": [{\"colorbar\": {\"outlinewidth\": 0, \"ticks\": \"\"}, \"colorscale\": [[0.0, \"#0d0887\"], [0.1111111111111111, \"#46039f\"], [0.2222222222222222, \"#7201a8\"], [0.3333333333333333, \"#9c179e\"], [0.4444444444444444, \"#bd3786\"], [0.5555555555555556, \"#d8576b\"], [0.6666666666666666, \"#ed7953\"], [0.7777777777777778, \"#fb9f3a\"], [0.8888888888888888, \"#fdca26\"], [1.0, \"#f0f921\"]], \"type\": \"histogram2d\"}], \"histogram2dcontour\": [{\"colorbar\": {\"outlinewidth\": 0, \"ticks\": \"\"}, \"colorscale\": [[0.0, \"#0d0887\"], [0.1111111111111111, \"#46039f\"], [0.2222222222222222, \"#7201a8\"], [0.3333333333333333, \"#9c179e\"], [0.4444444444444444, \"#bd3786\"], [0.5555555555555556, \"#d8576b\"], [0.6666666666666666, \"#ed7953\"], [0.7777777777777778, \"#fb9f3a\"], [0.8888888888888888, \"#fdca26\"], [1.0, \"#f0f921\"]], \"type\": \"histogram2dcontour\"}], \"mesh3d\": [{\"colorbar\": {\"outlinewidth\": 0, \"ticks\": \"\"}, \"type\": \"mesh3d\"}], \"parcoords\": [{\"line\": {\"colorbar\": {\"outlinewidth\": 0, \"ticks\": \"\"}}, \"type\": \"parcoords\"}], \"pie\": [{\"automargin\": true, \"type\": \"pie\"}], \"scatter\": [{\"marker\": {\"colorbar\": {\"outlinewidth\": 0, \"ticks\": \"\"}}, \"type\": \"scatter\"}], \"scatter3d\": [{\"line\": {\"colorbar\": {\"outlinewidth\": 0, \"ticks\": \"\"}}, \"marker\": {\"colorbar\": {\"outlinewidth\": 0, \"ticks\": \"\"}}, \"type\": \"scatter3d\"}], \"scattercarpet\": [{\"marker\": {\"colorbar\": {\"outlinewidth\": 0, \"ticks\": \"\"}}, \"type\": \"scattercarpet\"}], \"scattergeo\": [{\"marker\": {\"colorbar\": {\"outlinewidth\": 0, \"ticks\": \"\"}}, \"type\": \"scattergeo\"}], \"scattergl\": [{\"marker\": {\"colorbar\": {\"outlinewidth\": 0, \"ticks\": \"\"}}, \"type\": \"scattergl\"}], \"scattermapbox\": [{\"marker\": {\"colorbar\": {\"outlinewidth\": 0, \"ticks\": \"\"}}, \"type\": \"scattermapbox\"}], \"scatterpolar\": [{\"marker\": {\"colorbar\": {\"outlinewidth\": 0, \"ticks\": \"\"}}, \"type\": \"scatterpolar\"}], \"scatterpolargl\": [{\"marker\": {\"colorbar\": {\"outlinewidth\": 0, \"ticks\": \"\"}}, \"type\": \"scatterpolargl\"}], \"scatterternary\": [{\"marker\": {\"colorbar\": {\"outlinewidth\": 0, \"ticks\": \"\"}}, \"type\": \"scatterternary\"}], \"surface\": [{\"colorbar\": {\"outlinewidth\": 0, \"ticks\": \"\"}, \"colorscale\": [[0.0, \"#0d0887\"], [0.1111111111111111, \"#46039f\"], [0.2222222222222222, \"#7201a8\"], [0.3333333333333333, \"#9c179e\"], [0.4444444444444444, \"#bd3786\"], [0.5555555555555556, \"#d8576b\"], [0.6666666666666666, \"#ed7953\"], [0.7777777777777778, \"#fb9f3a\"], [0.8888888888888888, \"#fdca26\"], [1.0, \"#f0f921\"]], \"type\": \"surface\"}], \"table\": [{\"cells\": {\"fill\": {\"color\": \"#EBF0F8\"}, \"line\": {\"color\": \"white\"}}, \"header\": {\"fill\": {\"color\": \"#C8D4E3\"}, \"line\": {\"color\": \"white\"}}, \"type\": \"table\"}]}, \"layout\": {\"annotationdefaults\": {\"arrowcolor\": \"#2a3f5f\", \"arrowhead\": 0, \"arrowwidth\": 1}, \"coloraxis\": {\"colorbar\": {\"outlinewidth\": 0, \"ticks\": \"\"}}, \"colorscale\": {\"diverging\": [[0, \"#8e0152\"], [0.1, \"#c51b7d\"], [0.2, \"#de77ae\"], [0.3, \"#f1b6da\"], [0.4, \"#fde0ef\"], [0.5, \"#f7f7f7\"], [0.6, \"#e6f5d0\"], [0.7, \"#b8e186\"], [0.8, \"#7fbc41\"], [0.9, \"#4d9221\"], [1, \"#276419\"]], \"sequential\": [[0.0, \"#0d0887\"], [0.1111111111111111, \"#46039f\"], [0.2222222222222222, \"#7201a8\"], [0.3333333333333333, \"#9c179e\"], [0.4444444444444444, \"#bd3786\"], [0.5555555555555556, \"#d8576b\"], [0.6666666666666666, \"#ed7953\"], [0.7777777777777778, \"#fb9f3a\"], [0.8888888888888888, \"#fdca26\"], [1.0, \"#f0f921\"]], \"sequentialminus\": [[0.0, \"#0d0887\"], [0.1111111111111111, \"#46039f\"], [0.2222222222222222, \"#7201a8\"], [0.3333333333333333, \"#9c179e\"], [0.4444444444444444, \"#bd3786\"], [0.5555555555555556, \"#d8576b\"], [0.6666666666666666, \"#ed7953\"], [0.7777777777777778, \"#fb9f3a\"], [0.8888888888888888, \"#fdca26\"], [1.0, \"#f0f921\"]]}, \"colorway\": [\"#636efa\", \"#EF553B\", \"#00cc96\", \"#ab63fa\", \"#FFA15A\", \"#19d3f3\", \"#FF6692\", \"#B6E880\", \"#FF97FF\", \"#FECB52\"], \"font\": {\"color\": \"#2a3f5f\"}, \"geo\": {\"bgcolor\": \"white\", \"lakecolor\": \"white\", \"landcolor\": \"#E5ECF6\", \"showlakes\": true, \"showland\": true, \"subunitcolor\": \"white\"}, \"hoverlabel\": {\"align\": \"left\"}, \"hovermode\": \"closest\", \"mapbox\": {\"style\": \"light\"}, \"paper_bgcolor\": \"white\", \"plot_bgcolor\": \"#E5ECF6\", \"polar\": {\"angularaxis\": {\"gridcolor\": \"white\", \"linecolor\": \"white\", \"ticks\": \"\"}, \"bgcolor\": \"#E5ECF6\", \"radialaxis\": {\"gridcolor\": \"white\", \"linecolor\": \"white\", \"ticks\": \"\"}}, \"scene\": {\"xaxis\": {\"backgroundcolor\": \"#E5ECF6\", \"gridcolor\": \"white\", \"gridwidth\": 2, \"linecolor\": \"white\", \"showbackground\": true, \"ticks\": \"\", \"zerolinecolor\": \"white\"}, \"yaxis\": {\"backgroundcolor\": \"#E5ECF6\", \"gridcolor\": \"white\", \"gridwidth\": 2, \"linecolor\": \"white\", \"showbackground\": true, \"ticks\": \"\", \"zerolinecolor\": \"white\"}, \"zaxis\": {\"backgroundcolor\": \"#E5ECF6\", \"gridcolor\": \"white\", \"gridwidth\": 2, \"linecolor\": \"white\", \"showbackground\": true, \"ticks\": \"\", \"zerolinecolor\": \"white\"}}, \"shapedefaults\": {\"line\": {\"color\": \"#2a3f5f\"}}, \"ternary\": {\"aaxis\": {\"gridcolor\": \"white\", \"linecolor\": \"white\", \"ticks\": \"\"}, \"baxis\": {\"gridcolor\": \"white\", \"linecolor\": \"white\", \"ticks\": \"\"}, \"bgcolor\": \"#E5ECF6\", \"caxis\": {\"gridcolor\": \"white\", \"linecolor\": \"white\", \"ticks\": \"\"}}, \"title\": {\"x\": 0.05}, \"xaxis\": {\"automargin\": true, \"gridcolor\": \"white\", \"linecolor\": \"white\", \"ticks\": \"\", \"title\": {\"standoff\": 15}, \"zerolinecolor\": \"white\", \"zerolinewidth\": 2}, \"yaxis\": {\"automargin\": true, \"gridcolor\": \"white\", \"linecolor\": \"white\", \"ticks\": \"\", \"title\": {\"standoff\": 15}, \"zerolinecolor\": \"white\", \"zerolinewidth\": 2}}}, \"title\": {\"text\": \"fam_Size\"}},\n",
       "                        {\"responsive\": true}\n",
       "                    ).then(function(){\n",
       "                            \n",
       "var gd = document.getElementById('86e8f006-0618-4ee4-ba77-b1a3e43a7695');\n",
       "var x = new MutationObserver(function (mutations, observer) {{\n",
       "        var display = window.getComputedStyle(gd).display;\n",
       "        if (!display || display === 'none') {{\n",
       "            console.log([gd, 'removed!']);\n",
       "            Plotly.purge(gd);\n",
       "            observer.disconnect();\n",
       "        }}\n",
       "}});\n",
       "\n",
       "// Listen for the removal of the full notebook cells\n",
       "var notebookContainer = gd.closest('#notebook-container');\n",
       "if (notebookContainer) {{\n",
       "    x.observe(notebookContainer, {childList: true});\n",
       "}}\n",
       "\n",
       "// Listen for the clearing of the current output cell\n",
       "var outputEl = gd.closest('.output');\n",
       "if (outputEl) {{\n",
       "    x.observe(outputEl, {childList: true});\n",
       "}}\n",
       "\n",
       "                        })\n",
       "                };\n",
       "                });\n",
       "            </script>\n",
       "        </div>"
      ]
     },
     "metadata": {},
     "output_type": "display_data"
    },
    {
     "data": {
      "application/vnd.plotly.v1+json": {
       "config": {
        "plotlyServerURL": "https://plot.ly"
       },
       "data": [
        {
         "marker": {
          "color": "#7708F6"
         },
         "nbinsx": 10,
         "opacity": 0.7,
         "type": "histogram",
         "x": [
          7.25,
          71.2833,
          7.925,
          53.1,
          8.05,
          8.4583,
          51.8625,
          21.075,
          11.1333,
          30.0708,
          16.7,
          26.55,
          8.05,
          31.275,
          7.8542,
          16,
          29.125,
          13,
          18,
          7.225,
          26,
          13,
          8.0292,
          35.5,
          21.075,
          31.3875,
          7.225,
          263,
          7.8792,
          7.8958,
          27.7208,
          146.5208,
          7.75,
          10.5,
          82.1708,
          52,
          7.2292,
          8.05,
          18,
          11.2417,
          9.475,
          21,
          7.8958,
          41.5792,
          7.8792,
          8.05,
          15.5,
          7.75,
          21.6792,
          17.8,
          39.6875,
          7.8,
          76.7292,
          26,
          61.9792,
          35.5,
          10.5,
          7.2292,
          27.75,
          46.9,
          7.2292,
          83.475,
          27.9,
          27.7208,
          15.2458,
          10.5,
          8.1583,
          7.925,
          8.6625,
          10.5,
          46.9,
          73.5,
          14.4542,
          56.4958,
          7.65,
          7.8958,
          8.05,
          29,
          12.475,
          9,
          9.5,
          7.7875,
          47.1,
          10.5,
          15.85,
          34.375,
          8.05,
          263,
          8.05,
          8.05,
          7.8542,
          61.175,
          20.575,
          7.25,
          8.05,
          34.6542,
          63.3583,
          23,
          26,
          7.8958,
          7.8958,
          77.2875,
          8.6542,
          7.925,
          7.8958,
          7.65,
          7.775,
          7.8958,
          24.15,
          52,
          14.4542,
          8.05,
          9.825,
          14.4583,
          7.925,
          7.75,
          21,
          247.5208,
          31.275,
          73.5,
          8.05,
          30.0708,
          13,
          77.2875,
          11.2417,
          7.75,
          7.1417,
          22.3583,
          6.975,
          7.8958,
          7.05,
          14.5,
          26,
          13,
          15.0458,
          26.2833,
          53.1,
          9.2167,
          79.2,
          15.2458,
          7.75,
          15.85,
          6.75,
          11.5,
          36.75,
          7.7958,
          34.375,
          26,
          13,
          12.525,
          66.6,
          8.05,
          14.5,
          7.3125,
          61.3792,
          7.7333,
          8.05,
          8.6625,
          69.55,
          16.1,
          15.75,
          7.775,
          8.6625,
          39.6875,
          20.525,
          55,
          27.9,
          25.925,
          56.4958,
          33.5,
          29.125,
          11.1333,
          7.925,
          30.6958,
          7.8542,
          25.4667,
          28.7125,
          13,
          0,
          69.55,
          15.05,
          31.3875,
          39,
          22.025,
          50,
          15.5,
          26.55,
          15.5,
          7.8958,
          13,
          13,
          7.8542,
          26,
          27.7208,
          146.5208,
          7.75,
          8.4042,
          7.75,
          13,
          9.5,
          69.55,
          6.4958,
          7.225,
          8.05,
          10.4625,
          15.85,
          18.7875,
          7.75,
          31,
          7.05,
          21,
          7.25,
          13,
          7.75,
          113.275,
          7.925,
          27,
          76.2917,
          10.5,
          8.05,
          13,
          8.05,
          7.8958,
          90,
          9.35,
          10.5,
          7.25,
          13,
          25.4667,
          83.475,
          7.775,
          13.5,
          31.3875,
          10.5,
          7.55,
          26,
          26.25,
          10.5,
          12.275,
          14.4542,
          15.5,
          10.5,
          7.125,
          7.225,
          90,
          7.775,
          14.5,
          52.5542,
          26,
          7.25,
          10.4625,
          26.55,
          16.1,
          20.2125,
          15.2458,
          79.2,
          86.5,
          512.3292,
          26,
          7.75,
          31.3875,
          79.65,
          0,
          7.75,
          10.5,
          39.6875,
          7.775,
          153.4625,
          135.6333,
          31,
          0,
          19.5,
          29.7,
          7.75,
          77.9583,
          7.75,
          0,
          29.125,
          20.25,
          7.75,
          7.8542,
          9.5,
          8.05,
          26,
          8.6625,
          9.5,
          7.8958,
          13,
          7.75,
          78.85,
          91.0792,
          12.875,
          8.85,
          7.8958,
          27.7208,
          7.2292,
          151.55,
          30.5,
          247.5208,
          7.75,
          23.25,
          0,
          12.35,
          8.05,
          151.55,
          110.8833,
          108.9,
          24,
          56.9292,
          83.1583,
          262.375,
          26,
          7.8958,
          26.25,
          7.8542,
          26,
          14,
          164.8667,
          134.5,
          7.25,
          7.8958,
          12.35,
          29,
          69.55,
          135.6333,
          6.2375,
          13,
          20.525,
          57.9792,
          23.25,
          28.5,
          153.4625,
          18,
          133.65,
          7.8958,
          66.6,
          134.5,
          8.05,
          35.5,
          26,
          263,
          13,
          13,
          13,
          13,
          13,
          16.1,
          15.9,
          8.6625,
          9.225,
          35,
          7.2292,
          17.8,
          7.225,
          9.5,
          55,
          13,
          7.8792,
          7.8792,
          27.9,
          27.7208,
          14.4542,
          7.05,
          15.5,
          7.25,
          75.25,
          7.2292,
          7.75,
          69.3,
          55.4417,
          6.4958,
          8.05,
          135.6333,
          21.075,
          82.1708,
          7.25,
          211.5,
          4.0125,
          7.775,
          227.525,
          15.7417,
          7.925,
          52,
          7.8958,
          73.5,
          46.9,
          13,
          7.7292,
          12,
          120,
          7.7958,
          7.925,
          113.275,
          16.7,
          7.7958,
          7.8542,
          26,
          10.5,
          12.65,
          7.925,
          8.05,
          9.825,
          15.85,
          8.6625,
          21,
          7.75,
          18.75,
          7.775,
          25.4667,
          7.8958,
          6.8583,
          90,
          0,
          7.925,
          8.05,
          32.5,
          13,
          13,
          24.15,
          7.8958,
          7.7333,
          7.875,
          14.4,
          20.2125,
          7.25,
          26,
          26,
          7.75,
          8.05,
          26.55,
          16.1,
          26,
          7.125,
          55.9,
          120,
          34.375,
          18.75,
          263,
          10.5,
          26.25,
          9.5,
          7.775,
          13,
          8.1125,
          81.8583,
          19.5,
          26.55,
          19.2583,
          30.5,
          27.75,
          19.9667,
          27.75,
          89.1042,
          8.05,
          7.8958,
          26.55,
          51.8625,
          10.5,
          7.75,
          26.55,
          8.05,
          38.5,
          13,
          8.05,
          7.05,
          0,
          26.55,
          7.725,
          19.2583,
          7.25,
          8.6625,
          27.75,
          13.7917,
          9.8375,
          52,
          21,
          7.0458,
          7.5208,
          12.2875,
          46.9,
          0,
          8.05,
          9.5875,
          91.0792,
          25.4667,
          90,
          29.7,
          8.05,
          15.9,
          19.9667,
          7.25,
          30.5,
          49.5042,
          8.05,
          14.4583,
          78.2667,
          15.1,
          151.55,
          7.7958,
          8.6625,
          7.75,
          7.6292,
          9.5875,
          86.5,
          108.9,
          26,
          26.55,
          22.525,
          56.4958,
          7.75,
          8.05,
          26.2875,
          59.4,
          7.4958,
          34.0208,
          10.5,
          24.15,
          26,
          7.8958,
          93.5,
          7.8958,
          7.225,
          57.9792,
          7.2292,
          7.75,
          10.5,
          221.7792,
          7.925,
          11.5,
          26,
          7.2292,
          7.2292,
          22.3583,
          8.6625,
          26.25,
          26.55,
          106.425,
          14.5,
          49.5,
          71,
          31.275,
          31.275,
          26,
          106.425,
          26,
          26,
          13.8625,
          20.525,
          36.75,
          110.8833,
          26,
          7.8292,
          7.225,
          7.775,
          26.55,
          39.6,
          227.525,
          79.65,
          17.4,
          7.75,
          7.8958,
          13.5,
          8.05,
          8.05,
          24.15,
          7.8958,
          21.075,
          7.2292,
          7.8542,
          10.5,
          51.4792,
          26.3875,
          7.75,
          8.05,
          14.5,
          13,
          55.9,
          14.4583,
          7.925,
          30,
          110.8833,
          26,
          40.125,
          8.7125,
          79.65,
          15,
          79.2,
          8.05,
          8.05,
          7.125,
          78.2667,
          7.25,
          7.75,
          26,
          24.15,
          33,
          0,
          7.225,
          56.9292,
          27,
          7.8958,
          42.4,
          8.05,
          26.55,
          15.55,
          7.8958,
          30.5,
          41.5792,
          153.4625,
          31.275,
          7.05,
          15.5,
          7.75,
          8.05,
          65,
          14.4,
          16.1,
          39,
          10.5,
          14.4542,
          52.5542,
          15.7417,
          7.8542,
          16.1,
          32.3208,
          12.35,
          77.9583,
          7.8958,
          7.7333,
          30,
          7.0542,
          30.5,
          0,
          27.9,
          13,
          7.925,
          26.25,
          39.6875,
          16.1,
          7.8542,
          69.3,
          27.9,
          56.4958,
          19.2583,
          76.7292,
          7.8958,
          35.5,
          7.55,
          7.55,
          7.8958,
          23,
          8.4333,
          7.8292,
          6.75,
          73.5,
          7.8958,
          15.5,
          13,
          113.275,
          133.65,
          7.225,
          25.5875,
          7.4958,
          7.925,
          73.5,
          13,
          7.775,
          8.05,
          52,
          39,
          52,
          10.5,
          13,
          0,
          7.775,
          8.05,
          9.8417,
          46.9,
          512.3292,
          8.1375,
          76.7292,
          9.225,
          46.9,
          39,
          41.5792,
          39.6875,
          10.1708,
          7.7958,
          211.3375,
          57,
          13.4167,
          56.4958,
          7.225,
          26.55,
          13.5,
          8.05,
          7.7333,
          110.8833,
          7.65,
          227.525,
          26.2875,
          14.4542,
          7.7417,
          7.8542,
          26,
          13.5,
          26.2875,
          151.55,
          15.2458,
          49.5042,
          26.55,
          52,
          9.4833,
          13,
          7.65,
          227.525,
          10.5,
          15.5,
          7.775,
          33,
          7.0542,
          13,
          13,
          53.1,
          8.6625,
          21,
          7.7375,
          26,
          7.925,
          211.3375,
          18.7875,
          0,
          13,
          13,
          16.1,
          34.375,
          512.3292,
          7.8958,
          7.8958,
          30,
          78.85,
          262.375,
          16.1,
          7.925,
          71,
          20.25,
          13,
          53.1,
          7.75,
          23,
          12.475,
          9.5,
          7.8958,
          65,
          14.5,
          7.7958,
          11.5,
          8.05,
          86.5,
          14.5,
          7.125,
          7.2292,
          120,
          7.775,
          77.9583,
          39.6,
          7.75,
          24.15,
          8.3625,
          9.5,
          7.8542,
          10.5,
          7.225,
          23,
          7.75,
          7.75,
          12.475,
          7.7375,
          211.3375,
          7.2292,
          57,
          30,
          23.45,
          7.05,
          7.25,
          7.4958,
          29.125,
          20.575,
          79.2,
          7.75,
          26,
          69.55,
          30.6958,
          7.8958,
          13,
          25.9292,
          8.6833,
          7.2292,
          24.15,
          13,
          26.25,
          120,
          8.5167,
          6.975,
          7.775,
          0,
          7.775,
          13,
          53.1,
          7.8875,
          24.15,
          10.5,
          31.275,
          8.05,
          0,
          7.925,
          37.0042,
          6.45,
          27.9,
          93.5,
          8.6625,
          0,
          12.475,
          39.6875,
          6.95,
          56.4958,
          37.0042,
          7.75,
          14.4542,
          18.75,
          7.2292,
          7.8542,
          8.3,
          83.1583,
          8.6625,
          8.05,
          56.4958,
          29.7,
          7.925,
          10.5,
          31,
          6.4375,
          8.6625,
          7.55,
          69.55,
          7.8958,
          33,
          89.1042,
          31.275,
          7.775,
          15.2458,
          39.4,
          26,
          9.35,
          164.8667,
          26.55,
          19.2583,
          7.2292,
          14.1083,
          11.5,
          25.9292,
          69.55,
          13,
          13,
          13.8583,
          50.4958,
          9.5,
          11.1333,
          7.8958,
          52.5542,
          5,
          9,
          24,
          7.225,
          9.8458,
          7.8958,
          7.8958,
          83.1583,
          26,
          7.8958,
          10.5167,
          10.5,
          7.05,
          29.125,
          13,
          30,
          23.45,
          30,
          7.75
         ]
        }
       ],
       "layout": {
        "template": {
         "data": {
          "bar": [
           {
            "error_x": {
             "color": "#2a3f5f"
            },
            "error_y": {
             "color": "#2a3f5f"
            },
            "marker": {
             "line": {
              "color": "#E5ECF6",
              "width": 0.5
             }
            },
            "type": "bar"
           }
          ],
          "barpolar": [
           {
            "marker": {
             "line": {
              "color": "#E5ECF6",
              "width": 0.5
             }
            },
            "type": "barpolar"
           }
          ],
          "carpet": [
           {
            "aaxis": {
             "endlinecolor": "#2a3f5f",
             "gridcolor": "white",
             "linecolor": "white",
             "minorgridcolor": "white",
             "startlinecolor": "#2a3f5f"
            },
            "baxis": {
             "endlinecolor": "#2a3f5f",
             "gridcolor": "white",
             "linecolor": "white",
             "minorgridcolor": "white",
             "startlinecolor": "#2a3f5f"
            },
            "type": "carpet"
           }
          ],
          "choropleth": [
           {
            "colorbar": {
             "outlinewidth": 0,
             "ticks": ""
            },
            "type": "choropleth"
           }
          ],
          "contour": [
           {
            "colorbar": {
             "outlinewidth": 0,
             "ticks": ""
            },
            "colorscale": [
             [
              0,
              "#0d0887"
             ],
             [
              0.1111111111111111,
              "#46039f"
             ],
             [
              0.2222222222222222,
              "#7201a8"
             ],
             [
              0.3333333333333333,
              "#9c179e"
             ],
             [
              0.4444444444444444,
              "#bd3786"
             ],
             [
              0.5555555555555556,
              "#d8576b"
             ],
             [
              0.6666666666666666,
              "#ed7953"
             ],
             [
              0.7777777777777778,
              "#fb9f3a"
             ],
             [
              0.8888888888888888,
              "#fdca26"
             ],
             [
              1,
              "#f0f921"
             ]
            ],
            "type": "contour"
           }
          ],
          "contourcarpet": [
           {
            "colorbar": {
             "outlinewidth": 0,
             "ticks": ""
            },
            "type": "contourcarpet"
           }
          ],
          "heatmap": [
           {
            "colorbar": {
             "outlinewidth": 0,
             "ticks": ""
            },
            "colorscale": [
             [
              0,
              "#0d0887"
             ],
             [
              0.1111111111111111,
              "#46039f"
             ],
             [
              0.2222222222222222,
              "#7201a8"
             ],
             [
              0.3333333333333333,
              "#9c179e"
             ],
             [
              0.4444444444444444,
              "#bd3786"
             ],
             [
              0.5555555555555556,
              "#d8576b"
             ],
             [
              0.6666666666666666,
              "#ed7953"
             ],
             [
              0.7777777777777778,
              "#fb9f3a"
             ],
             [
              0.8888888888888888,
              "#fdca26"
             ],
             [
              1,
              "#f0f921"
             ]
            ],
            "type": "heatmap"
           }
          ],
          "heatmapgl": [
           {
            "colorbar": {
             "outlinewidth": 0,
             "ticks": ""
            },
            "colorscale": [
             [
              0,
              "#0d0887"
             ],
             [
              0.1111111111111111,
              "#46039f"
             ],
             [
              0.2222222222222222,
              "#7201a8"
             ],
             [
              0.3333333333333333,
              "#9c179e"
             ],
             [
              0.4444444444444444,
              "#bd3786"
             ],
             [
              0.5555555555555556,
              "#d8576b"
             ],
             [
              0.6666666666666666,
              "#ed7953"
             ],
             [
              0.7777777777777778,
              "#fb9f3a"
             ],
             [
              0.8888888888888888,
              "#fdca26"
             ],
             [
              1,
              "#f0f921"
             ]
            ],
            "type": "heatmapgl"
           }
          ],
          "histogram": [
           {
            "marker": {
             "colorbar": {
              "outlinewidth": 0,
              "ticks": ""
             }
            },
            "type": "histogram"
           }
          ],
          "histogram2d": [
           {
            "colorbar": {
             "outlinewidth": 0,
             "ticks": ""
            },
            "colorscale": [
             [
              0,
              "#0d0887"
             ],
             [
              0.1111111111111111,
              "#46039f"
             ],
             [
              0.2222222222222222,
              "#7201a8"
             ],
             [
              0.3333333333333333,
              "#9c179e"
             ],
             [
              0.4444444444444444,
              "#bd3786"
             ],
             [
              0.5555555555555556,
              "#d8576b"
             ],
             [
              0.6666666666666666,
              "#ed7953"
             ],
             [
              0.7777777777777778,
              "#fb9f3a"
             ],
             [
              0.8888888888888888,
              "#fdca26"
             ],
             [
              1,
              "#f0f921"
             ]
            ],
            "type": "histogram2d"
           }
          ],
          "histogram2dcontour": [
           {
            "colorbar": {
             "outlinewidth": 0,
             "ticks": ""
            },
            "colorscale": [
             [
              0,
              "#0d0887"
             ],
             [
              0.1111111111111111,
              "#46039f"
             ],
             [
              0.2222222222222222,
              "#7201a8"
             ],
             [
              0.3333333333333333,
              "#9c179e"
             ],
             [
              0.4444444444444444,
              "#bd3786"
             ],
             [
              0.5555555555555556,
              "#d8576b"
             ],
             [
              0.6666666666666666,
              "#ed7953"
             ],
             [
              0.7777777777777778,
              "#fb9f3a"
             ],
             [
              0.8888888888888888,
              "#fdca26"
             ],
             [
              1,
              "#f0f921"
             ]
            ],
            "type": "histogram2dcontour"
           }
          ],
          "mesh3d": [
           {
            "colorbar": {
             "outlinewidth": 0,
             "ticks": ""
            },
            "type": "mesh3d"
           }
          ],
          "parcoords": [
           {
            "line": {
             "colorbar": {
              "outlinewidth": 0,
              "ticks": ""
             }
            },
            "type": "parcoords"
           }
          ],
          "pie": [
           {
            "automargin": true,
            "type": "pie"
           }
          ],
          "scatter": [
           {
            "marker": {
             "colorbar": {
              "outlinewidth": 0,
              "ticks": ""
             }
            },
            "type": "scatter"
           }
          ],
          "scatter3d": [
           {
            "line": {
             "colorbar": {
              "outlinewidth": 0,
              "ticks": ""
             }
            },
            "marker": {
             "colorbar": {
              "outlinewidth": 0,
              "ticks": ""
             }
            },
            "type": "scatter3d"
           }
          ],
          "scattercarpet": [
           {
            "marker": {
             "colorbar": {
              "outlinewidth": 0,
              "ticks": ""
             }
            },
            "type": "scattercarpet"
           }
          ],
          "scattergeo": [
           {
            "marker": {
             "colorbar": {
              "outlinewidth": 0,
              "ticks": ""
             }
            },
            "type": "scattergeo"
           }
          ],
          "scattergl": [
           {
            "marker": {
             "colorbar": {
              "outlinewidth": 0,
              "ticks": ""
             }
            },
            "type": "scattergl"
           }
          ],
          "scattermapbox": [
           {
            "marker": {
             "colorbar": {
              "outlinewidth": 0,
              "ticks": ""
             }
            },
            "type": "scattermapbox"
           }
          ],
          "scatterpolar": [
           {
            "marker": {
             "colorbar": {
              "outlinewidth": 0,
              "ticks": ""
             }
            },
            "type": "scatterpolar"
           }
          ],
          "scatterpolargl": [
           {
            "marker": {
             "colorbar": {
              "outlinewidth": 0,
              "ticks": ""
             }
            },
            "type": "scatterpolargl"
           }
          ],
          "scatterternary": [
           {
            "marker": {
             "colorbar": {
              "outlinewidth": 0,
              "ticks": ""
             }
            },
            "type": "scatterternary"
           }
          ],
          "surface": [
           {
            "colorbar": {
             "outlinewidth": 0,
             "ticks": ""
            },
            "colorscale": [
             [
              0,
              "#0d0887"
             ],
             [
              0.1111111111111111,
              "#46039f"
             ],
             [
              0.2222222222222222,
              "#7201a8"
             ],
             [
              0.3333333333333333,
              "#9c179e"
             ],
             [
              0.4444444444444444,
              "#bd3786"
             ],
             [
              0.5555555555555556,
              "#d8576b"
             ],
             [
              0.6666666666666666,
              "#ed7953"
             ],
             [
              0.7777777777777778,
              "#fb9f3a"
             ],
             [
              0.8888888888888888,
              "#fdca26"
             ],
             [
              1,
              "#f0f921"
             ]
            ],
            "type": "surface"
           }
          ],
          "table": [
           {
            "cells": {
             "fill": {
              "color": "#EBF0F8"
             },
             "line": {
              "color": "white"
             }
            },
            "header": {
             "fill": {
              "color": "#C8D4E3"
             },
             "line": {
              "color": "white"
             }
            },
            "type": "table"
           }
          ]
         },
         "layout": {
          "annotationdefaults": {
           "arrowcolor": "#2a3f5f",
           "arrowhead": 0,
           "arrowwidth": 1
          },
          "coloraxis": {
           "colorbar": {
            "outlinewidth": 0,
            "ticks": ""
           }
          },
          "colorscale": {
           "diverging": [
            [
             0,
             "#8e0152"
            ],
            [
             0.1,
             "#c51b7d"
            ],
            [
             0.2,
             "#de77ae"
            ],
            [
             0.3,
             "#f1b6da"
            ],
            [
             0.4,
             "#fde0ef"
            ],
            [
             0.5,
             "#f7f7f7"
            ],
            [
             0.6,
             "#e6f5d0"
            ],
            [
             0.7,
             "#b8e186"
            ],
            [
             0.8,
             "#7fbc41"
            ],
            [
             0.9,
             "#4d9221"
            ],
            [
             1,
             "#276419"
            ]
           ],
           "sequential": [
            [
             0,
             "#0d0887"
            ],
            [
             0.1111111111111111,
             "#46039f"
            ],
            [
             0.2222222222222222,
             "#7201a8"
            ],
            [
             0.3333333333333333,
             "#9c179e"
            ],
            [
             0.4444444444444444,
             "#bd3786"
            ],
            [
             0.5555555555555556,
             "#d8576b"
            ],
            [
             0.6666666666666666,
             "#ed7953"
            ],
            [
             0.7777777777777778,
             "#fb9f3a"
            ],
            [
             0.8888888888888888,
             "#fdca26"
            ],
            [
             1,
             "#f0f921"
            ]
           ],
           "sequentialminus": [
            [
             0,
             "#0d0887"
            ],
            [
             0.1111111111111111,
             "#46039f"
            ],
            [
             0.2222222222222222,
             "#7201a8"
            ],
            [
             0.3333333333333333,
             "#9c179e"
            ],
            [
             0.4444444444444444,
             "#bd3786"
            ],
            [
             0.5555555555555556,
             "#d8576b"
            ],
            [
             0.6666666666666666,
             "#ed7953"
            ],
            [
             0.7777777777777778,
             "#fb9f3a"
            ],
            [
             0.8888888888888888,
             "#fdca26"
            ],
            [
             1,
             "#f0f921"
            ]
           ]
          },
          "colorway": [
           "#636efa",
           "#EF553B",
           "#00cc96",
           "#ab63fa",
           "#FFA15A",
           "#19d3f3",
           "#FF6692",
           "#B6E880",
           "#FF97FF",
           "#FECB52"
          ],
          "font": {
           "color": "#2a3f5f"
          },
          "geo": {
           "bgcolor": "white",
           "lakecolor": "white",
           "landcolor": "#E5ECF6",
           "showlakes": true,
           "showland": true,
           "subunitcolor": "white"
          },
          "hoverlabel": {
           "align": "left"
          },
          "hovermode": "closest",
          "mapbox": {
           "style": "light"
          },
          "paper_bgcolor": "white",
          "plot_bgcolor": "#E5ECF6",
          "polar": {
           "angularaxis": {
            "gridcolor": "white",
            "linecolor": "white",
            "ticks": ""
           },
           "bgcolor": "#E5ECF6",
           "radialaxis": {
            "gridcolor": "white",
            "linecolor": "white",
            "ticks": ""
           }
          },
          "scene": {
           "xaxis": {
            "backgroundcolor": "#E5ECF6",
            "gridcolor": "white",
            "gridwidth": 2,
            "linecolor": "white",
            "showbackground": true,
            "ticks": "",
            "zerolinecolor": "white"
           },
           "yaxis": {
            "backgroundcolor": "#E5ECF6",
            "gridcolor": "white",
            "gridwidth": 2,
            "linecolor": "white",
            "showbackground": true,
            "ticks": "",
            "zerolinecolor": "white"
           },
           "zaxis": {
            "backgroundcolor": "#E5ECF6",
            "gridcolor": "white",
            "gridwidth": 2,
            "linecolor": "white",
            "showbackground": true,
            "ticks": "",
            "zerolinecolor": "white"
           }
          },
          "shapedefaults": {
           "line": {
            "color": "#2a3f5f"
           }
          },
          "ternary": {
           "aaxis": {
            "gridcolor": "white",
            "linecolor": "white",
            "ticks": ""
           },
           "baxis": {
            "gridcolor": "white",
            "linecolor": "white",
            "ticks": ""
           },
           "bgcolor": "#E5ECF6",
           "caxis": {
            "gridcolor": "white",
            "linecolor": "white",
            "ticks": ""
           }
          },
          "title": {
           "x": 0.05
          },
          "xaxis": {
           "automargin": true,
           "gridcolor": "white",
           "linecolor": "white",
           "ticks": "",
           "title": {
            "standoff": 15
           },
           "zerolinecolor": "white",
           "zerolinewidth": 2
          },
          "yaxis": {
           "automargin": true,
           "gridcolor": "white",
           "linecolor": "white",
           "ticks": "",
           "title": {
            "standoff": 15
           },
           "zerolinecolor": "white",
           "zerolinewidth": 2
          }
         }
        },
        "title": {
         "text": "Fare"
        }
       }
      },
      "text/html": [
       "<div>\n",
       "        \n",
       "        \n",
       "            <div id=\"fb22a46e-0f0b-431e-85d7-b2ceae49dd34\" class=\"plotly-graph-div\" style=\"height:525px; width:100%;\"></div>\n",
       "            <script type=\"text/javascript\">\n",
       "                require([\"plotly\"], function(Plotly) {\n",
       "                    window.PLOTLYENV=window.PLOTLYENV || {};\n",
       "                    \n",
       "                if (document.getElementById(\"fb22a46e-0f0b-431e-85d7-b2ceae49dd34\")) {\n",
       "                    Plotly.newPlot(\n",
       "                        'fb22a46e-0f0b-431e-85d7-b2ceae49dd34',\n",
       "                        [{\"marker\": {\"color\": \"#7708F6\"}, \"nbinsx\": 10, \"opacity\": 0.7, \"type\": \"histogram\", \"x\": [7.25, 71.2833, 7.925, 53.1, 8.05, 8.4583, 51.8625, 21.075, 11.1333, 30.0708, 16.7, 26.55, 8.05, 31.275, 7.8542, 16.0, 29.125, 13.0, 18.0, 7.225, 26.0, 13.0, 8.0292, 35.5, 21.075, 31.3875, 7.225, 263.0, 7.8792, 7.8958, 27.7208, 146.5208, 7.75, 10.5, 82.1708, 52.0, 7.2292, 8.05, 18.0, 11.2417, 9.475, 21.0, 7.8958, 41.5792, 7.8792, 8.05, 15.5, 7.75, 21.6792, 17.8, 39.6875, 7.8, 76.7292, 26.0, 61.9792, 35.5, 10.5, 7.2292, 27.75, 46.9, 7.2292, 83.475, 27.9, 27.7208, 15.2458, 10.5, 8.1583, 7.925, 8.6625, 10.5, 46.9, 73.5, 14.4542, 56.4958, 7.65, 7.8958, 8.05, 29.0, 12.475, 9.0, 9.5, 7.7875, 47.1, 10.5, 15.85, 34.375, 8.05, 263.0, 8.05, 8.05, 7.8542, 61.175, 20.575, 7.25, 8.05, 34.6542, 63.3583, 23.0, 26.0, 7.8958, 7.8958, 77.2875, 8.6542, 7.925, 7.8958, 7.65, 7.775, 7.8958, 24.15, 52.0, 14.4542, 8.05, 9.825, 14.4583, 7.925, 7.75, 21.0, 247.5208, 31.275, 73.5, 8.05, 30.0708, 13.0, 77.2875, 11.2417, 7.75, 7.1417, 22.3583, 6.975, 7.8958, 7.05, 14.5, 26.0, 13.0, 15.0458, 26.2833, 53.1, 9.2167, 79.2, 15.2458, 7.75, 15.85, 6.75, 11.5, 36.75, 7.7958, 34.375, 26.0, 13.0, 12.525, 66.6, 8.05, 14.5, 7.3125, 61.3792, 7.7333, 8.05, 8.6625, 69.55, 16.1, 15.75, 7.775, 8.6625, 39.6875, 20.525, 55.0, 27.9, 25.925, 56.4958, 33.5, 29.125, 11.1333, 7.925, 30.6958, 7.8542, 25.4667, 28.7125, 13.0, 0.0, 69.55, 15.05, 31.3875, 39.0, 22.025, 50.0, 15.5, 26.55, 15.5, 7.8958, 13.0, 13.0, 7.8542, 26.0, 27.7208, 146.5208, 7.75, 8.4042, 7.75, 13.0, 9.5, 69.55, 6.4958, 7.225, 8.05, 10.4625, 15.85, 18.7875, 7.75, 31.0, 7.05, 21.0, 7.25, 13.0, 7.75, 113.275, 7.925, 27.0, 76.2917, 10.5, 8.05, 13.0, 8.05, 7.8958, 90.0, 9.35, 10.5, 7.25, 13.0, 25.4667, 83.475, 7.775, 13.5, 31.3875, 10.5, 7.55, 26.0, 26.25, 10.5, 12.275, 14.4542, 15.5, 10.5, 7.125, 7.225, 90.0, 7.775, 14.5, 52.5542, 26.0, 7.25, 10.4625, 26.55, 16.1, 20.2125, 15.2458, 79.2, 86.5, 512.3292, 26.0, 7.75, 31.3875, 79.65, 0.0, 7.75, 10.5, 39.6875, 7.775, 153.4625, 135.6333, 31.0, 0.0, 19.5, 29.7, 7.75, 77.9583, 7.75, 0.0, 29.125, 20.25, 7.75, 7.8542, 9.5, 8.05, 26.0, 8.6625, 9.5, 7.8958, 13.0, 7.75, 78.85, 91.0792, 12.875, 8.85, 7.8958, 27.7208, 7.2292, 151.55, 30.5, 247.5208, 7.75, 23.25, 0.0, 12.35, 8.05, 151.55, 110.8833, 108.9, 24.0, 56.9292, 83.1583, 262.375, 26.0, 7.8958, 26.25, 7.8542, 26.0, 14.0, 164.8667, 134.5, 7.25, 7.8958, 12.35, 29.0, 69.55, 135.6333, 6.2375, 13.0, 20.525, 57.9792, 23.25, 28.5, 153.4625, 18.0, 133.65, 7.8958, 66.6, 134.5, 8.05, 35.5, 26.0, 263.0, 13.0, 13.0, 13.0, 13.0, 13.0, 16.1, 15.9, 8.6625, 9.225, 35.0, 7.2292, 17.8, 7.225, 9.5, 55.0, 13.0, 7.8792, 7.8792, 27.9, 27.7208, 14.4542, 7.05, 15.5, 7.25, 75.25, 7.2292, 7.75, 69.3, 55.4417, 6.4958, 8.05, 135.6333, 21.075, 82.1708, 7.25, 211.5, 4.0125, 7.775, 227.525, 15.7417, 7.925, 52.0, 7.8958, 73.5, 46.9, 13.0, 7.7292, 12.0, 120.0, 7.7958, 7.925, 113.275, 16.7, 7.7958, 7.8542, 26.0, 10.5, 12.65, 7.925, 8.05, 9.825, 15.85, 8.6625, 21.0, 7.75, 18.75, 7.775, 25.4667, 7.8958, 6.8583, 90.0, 0.0, 7.925, 8.05, 32.5, 13.0, 13.0, 24.15, 7.8958, 7.7333, 7.875, 14.4, 20.2125, 7.25, 26.0, 26.0, 7.75, 8.05, 26.55, 16.1, 26.0, 7.125, 55.9, 120.0, 34.375, 18.75, 263.0, 10.5, 26.25, 9.5, 7.775, 13.0, 8.1125, 81.8583, 19.5, 26.55, 19.2583, 30.5, 27.75, 19.9667, 27.75, 89.1042, 8.05, 7.8958, 26.55, 51.8625, 10.5, 7.75, 26.55, 8.05, 38.5, 13.0, 8.05, 7.05, 0.0, 26.55, 7.725, 19.2583, 7.25, 8.6625, 27.75, 13.7917, 9.8375, 52.0, 21.0, 7.0458, 7.5208, 12.2875, 46.9, 0.0, 8.05, 9.5875, 91.0792, 25.4667, 90.0, 29.7, 8.05, 15.9, 19.9667, 7.25, 30.5, 49.5042, 8.05, 14.4583, 78.2667, 15.1, 151.55, 7.7958, 8.6625, 7.75, 7.6292, 9.5875, 86.5, 108.9, 26.0, 26.55, 22.525, 56.4958, 7.75, 8.05, 26.2875, 59.4, 7.4958, 34.0208, 10.5, 24.15, 26.0, 7.8958, 93.5, 7.8958, 7.225, 57.9792, 7.2292, 7.75, 10.5, 221.7792, 7.925, 11.5, 26.0, 7.2292, 7.2292, 22.3583, 8.6625, 26.25, 26.55, 106.425, 14.5, 49.5, 71.0, 31.275, 31.275, 26.0, 106.425, 26.0, 26.0, 13.8625, 20.525, 36.75, 110.8833, 26.0, 7.8292, 7.225, 7.775, 26.55, 39.6, 227.525, 79.65, 17.4, 7.75, 7.8958, 13.5, 8.05, 8.05, 24.15, 7.8958, 21.075, 7.2292, 7.8542, 10.5, 51.4792, 26.3875, 7.75, 8.05, 14.5, 13.0, 55.9, 14.4583, 7.925, 30.0, 110.8833, 26.0, 40.125, 8.7125, 79.65, 15.0, 79.2, 8.05, 8.05, 7.125, 78.2667, 7.25, 7.75, 26.0, 24.15, 33.0, 0.0, 7.225, 56.9292, 27.0, 7.8958, 42.4, 8.05, 26.55, 15.55, 7.8958, 30.5, 41.5792, 153.4625, 31.275, 7.05, 15.5, 7.75, 8.05, 65.0, 14.4, 16.1, 39.0, 10.5, 14.4542, 52.5542, 15.7417, 7.8542, 16.1, 32.3208, 12.35, 77.9583, 7.8958, 7.7333, 30.0, 7.0542, 30.5, 0.0, 27.9, 13.0, 7.925, 26.25, 39.6875, 16.1, 7.8542, 69.3, 27.9, 56.4958, 19.2583, 76.7292, 7.8958, 35.5, 7.55, 7.55, 7.8958, 23.0, 8.4333, 7.8292, 6.75, 73.5, 7.8958, 15.5, 13.0, 113.275, 133.65, 7.225, 25.5875, 7.4958, 7.925, 73.5, 13.0, 7.775, 8.05, 52.0, 39.0, 52.0, 10.5, 13.0, 0.0, 7.775, 8.05, 9.8417, 46.9, 512.3292, 8.1375, 76.7292, 9.225, 46.9, 39.0, 41.5792, 39.6875, 10.1708, 7.7958, 211.3375, 57.0, 13.4167, 56.4958, 7.225, 26.55, 13.5, 8.05, 7.7333, 110.8833, 7.65, 227.525, 26.2875, 14.4542, 7.7417, 7.8542, 26.0, 13.5, 26.2875, 151.55, 15.2458, 49.5042, 26.55, 52.0, 9.4833, 13.0, 7.65, 227.525, 10.5, 15.5, 7.775, 33.0, 7.0542, 13.0, 13.0, 53.1, 8.6625, 21.0, 7.7375, 26.0, 7.925, 211.3375, 18.7875, 0.0, 13.0, 13.0, 16.1, 34.375, 512.3292, 7.8958, 7.8958, 30.0, 78.85, 262.375, 16.1, 7.925, 71.0, 20.25, 13.0, 53.1, 7.75, 23.0, 12.475, 9.5, 7.8958, 65.0, 14.5, 7.7958, 11.5, 8.05, 86.5, 14.5, 7.125, 7.2292, 120.0, 7.775, 77.9583, 39.6, 7.75, 24.15, 8.3625, 9.5, 7.8542, 10.5, 7.225, 23.0, 7.75, 7.75, 12.475, 7.7375, 211.3375, 7.2292, 57.0, 30.0, 23.45, 7.05, 7.25, 7.4958, 29.125, 20.575, 79.2, 7.75, 26.0, 69.55, 30.6958, 7.8958, 13.0, 25.9292, 8.6833, 7.2292, 24.15, 13.0, 26.25, 120.0, 8.5167, 6.975, 7.775, 0.0, 7.775, 13.0, 53.1, 7.8875, 24.15, 10.5, 31.275, 8.05, 0.0, 7.925, 37.0042, 6.45, 27.9, 93.5, 8.6625, 0.0, 12.475, 39.6875, 6.95, 56.4958, 37.0042, 7.75, 14.4542, 18.75, 7.2292, 7.8542, 8.3, 83.1583, 8.6625, 8.05, 56.4958, 29.7, 7.925, 10.5, 31.0, 6.4375, 8.6625, 7.55, 69.55, 7.8958, 33.0, 89.1042, 31.275, 7.775, 15.2458, 39.4, 26.0, 9.35, 164.8667, 26.55, 19.2583, 7.2292, 14.1083, 11.5, 25.9292, 69.55, 13.0, 13.0, 13.8583, 50.4958, 9.5, 11.1333, 7.8958, 52.5542, 5.0, 9.0, 24.0, 7.225, 9.8458, 7.8958, 7.8958, 83.1583, 26.0, 7.8958, 10.5167, 10.5, 7.05, 29.125, 13.0, 30.0, 23.45, 30.0, 7.75]}],\n",
       "                        {\"template\": {\"data\": {\"bar\": [{\"error_x\": {\"color\": \"#2a3f5f\"}, \"error_y\": {\"color\": \"#2a3f5f\"}, \"marker\": {\"line\": {\"color\": \"#E5ECF6\", \"width\": 0.5}}, \"type\": \"bar\"}], \"barpolar\": [{\"marker\": {\"line\": {\"color\": \"#E5ECF6\", \"width\": 0.5}}, \"type\": \"barpolar\"}], \"carpet\": [{\"aaxis\": {\"endlinecolor\": \"#2a3f5f\", \"gridcolor\": \"white\", \"linecolor\": \"white\", \"minorgridcolor\": \"white\", \"startlinecolor\": \"#2a3f5f\"}, \"baxis\": {\"endlinecolor\": \"#2a3f5f\", \"gridcolor\": \"white\", \"linecolor\": \"white\", \"minorgridcolor\": \"white\", \"startlinecolor\": \"#2a3f5f\"}, \"type\": \"carpet\"}], \"choropleth\": [{\"colorbar\": {\"outlinewidth\": 0, \"ticks\": \"\"}, \"type\": \"choropleth\"}], \"contour\": [{\"colorbar\": {\"outlinewidth\": 0, \"ticks\": \"\"}, \"colorscale\": [[0.0, \"#0d0887\"], [0.1111111111111111, \"#46039f\"], [0.2222222222222222, \"#7201a8\"], [0.3333333333333333, \"#9c179e\"], [0.4444444444444444, \"#bd3786\"], [0.5555555555555556, \"#d8576b\"], [0.6666666666666666, \"#ed7953\"], [0.7777777777777778, \"#fb9f3a\"], [0.8888888888888888, \"#fdca26\"], [1.0, \"#f0f921\"]], \"type\": \"contour\"}], \"contourcarpet\": [{\"colorbar\": {\"outlinewidth\": 0, \"ticks\": \"\"}, \"type\": \"contourcarpet\"}], \"heatmap\": [{\"colorbar\": {\"outlinewidth\": 0, \"ticks\": \"\"}, \"colorscale\": [[0.0, \"#0d0887\"], [0.1111111111111111, \"#46039f\"], [0.2222222222222222, \"#7201a8\"], [0.3333333333333333, \"#9c179e\"], [0.4444444444444444, \"#bd3786\"], [0.5555555555555556, \"#d8576b\"], [0.6666666666666666, \"#ed7953\"], [0.7777777777777778, \"#fb9f3a\"], [0.8888888888888888, \"#fdca26\"], [1.0, \"#f0f921\"]], \"type\": \"heatmap\"}], \"heatmapgl\": [{\"colorbar\": {\"outlinewidth\": 0, \"ticks\": \"\"}, \"colorscale\": [[0.0, \"#0d0887\"], [0.1111111111111111, \"#46039f\"], [0.2222222222222222, \"#7201a8\"], [0.3333333333333333, \"#9c179e\"], [0.4444444444444444, \"#bd3786\"], [0.5555555555555556, \"#d8576b\"], [0.6666666666666666, \"#ed7953\"], [0.7777777777777778, \"#fb9f3a\"], [0.8888888888888888, \"#fdca26\"], [1.0, \"#f0f921\"]], \"type\": \"heatmapgl\"}], \"histogram\": [{\"marker\": {\"colorbar\": {\"outlinewidth\": 0, \"ticks\": \"\"}}, \"type\": \"histogram\"}], \"histogram2d\": [{\"colorbar\": {\"outlinewidth\": 0, \"ticks\": \"\"}, \"colorscale\": [[0.0, \"#0d0887\"], [0.1111111111111111, \"#46039f\"], [0.2222222222222222, \"#7201a8\"], [0.3333333333333333, \"#9c179e\"], [0.4444444444444444, \"#bd3786\"], [0.5555555555555556, \"#d8576b\"], [0.6666666666666666, \"#ed7953\"], [0.7777777777777778, \"#fb9f3a\"], [0.8888888888888888, \"#fdca26\"], [1.0, \"#f0f921\"]], \"type\": \"histogram2d\"}], \"histogram2dcontour\": [{\"colorbar\": {\"outlinewidth\": 0, \"ticks\": \"\"}, \"colorscale\": [[0.0, \"#0d0887\"], [0.1111111111111111, \"#46039f\"], [0.2222222222222222, \"#7201a8\"], [0.3333333333333333, \"#9c179e\"], [0.4444444444444444, \"#bd3786\"], [0.5555555555555556, \"#d8576b\"], [0.6666666666666666, \"#ed7953\"], [0.7777777777777778, \"#fb9f3a\"], [0.8888888888888888, \"#fdca26\"], [1.0, \"#f0f921\"]], \"type\": \"histogram2dcontour\"}], \"mesh3d\": [{\"colorbar\": {\"outlinewidth\": 0, \"ticks\": \"\"}, \"type\": \"mesh3d\"}], \"parcoords\": [{\"line\": {\"colorbar\": {\"outlinewidth\": 0, \"ticks\": \"\"}}, \"type\": \"parcoords\"}], \"pie\": [{\"automargin\": true, \"type\": \"pie\"}], \"scatter\": [{\"marker\": {\"colorbar\": {\"outlinewidth\": 0, \"ticks\": \"\"}}, \"type\": \"scatter\"}], \"scatter3d\": [{\"line\": {\"colorbar\": {\"outlinewidth\": 0, \"ticks\": \"\"}}, \"marker\": {\"colorbar\": {\"outlinewidth\": 0, \"ticks\": \"\"}}, \"type\": \"scatter3d\"}], \"scattercarpet\": [{\"marker\": {\"colorbar\": {\"outlinewidth\": 0, \"ticks\": \"\"}}, \"type\": \"scattercarpet\"}], \"scattergeo\": [{\"marker\": {\"colorbar\": {\"outlinewidth\": 0, \"ticks\": \"\"}}, \"type\": \"scattergeo\"}], \"scattergl\": [{\"marker\": {\"colorbar\": {\"outlinewidth\": 0, \"ticks\": \"\"}}, \"type\": \"scattergl\"}], \"scattermapbox\": [{\"marker\": {\"colorbar\": {\"outlinewidth\": 0, \"ticks\": \"\"}}, \"type\": \"scattermapbox\"}], \"scatterpolar\": [{\"marker\": {\"colorbar\": {\"outlinewidth\": 0, \"ticks\": \"\"}}, \"type\": \"scatterpolar\"}], \"scatterpolargl\": [{\"marker\": {\"colorbar\": {\"outlinewidth\": 0, \"ticks\": \"\"}}, \"type\": \"scatterpolargl\"}], \"scatterternary\": [{\"marker\": {\"colorbar\": {\"outlinewidth\": 0, \"ticks\": \"\"}}, \"type\": \"scatterternary\"}], \"surface\": [{\"colorbar\": {\"outlinewidth\": 0, \"ticks\": \"\"}, \"colorscale\": [[0.0, \"#0d0887\"], [0.1111111111111111, \"#46039f\"], [0.2222222222222222, \"#7201a8\"], [0.3333333333333333, \"#9c179e\"], [0.4444444444444444, \"#bd3786\"], [0.5555555555555556, \"#d8576b\"], [0.6666666666666666, \"#ed7953\"], [0.7777777777777778, \"#fb9f3a\"], [0.8888888888888888, \"#fdca26\"], [1.0, \"#f0f921\"]], \"type\": \"surface\"}], \"table\": [{\"cells\": {\"fill\": {\"color\": \"#EBF0F8\"}, \"line\": {\"color\": \"white\"}}, \"header\": {\"fill\": {\"color\": \"#C8D4E3\"}, \"line\": {\"color\": \"white\"}}, \"type\": \"table\"}]}, \"layout\": {\"annotationdefaults\": {\"arrowcolor\": \"#2a3f5f\", \"arrowhead\": 0, \"arrowwidth\": 1}, \"coloraxis\": {\"colorbar\": {\"outlinewidth\": 0, \"ticks\": \"\"}}, \"colorscale\": {\"diverging\": [[0, \"#8e0152\"], [0.1, \"#c51b7d\"], [0.2, \"#de77ae\"], [0.3, \"#f1b6da\"], [0.4, \"#fde0ef\"], [0.5, \"#f7f7f7\"], [0.6, \"#e6f5d0\"], [0.7, \"#b8e186\"], [0.8, \"#7fbc41\"], [0.9, \"#4d9221\"], [1, \"#276419\"]], \"sequential\": [[0.0, \"#0d0887\"], [0.1111111111111111, \"#46039f\"], [0.2222222222222222, \"#7201a8\"], [0.3333333333333333, \"#9c179e\"], [0.4444444444444444, \"#bd3786\"], [0.5555555555555556, \"#d8576b\"], [0.6666666666666666, \"#ed7953\"], [0.7777777777777778, \"#fb9f3a\"], [0.8888888888888888, \"#fdca26\"], [1.0, \"#f0f921\"]], \"sequentialminus\": [[0.0, \"#0d0887\"], [0.1111111111111111, \"#46039f\"], [0.2222222222222222, \"#7201a8\"], [0.3333333333333333, \"#9c179e\"], [0.4444444444444444, \"#bd3786\"], [0.5555555555555556, \"#d8576b\"], [0.6666666666666666, \"#ed7953\"], [0.7777777777777778, \"#fb9f3a\"], [0.8888888888888888, \"#fdca26\"], [1.0, \"#f0f921\"]]}, \"colorway\": [\"#636efa\", \"#EF553B\", \"#00cc96\", \"#ab63fa\", \"#FFA15A\", \"#19d3f3\", \"#FF6692\", \"#B6E880\", \"#FF97FF\", \"#FECB52\"], \"font\": {\"color\": \"#2a3f5f\"}, \"geo\": {\"bgcolor\": \"white\", \"lakecolor\": \"white\", \"landcolor\": \"#E5ECF6\", \"showlakes\": true, \"showland\": true, \"subunitcolor\": \"white\"}, \"hoverlabel\": {\"align\": \"left\"}, \"hovermode\": \"closest\", \"mapbox\": {\"style\": \"light\"}, \"paper_bgcolor\": \"white\", \"plot_bgcolor\": \"#E5ECF6\", \"polar\": {\"angularaxis\": {\"gridcolor\": \"white\", \"linecolor\": \"white\", \"ticks\": \"\"}, \"bgcolor\": \"#E5ECF6\", \"radialaxis\": {\"gridcolor\": \"white\", \"linecolor\": \"white\", \"ticks\": \"\"}}, \"scene\": {\"xaxis\": {\"backgroundcolor\": \"#E5ECF6\", \"gridcolor\": \"white\", \"gridwidth\": 2, \"linecolor\": \"white\", \"showbackground\": true, \"ticks\": \"\", \"zerolinecolor\": \"white\"}, \"yaxis\": {\"backgroundcolor\": \"#E5ECF6\", \"gridcolor\": \"white\", \"gridwidth\": 2, \"linecolor\": \"white\", \"showbackground\": true, \"ticks\": \"\", \"zerolinecolor\": \"white\"}, \"zaxis\": {\"backgroundcolor\": \"#E5ECF6\", \"gridcolor\": \"white\", \"gridwidth\": 2, \"linecolor\": \"white\", \"showbackground\": true, \"ticks\": \"\", \"zerolinecolor\": \"white\"}}, \"shapedefaults\": {\"line\": {\"color\": \"#2a3f5f\"}}, \"ternary\": {\"aaxis\": {\"gridcolor\": \"white\", \"linecolor\": \"white\", \"ticks\": \"\"}, \"baxis\": {\"gridcolor\": \"white\", \"linecolor\": \"white\", \"ticks\": \"\"}, \"bgcolor\": \"#E5ECF6\", \"caxis\": {\"gridcolor\": \"white\", \"linecolor\": \"white\", \"ticks\": \"\"}}, \"title\": {\"x\": 0.05}, \"xaxis\": {\"automargin\": true, \"gridcolor\": \"white\", \"linecolor\": \"white\", \"ticks\": \"\", \"title\": {\"standoff\": 15}, \"zerolinecolor\": \"white\", \"zerolinewidth\": 2}, \"yaxis\": {\"automargin\": true, \"gridcolor\": \"white\", \"linecolor\": \"white\", \"ticks\": \"\", \"title\": {\"standoff\": 15}, \"zerolinecolor\": \"white\", \"zerolinewidth\": 2}}}, \"title\": {\"text\": \"Fare\"}},\n",
       "                        {\"responsive\": true}\n",
       "                    ).then(function(){\n",
       "                            \n",
       "var gd = document.getElementById('fb22a46e-0f0b-431e-85d7-b2ceae49dd34');\n",
       "var x = new MutationObserver(function (mutations, observer) {{\n",
       "        var display = window.getComputedStyle(gd).display;\n",
       "        if (!display || display === 'none') {{\n",
       "            console.log([gd, 'removed!']);\n",
       "            Plotly.purge(gd);\n",
       "            observer.disconnect();\n",
       "        }}\n",
       "}});\n",
       "\n",
       "// Listen for the removal of the full notebook cells\n",
       "var notebookContainer = gd.closest('#notebook-container');\n",
       "if (notebookContainer) {{\n",
       "    x.observe(notebookContainer, {childList: true});\n",
       "}}\n",
       "\n",
       "// Listen for the clearing of the current output cell\n",
       "var outputEl = gd.closest('.output');\n",
       "if (outputEl) {{\n",
       "    x.observe(outputEl, {childList: true});\n",
       "}}\n",
       "\n",
       "                        })\n",
       "                };\n",
       "                });\n",
       "            </script>\n",
       "        </div>"
      ]
     },
     "metadata": {},
     "output_type": "display_data"
    }
   ],
   "source": [
    "num = ['Age', 'fam_Size', 'Fare']\n",
    "color= ['#FFAA19', '#08F67F', '#7708F6']\n",
    "\n",
    "for col, c in zip(num, color):\n",
    "    fig = go.Figure()\n",
    "    df = data[col]\n",
    "    fig.add_trace(go.Histogram(x=df, nbinsx=10, marker_color=c, opacity=0.7))\n",
    "    fig.update_layout(\n",
    "        title_text=col)\n",
    "    fig.show()\n"
   ]
  },
  {
   "cell_type": "code",
   "execution_count": 12,
   "metadata": {},
   "outputs": [
    {
     "data": {
      "application/vnd.plotly.v1+json": {
       "config": {
        "plotlyServerURL": "https://plot.ly"
       },
       "data": [
        {
         "hovertemplate": "Survived=0<br>Age=%{x}<br>fam_Size=%{y}<br>Fare=%{z}<br>Pclass=%{marker.color}<extra></extra>",
         "legendgroup": "0",
         "marker": {
          "color": [
           3,
           3,
           3,
           1,
           3,
           3,
           3,
           3,
           3,
           3,
           2,
           3,
           3,
           1,
           3,
           1,
           2,
           1,
           1,
           3,
           3,
           3,
           2,
           3,
           3,
           3,
           3,
           3,
           3,
           3,
           1,
           3,
           3,
           3,
           1,
           3,
           1,
           3,
           3,
           2,
           3,
           2,
           3,
           3,
           3,
           3,
           3,
           1,
           3,
           3,
           3,
           3,
           3,
           1,
           3,
           3,
           3,
           1,
           2,
           3,
           3,
           1,
           3,
           3,
           3,
           3,
           1,
           3,
           3,
           3,
           3,
           3,
           3,
           2,
           1,
           3,
           2,
           3,
           2,
           1,
           3,
           3,
           3,
           3,
           3,
           2,
           2,
           1,
           3,
           1,
           3,
           3,
           2,
           2,
           3,
           2,
           2,
           2,
           3,
           3,
           3,
           1,
           3,
           3,
           3,
           3,
           3,
           3,
           3,
           3,
           1,
           3,
           1,
           3,
           3,
           1,
           3,
           3,
           1,
           2,
           3,
           3,
           2,
           3,
           1,
           3,
           3,
           2,
           3,
           3,
           2,
           3,
           3,
           3,
           3,
           3,
           3,
           3,
           3,
           2,
           3,
           2,
           2,
           2,
           3,
           3,
           3,
           3,
           2,
           3,
           3,
           2,
           2,
           3,
           2,
           2,
           2,
           3,
           2,
           3,
           3,
           1,
           3,
           2,
           3,
           3,
           1,
           3,
           3,
           3,
           1,
           1,
           3,
           2,
           3,
           1,
           1,
           3,
           2,
           3,
           3,
           3,
           3,
           1,
           3,
           3,
           2,
           3,
           3,
           1,
           3,
           1,
           3,
           3,
           2,
           2,
           3,
           2,
           2,
           3,
           3,
           3,
           3,
           1,
           1,
           3,
           3,
           1,
           1,
           2,
           2,
           2,
           3,
           3,
           1,
           3,
           3,
           3,
           3,
           2,
           3,
           2,
           3,
           3,
           3,
           3,
           3,
           3,
           1,
           3,
           1,
           3,
           3,
           3,
           3,
           2,
           3,
           3,
           3,
           3,
           3,
           2,
           2,
           3,
           3,
           3,
           3,
           2,
           3,
           3,
           3,
           3,
           3,
           2,
           3,
           2,
           3,
           3,
           3,
           3,
           3,
           3,
           3,
           3,
           3,
           1,
           3,
           1,
           2,
           3,
           3,
           2,
           3,
           1,
           3,
           1,
           3,
           3,
           1,
           2,
           3,
           3,
           2,
           1,
           3,
           3,
           3,
           3,
           1,
           2,
           3,
           3,
           3,
           2,
           3,
           3,
           1,
           3,
           3,
           3,
           1,
           1,
           3,
           3,
           3,
           1,
           3,
           3,
           3,
           3,
           3,
           1,
           3,
           3,
           3,
           1,
           3,
           3,
           3,
           3,
           3,
           3,
           1,
           3,
           2,
           3,
           3,
           3,
           1,
           3,
           3,
           3,
           1,
           1,
           3,
           2,
           3,
           1,
           1,
           3,
           3,
           2,
           3,
           3,
           3,
           3,
           3,
           3,
           3,
           3,
           3,
           2,
           1,
           3,
           2,
           3,
           3,
           3,
           3,
           3,
           2,
           3,
           3,
           3,
           3,
           1,
           3,
           3,
           3,
           3,
           3,
           3,
           3,
           3,
           3,
           2,
           3,
           3,
           3,
           1,
           2,
           3,
           3,
           3,
           1,
           3,
           3,
           2,
           3,
           3,
           3,
           3,
           3,
           3,
           3,
           3,
           3,
           2,
           3,
           3,
           2,
           1,
           3,
           1,
           3,
           2,
           2,
           3,
           3,
           1,
           2,
           2,
           3,
           3,
           3,
           3,
           3,
           3,
           2,
           2,
           3,
           3,
           3,
           3,
           1,
           2,
           3,
           1,
           3,
           3,
           3,
           3,
           2,
           1,
           3,
           2,
           3,
           3,
           3,
           3,
           2,
           2,
           3,
           2,
           3,
           3,
           2,
           2,
           2,
           3,
           3,
           3,
           3,
           1,
           3,
           1,
           3,
           1,
           3,
           3,
           3,
           3,
           2,
           3,
           3,
           3,
           3,
           1,
           3,
           3,
           3,
           3,
           3,
           2,
           3,
           3,
           3,
           3,
           1,
           3,
           3,
           3,
           3,
           1,
           3,
           2,
           3,
           1,
           3,
           2,
           3,
           3,
           2,
           3,
           1,
           3,
           2,
           3,
           3,
           2,
           3,
           3,
           1,
           3,
           2,
           3,
           3,
           1,
           3,
           3,
           3,
           3,
           3,
           3,
           3,
           3,
           3,
           2,
           3,
           3,
           3,
           3,
           3,
           2,
           3,
           3,
           3,
           2,
           3,
           3,
           2,
           3,
           2,
           1,
           3,
           3,
           1,
           3,
           3,
           3,
           3,
           3,
           3,
           2,
           3,
           3,
           2,
           3,
           3
          ],
          "coloraxis": "coloraxis",
          "opacity": 0.7,
          "symbol": "circle"
         },
         "mode": "markers",
         "name": "0",
         "scene": "scene",
         "showlegend": true,
         "type": "scatter3d",
         "x": [
          22,
          35,
          29,
          54,
          2,
          20,
          39,
          14,
          2,
          31,
          35,
          8,
          29,
          19,
          29,
          40,
          66,
          28,
          42,
          21,
          18,
          40,
          27,
          29,
          29,
          29,
          29,
          18,
          7,
          21,
          65,
          28.5,
          11,
          22,
          45,
          4,
          29,
          19,
          26,
          32,
          16,
          21,
          26,
          25,
          29,
          29,
          22,
          28,
          16,
          29,
          24,
          29,
          20,
          46,
          26,
          59,
          29,
          71,
          34,
          28,
          29,
          21,
          33,
          37,
          28,
          38,
          47,
          14.5,
          22,
          20,
          17,
          21,
          70.5,
          29,
          24,
          2,
          21,
          29,
          32.5,
          54,
          29,
          45,
          33,
          20,
          47,
          25,
          23,
          37,
          16,
          24,
          29,
          19,
          18,
          19,
          9,
          36.5,
          42,
          51,
          55.5,
          40.5,
          29,
          51,
          30,
          29,
          29,
          44,
          26,
          17,
          1,
          45,
          29,
          28,
          61,
          4,
          21,
          56,
          18,
          29,
          50,
          30,
          36,
          29,
          29,
          9,
          29,
          40,
          36,
          19,
          29,
          42,
          24,
          28,
          29,
          34,
          45.5,
          2,
          32,
          24,
          22,
          30,
          29,
          42,
          30,
          27,
          51,
          29,
          22,
          20.5,
          18,
          29,
          29,
          59,
          24,
          29,
          44,
          19,
          33,
          29,
          29,
          22,
          30,
          44,
          25,
          54,
          29,
          29,
          62,
          30,
          41,
          29,
          52,
          40,
          29,
          36,
          16,
          29,
          37,
          45,
          29,
          7,
          65,
          28,
          16,
          29,
          33,
          22,
          36,
          24,
          24,
          29,
          23.5,
          2,
          19,
          29,
          30,
          26,
          28,
          43,
          54,
          22,
          27,
          29,
          61,
          45.5,
          38,
          16,
          29,
          29,
          45,
          28,
          25,
          36,
          42,
          23,
          29,
          15,
          25,
          29,
          28,
          38,
          40,
          29,
          45,
          35,
          29,
          30,
          18,
          19,
          22,
          3,
          27,
          20,
          19,
          32,
          29,
          18,
          1,
          29,
          28,
          22,
          31,
          46,
          23,
          26,
          21,
          28,
          20,
          34,
          51,
          21,
          29,
          29,
          29,
          29,
          29,
          30,
          10,
          29,
          21,
          29,
          28,
          18,
          29,
          29,
          17,
          50,
          21,
          64,
          31,
          20,
          25,
          36,
          29,
          30,
          29,
          65,
          29,
          34,
          47,
          48,
          29,
          38,
          29,
          56,
          29,
          29,
          38,
          22,
          29,
          34,
          29,
          22,
          9,
          29,
          50,
          29,
          58,
          30,
          29,
          21,
          55,
          71,
          21,
          29,
          29,
          25,
          24,
          17,
          21,
          29,
          37,
          18,
          28,
          29,
          24,
          47,
          29,
          32,
          22,
          29,
          29,
          40.5,
          29,
          39,
          23,
          29,
          17,
          30,
          45,
          29,
          9,
          11,
          50,
          64,
          33,
          27,
          29,
          62,
          29,
          29,
          40,
          28,
          29,
          29,
          24,
          19,
          29,
          29,
          16,
          19,
          29,
          54,
          36,
          29,
          47,
          22,
          29,
          35,
          47,
          29,
          37,
          36,
          49,
          29,
          29,
          29,
          44,
          36,
          30,
          39,
          29,
          29,
          35,
          34,
          26,
          26,
          27,
          21,
          21,
          61,
          57,
          26,
          29,
          51,
          29,
          9,
          32,
          31,
          41,
          29,
          20,
          2,
          19,
          29,
          29,
          21,
          18,
          24,
          29,
          32,
          23,
          58,
          40,
          47,
          36,
          32,
          25,
          29,
          43,
          31,
          70,
          29,
          18,
          24.5,
          43,
          29,
          20,
          14,
          60,
          25,
          14,
          19,
          18,
          25,
          60,
          52,
          44,
          49,
          42,
          18,
          25,
          26,
          39,
          29,
          29,
          52,
          19,
          29,
          33,
          17,
          34,
          50,
          20,
          25,
          25,
          11,
          29,
          23,
          23,
          28.5,
          48,
          29,
          29,
          36,
          24,
          70,
          16,
          19,
          31,
          33,
          23,
          28,
          18,
          34,
          29,
          41,
          16,
          29,
          30.5,
          29,
          32,
          24,
          48,
          57,
          29,
          18,
          29,
          29,
          29,
          29,
          25,
          25,
          8,
          46,
          29,
          16,
          29,
          29,
          25,
          39,
          30,
          30,
          34,
          31,
          39,
          18,
          39,
          26,
          39,
          35,
          6,
          30.5,
          29,
          23,
          31,
          43,
          10,
          38,
          2,
          29,
          29,
          29,
          23,
          18,
          21,
          29,
          20,
          16,
          34.5,
          17,
          42,
          29,
          35,
          28,
          4,
          74,
          9,
          44,
          29,
          41,
          21,
          29,
          24,
          31,
          29,
          26,
          33,
          47,
          20,
          19,
          29,
          33,
          22,
          28,
          25,
          39,
          27,
          29,
          32
         ],
         "y": [
          2,
          1,
          1,
          1,
          5,
          1,
          7,
          1,
          6,
          2,
          1,
          5,
          1,
          6,
          1,
          1,
          1,
          2,
          2,
          1,
          3,
          2,
          2,
          1,
          1,
          2,
          3,
          2,
          6,
          1,
          2,
          1,
          8,
          1,
          2,
          6,
          1,
          1,
          3,
          1,
          8,
          1,
          2,
          1,
          1,
          1,
          1,
          1,
          5,
          1,
          1,
          1,
          1,
          2,
          4,
          1,
          1,
          1,
          2,
          1,
          1,
          2,
          1,
          3,
          1,
          1,
          1,
          2,
          1,
          2,
          1,
          1,
          1,
          2,
          2,
          7,
          3,
          1,
          2,
          2,
          1,
          1,
          1,
          1,
          2,
          1,
          1,
          2,
          1,
          1,
          3,
          1,
          1,
          3,
          5,
          3,
          1,
          1,
          1,
          3,
          1,
          2,
          1,
          1,
          11,
          2,
          1,
          1,
          6,
          6,
          1,
          1,
          1,
          6,
          1,
          1,
          3,
          5,
          1,
          1,
          1,
          11,
          1,
          7,
          1,
          3,
          1,
          1,
          1,
          2,
          1,
          1,
          11,
          1,
          1,
          2,
          2,
          1,
          1,
          1,
          2,
          2,
          1,
          1,
          1,
          1,
          1,
          1,
          1,
          5,
          1,
          1,
          1,
          1,
          2,
          1,
          1,
          2,
          1,
          1,
          1,
          3,
          1,
          2,
          1,
          3,
          1,
          2,
          3,
          1,
          3,
          1,
          1,
          1,
          6,
          1,
          2,
          1,
          1,
          6,
          1,
          1,
          1,
          1,
          1,
          1,
          1,
          1,
          1,
          1,
          1,
          4,
          1,
          1,
          2,
          3,
          1,
          3,
          1,
          1,
          1,
          11,
          1,
          1,
          2,
          3,
          1,
          2,
          1,
          1,
          1,
          1,
          1,
          1,
          1,
          3,
          2,
          1,
          1,
          1,
          6,
          2,
          2,
          1,
          2,
          1,
          2,
          1,
          1,
          5,
          3,
          1,
          1,
          1,
          1,
          1,
          8,
          1,
          3,
          1,
          1,
          1,
          1,
          1,
          2,
          2,
          1,
          2,
          1,
          1,
          5,
          1,
          1,
          1,
          1,
          1,
          3,
          1,
          1,
          1,
          3,
          3,
          1,
          1,
          1,
          2,
          5,
          6,
          1,
          1,
          2,
          4,
          2,
          1,
          1,
          1,
          1,
          1,
          1,
          1,
          1,
          1,
          1,
          1,
          1,
          1,
          1,
          1,
          1,
          2,
          2,
          1,
          8,
          1,
          1,
          5,
          1,
          1,
          2,
          1,
          1,
          1,
          1,
          1,
          1,
          4,
          1,
          1,
          1,
          1,
          1,
          2,
          1,
          1,
          1,
          1,
          1,
          1,
          1,
          1,
          1,
          1,
          1,
          1,
          4,
          1,
          3,
          1,
          1,
          1,
          7,
          7,
          2,
          1,
          3,
          1,
          1,
          1,
          1,
          1,
          1,
          1,
          1,
          1,
          3,
          1,
          5,
          1,
          1,
          1,
          2,
          1,
          1,
          1,
          1,
          1,
          1,
          1,
          1,
          3,
          2,
          3,
          1,
          1,
          1,
          1,
          1,
          2,
          1,
          7,
          1,
          1,
          1,
          3,
          2,
          1,
          2,
          1,
          1,
          1,
          1,
          1,
          1,
          1,
          1,
          6,
          1,
          3,
          6,
          2,
          1,
          6,
          1,
          1,
          1,
          1,
          1,
          3,
          1,
          3,
          1,
          3,
          1,
          1,
          1,
          3,
          1,
          1,
          1,
          2,
          1,
          1,
          1,
          1,
          8,
          1,
          1,
          8,
          3,
          4,
          6,
          1,
          1,
          1,
          1,
          1,
          1,
          3,
          1,
          2,
          1,
          2,
          1,
          1,
          1,
          1,
          1,
          1,
          1,
          2,
          1,
          1,
          1,
          2,
          2,
          1,
          1,
          1,
          1,
          1,
          5,
          1,
          1,
          2,
          2,
          3,
          3,
          2,
          1,
          1,
          1,
          1,
          1,
          1,
          1,
          1,
          1,
          1,
          1,
          2,
          1,
          1,
          1,
          1,
          1,
          1,
          1,
          1,
          1,
          4,
          1,
          1,
          6,
          1,
          1,
          1,
          11,
          1,
          1,
          1,
          1,
          3,
          1,
          1,
          1,
          1,
          1,
          1,
          1,
          1,
          7,
          1,
          1,
          1,
          3,
          1,
          6,
          1,
          6,
          1,
          1,
          1,
          1,
          1,
          1,
          1,
          1,
          1,
          1,
          1,
          1,
          11,
          1,
          2,
          7,
          1,
          3,
          2,
          1,
          3,
          2,
          11,
          1,
          1,
          1,
          1,
          1,
          1,
          1,
          1,
          1,
          1,
          1,
          1,
          1,
          6,
          1,
          4,
          1
         ],
         "z": [
          7.25,
          8.05,
          8.4583,
          51.8625,
          21.075,
          8.05,
          31.275,
          7.8542,
          29.125,
          18,
          26,
          21.075,
          7.225,
          263,
          7.8958,
          27.7208,
          10.5,
          82.1708,
          52,
          8.05,
          18,
          9.475,
          21,
          7.8958,
          8.05,
          15.5,
          21.6792,
          17.8,
          39.6875,
          7.8,
          61.9792,
          7.2292,
          46.9,
          7.2292,
          83.475,
          27.9,
          27.7208,
          8.1583,
          8.6625,
          10.5,
          46.9,
          73.5,
          14.4542,
          7.65,
          7.8958,
          8.05,
          9,
          47.1,
          34.375,
          8.05,
          8.05,
          8.05,
          7.8542,
          61.175,
          20.575,
          7.25,
          8.05,
          34.6542,
          26,
          7.8958,
          7.8958,
          77.2875,
          8.6542,
          7.925,
          7.8958,
          7.8958,
          52,
          14.4542,
          8.05,
          9.825,
          14.4583,
          7.925,
          7.75,
          21,
          247.5208,
          31.275,
          73.5,
          8.05,
          30.0708,
          77.2875,
          7.75,
          6.975,
          7.8958,
          7.05,
          14.5,
          13,
          15.0458,
          53.1,
          9.2167,
          79.2,
          15.2458,
          6.75,
          11.5,
          36.75,
          34.375,
          26,
          13,
          12.525,
          8.05,
          14.5,
          7.3125,
          61.3792,
          8.05,
          8.6625,
          69.55,
          16.1,
          7.775,
          8.6625,
          39.6875,
          27.9,
          25.925,
          56.4958,
          33.5,
          29.125,
          7.925,
          30.6958,
          7.8542,
          25.4667,
          28.7125,
          13,
          0,
          69.55,
          15.05,
          31.3875,
          50,
          15.5,
          7.8958,
          13,
          7.75,
          8.4042,
          13,
          9.5,
          69.55,
          6.4958,
          7.225,
          10.4625,
          15.85,
          7.05,
          7.25,
          13,
          7.75,
          27,
          10.5,
          13,
          8.05,
          7.8958,
          9.35,
          7.25,
          13,
          25.4667,
          7.775,
          13.5,
          10.5,
          7.55,
          26,
          10.5,
          12.275,
          14.4542,
          10.5,
          7.125,
          7.225,
          90,
          7.775,
          26,
          7.25,
          10.4625,
          26.55,
          16.1,
          20.2125,
          7.75,
          79.65,
          0,
          7.75,
          10.5,
          39.6875,
          31,
          29.7,
          7.75,
          0,
          29.125,
          7.75,
          7.8542,
          9.5,
          26,
          8.6625,
          7.8958,
          12.875,
          8.85,
          7.8958,
          27.7208,
          7.2292,
          151.55,
          0,
          8.05,
          24,
          26,
          7.8958,
          26.25,
          14,
          7.25,
          7.8958,
          69.55,
          6.2375,
          28.5,
          153.4625,
          18,
          7.8958,
          66.6,
          35.5,
          13,
          13,
          13,
          8.6625,
          9.225,
          35,
          7.2292,
          17.8,
          7.225,
          9.5,
          13,
          27.9,
          27.7208,
          14.4542,
          7.05,
          15.5,
          7.25,
          6.4958,
          8.05,
          135.6333,
          21.075,
          211.5,
          4.0125,
          7.775,
          7.925,
          7.8958,
          73.5,
          46.9,
          7.7292,
          7.925,
          7.7958,
          7.8542,
          26,
          10.5,
          8.05,
          9.825,
          15.85,
          8.6625,
          21,
          7.75,
          7.775,
          25.4667,
          7.8958,
          6.8583,
          0,
          8.05,
          13,
          24.15,
          7.8958,
          7.7333,
          7.875,
          14.4,
          20.2125,
          7.25,
          7.75,
          7.125,
          55.9,
          34.375,
          263,
          10.5,
          9.5,
          7.775,
          27.75,
          19.9667,
          27.75,
          8.05,
          26.55,
          7.75,
          8.05,
          38.5,
          13,
          8.05,
          7.05,
          0,
          26.55,
          7.725,
          7.25,
          8.6625,
          9.8375,
          52,
          21,
          7.0458,
          7.5208,
          46.9,
          0,
          8.05,
          25.4667,
          29.7,
          8.05,
          19.9667,
          7.25,
          30.5,
          49.5042,
          8.05,
          14.4583,
          15.1,
          151.55,
          7.7958,
          8.6625,
          7.75,
          7.6292,
          9.5875,
          108.9,
          22.525,
          8.05,
          7.4958,
          34.0208,
          24.15,
          7.8958,
          7.8958,
          7.225,
          7.2292,
          7.75,
          221.7792,
          7.925,
          11.5,
          7.2292,
          7.2292,
          8.6625,
          26.55,
          14.5,
          31.275,
          31.275,
          106.425,
          26,
          20.525,
          26,
          7.8292,
          26.55,
          227.525,
          7.75,
          7.8958,
          13.5,
          8.05,
          8.05,
          24.15,
          7.8958,
          21.075,
          7.2292,
          8.05,
          14.5,
          14.4583,
          26,
          40.125,
          8.7125,
          15,
          8.05,
          8.05,
          7.125,
          7.25,
          7.75,
          26,
          24.15,
          0,
          7.225,
          7.8958,
          42.4,
          8.05,
          15.55,
          7.8958,
          31.275,
          7.05,
          7.75,
          8.05,
          14.4,
          16.1,
          10.5,
          14.4542,
          7.8542,
          16.1,
          32.3208,
          12.35,
          7.8958,
          7.7333,
          7.0542,
          0,
          27.9,
          7.925,
          26.25,
          39.6875,
          16.1,
          7.8542,
          27.9,
          7.8958,
          7.55,
          7.8958,
          8.4333,
          6.75,
          73.5,
          7.8958,
          15.5,
          13,
          113.275,
          7.225,
          25.5875,
          7.4958,
          73.5,
          13,
          7.775,
          8.05,
          52,
          10.5,
          0,
          7.775,
          8.05,
          46.9,
          8.1375,
          9.225,
          46.9,
          39,
          41.5792,
          39.6875,
          10.1708,
          7.7958,
          7.225,
          26.55,
          13.5,
          8.05,
          110.8833,
          7.65,
          14.4542,
          7.7417,
          7.8542,
          26,
          26.55,
          9.4833,
          13,
          7.65,
          15.5,
          7.775,
          7.0542,
          13,
          13,
          8.6625,
          26,
          7.925,
          18.7875,
          0,
          13,
          13,
          16.1,
          34.375,
          7.8958,
          7.8958,
          78.85,
          16.1,
          71,
          20.25,
          53.1,
          7.75,
          9.5,
          7.8958,
          7.7958,
          11.5,
          8.05,
          14.5,
          7.125,
          7.775,
          39.6,
          7.75,
          24.15,
          8.3625,
          9.5,
          7.8542,
          10.5,
          7.225,
          7.75,
          7.75,
          7.7375,
          30,
          23.45,
          7.05,
          7.25,
          29.125,
          79.2,
          7.75,
          26,
          69.55,
          30.6958,
          7.8958,
          13,
          7.2292,
          24.15,
          13,
          7.775,
          0,
          7.775,
          13,
          7.8875,
          24.15,
          10.5,
          31.275,
          8.05,
          0,
          7.925,
          37.0042,
          6.45,
          27.9,
          0,
          39.6875,
          6.95,
          56.4958,
          7.2292,
          7.8542,
          8.3,
          8.6625,
          8.05,
          7.925,
          10.5,
          6.4375,
          8.6625,
          7.55,
          69.55,
          7.8958,
          33,
          31.275,
          7.775,
          15.2458,
          26,
          7.2292,
          14.1083,
          11.5,
          69.55,
          13,
          50.4958,
          9.5,
          7.8958,
          5,
          9,
          9.8458,
          7.8958,
          7.8958,
          7.8958,
          10.5167,
          10.5,
          7.05,
          29.125,
          13,
          23.45,
          7.75
         ]
        },
        {
         "hovertemplate": "Survived=1<br>Age=%{x}<br>fam_Size=%{y}<br>Fare=%{z}<br>Pclass=%{marker.color}<extra></extra>",
         "legendgroup": "1",
         "marker": {
          "color": [
           1,
           3,
           1,
           3,
           2,
           3,
           1,
           2,
           2,
           3,
           2,
           3,
           1,
           3,
           3,
           1,
           3,
           3,
           3,
           2,
           3,
           3,
           1,
           2,
           1,
           2,
           2,
           3,
           2,
           3,
           3,
           2,
           3,
           3,
           3,
           2,
           3,
           1,
           1,
           2,
           3,
           3,
           3,
           2,
           3,
           3,
           3,
           2,
           1,
           3,
           3,
           3,
           1,
           3,
           2,
           3,
           1,
           3,
           2,
           3,
           3,
           1,
           2,
           3,
           2,
           1,
           1,
           3,
           3,
           3,
           3,
           1,
           2,
           1,
           3,
           1,
           3,
           1,
           2,
           1,
           3,
           2,
           3,
           2,
           1,
           3,
           1,
           1,
           1,
           2,
           3,
           3,
           1,
           1,
           3,
           2,
           3,
           1,
           3,
           3,
           3,
           2,
           3,
           1,
           1,
           1,
           1,
           3,
           3,
           2,
           1,
           1,
           1,
           1,
           1,
           1,
           3,
           2,
           1,
           1,
           2,
           2,
           1,
           2,
           3,
           1,
           3,
           1,
           1,
           3,
           2,
           1,
           2,
           2,
           3,
           3,
           1,
           3,
           3,
           1,
           3,
           3,
           1,
           1,
           1,
           3,
           1,
           3,
           1,
           2,
           2,
           1,
           3,
           1,
           3,
           2,
           3,
           2,
           1,
           3,
           2,
           2,
           2,
           2,
           3,
           1,
           3,
           2,
           1,
           2,
           2,
           2,
           3,
           1,
           2,
           1,
           3,
           1,
           1,
           3,
           1,
           2,
           1,
           3,
           2,
           2,
           3,
           3,
           1,
           1,
           3,
           1,
           1,
           2,
           1,
           3,
           3,
           1,
           1,
           2,
           2,
           1,
           1,
           2,
           2,
           3,
           2,
           1,
           1,
           1,
           2,
           2,
           2,
           2,
           1,
           3,
           3,
           1,
           1,
           3,
           3,
           2,
           1,
           1,
           3,
           2,
           1,
           3,
           2,
           1,
           1,
           1,
           1,
           2,
           1,
           2,
           1,
           1,
           2,
           1,
           3,
           2,
           2,
           1,
           3,
           1,
           1,
           1,
           2,
           1,
           3,
           3,
           1,
           1,
           3,
           2,
           3,
           1,
           3,
           1,
           2,
           2,
           3,
           1,
           1,
           1,
           1,
           3,
           3,
           3,
           1,
           1,
           2,
           1,
           1,
           3,
           1,
           1,
           1,
           2,
           2,
           1,
           2,
           3,
           1,
           1,
           1,
           1,
           3,
           2,
           2,
           3,
           2,
           2,
           1,
           3,
           1,
           1,
           2,
           3,
           1,
           3,
           1,
           3,
           3,
           1,
           3,
           2,
           1,
           3,
           3,
           1,
           1,
           3,
           3,
           2,
           3,
           3,
           2,
           1,
           3,
           1,
           1,
           1,
           1,
           3,
           1,
           1,
           3,
           1,
           2,
           2,
           3,
           1,
           2,
           3,
           1,
           2,
           1,
           1
          ],
          "coloraxis": "coloraxis",
          "opacity": 0.7,
          "symbol": "diamond"
         },
         "mode": "markers",
         "name": "1",
         "scene": "scene",
         "showlegend": true,
         "type": "scatter3d",
         "x": [
          38,
          26,
          35,
          27,
          14,
          4,
          58,
          55,
          29,
          29,
          34,
          15,
          28,
          38,
          29,
          29,
          29,
          29,
          14,
          3,
          19,
          29,
          49,
          29,
          29,
          21,
          5,
          29,
          29,
          17,
          32,
          0.83,
          30,
          29,
          29,
          17,
          33,
          23,
          23,
          34,
          21,
          29,
          29,
          32.5,
          12,
          24,
          29,
          29,
          19,
          22,
          24,
          27,
          22,
          16,
          40,
          9,
          29,
          1,
          1,
          4,
          29,
          45,
          32,
          19,
          3,
          44,
          58,
          29,
          18,
          26,
          16,
          40,
          35,
          31,
          27,
          32,
          16,
          38,
          19,
          35,
          5,
          8,
          29,
          24,
          37,
          29,
          29,
          30,
          35,
          50,
          3,
          25,
          58,
          35,
          25,
          41,
          29,
          63,
          35,
          19,
          30,
          42,
          22,
          26,
          19,
          29,
          50,
          29,
          29,
          29,
          0.92,
          29,
          17,
          30,
          24,
          18,
          26,
          24,
          31,
          40,
          30,
          22,
          36,
          36,
          31,
          16,
          29,
          29,
          41,
          45,
          2,
          24,
          24,
          40,
          29,
          3,
          22,
          29,
          29,
          60,
          29,
          29,
          24,
          25,
          29,
          22,
          42,
          1,
          35,
          36,
          17,
          36,
          21,
          23,
          24,
          28,
          39,
          3,
          33,
          44,
          34,
          18,
          28,
          19,
          32,
          28,
          29,
          42,
          14,
          24,
          45,
          28,
          29,
          4,
          13,
          34,
          5,
          52,
          49,
          29,
          29,
          50,
          48,
          0.75,
          33,
          23,
          2,
          63,
          25,
          35,
          9,
          54,
          16,
          33,
          29,
          26,
          29,
          36,
          54,
          34,
          36,
          30,
          44,
          50,
          2,
          29,
          7,
          30,
          22,
          36,
          32,
          19,
          29,
          8,
          17,
          22,
          22,
          48,
          39,
          36,
          32,
          62,
          53,
          36,
          29,
          34,
          39,
          32,
          25,
          39,
          18,
          60,
          52,
          29,
          49,
          24,
          35,
          27,
          22,
          40,
          29,
          24,
          4,
          42,
          20,
          21,
          80,
          32,
          28,
          24,
          29,
          0.75,
          48,
          56,
          23,
          18,
          29,
          50,
          20,
          29,
          40,
          31,
          18,
          36,
          27,
          15,
          31,
          4,
          29,
          29,
          18,
          35,
          45,
          42,
          22,
          29,
          24,
          48,
          38,
          27,
          6,
          27,
          30,
          29,
          29,
          35,
          29,
          21,
          31,
          30,
          4,
          6,
          48,
          0.67,
          33,
          20,
          36,
          51,
          54,
          5,
          43,
          13,
          17,
          18,
          1,
          49,
          31,
          31,
          11,
          0.42,
          27,
          33,
          52,
          27,
          27,
          1,
          29,
          15,
          0.83,
          39,
          32,
          29,
          30,
          29,
          16,
          18,
          45,
          51,
          24,
          48,
          42,
          27,
          4,
          47,
          28,
          15,
          56,
          25,
          19,
          26
         ],
         "y": [
          2,
          1,
          2,
          3,
          2,
          3,
          1,
          1,
          1,
          1,
          1,
          1,
          1,
          7,
          1,
          2,
          1,
          1,
          2,
          4,
          1,
          1,
          2,
          2,
          1,
          1,
          4,
          3,
          1,
          7,
          1,
          3,
          1,
          1,
          1,
          1,
          4,
          6,
          2,
          2,
          1,
          1,
          2,
          1,
          2,
          1,
          3,
          2,
          3,
          1,
          2,
          1,
          2,
          1,
          1,
          3,
          2,
          3,
          4,
          3,
          2,
          1,
          1,
          2,
          3,
          1,
          1,
          1,
          1,
          1,
          1,
          1,
          1,
          2,
          1,
          1,
          1,
          2,
          1,
          2,
          7,
          3,
          2,
          3,
          3,
          3,
          1,
          1,
          1,
          2,
          7,
          2,
          2,
          1,
          1,
          2,
          1,
          2,
          3,
          1,
          1,
          1,
          1,
          1,
          2,
          1,
          2,
          1,
          3,
          1,
          4,
          1,
          2,
          1,
          1,
          5,
          1,
          2,
          3,
          3,
          1,
          3,
          1,
          1,
          3,
          2,
          3,
          2,
          1,
          1,
          3,
          6,
          1,
          1,
          2,
          3,
          2,
          1,
          1,
          2,
          1,
          1,
          1,
          2,
          2,
          1,
          1,
          3,
          2,
          1,
          1,
          4,
          1,
          2,
          3,
          1,
          1,
          3,
          2,
          1,
          3,
          3,
          2,
          1,
          1,
          1,
          2,
          2,
          4,
          6,
          3,
          1,
          1,
          3,
          2,
          1,
          4,
          1,
          2,
          1,
          2,
          1,
          1,
          4,
          4,
          1,
          2,
          1,
          2,
          2,
          3,
          2,
          1,
          3,
          1,
          1,
          1,
          1,
          2,
          1,
          2,
          1,
          2,
          1,
          3,
          3,
          3,
          1,
          3,
          3,
          2,
          2,
          1,
          3,
          3,
          1,
          1,
          2,
          3,
          2,
          1,
          1,
          3,
          1,
          1,
          1,
          2,
          1,
          3,
          3,
          3,
          3,
          2,
          1,
          2,
          4,
          1,
          1,
          4,
          1,
          2,
          4,
          4,
          2,
          3,
          1,
          1,
          1,
          1,
          1,
          1,
          4,
          2,
          1,
          1,
          2,
          1,
          3,
          2,
          2,
          3,
          1,
          1,
          2,
          1,
          2,
          2,
          2,
          1,
          1,
          2,
          1,
          1,
          1,
          1,
          3,
          1,
          2,
          1,
          1,
          2,
          2,
          4,
          1,
          1,
          1,
          1,
          5,
          1,
          1,
          3,
          2,
          4,
          3,
          1,
          1,
          4,
          2,
          5,
          1,
          2,
          1,
          2,
          1,
          4,
          1,
          1,
          3,
          4,
          2,
          1,
          2,
          3,
          1,
          2,
          3,
          1,
          2,
          3,
          3,
          1,
          1,
          1,
          2,
          2,
          2,
          3,
          1,
          4,
          1,
          1,
          2,
          3,
          3,
          2,
          1,
          2,
          2,
          1,
          1
         ],
         "z": [
          71.2833,
          7.925,
          53.1,
          11.1333,
          30.0708,
          16.7,
          26.55,
          16,
          13,
          7.225,
          13,
          8.0292,
          35.5,
          31.3875,
          7.8792,
          146.5208,
          7.75,
          7.2292,
          11.2417,
          41.5792,
          7.8792,
          7.75,
          76.7292,
          26,
          35.5,
          10.5,
          27.75,
          15.2458,
          10.5,
          7.925,
          56.4958,
          29,
          12.475,
          9.5,
          7.7875,
          10.5,
          15.85,
          263,
          63.3583,
          23,
          7.65,
          7.775,
          24.15,
          13,
          11.2417,
          7.1417,
          22.3583,
          26,
          26.2833,
          7.75,
          15.85,
          7.7958,
          66.6,
          7.7333,
          15.75,
          20.525,
          55,
          11.1333,
          39,
          22.025,
          15.5,
          26.55,
          13,
          7.8542,
          26,
          27.7208,
          146.5208,
          7.75,
          8.05,
          18.7875,
          7.75,
          31,
          21,
          113.275,
          7.925,
          76.2917,
          8.05,
          90,
          10.5,
          83.475,
          31.3875,
          26.25,
          15.5,
          14.5,
          52.5542,
          15.2458,
          79.2,
          86.5,
          512.3292,
          26,
          31.3875,
          7.775,
          153.4625,
          135.6333,
          0,
          19.5,
          7.75,
          77.9583,
          20.25,
          8.05,
          9.5,
          13,
          7.75,
          78.85,
          91.0792,
          30.5,
          247.5208,
          7.75,
          23.25,
          12.35,
          151.55,
          110.8833,
          108.9,
          56.9292,
          83.1583,
          262.375,
          7.8542,
          26,
          164.8667,
          134.5,
          12.35,
          29,
          135.6333,
          13,
          20.525,
          57.9792,
          23.25,
          133.65,
          134.5,
          8.05,
          26,
          263,
          13,
          13,
          16.1,
          15.9,
          55,
          7.8792,
          7.8792,
          75.25,
          7.2292,
          7.75,
          69.3,
          55.4417,
          82.1708,
          7.25,
          227.525,
          15.7417,
          52,
          13,
          12,
          120,
          7.7958,
          113.275,
          16.7,
          12.65,
          7.925,
          18.75,
          90,
          7.925,
          32.5,
          13,
          26,
          26,
          8.05,
          26.55,
          16.1,
          26,
          120,
          18.75,
          26.25,
          13,
          8.1125,
          81.8583,
          19.5,
          26.55,
          19.2583,
          30.5,
          89.1042,
          7.8958,
          51.8625,
          10.5,
          26.55,
          19.2583,
          27.75,
          13.7917,
          12.2875,
          9.5875,
          91.0792,
          90,
          15.9,
          78.2667,
          86.5,
          26,
          26.55,
          56.4958,
          7.75,
          26.2875,
          59.4,
          10.5,
          26,
          93.5,
          57.9792,
          10.5,
          26,
          22.3583,
          26.25,
          106.425,
          49.5,
          71,
          26,
          26,
          13.8625,
          36.75,
          110.8833,
          7.225,
          7.775,
          39.6,
          79.65,
          17.4,
          7.8542,
          10.5,
          51.4792,
          26.3875,
          7.75,
          13,
          55.9,
          7.925,
          30,
          110.8833,
          79.65,
          79.2,
          78.2667,
          33,
          56.9292,
          27,
          26.55,
          30.5,
          41.5792,
          153.4625,
          15.5,
          65,
          39,
          52.5542,
          15.7417,
          77.9583,
          30,
          30.5,
          13,
          69.3,
          56.4958,
          19.2583,
          76.7292,
          35.5,
          7.55,
          23,
          7.8292,
          133.65,
          7.925,
          52,
          39,
          13,
          9.8417,
          512.3292,
          76.7292,
          211.3375,
          57,
          13.4167,
          56.4958,
          7.7333,
          227.525,
          26.2875,
          13.5,
          26.2875,
          151.55,
          15.2458,
          49.5042,
          52,
          227.525,
          10.5,
          33,
          53.1,
          21,
          7.7375,
          211.3375,
          512.3292,
          30,
          262.375,
          7.925,
          13,
          23,
          12.475,
          65,
          14.5,
          86.5,
          7.2292,
          120,
          77.9583,
          23,
          12.475,
          211.3375,
          7.2292,
          57,
          7.4958,
          20.575,
          25.9292,
          8.6833,
          26.25,
          120,
          8.5167,
          6.975,
          53.1,
          93.5,
          8.6625,
          12.475,
          37.0042,
          7.75,
          14.4542,
          18.75,
          83.1583,
          56.4958,
          29.7,
          31,
          89.1042,
          39.4,
          9.35,
          164.8667,
          26.55,
          19.2583,
          25.9292,
          13,
          13.8583,
          11.1333,
          52.5542,
          24,
          7.225,
          83.1583,
          26,
          30,
          30
         ]
        }
       ],
       "layout": {
        "coloraxis": {
         "colorbar": {
          "title": {
           "text": "Pclass"
          }
         },
         "colorscale": [
          [
           0,
           "#0d0887"
          ],
          [
           0.1111111111111111,
           "#46039f"
          ],
          [
           0.2222222222222222,
           "#7201a8"
          ],
          [
           0.3333333333333333,
           "#9c179e"
          ],
          [
           0.4444444444444444,
           "#bd3786"
          ],
          [
           0.5555555555555556,
           "#d8576b"
          ],
          [
           0.6666666666666666,
           "#ed7953"
          ],
          [
           0.7777777777777778,
           "#fb9f3a"
          ],
          [
           0.8888888888888888,
           "#fdca26"
          ],
          [
           1,
           "#f0f921"
          ]
         ]
        },
        "legend": {
         "title": {
          "text": "Survived"
         },
         "tracegroupgap": 0
        },
        "margin": {
         "b": 0,
         "l": 0,
         "r": 0,
         "t": 0
        },
        "scene": {
         "domain": {
          "x": [
           0,
           1
          ],
          "y": [
           0,
           1
          ]
         },
         "xaxis": {
          "title": {
           "text": "Age"
          }
         },
         "yaxis": {
          "title": {
           "text": "fam_Size"
          }
         },
         "zaxis": {
          "title": {
           "text": "Fare"
          }
         }
        },
        "template": {
         "data": {
          "bar": [
           {
            "error_x": {
             "color": "#2a3f5f"
            },
            "error_y": {
             "color": "#2a3f5f"
            },
            "marker": {
             "line": {
              "color": "#E5ECF6",
              "width": 0.5
             }
            },
            "type": "bar"
           }
          ],
          "barpolar": [
           {
            "marker": {
             "line": {
              "color": "#E5ECF6",
              "width": 0.5
             }
            },
            "type": "barpolar"
           }
          ],
          "carpet": [
           {
            "aaxis": {
             "endlinecolor": "#2a3f5f",
             "gridcolor": "white",
             "linecolor": "white",
             "minorgridcolor": "white",
             "startlinecolor": "#2a3f5f"
            },
            "baxis": {
             "endlinecolor": "#2a3f5f",
             "gridcolor": "white",
             "linecolor": "white",
             "minorgridcolor": "white",
             "startlinecolor": "#2a3f5f"
            },
            "type": "carpet"
           }
          ],
          "choropleth": [
           {
            "colorbar": {
             "outlinewidth": 0,
             "ticks": ""
            },
            "type": "choropleth"
           }
          ],
          "contour": [
           {
            "colorbar": {
             "outlinewidth": 0,
             "ticks": ""
            },
            "colorscale": [
             [
              0,
              "#0d0887"
             ],
             [
              0.1111111111111111,
              "#46039f"
             ],
             [
              0.2222222222222222,
              "#7201a8"
             ],
             [
              0.3333333333333333,
              "#9c179e"
             ],
             [
              0.4444444444444444,
              "#bd3786"
             ],
             [
              0.5555555555555556,
              "#d8576b"
             ],
             [
              0.6666666666666666,
              "#ed7953"
             ],
             [
              0.7777777777777778,
              "#fb9f3a"
             ],
             [
              0.8888888888888888,
              "#fdca26"
             ],
             [
              1,
              "#f0f921"
             ]
            ],
            "type": "contour"
           }
          ],
          "contourcarpet": [
           {
            "colorbar": {
             "outlinewidth": 0,
             "ticks": ""
            },
            "type": "contourcarpet"
           }
          ],
          "heatmap": [
           {
            "colorbar": {
             "outlinewidth": 0,
             "ticks": ""
            },
            "colorscale": [
             [
              0,
              "#0d0887"
             ],
             [
              0.1111111111111111,
              "#46039f"
             ],
             [
              0.2222222222222222,
              "#7201a8"
             ],
             [
              0.3333333333333333,
              "#9c179e"
             ],
             [
              0.4444444444444444,
              "#bd3786"
             ],
             [
              0.5555555555555556,
              "#d8576b"
             ],
             [
              0.6666666666666666,
              "#ed7953"
             ],
             [
              0.7777777777777778,
              "#fb9f3a"
             ],
             [
              0.8888888888888888,
              "#fdca26"
             ],
             [
              1,
              "#f0f921"
             ]
            ],
            "type": "heatmap"
           }
          ],
          "heatmapgl": [
           {
            "colorbar": {
             "outlinewidth": 0,
             "ticks": ""
            },
            "colorscale": [
             [
              0,
              "#0d0887"
             ],
             [
              0.1111111111111111,
              "#46039f"
             ],
             [
              0.2222222222222222,
              "#7201a8"
             ],
             [
              0.3333333333333333,
              "#9c179e"
             ],
             [
              0.4444444444444444,
              "#bd3786"
             ],
             [
              0.5555555555555556,
              "#d8576b"
             ],
             [
              0.6666666666666666,
              "#ed7953"
             ],
             [
              0.7777777777777778,
              "#fb9f3a"
             ],
             [
              0.8888888888888888,
              "#fdca26"
             ],
             [
              1,
              "#f0f921"
             ]
            ],
            "type": "heatmapgl"
           }
          ],
          "histogram": [
           {
            "marker": {
             "colorbar": {
              "outlinewidth": 0,
              "ticks": ""
             }
            },
            "type": "histogram"
           }
          ],
          "histogram2d": [
           {
            "colorbar": {
             "outlinewidth": 0,
             "ticks": ""
            },
            "colorscale": [
             [
              0,
              "#0d0887"
             ],
             [
              0.1111111111111111,
              "#46039f"
             ],
             [
              0.2222222222222222,
              "#7201a8"
             ],
             [
              0.3333333333333333,
              "#9c179e"
             ],
             [
              0.4444444444444444,
              "#bd3786"
             ],
             [
              0.5555555555555556,
              "#d8576b"
             ],
             [
              0.6666666666666666,
              "#ed7953"
             ],
             [
              0.7777777777777778,
              "#fb9f3a"
             ],
             [
              0.8888888888888888,
              "#fdca26"
             ],
             [
              1,
              "#f0f921"
             ]
            ],
            "type": "histogram2d"
           }
          ],
          "histogram2dcontour": [
           {
            "colorbar": {
             "outlinewidth": 0,
             "ticks": ""
            },
            "colorscale": [
             [
              0,
              "#0d0887"
             ],
             [
              0.1111111111111111,
              "#46039f"
             ],
             [
              0.2222222222222222,
              "#7201a8"
             ],
             [
              0.3333333333333333,
              "#9c179e"
             ],
             [
              0.4444444444444444,
              "#bd3786"
             ],
             [
              0.5555555555555556,
              "#d8576b"
             ],
             [
              0.6666666666666666,
              "#ed7953"
             ],
             [
              0.7777777777777778,
              "#fb9f3a"
             ],
             [
              0.8888888888888888,
              "#fdca26"
             ],
             [
              1,
              "#f0f921"
             ]
            ],
            "type": "histogram2dcontour"
           }
          ],
          "mesh3d": [
           {
            "colorbar": {
             "outlinewidth": 0,
             "ticks": ""
            },
            "type": "mesh3d"
           }
          ],
          "parcoords": [
           {
            "line": {
             "colorbar": {
              "outlinewidth": 0,
              "ticks": ""
             }
            },
            "type": "parcoords"
           }
          ],
          "pie": [
           {
            "automargin": true,
            "type": "pie"
           }
          ],
          "scatter": [
           {
            "marker": {
             "colorbar": {
              "outlinewidth": 0,
              "ticks": ""
             }
            },
            "type": "scatter"
           }
          ],
          "scatter3d": [
           {
            "line": {
             "colorbar": {
              "outlinewidth": 0,
              "ticks": ""
             }
            },
            "marker": {
             "colorbar": {
              "outlinewidth": 0,
              "ticks": ""
             }
            },
            "type": "scatter3d"
           }
          ],
          "scattercarpet": [
           {
            "marker": {
             "colorbar": {
              "outlinewidth": 0,
              "ticks": ""
             }
            },
            "type": "scattercarpet"
           }
          ],
          "scattergeo": [
           {
            "marker": {
             "colorbar": {
              "outlinewidth": 0,
              "ticks": ""
             }
            },
            "type": "scattergeo"
           }
          ],
          "scattergl": [
           {
            "marker": {
             "colorbar": {
              "outlinewidth": 0,
              "ticks": ""
             }
            },
            "type": "scattergl"
           }
          ],
          "scattermapbox": [
           {
            "marker": {
             "colorbar": {
              "outlinewidth": 0,
              "ticks": ""
             }
            },
            "type": "scattermapbox"
           }
          ],
          "scatterpolar": [
           {
            "marker": {
             "colorbar": {
              "outlinewidth": 0,
              "ticks": ""
             }
            },
            "type": "scatterpolar"
           }
          ],
          "scatterpolargl": [
           {
            "marker": {
             "colorbar": {
              "outlinewidth": 0,
              "ticks": ""
             }
            },
            "type": "scatterpolargl"
           }
          ],
          "scatterternary": [
           {
            "marker": {
             "colorbar": {
              "outlinewidth": 0,
              "ticks": ""
             }
            },
            "type": "scatterternary"
           }
          ],
          "surface": [
           {
            "colorbar": {
             "outlinewidth": 0,
             "ticks": ""
            },
            "colorscale": [
             [
              0,
              "#0d0887"
             ],
             [
              0.1111111111111111,
              "#46039f"
             ],
             [
              0.2222222222222222,
              "#7201a8"
             ],
             [
              0.3333333333333333,
              "#9c179e"
             ],
             [
              0.4444444444444444,
              "#bd3786"
             ],
             [
              0.5555555555555556,
              "#d8576b"
             ],
             [
              0.6666666666666666,
              "#ed7953"
             ],
             [
              0.7777777777777778,
              "#fb9f3a"
             ],
             [
              0.8888888888888888,
              "#fdca26"
             ],
             [
              1,
              "#f0f921"
             ]
            ],
            "type": "surface"
           }
          ],
          "table": [
           {
            "cells": {
             "fill": {
              "color": "#EBF0F8"
             },
             "line": {
              "color": "white"
             }
            },
            "header": {
             "fill": {
              "color": "#C8D4E3"
             },
             "line": {
              "color": "white"
             }
            },
            "type": "table"
           }
          ]
         },
         "layout": {
          "annotationdefaults": {
           "arrowcolor": "#2a3f5f",
           "arrowhead": 0,
           "arrowwidth": 1
          },
          "coloraxis": {
           "colorbar": {
            "outlinewidth": 0,
            "ticks": ""
           }
          },
          "colorscale": {
           "diverging": [
            [
             0,
             "#8e0152"
            ],
            [
             0.1,
             "#c51b7d"
            ],
            [
             0.2,
             "#de77ae"
            ],
            [
             0.3,
             "#f1b6da"
            ],
            [
             0.4,
             "#fde0ef"
            ],
            [
             0.5,
             "#f7f7f7"
            ],
            [
             0.6,
             "#e6f5d0"
            ],
            [
             0.7,
             "#b8e186"
            ],
            [
             0.8,
             "#7fbc41"
            ],
            [
             0.9,
             "#4d9221"
            ],
            [
             1,
             "#276419"
            ]
           ],
           "sequential": [
            [
             0,
             "#0d0887"
            ],
            [
             0.1111111111111111,
             "#46039f"
            ],
            [
             0.2222222222222222,
             "#7201a8"
            ],
            [
             0.3333333333333333,
             "#9c179e"
            ],
            [
             0.4444444444444444,
             "#bd3786"
            ],
            [
             0.5555555555555556,
             "#d8576b"
            ],
            [
             0.6666666666666666,
             "#ed7953"
            ],
            [
             0.7777777777777778,
             "#fb9f3a"
            ],
            [
             0.8888888888888888,
             "#fdca26"
            ],
            [
             1,
             "#f0f921"
            ]
           ],
           "sequentialminus": [
            [
             0,
             "#0d0887"
            ],
            [
             0.1111111111111111,
             "#46039f"
            ],
            [
             0.2222222222222222,
             "#7201a8"
            ],
            [
             0.3333333333333333,
             "#9c179e"
            ],
            [
             0.4444444444444444,
             "#bd3786"
            ],
            [
             0.5555555555555556,
             "#d8576b"
            ],
            [
             0.6666666666666666,
             "#ed7953"
            ],
            [
             0.7777777777777778,
             "#fb9f3a"
            ],
            [
             0.8888888888888888,
             "#fdca26"
            ],
            [
             1,
             "#f0f921"
            ]
           ]
          },
          "colorway": [
           "#636efa",
           "#EF553B",
           "#00cc96",
           "#ab63fa",
           "#FFA15A",
           "#19d3f3",
           "#FF6692",
           "#B6E880",
           "#FF97FF",
           "#FECB52"
          ],
          "font": {
           "color": "#2a3f5f"
          },
          "geo": {
           "bgcolor": "white",
           "lakecolor": "white",
           "landcolor": "#E5ECF6",
           "showlakes": true,
           "showland": true,
           "subunitcolor": "white"
          },
          "hoverlabel": {
           "align": "left"
          },
          "hovermode": "closest",
          "mapbox": {
           "style": "light"
          },
          "paper_bgcolor": "white",
          "plot_bgcolor": "#E5ECF6",
          "polar": {
           "angularaxis": {
            "gridcolor": "white",
            "linecolor": "white",
            "ticks": ""
           },
           "bgcolor": "#E5ECF6",
           "radialaxis": {
            "gridcolor": "white",
            "linecolor": "white",
            "ticks": ""
           }
          },
          "scene": {
           "xaxis": {
            "backgroundcolor": "#E5ECF6",
            "gridcolor": "white",
            "gridwidth": 2,
            "linecolor": "white",
            "showbackground": true,
            "ticks": "",
            "zerolinecolor": "white"
           },
           "yaxis": {
            "backgroundcolor": "#E5ECF6",
            "gridcolor": "white",
            "gridwidth": 2,
            "linecolor": "white",
            "showbackground": true,
            "ticks": "",
            "zerolinecolor": "white"
           },
           "zaxis": {
            "backgroundcolor": "#E5ECF6",
            "gridcolor": "white",
            "gridwidth": 2,
            "linecolor": "white",
            "showbackground": true,
            "ticks": "",
            "zerolinecolor": "white"
           }
          },
          "shapedefaults": {
           "line": {
            "color": "#2a3f5f"
           }
          },
          "ternary": {
           "aaxis": {
            "gridcolor": "white",
            "linecolor": "white",
            "ticks": ""
           },
           "baxis": {
            "gridcolor": "white",
            "linecolor": "white",
            "ticks": ""
           },
           "bgcolor": "#E5ECF6",
           "caxis": {
            "gridcolor": "white",
            "linecolor": "white",
            "ticks": ""
           }
          },
          "title": {
           "x": 0.05
          },
          "xaxis": {
           "automargin": true,
           "gridcolor": "white",
           "linecolor": "white",
           "ticks": "",
           "title": {
            "standoff": 15
           },
           "zerolinecolor": "white",
           "zerolinewidth": 2
          },
          "yaxis": {
           "automargin": true,
           "gridcolor": "white",
           "linecolor": "white",
           "ticks": "",
           "title": {
            "standoff": 15
           },
           "zerolinecolor": "white",
           "zerolinewidth": 2
          }
         }
        }
       }
      },
      "text/html": [
       "<div>\n",
       "        \n",
       "        \n",
       "            <div id=\"70eacfe4-4d6f-4d12-82b4-2e12860556dd\" class=\"plotly-graph-div\" style=\"height:525px; width:100%;\"></div>\n",
       "            <script type=\"text/javascript\">\n",
       "                require([\"plotly\"], function(Plotly) {\n",
       "                    window.PLOTLYENV=window.PLOTLYENV || {};\n",
       "                    \n",
       "                if (document.getElementById(\"70eacfe4-4d6f-4d12-82b4-2e12860556dd\")) {\n",
       "                    Plotly.newPlot(\n",
       "                        '70eacfe4-4d6f-4d12-82b4-2e12860556dd',\n",
       "                        [{\"hovertemplate\": \"Survived=0<br>Age=%{x}<br>fam_Size=%{y}<br>Fare=%{z}<br>Pclass=%{marker.color}<extra></extra>\", \"legendgroup\": \"0\", \"marker\": {\"color\": [3, 3, 3, 1, 3, 3, 3, 3, 3, 3, 2, 3, 3, 1, 3, 1, 2, 1, 1, 3, 3, 3, 2, 3, 3, 3, 3, 3, 3, 3, 1, 3, 3, 3, 1, 3, 1, 3, 3, 2, 3, 2, 3, 3, 3, 3, 3, 1, 3, 3, 3, 3, 3, 1, 3, 3, 3, 1, 2, 3, 3, 1, 3, 3, 3, 3, 1, 3, 3, 3, 3, 3, 3, 2, 1, 3, 2, 3, 2, 1, 3, 3, 3, 3, 3, 2, 2, 1, 3, 1, 3, 3, 2, 2, 3, 2, 2, 2, 3, 3, 3, 1, 3, 3, 3, 3, 3, 3, 3, 3, 1, 3, 1, 3, 3, 1, 3, 3, 1, 2, 3, 3, 2, 3, 1, 3, 3, 2, 3, 3, 2, 3, 3, 3, 3, 3, 3, 3, 3, 2, 3, 2, 2, 2, 3, 3, 3, 3, 2, 3, 3, 2, 2, 3, 2, 2, 2, 3, 2, 3, 3, 1, 3, 2, 3, 3, 1, 3, 3, 3, 1, 1, 3, 2, 3, 1, 1, 3, 2, 3, 3, 3, 3, 1, 3, 3, 2, 3, 3, 1, 3, 1, 3, 3, 2, 2, 3, 2, 2, 3, 3, 3, 3, 1, 1, 3, 3, 1, 1, 2, 2, 2, 3, 3, 1, 3, 3, 3, 3, 2, 3, 2, 3, 3, 3, 3, 3, 3, 1, 3, 1, 3, 3, 3, 3, 2, 3, 3, 3, 3, 3, 2, 2, 3, 3, 3, 3, 2, 3, 3, 3, 3, 3, 2, 3, 2, 3, 3, 3, 3, 3, 3, 3, 3, 3, 1, 3, 1, 2, 3, 3, 2, 3, 1, 3, 1, 3, 3, 1, 2, 3, 3, 2, 1, 3, 3, 3, 3, 1, 2, 3, 3, 3, 2, 3, 3, 1, 3, 3, 3, 1, 1, 3, 3, 3, 1, 3, 3, 3, 3, 3, 1, 3, 3, 3, 1, 3, 3, 3, 3, 3, 3, 1, 3, 2, 3, 3, 3, 1, 3, 3, 3, 1, 1, 3, 2, 3, 1, 1, 3, 3, 2, 3, 3, 3, 3, 3, 3, 3, 3, 3, 2, 1, 3, 2, 3, 3, 3, 3, 3, 2, 3, 3, 3, 3, 1, 3, 3, 3, 3, 3, 3, 3, 3, 3, 2, 3, 3, 3, 1, 2, 3, 3, 3, 1, 3, 3, 2, 3, 3, 3, 3, 3, 3, 3, 3, 3, 2, 3, 3, 2, 1, 3, 1, 3, 2, 2, 3, 3, 1, 2, 2, 3, 3, 3, 3, 3, 3, 2, 2, 3, 3, 3, 3, 1, 2, 3, 1, 3, 3, 3, 3, 2, 1, 3, 2, 3, 3, 3, 3, 2, 2, 3, 2, 3, 3, 2, 2, 2, 3, 3, 3, 3, 1, 3, 1, 3, 1, 3, 3, 3, 3, 2, 3, 3, 3, 3, 1, 3, 3, 3, 3, 3, 2, 3, 3, 3, 3, 1, 3, 3, 3, 3, 1, 3, 2, 3, 1, 3, 2, 3, 3, 2, 3, 1, 3, 2, 3, 3, 2, 3, 3, 1, 3, 2, 3, 3, 1, 3, 3, 3, 3, 3, 3, 3, 3, 3, 2, 3, 3, 3, 3, 3, 2, 3, 3, 3, 2, 3, 3, 2, 3, 2, 1, 3, 3, 1, 3, 3, 3, 3, 3, 3, 2, 3, 3, 2, 3, 3], \"coloraxis\": \"coloraxis\", \"opacity\": 0.7, \"symbol\": \"circle\"}, \"mode\": \"markers\", \"name\": \"0\", \"scene\": \"scene\", \"showlegend\": true, \"type\": \"scatter3d\", \"x\": [22.0, 35.0, 29.0, 54.0, 2.0, 20.0, 39.0, 14.0, 2.0, 31.0, 35.0, 8.0, 29.0, 19.0, 29.0, 40.0, 66.0, 28.0, 42.0, 21.0, 18.0, 40.0, 27.0, 29.0, 29.0, 29.0, 29.0, 18.0, 7.0, 21.0, 65.0, 28.5, 11.0, 22.0, 45.0, 4.0, 29.0, 19.0, 26.0, 32.0, 16.0, 21.0, 26.0, 25.0, 29.0, 29.0, 22.0, 28.0, 16.0, 29.0, 24.0, 29.0, 20.0, 46.0, 26.0, 59.0, 29.0, 71.0, 34.0, 28.0, 29.0, 21.0, 33.0, 37.0, 28.0, 38.0, 47.0, 14.5, 22.0, 20.0, 17.0, 21.0, 70.5, 29.0, 24.0, 2.0, 21.0, 29.0, 32.5, 54.0, 29.0, 45.0, 33.0, 20.0, 47.0, 25.0, 23.0, 37.0, 16.0, 24.0, 29.0, 19.0, 18.0, 19.0, 9.0, 36.5, 42.0, 51.0, 55.5, 40.5, 29.0, 51.0, 30.0, 29.0, 29.0, 44.0, 26.0, 17.0, 1.0, 45.0, 29.0, 28.0, 61.0, 4.0, 21.0, 56.0, 18.0, 29.0, 50.0, 30.0, 36.0, 29.0, 29.0, 9.0, 29.0, 40.0, 36.0, 19.0, 29.0, 42.0, 24.0, 28.0, 29.0, 34.0, 45.5, 2.0, 32.0, 24.0, 22.0, 30.0, 29.0, 42.0, 30.0, 27.0, 51.0, 29.0, 22.0, 20.5, 18.0, 29.0, 29.0, 59.0, 24.0, 29.0, 44.0, 19.0, 33.0, 29.0, 29.0, 22.0, 30.0, 44.0, 25.0, 54.0, 29.0, 29.0, 62.0, 30.0, 41.0, 29.0, 52.0, 40.0, 29.0, 36.0, 16.0, 29.0, 37.0, 45.0, 29.0, 7.0, 65.0, 28.0, 16.0, 29.0, 33.0, 22.0, 36.0, 24.0, 24.0, 29.0, 23.5, 2.0, 19.0, 29.0, 30.0, 26.0, 28.0, 43.0, 54.0, 22.0, 27.0, 29.0, 61.0, 45.5, 38.0, 16.0, 29.0, 29.0, 45.0, 28.0, 25.0, 36.0, 42.0, 23.0, 29.0, 15.0, 25.0, 29.0, 28.0, 38.0, 40.0, 29.0, 45.0, 35.0, 29.0, 30.0, 18.0, 19.0, 22.0, 3.0, 27.0, 20.0, 19.0, 32.0, 29.0, 18.0, 1.0, 29.0, 28.0, 22.0, 31.0, 46.0, 23.0, 26.0, 21.0, 28.0, 20.0, 34.0, 51.0, 21.0, 29.0, 29.0, 29.0, 29.0, 29.0, 30.0, 10.0, 29.0, 21.0, 29.0, 28.0, 18.0, 29.0, 29.0, 17.0, 50.0, 21.0, 64.0, 31.0, 20.0, 25.0, 36.0, 29.0, 30.0, 29.0, 65.0, 29.0, 34.0, 47.0, 48.0, 29.0, 38.0, 29.0, 56.0, 29.0, 29.0, 38.0, 22.0, 29.0, 34.0, 29.0, 22.0, 9.0, 29.0, 50.0, 29.0, 58.0, 30.0, 29.0, 21.0, 55.0, 71.0, 21.0, 29.0, 29.0, 25.0, 24.0, 17.0, 21.0, 29.0, 37.0, 18.0, 28.0, 29.0, 24.0, 47.0, 29.0, 32.0, 22.0, 29.0, 29.0, 40.5, 29.0, 39.0, 23.0, 29.0, 17.0, 30.0, 45.0, 29.0, 9.0, 11.0, 50.0, 64.0, 33.0, 27.0, 29.0, 62.0, 29.0, 29.0, 40.0, 28.0, 29.0, 29.0, 24.0, 19.0, 29.0, 29.0, 16.0, 19.0, 29.0, 54.0, 36.0, 29.0, 47.0, 22.0, 29.0, 35.0, 47.0, 29.0, 37.0, 36.0, 49.0, 29.0, 29.0, 29.0, 44.0, 36.0, 30.0, 39.0, 29.0, 29.0, 35.0, 34.0, 26.0, 26.0, 27.0, 21.0, 21.0, 61.0, 57.0, 26.0, 29.0, 51.0, 29.0, 9.0, 32.0, 31.0, 41.0, 29.0, 20.0, 2.0, 19.0, 29.0, 29.0, 21.0, 18.0, 24.0, 29.0, 32.0, 23.0, 58.0, 40.0, 47.0, 36.0, 32.0, 25.0, 29.0, 43.0, 31.0, 70.0, 29.0, 18.0, 24.5, 43.0, 29.0, 20.0, 14.0, 60.0, 25.0, 14.0, 19.0, 18.0, 25.0, 60.0, 52.0, 44.0, 49.0, 42.0, 18.0, 25.0, 26.0, 39.0, 29.0, 29.0, 52.0, 19.0, 29.0, 33.0, 17.0, 34.0, 50.0, 20.0, 25.0, 25.0, 11.0, 29.0, 23.0, 23.0, 28.5, 48.0, 29.0, 29.0, 36.0, 24.0, 70.0, 16.0, 19.0, 31.0, 33.0, 23.0, 28.0, 18.0, 34.0, 29.0, 41.0, 16.0, 29.0, 30.5, 29.0, 32.0, 24.0, 48.0, 57.0, 29.0, 18.0, 29.0, 29.0, 29.0, 29.0, 25.0, 25.0, 8.0, 46.0, 29.0, 16.0, 29.0, 29.0, 25.0, 39.0, 30.0, 30.0, 34.0, 31.0, 39.0, 18.0, 39.0, 26.0, 39.0, 35.0, 6.0, 30.5, 29.0, 23.0, 31.0, 43.0, 10.0, 38.0, 2.0, 29.0, 29.0, 29.0, 23.0, 18.0, 21.0, 29.0, 20.0, 16.0, 34.5, 17.0, 42.0, 29.0, 35.0, 28.0, 4.0, 74.0, 9.0, 44.0, 29.0, 41.0, 21.0, 29.0, 24.0, 31.0, 29.0, 26.0, 33.0, 47.0, 20.0, 19.0, 29.0, 33.0, 22.0, 28.0, 25.0, 39.0, 27.0, 29.0, 32.0], \"y\": [2, 1, 1, 1, 5, 1, 7, 1, 6, 2, 1, 5, 1, 6, 1, 1, 1, 2, 2, 1, 3, 2, 2, 1, 1, 2, 3, 2, 6, 1, 2, 1, 8, 1, 2, 6, 1, 1, 3, 1, 8, 1, 2, 1, 1, 1, 1, 1, 5, 1, 1, 1, 1, 2, 4, 1, 1, 1, 2, 1, 1, 2, 1, 3, 1, 1, 1, 2, 1, 2, 1, 1, 1, 2, 2, 7, 3, 1, 2, 2, 1, 1, 1, 1, 2, 1, 1, 2, 1, 1, 3, 1, 1, 3, 5, 3, 1, 1, 1, 3, 1, 2, 1, 1, 11, 2, 1, 1, 6, 6, 1, 1, 1, 6, 1, 1, 3, 5, 1, 1, 1, 11, 1, 7, 1, 3, 1, 1, 1, 2, 1, 1, 11, 1, 1, 2, 2, 1, 1, 1, 2, 2, 1, 1, 1, 1, 1, 1, 1, 5, 1, 1, 1, 1, 2, 1, 1, 2, 1, 1, 1, 3, 1, 2, 1, 3, 1, 2, 3, 1, 3, 1, 1, 1, 6, 1, 2, 1, 1, 6, 1, 1, 1, 1, 1, 1, 1, 1, 1, 1, 1, 4, 1, 1, 2, 3, 1, 3, 1, 1, 1, 11, 1, 1, 2, 3, 1, 2, 1, 1, 1, 1, 1, 1, 1, 3, 2, 1, 1, 1, 6, 2, 2, 1, 2, 1, 2, 1, 1, 5, 3, 1, 1, 1, 1, 1, 8, 1, 3, 1, 1, 1, 1, 1, 2, 2, 1, 2, 1, 1, 5, 1, 1, 1, 1, 1, 3, 1, 1, 1, 3, 3, 1, 1, 1, 2, 5, 6, 1, 1, 2, 4, 2, 1, 1, 1, 1, 1, 1, 1, 1, 1, 1, 1, 1, 1, 1, 1, 1, 2, 2, 1, 8, 1, 1, 5, 1, 1, 2, 1, 1, 1, 1, 1, 1, 4, 1, 1, 1, 1, 1, 2, 1, 1, 1, 1, 1, 1, 1, 1, 1, 1, 1, 1, 4, 1, 3, 1, 1, 1, 7, 7, 2, 1, 3, 1, 1, 1, 1, 1, 1, 1, 1, 1, 3, 1, 5, 1, 1, 1, 2, 1, 1, 1, 1, 1, 1, 1, 1, 3, 2, 3, 1, 1, 1, 1, 1, 2, 1, 7, 1, 1, 1, 3, 2, 1, 2, 1, 1, 1, 1, 1, 1, 1, 1, 6, 1, 3, 6, 2, 1, 6, 1, 1, 1, 1, 1, 3, 1, 3, 1, 3, 1, 1, 1, 3, 1, 1, 1, 2, 1, 1, 1, 1, 8, 1, 1, 8, 3, 4, 6, 1, 1, 1, 1, 1, 1, 3, 1, 2, 1, 2, 1, 1, 1, 1, 1, 1, 1, 2, 1, 1, 1, 2, 2, 1, 1, 1, 1, 1, 5, 1, 1, 2, 2, 3, 3, 2, 1, 1, 1, 1, 1, 1, 1, 1, 1, 1, 1, 2, 1, 1, 1, 1, 1, 1, 1, 1, 1, 4, 1, 1, 6, 1, 1, 1, 11, 1, 1, 1, 1, 3, 1, 1, 1, 1, 1, 1, 1, 1, 7, 1, 1, 1, 3, 1, 6, 1, 6, 1, 1, 1, 1, 1, 1, 1, 1, 1, 1, 1, 1, 11, 1, 2, 7, 1, 3, 2, 1, 3, 2, 11, 1, 1, 1, 1, 1, 1, 1, 1, 1, 1, 1, 1, 1, 6, 1, 4, 1], \"z\": [7.25, 8.05, 8.4583, 51.8625, 21.075, 8.05, 31.275, 7.8542, 29.125, 18.0, 26.0, 21.075, 7.225, 263.0, 7.8958, 27.7208, 10.5, 82.1708, 52.0, 8.05, 18.0, 9.475, 21.0, 7.8958, 8.05, 15.5, 21.6792, 17.8, 39.6875, 7.8, 61.9792, 7.2292, 46.9, 7.2292, 83.475, 27.9, 27.7208, 8.1583, 8.6625, 10.5, 46.9, 73.5, 14.4542, 7.65, 7.8958, 8.05, 9.0, 47.1, 34.375, 8.05, 8.05, 8.05, 7.8542, 61.175, 20.575, 7.25, 8.05, 34.6542, 26.0, 7.8958, 7.8958, 77.2875, 8.6542, 7.925, 7.8958, 7.8958, 52.0, 14.4542, 8.05, 9.825, 14.4583, 7.925, 7.75, 21.0, 247.5208, 31.275, 73.5, 8.05, 30.0708, 77.2875, 7.75, 6.975, 7.8958, 7.05, 14.5, 13.0, 15.0458, 53.1, 9.2167, 79.2, 15.2458, 6.75, 11.5, 36.75, 34.375, 26.0, 13.0, 12.525, 8.05, 14.5, 7.3125, 61.3792, 8.05, 8.6625, 69.55, 16.1, 7.775, 8.6625, 39.6875, 27.9, 25.925, 56.4958, 33.5, 29.125, 7.925, 30.6958, 7.8542, 25.4667, 28.7125, 13.0, 0.0, 69.55, 15.05, 31.3875, 50.0, 15.5, 7.8958, 13.0, 7.75, 8.4042, 13.0, 9.5, 69.55, 6.4958, 7.225, 10.4625, 15.85, 7.05, 7.25, 13.0, 7.75, 27.0, 10.5, 13.0, 8.05, 7.8958, 9.35, 7.25, 13.0, 25.4667, 7.775, 13.5, 10.5, 7.55, 26.0, 10.5, 12.275, 14.4542, 10.5, 7.125, 7.225, 90.0, 7.775, 26.0, 7.25, 10.4625, 26.55, 16.1, 20.2125, 7.75, 79.65, 0.0, 7.75, 10.5, 39.6875, 31.0, 29.7, 7.75, 0.0, 29.125, 7.75, 7.8542, 9.5, 26.0, 8.6625, 7.8958, 12.875, 8.85, 7.8958, 27.7208, 7.2292, 151.55, 0.0, 8.05, 24.0, 26.0, 7.8958, 26.25, 14.0, 7.25, 7.8958, 69.55, 6.2375, 28.5, 153.4625, 18.0, 7.8958, 66.6, 35.5, 13.0, 13.0, 13.0, 8.6625, 9.225, 35.0, 7.2292, 17.8, 7.225, 9.5, 13.0, 27.9, 27.7208, 14.4542, 7.05, 15.5, 7.25, 6.4958, 8.05, 135.6333, 21.075, 211.5, 4.0125, 7.775, 7.925, 7.8958, 73.5, 46.9, 7.7292, 7.925, 7.7958, 7.8542, 26.0, 10.5, 8.05, 9.825, 15.85, 8.6625, 21.0, 7.75, 7.775, 25.4667, 7.8958, 6.8583, 0.0, 8.05, 13.0, 24.15, 7.8958, 7.7333, 7.875, 14.4, 20.2125, 7.25, 7.75, 7.125, 55.9, 34.375, 263.0, 10.5, 9.5, 7.775, 27.75, 19.9667, 27.75, 8.05, 26.55, 7.75, 8.05, 38.5, 13.0, 8.05, 7.05, 0.0, 26.55, 7.725, 7.25, 8.6625, 9.8375, 52.0, 21.0, 7.0458, 7.5208, 46.9, 0.0, 8.05, 25.4667, 29.7, 8.05, 19.9667, 7.25, 30.5, 49.5042, 8.05, 14.4583, 15.1, 151.55, 7.7958, 8.6625, 7.75, 7.6292, 9.5875, 108.9, 22.525, 8.05, 7.4958, 34.0208, 24.15, 7.8958, 7.8958, 7.225, 7.2292, 7.75, 221.7792, 7.925, 11.5, 7.2292, 7.2292, 8.6625, 26.55, 14.5, 31.275, 31.275, 106.425, 26.0, 20.525, 26.0, 7.8292, 26.55, 227.525, 7.75, 7.8958, 13.5, 8.05, 8.05, 24.15, 7.8958, 21.075, 7.2292, 8.05, 14.5, 14.4583, 26.0, 40.125, 8.7125, 15.0, 8.05, 8.05, 7.125, 7.25, 7.75, 26.0, 24.15, 0.0, 7.225, 7.8958, 42.4, 8.05, 15.55, 7.8958, 31.275, 7.05, 7.75, 8.05, 14.4, 16.1, 10.5, 14.4542, 7.8542, 16.1, 32.3208, 12.35, 7.8958, 7.7333, 7.0542, 0.0, 27.9, 7.925, 26.25, 39.6875, 16.1, 7.8542, 27.9, 7.8958, 7.55, 7.8958, 8.4333, 6.75, 73.5, 7.8958, 15.5, 13.0, 113.275, 7.225, 25.5875, 7.4958, 73.5, 13.0, 7.775, 8.05, 52.0, 10.5, 0.0, 7.775, 8.05, 46.9, 8.1375, 9.225, 46.9, 39.0, 41.5792, 39.6875, 10.1708, 7.7958, 7.225, 26.55, 13.5, 8.05, 110.8833, 7.65, 14.4542, 7.7417, 7.8542, 26.0, 26.55, 9.4833, 13.0, 7.65, 15.5, 7.775, 7.0542, 13.0, 13.0, 8.6625, 26.0, 7.925, 18.7875, 0.0, 13.0, 13.0, 16.1, 34.375, 7.8958, 7.8958, 78.85, 16.1, 71.0, 20.25, 53.1, 7.75, 9.5, 7.8958, 7.7958, 11.5, 8.05, 14.5, 7.125, 7.775, 39.6, 7.75, 24.15, 8.3625, 9.5, 7.8542, 10.5, 7.225, 7.75, 7.75, 7.7375, 30.0, 23.45, 7.05, 7.25, 29.125, 79.2, 7.75, 26.0, 69.55, 30.6958, 7.8958, 13.0, 7.2292, 24.15, 13.0, 7.775, 0.0, 7.775, 13.0, 7.8875, 24.15, 10.5, 31.275, 8.05, 0.0, 7.925, 37.0042, 6.45, 27.9, 0.0, 39.6875, 6.95, 56.4958, 7.2292, 7.8542, 8.3, 8.6625, 8.05, 7.925, 10.5, 6.4375, 8.6625, 7.55, 69.55, 7.8958, 33.0, 31.275, 7.775, 15.2458, 26.0, 7.2292, 14.1083, 11.5, 69.55, 13.0, 50.4958, 9.5, 7.8958, 5.0, 9.0, 9.8458, 7.8958, 7.8958, 7.8958, 10.5167, 10.5, 7.05, 29.125, 13.0, 23.45, 7.75]}, {\"hovertemplate\": \"Survived=1<br>Age=%{x}<br>fam_Size=%{y}<br>Fare=%{z}<br>Pclass=%{marker.color}<extra></extra>\", \"legendgroup\": \"1\", \"marker\": {\"color\": [1, 3, 1, 3, 2, 3, 1, 2, 2, 3, 2, 3, 1, 3, 3, 1, 3, 3, 3, 2, 3, 3, 1, 2, 1, 2, 2, 3, 2, 3, 3, 2, 3, 3, 3, 2, 3, 1, 1, 2, 3, 3, 3, 2, 3, 3, 3, 2, 1, 3, 3, 3, 1, 3, 2, 3, 1, 3, 2, 3, 3, 1, 2, 3, 2, 1, 1, 3, 3, 3, 3, 1, 2, 1, 3, 1, 3, 1, 2, 1, 3, 2, 3, 2, 1, 3, 1, 1, 1, 2, 3, 3, 1, 1, 3, 2, 3, 1, 3, 3, 3, 2, 3, 1, 1, 1, 1, 3, 3, 2, 1, 1, 1, 1, 1, 1, 3, 2, 1, 1, 2, 2, 1, 2, 3, 1, 3, 1, 1, 3, 2, 1, 2, 2, 3, 3, 1, 3, 3, 1, 3, 3, 1, 1, 1, 3, 1, 3, 1, 2, 2, 1, 3, 1, 3, 2, 3, 2, 1, 3, 2, 2, 2, 2, 3, 1, 3, 2, 1, 2, 2, 2, 3, 1, 2, 1, 3, 1, 1, 3, 1, 2, 1, 3, 2, 2, 3, 3, 1, 1, 3, 1, 1, 2, 1, 3, 3, 1, 1, 2, 2, 1, 1, 2, 2, 3, 2, 1, 1, 1, 2, 2, 2, 2, 1, 3, 3, 1, 1, 3, 3, 2, 1, 1, 3, 2, 1, 3, 2, 1, 1, 1, 1, 2, 1, 2, 1, 1, 2, 1, 3, 2, 2, 1, 3, 1, 1, 1, 2, 1, 3, 3, 1, 1, 3, 2, 3, 1, 3, 1, 2, 2, 3, 1, 1, 1, 1, 3, 3, 3, 1, 1, 2, 1, 1, 3, 1, 1, 1, 2, 2, 1, 2, 3, 1, 1, 1, 1, 3, 2, 2, 3, 2, 2, 1, 3, 1, 1, 2, 3, 1, 3, 1, 3, 3, 1, 3, 2, 1, 3, 3, 1, 1, 3, 3, 2, 3, 3, 2, 1, 3, 1, 1, 1, 1, 3, 1, 1, 3, 1, 2, 2, 3, 1, 2, 3, 1, 2, 1, 1], \"coloraxis\": \"coloraxis\", \"opacity\": 0.7, \"symbol\": \"diamond\"}, \"mode\": \"markers\", \"name\": \"1\", \"scene\": \"scene\", \"showlegend\": true, \"type\": \"scatter3d\", \"x\": [38.0, 26.0, 35.0, 27.0, 14.0, 4.0, 58.0, 55.0, 29.0, 29.0, 34.0, 15.0, 28.0, 38.0, 29.0, 29.0, 29.0, 29.0, 14.0, 3.0, 19.0, 29.0, 49.0, 29.0, 29.0, 21.0, 5.0, 29.0, 29.0, 17.0, 32.0, 0.83, 30.0, 29.0, 29.0, 17.0, 33.0, 23.0, 23.0, 34.0, 21.0, 29.0, 29.0, 32.5, 12.0, 24.0, 29.0, 29.0, 19.0, 22.0, 24.0, 27.0, 22.0, 16.0, 40.0, 9.0, 29.0, 1.0, 1.0, 4.0, 29.0, 45.0, 32.0, 19.0, 3.0, 44.0, 58.0, 29.0, 18.0, 26.0, 16.0, 40.0, 35.0, 31.0, 27.0, 32.0, 16.0, 38.0, 19.0, 35.0, 5.0, 8.0, 29.0, 24.0, 37.0, 29.0, 29.0, 30.0, 35.0, 50.0, 3.0, 25.0, 58.0, 35.0, 25.0, 41.0, 29.0, 63.0, 35.0, 19.0, 30.0, 42.0, 22.0, 26.0, 19.0, 29.0, 50.0, 29.0, 29.0, 29.0, 0.92, 29.0, 17.0, 30.0, 24.0, 18.0, 26.0, 24.0, 31.0, 40.0, 30.0, 22.0, 36.0, 36.0, 31.0, 16.0, 29.0, 29.0, 41.0, 45.0, 2.0, 24.0, 24.0, 40.0, 29.0, 3.0, 22.0, 29.0, 29.0, 60.0, 29.0, 29.0, 24.0, 25.0, 29.0, 22.0, 42.0, 1.0, 35.0, 36.0, 17.0, 36.0, 21.0, 23.0, 24.0, 28.0, 39.0, 3.0, 33.0, 44.0, 34.0, 18.0, 28.0, 19.0, 32.0, 28.0, 29.0, 42.0, 14.0, 24.0, 45.0, 28.0, 29.0, 4.0, 13.0, 34.0, 5.0, 52.0, 49.0, 29.0, 29.0, 50.0, 48.0, 0.75, 33.0, 23.0, 2.0, 63.0, 25.0, 35.0, 9.0, 54.0, 16.0, 33.0, 29.0, 26.0, 29.0, 36.0, 54.0, 34.0, 36.0, 30.0, 44.0, 50.0, 2.0, 29.0, 7.0, 30.0, 22.0, 36.0, 32.0, 19.0, 29.0, 8.0, 17.0, 22.0, 22.0, 48.0, 39.0, 36.0, 32.0, 62.0, 53.0, 36.0, 29.0, 34.0, 39.0, 32.0, 25.0, 39.0, 18.0, 60.0, 52.0, 29.0, 49.0, 24.0, 35.0, 27.0, 22.0, 40.0, 29.0, 24.0, 4.0, 42.0, 20.0, 21.0, 80.0, 32.0, 28.0, 24.0, 29.0, 0.75, 48.0, 56.0, 23.0, 18.0, 29.0, 50.0, 20.0, 29.0, 40.0, 31.0, 18.0, 36.0, 27.0, 15.0, 31.0, 4.0, 29.0, 29.0, 18.0, 35.0, 45.0, 42.0, 22.0, 29.0, 24.0, 48.0, 38.0, 27.0, 6.0, 27.0, 30.0, 29.0, 29.0, 35.0, 29.0, 21.0, 31.0, 30.0, 4.0, 6.0, 48.0, 0.67, 33.0, 20.0, 36.0, 51.0, 54.0, 5.0, 43.0, 13.0, 17.0, 18.0, 1.0, 49.0, 31.0, 31.0, 11.0, 0.42, 27.0, 33.0, 52.0, 27.0, 27.0, 1.0, 29.0, 15.0, 0.83, 39.0, 32.0, 29.0, 30.0, 29.0, 16.0, 18.0, 45.0, 51.0, 24.0, 48.0, 42.0, 27.0, 4.0, 47.0, 28.0, 15.0, 56.0, 25.0, 19.0, 26.0], \"y\": [2, 1, 2, 3, 2, 3, 1, 1, 1, 1, 1, 1, 1, 7, 1, 2, 1, 1, 2, 4, 1, 1, 2, 2, 1, 1, 4, 3, 1, 7, 1, 3, 1, 1, 1, 1, 4, 6, 2, 2, 1, 1, 2, 1, 2, 1, 3, 2, 3, 1, 2, 1, 2, 1, 1, 3, 2, 3, 4, 3, 2, 1, 1, 2, 3, 1, 1, 1, 1, 1, 1, 1, 1, 2, 1, 1, 1, 2, 1, 2, 7, 3, 2, 3, 3, 3, 1, 1, 1, 2, 7, 2, 2, 1, 1, 2, 1, 2, 3, 1, 1, 1, 1, 1, 2, 1, 2, 1, 3, 1, 4, 1, 2, 1, 1, 5, 1, 2, 3, 3, 1, 3, 1, 1, 3, 2, 3, 2, 1, 1, 3, 6, 1, 1, 2, 3, 2, 1, 1, 2, 1, 1, 1, 2, 2, 1, 1, 3, 2, 1, 1, 4, 1, 2, 3, 1, 1, 3, 2, 1, 3, 3, 2, 1, 1, 1, 2, 2, 4, 6, 3, 1, 1, 3, 2, 1, 4, 1, 2, 1, 2, 1, 1, 4, 4, 1, 2, 1, 2, 2, 3, 2, 1, 3, 1, 1, 1, 1, 2, 1, 2, 1, 2, 1, 3, 3, 3, 1, 3, 3, 2, 2, 1, 3, 3, 1, 1, 2, 3, 2, 1, 1, 3, 1, 1, 1, 2, 1, 3, 3, 3, 3, 2, 1, 2, 4, 1, 1, 4, 1, 2, 4, 4, 2, 3, 1, 1, 1, 1, 1, 1, 4, 2, 1, 1, 2, 1, 3, 2, 2, 3, 1, 1, 2, 1, 2, 2, 2, 1, 1, 2, 1, 1, 1, 1, 3, 1, 2, 1, 1, 2, 2, 4, 1, 1, 1, 1, 5, 1, 1, 3, 2, 4, 3, 1, 1, 4, 2, 5, 1, 2, 1, 2, 1, 4, 1, 1, 3, 4, 2, 1, 2, 3, 1, 2, 3, 1, 2, 3, 3, 1, 1, 1, 2, 2, 2, 3, 1, 4, 1, 1, 2, 3, 3, 2, 1, 2, 2, 1, 1], \"z\": [71.2833, 7.925, 53.1, 11.1333, 30.0708, 16.7, 26.55, 16.0, 13.0, 7.225, 13.0, 8.0292, 35.5, 31.3875, 7.8792, 146.5208, 7.75, 7.2292, 11.2417, 41.5792, 7.8792, 7.75, 76.7292, 26.0, 35.5, 10.5, 27.75, 15.2458, 10.5, 7.925, 56.4958, 29.0, 12.475, 9.5, 7.7875, 10.5, 15.85, 263.0, 63.3583, 23.0, 7.65, 7.775, 24.15, 13.0, 11.2417, 7.1417, 22.3583, 26.0, 26.2833, 7.75, 15.85, 7.7958, 66.6, 7.7333, 15.75, 20.525, 55.0, 11.1333, 39.0, 22.025, 15.5, 26.55, 13.0, 7.8542, 26.0, 27.7208, 146.5208, 7.75, 8.05, 18.7875, 7.75, 31.0, 21.0, 113.275, 7.925, 76.2917, 8.05, 90.0, 10.5, 83.475, 31.3875, 26.25, 15.5, 14.5, 52.5542, 15.2458, 79.2, 86.5, 512.3292, 26.0, 31.3875, 7.775, 153.4625, 135.6333, 0.0, 19.5, 7.75, 77.9583, 20.25, 8.05, 9.5, 13.0, 7.75, 78.85, 91.0792, 30.5, 247.5208, 7.75, 23.25, 12.35, 151.55, 110.8833, 108.9, 56.9292, 83.1583, 262.375, 7.8542, 26.0, 164.8667, 134.5, 12.35, 29.0, 135.6333, 13.0, 20.525, 57.9792, 23.25, 133.65, 134.5, 8.05, 26.0, 263.0, 13.0, 13.0, 16.1, 15.9, 55.0, 7.8792, 7.8792, 75.25, 7.2292, 7.75, 69.3, 55.4417, 82.1708, 7.25, 227.525, 15.7417, 52.0, 13.0, 12.0, 120.0, 7.7958, 113.275, 16.7, 12.65, 7.925, 18.75, 90.0, 7.925, 32.5, 13.0, 26.0, 26.0, 8.05, 26.55, 16.1, 26.0, 120.0, 18.75, 26.25, 13.0, 8.1125, 81.8583, 19.5, 26.55, 19.2583, 30.5, 89.1042, 7.8958, 51.8625, 10.5, 26.55, 19.2583, 27.75, 13.7917, 12.2875, 9.5875, 91.0792, 90.0, 15.9, 78.2667, 86.5, 26.0, 26.55, 56.4958, 7.75, 26.2875, 59.4, 10.5, 26.0, 93.5, 57.9792, 10.5, 26.0, 22.3583, 26.25, 106.425, 49.5, 71.0, 26.0, 26.0, 13.8625, 36.75, 110.8833, 7.225, 7.775, 39.6, 79.65, 17.4, 7.8542, 10.5, 51.4792, 26.3875, 7.75, 13.0, 55.9, 7.925, 30.0, 110.8833, 79.65, 79.2, 78.2667, 33.0, 56.9292, 27.0, 26.55, 30.5, 41.5792, 153.4625, 15.5, 65.0, 39.0, 52.5542, 15.7417, 77.9583, 30.0, 30.5, 13.0, 69.3, 56.4958, 19.2583, 76.7292, 35.5, 7.55, 23.0, 7.8292, 133.65, 7.925, 52.0, 39.0, 13.0, 9.8417, 512.3292, 76.7292, 211.3375, 57.0, 13.4167, 56.4958, 7.7333, 227.525, 26.2875, 13.5, 26.2875, 151.55, 15.2458, 49.5042, 52.0, 227.525, 10.5, 33.0, 53.1, 21.0, 7.7375, 211.3375, 512.3292, 30.0, 262.375, 7.925, 13.0, 23.0, 12.475, 65.0, 14.5, 86.5, 7.2292, 120.0, 77.9583, 23.0, 12.475, 211.3375, 7.2292, 57.0, 7.4958, 20.575, 25.9292, 8.6833, 26.25, 120.0, 8.5167, 6.975, 53.1, 93.5, 8.6625, 12.475, 37.0042, 7.75, 14.4542, 18.75, 83.1583, 56.4958, 29.7, 31.0, 89.1042, 39.4, 9.35, 164.8667, 26.55, 19.2583, 25.9292, 13.0, 13.8583, 11.1333, 52.5542, 24.0, 7.225, 83.1583, 26.0, 30.0, 30.0]}],\n",
       "                        {\"coloraxis\": {\"colorbar\": {\"title\": {\"text\": \"Pclass\"}}, \"colorscale\": [[0.0, \"#0d0887\"], [0.1111111111111111, \"#46039f\"], [0.2222222222222222, \"#7201a8\"], [0.3333333333333333, \"#9c179e\"], [0.4444444444444444, \"#bd3786\"], [0.5555555555555556, \"#d8576b\"], [0.6666666666666666, \"#ed7953\"], [0.7777777777777778, \"#fb9f3a\"], [0.8888888888888888, \"#fdca26\"], [1.0, \"#f0f921\"]]}, \"legend\": {\"title\": {\"text\": \"Survived\"}, \"tracegroupgap\": 0}, \"margin\": {\"b\": 0, \"l\": 0, \"r\": 0, \"t\": 0}, \"scene\": {\"domain\": {\"x\": [0.0, 1.0], \"y\": [0.0, 1.0]}, \"xaxis\": {\"title\": {\"text\": \"Age\"}}, \"yaxis\": {\"title\": {\"text\": \"fam_Size\"}}, \"zaxis\": {\"title\": {\"text\": \"Fare\"}}}, \"template\": {\"data\": {\"bar\": [{\"error_x\": {\"color\": \"#2a3f5f\"}, \"error_y\": {\"color\": \"#2a3f5f\"}, \"marker\": {\"line\": {\"color\": \"#E5ECF6\", \"width\": 0.5}}, \"type\": \"bar\"}], \"barpolar\": [{\"marker\": {\"line\": {\"color\": \"#E5ECF6\", \"width\": 0.5}}, \"type\": \"barpolar\"}], \"carpet\": [{\"aaxis\": {\"endlinecolor\": \"#2a3f5f\", \"gridcolor\": \"white\", \"linecolor\": \"white\", \"minorgridcolor\": \"white\", \"startlinecolor\": \"#2a3f5f\"}, \"baxis\": {\"endlinecolor\": \"#2a3f5f\", \"gridcolor\": \"white\", \"linecolor\": \"white\", \"minorgridcolor\": \"white\", \"startlinecolor\": \"#2a3f5f\"}, \"type\": \"carpet\"}], \"choropleth\": [{\"colorbar\": {\"outlinewidth\": 0, \"ticks\": \"\"}, \"type\": \"choropleth\"}], \"contour\": [{\"colorbar\": {\"outlinewidth\": 0, \"ticks\": \"\"}, \"colorscale\": [[0.0, \"#0d0887\"], [0.1111111111111111, \"#46039f\"], [0.2222222222222222, \"#7201a8\"], [0.3333333333333333, \"#9c179e\"], [0.4444444444444444, \"#bd3786\"], [0.5555555555555556, \"#d8576b\"], [0.6666666666666666, \"#ed7953\"], [0.7777777777777778, \"#fb9f3a\"], [0.8888888888888888, \"#fdca26\"], [1.0, \"#f0f921\"]], \"type\": \"contour\"}], \"contourcarpet\": [{\"colorbar\": {\"outlinewidth\": 0, \"ticks\": \"\"}, \"type\": \"contourcarpet\"}], \"heatmap\": [{\"colorbar\": {\"outlinewidth\": 0, \"ticks\": \"\"}, \"colorscale\": [[0.0, \"#0d0887\"], [0.1111111111111111, \"#46039f\"], [0.2222222222222222, \"#7201a8\"], [0.3333333333333333, \"#9c179e\"], [0.4444444444444444, \"#bd3786\"], [0.5555555555555556, \"#d8576b\"], [0.6666666666666666, \"#ed7953\"], [0.7777777777777778, \"#fb9f3a\"], [0.8888888888888888, \"#fdca26\"], [1.0, \"#f0f921\"]], \"type\": \"heatmap\"}], \"heatmapgl\": [{\"colorbar\": {\"outlinewidth\": 0, \"ticks\": \"\"}, \"colorscale\": [[0.0, \"#0d0887\"], [0.1111111111111111, \"#46039f\"], [0.2222222222222222, \"#7201a8\"], [0.3333333333333333, \"#9c179e\"], [0.4444444444444444, \"#bd3786\"], [0.5555555555555556, \"#d8576b\"], [0.6666666666666666, \"#ed7953\"], [0.7777777777777778, \"#fb9f3a\"], [0.8888888888888888, \"#fdca26\"], [1.0, \"#f0f921\"]], \"type\": \"heatmapgl\"}], \"histogram\": [{\"marker\": {\"colorbar\": {\"outlinewidth\": 0, \"ticks\": \"\"}}, \"type\": \"histogram\"}], \"histogram2d\": [{\"colorbar\": {\"outlinewidth\": 0, \"ticks\": \"\"}, \"colorscale\": [[0.0, \"#0d0887\"], [0.1111111111111111, \"#46039f\"], [0.2222222222222222, \"#7201a8\"], [0.3333333333333333, \"#9c179e\"], [0.4444444444444444, \"#bd3786\"], [0.5555555555555556, \"#d8576b\"], [0.6666666666666666, \"#ed7953\"], [0.7777777777777778, \"#fb9f3a\"], [0.8888888888888888, \"#fdca26\"], [1.0, \"#f0f921\"]], \"type\": \"histogram2d\"}], \"histogram2dcontour\": [{\"colorbar\": {\"outlinewidth\": 0, \"ticks\": \"\"}, \"colorscale\": [[0.0, \"#0d0887\"], [0.1111111111111111, \"#46039f\"], [0.2222222222222222, \"#7201a8\"], [0.3333333333333333, \"#9c179e\"], [0.4444444444444444, \"#bd3786\"], [0.5555555555555556, \"#d8576b\"], [0.6666666666666666, \"#ed7953\"], [0.7777777777777778, \"#fb9f3a\"], [0.8888888888888888, \"#fdca26\"], [1.0, \"#f0f921\"]], \"type\": \"histogram2dcontour\"}], \"mesh3d\": [{\"colorbar\": {\"outlinewidth\": 0, \"ticks\": \"\"}, \"type\": \"mesh3d\"}], \"parcoords\": [{\"line\": {\"colorbar\": {\"outlinewidth\": 0, \"ticks\": \"\"}}, \"type\": \"parcoords\"}], \"pie\": [{\"automargin\": true, \"type\": \"pie\"}], \"scatter\": [{\"marker\": {\"colorbar\": {\"outlinewidth\": 0, \"ticks\": \"\"}}, \"type\": \"scatter\"}], \"scatter3d\": [{\"line\": {\"colorbar\": {\"outlinewidth\": 0, \"ticks\": \"\"}}, \"marker\": {\"colorbar\": {\"outlinewidth\": 0, \"ticks\": \"\"}}, \"type\": \"scatter3d\"}], \"scattercarpet\": [{\"marker\": {\"colorbar\": {\"outlinewidth\": 0, \"ticks\": \"\"}}, \"type\": \"scattercarpet\"}], \"scattergeo\": [{\"marker\": {\"colorbar\": {\"outlinewidth\": 0, \"ticks\": \"\"}}, \"type\": \"scattergeo\"}], \"scattergl\": [{\"marker\": {\"colorbar\": {\"outlinewidth\": 0, \"ticks\": \"\"}}, \"type\": \"scattergl\"}], \"scattermapbox\": [{\"marker\": {\"colorbar\": {\"outlinewidth\": 0, \"ticks\": \"\"}}, \"type\": \"scattermapbox\"}], \"scatterpolar\": [{\"marker\": {\"colorbar\": {\"outlinewidth\": 0, \"ticks\": \"\"}}, \"type\": \"scatterpolar\"}], \"scatterpolargl\": [{\"marker\": {\"colorbar\": {\"outlinewidth\": 0, \"ticks\": \"\"}}, \"type\": \"scatterpolargl\"}], \"scatterternary\": [{\"marker\": {\"colorbar\": {\"outlinewidth\": 0, \"ticks\": \"\"}}, \"type\": \"scatterternary\"}], \"surface\": [{\"colorbar\": {\"outlinewidth\": 0, \"ticks\": \"\"}, \"colorscale\": [[0.0, \"#0d0887\"], [0.1111111111111111, \"#46039f\"], [0.2222222222222222, \"#7201a8\"], [0.3333333333333333, \"#9c179e\"], [0.4444444444444444, \"#bd3786\"], [0.5555555555555556, \"#d8576b\"], [0.6666666666666666, \"#ed7953\"], [0.7777777777777778, \"#fb9f3a\"], [0.8888888888888888, \"#fdca26\"], [1.0, \"#f0f921\"]], \"type\": \"surface\"}], \"table\": [{\"cells\": {\"fill\": {\"color\": \"#EBF0F8\"}, \"line\": {\"color\": \"white\"}}, \"header\": {\"fill\": {\"color\": \"#C8D4E3\"}, \"line\": {\"color\": \"white\"}}, \"type\": \"table\"}]}, \"layout\": {\"annotationdefaults\": {\"arrowcolor\": \"#2a3f5f\", \"arrowhead\": 0, \"arrowwidth\": 1}, \"coloraxis\": {\"colorbar\": {\"outlinewidth\": 0, \"ticks\": \"\"}}, \"colorscale\": {\"diverging\": [[0, \"#8e0152\"], [0.1, \"#c51b7d\"], [0.2, \"#de77ae\"], [0.3, \"#f1b6da\"], [0.4, \"#fde0ef\"], [0.5, \"#f7f7f7\"], [0.6, \"#e6f5d0\"], [0.7, \"#b8e186\"], [0.8, \"#7fbc41\"], [0.9, \"#4d9221\"], [1, \"#276419\"]], \"sequential\": [[0.0, \"#0d0887\"], [0.1111111111111111, \"#46039f\"], [0.2222222222222222, \"#7201a8\"], [0.3333333333333333, \"#9c179e\"], [0.4444444444444444, \"#bd3786\"], [0.5555555555555556, \"#d8576b\"], [0.6666666666666666, \"#ed7953\"], [0.7777777777777778, \"#fb9f3a\"], [0.8888888888888888, \"#fdca26\"], [1.0, \"#f0f921\"]], \"sequentialminus\": [[0.0, \"#0d0887\"], [0.1111111111111111, \"#46039f\"], [0.2222222222222222, \"#7201a8\"], [0.3333333333333333, \"#9c179e\"], [0.4444444444444444, \"#bd3786\"], [0.5555555555555556, \"#d8576b\"], [0.6666666666666666, \"#ed7953\"], [0.7777777777777778, \"#fb9f3a\"], [0.8888888888888888, \"#fdca26\"], [1.0, \"#f0f921\"]]}, \"colorway\": [\"#636efa\", \"#EF553B\", \"#00cc96\", \"#ab63fa\", \"#FFA15A\", \"#19d3f3\", \"#FF6692\", \"#B6E880\", \"#FF97FF\", \"#FECB52\"], \"font\": {\"color\": \"#2a3f5f\"}, \"geo\": {\"bgcolor\": \"white\", \"lakecolor\": \"white\", \"landcolor\": \"#E5ECF6\", \"showlakes\": true, \"showland\": true, \"subunitcolor\": \"white\"}, \"hoverlabel\": {\"align\": \"left\"}, \"hovermode\": \"closest\", \"mapbox\": {\"style\": \"light\"}, \"paper_bgcolor\": \"white\", \"plot_bgcolor\": \"#E5ECF6\", \"polar\": {\"angularaxis\": {\"gridcolor\": \"white\", \"linecolor\": \"white\", \"ticks\": \"\"}, \"bgcolor\": \"#E5ECF6\", \"radialaxis\": {\"gridcolor\": \"white\", \"linecolor\": \"white\", \"ticks\": \"\"}}, \"scene\": {\"xaxis\": {\"backgroundcolor\": \"#E5ECF6\", \"gridcolor\": \"white\", \"gridwidth\": 2, \"linecolor\": \"white\", \"showbackground\": true, \"ticks\": \"\", \"zerolinecolor\": \"white\"}, \"yaxis\": {\"backgroundcolor\": \"#E5ECF6\", \"gridcolor\": \"white\", \"gridwidth\": 2, \"linecolor\": \"white\", \"showbackground\": true, \"ticks\": \"\", \"zerolinecolor\": \"white\"}, \"zaxis\": {\"backgroundcolor\": \"#E5ECF6\", \"gridcolor\": \"white\", \"gridwidth\": 2, \"linecolor\": \"white\", \"showbackground\": true, \"ticks\": \"\", \"zerolinecolor\": \"white\"}}, \"shapedefaults\": {\"line\": {\"color\": \"#2a3f5f\"}}, \"ternary\": {\"aaxis\": {\"gridcolor\": \"white\", \"linecolor\": \"white\", \"ticks\": \"\"}, \"baxis\": {\"gridcolor\": \"white\", \"linecolor\": \"white\", \"ticks\": \"\"}, \"bgcolor\": \"#E5ECF6\", \"caxis\": {\"gridcolor\": \"white\", \"linecolor\": \"white\", \"ticks\": \"\"}}, \"title\": {\"x\": 0.05}, \"xaxis\": {\"automargin\": true, \"gridcolor\": \"white\", \"linecolor\": \"white\", \"ticks\": \"\", \"title\": {\"standoff\": 15}, \"zerolinecolor\": \"white\", \"zerolinewidth\": 2}, \"yaxis\": {\"automargin\": true, \"gridcolor\": \"white\", \"linecolor\": \"white\", \"ticks\": \"\", \"title\": {\"standoff\": 15}, \"zerolinecolor\": \"white\", \"zerolinewidth\": 2}}}},\n",
       "                        {\"responsive\": true}\n",
       "                    ).then(function(){\n",
       "                            \n",
       "var gd = document.getElementById('70eacfe4-4d6f-4d12-82b4-2e12860556dd');\n",
       "var x = new MutationObserver(function (mutations, observer) {{\n",
       "        var display = window.getComputedStyle(gd).display;\n",
       "        if (!display || display === 'none') {{\n",
       "            console.log([gd, 'removed!']);\n",
       "            Plotly.purge(gd);\n",
       "            observer.disconnect();\n",
       "        }}\n",
       "}});\n",
       "\n",
       "// Listen for the removal of the full notebook cells\n",
       "var notebookContainer = gd.closest('#notebook-container');\n",
       "if (notebookContainer) {{\n",
       "    x.observe(notebookContainer, {childList: true});\n",
       "}}\n",
       "\n",
       "// Listen for the clearing of the current output cell\n",
       "var outputEl = gd.closest('.output');\n",
       "if (outputEl) {{\n",
       "    x.observe(outputEl, {childList: true});\n",
       "}}\n",
       "\n",
       "                        })\n",
       "                };\n",
       "                });\n",
       "            </script>\n",
       "        </div>"
      ]
     },
     "metadata": {},
     "output_type": "display_data"
    }
   ],
   "source": [
    "import plotly.express as px\n",
    "\n",
    "df = data[['Survived', 'Pclass', 'Age', 'fam_Size', 'Fare']]\n",
    "fig = px.scatter_3d(df, x='Age', y='fam_Size', z='Fare',\n",
    "              symbol ='Survived', color='Pclass', opacity=0.7)\n",
    "fig.update_layout(margin=dict(l=0, r=0, b=0, t=0))\n",
    "fig.show()"
   ]
  },
  {
   "cell_type": "code",
   "execution_count": 10,
   "metadata": {},
   "outputs": [
    {
     "data": {
      "application/vnd.plotly.v1+json": {
       "config": {
        "plotlyServerURL": "https://plot.ly"
       },
       "data": [
        {
         "colorscale": [
          [
           0,
           "rgb(165,0,38)"
          ],
          [
           0.1111111111111111,
           "rgb(215,48,39)"
          ],
          [
           0.2222222222222222,
           "rgb(244,109,67)"
          ],
          [
           0.3333333333333333,
           "rgb(253,174,97)"
          ],
          [
           0.4444444444444444,
           "rgb(254,224,144)"
          ],
          [
           0.5555555555555556,
           "rgb(224,243,248)"
          ],
          [
           0.6666666666666666,
           "rgb(171,217,233)"
          ],
          [
           0.7777777777777778,
           "rgb(116,173,209)"
          ],
          [
           0.8888888888888888,
           "rgb(69,117,180)"
          ],
          [
           1,
           "rgb(49,54,149)"
          ]
         ],
         "opacity": 0.9,
         "type": "heatmap",
         "x": [
          "Survived",
          "Pclass",
          "Age",
          "Fare",
          "fam_Size"
         ],
         "y": [
          "Survived",
          "Pclass",
          "Age",
          "Fare",
          "fam_Size"
         ],
         "z": [
          [
           1,
           -0.33554885935682527,
           -0.07269943287187476,
           0.25529046130469846,
           0.018277468327593426
          ],
          [
           -0.33554885935682527,
           1,
           -0.3315876707487704,
           -0.5481932852366427,
           0.06422052521085388
          ],
          [
           -0.07269943287187476,
           -0.3315876707487704,
           1,
           0.09073565394209958,
           -0.24642724626194615
          ],
          [
           0.25529046130469846,
           -0.5481932852366427,
           0.09073565394209958,
           1,
           0.2186581739041103
          ],
          [
           0.018277468327593426,
           0.06422052521085388,
           -0.24642724626194615,
           0.2186581739041103,
           1
          ]
         ]
        }
       ],
       "layout": {
        "autosize": false,
        "height": 900,
        "margin": {
         "b": 200,
         "l": 200,
         "r": 200,
         "t": 200
        },
        "showlegend": false,
        "template": {
         "data": {
          "bar": [
           {
            "error_x": {
             "color": "#2a3f5f"
            },
            "error_y": {
             "color": "#2a3f5f"
            },
            "marker": {
             "line": {
              "color": "#E5ECF6",
              "width": 0.5
             }
            },
            "type": "bar"
           }
          ],
          "barpolar": [
           {
            "marker": {
             "line": {
              "color": "#E5ECF6",
              "width": 0.5
             }
            },
            "type": "barpolar"
           }
          ],
          "carpet": [
           {
            "aaxis": {
             "endlinecolor": "#2a3f5f",
             "gridcolor": "white",
             "linecolor": "white",
             "minorgridcolor": "white",
             "startlinecolor": "#2a3f5f"
            },
            "baxis": {
             "endlinecolor": "#2a3f5f",
             "gridcolor": "white",
             "linecolor": "white",
             "minorgridcolor": "white",
             "startlinecolor": "#2a3f5f"
            },
            "type": "carpet"
           }
          ],
          "choropleth": [
           {
            "colorbar": {
             "outlinewidth": 0,
             "ticks": ""
            },
            "type": "choropleth"
           }
          ],
          "contour": [
           {
            "colorbar": {
             "outlinewidth": 0,
             "ticks": ""
            },
            "colorscale": [
             [
              0,
              "#0d0887"
             ],
             [
              0.1111111111111111,
              "#46039f"
             ],
             [
              0.2222222222222222,
              "#7201a8"
             ],
             [
              0.3333333333333333,
              "#9c179e"
             ],
             [
              0.4444444444444444,
              "#bd3786"
             ],
             [
              0.5555555555555556,
              "#d8576b"
             ],
             [
              0.6666666666666666,
              "#ed7953"
             ],
             [
              0.7777777777777778,
              "#fb9f3a"
             ],
             [
              0.8888888888888888,
              "#fdca26"
             ],
             [
              1,
              "#f0f921"
             ]
            ],
            "type": "contour"
           }
          ],
          "contourcarpet": [
           {
            "colorbar": {
             "outlinewidth": 0,
             "ticks": ""
            },
            "type": "contourcarpet"
           }
          ],
          "heatmap": [
           {
            "colorbar": {
             "outlinewidth": 0,
             "ticks": ""
            },
            "colorscale": [
             [
              0,
              "#0d0887"
             ],
             [
              0.1111111111111111,
              "#46039f"
             ],
             [
              0.2222222222222222,
              "#7201a8"
             ],
             [
              0.3333333333333333,
              "#9c179e"
             ],
             [
              0.4444444444444444,
              "#bd3786"
             ],
             [
              0.5555555555555556,
              "#d8576b"
             ],
             [
              0.6666666666666666,
              "#ed7953"
             ],
             [
              0.7777777777777778,
              "#fb9f3a"
             ],
             [
              0.8888888888888888,
              "#fdca26"
             ],
             [
              1,
              "#f0f921"
             ]
            ],
            "type": "heatmap"
           }
          ],
          "heatmapgl": [
           {
            "colorbar": {
             "outlinewidth": 0,
             "ticks": ""
            },
            "colorscale": [
             [
              0,
              "#0d0887"
             ],
             [
              0.1111111111111111,
              "#46039f"
             ],
             [
              0.2222222222222222,
              "#7201a8"
             ],
             [
              0.3333333333333333,
              "#9c179e"
             ],
             [
              0.4444444444444444,
              "#bd3786"
             ],
             [
              0.5555555555555556,
              "#d8576b"
             ],
             [
              0.6666666666666666,
              "#ed7953"
             ],
             [
              0.7777777777777778,
              "#fb9f3a"
             ],
             [
              0.8888888888888888,
              "#fdca26"
             ],
             [
              1,
              "#f0f921"
             ]
            ],
            "type": "heatmapgl"
           }
          ],
          "histogram": [
           {
            "marker": {
             "colorbar": {
              "outlinewidth": 0,
              "ticks": ""
             }
            },
            "type": "histogram"
           }
          ],
          "histogram2d": [
           {
            "colorbar": {
             "outlinewidth": 0,
             "ticks": ""
            },
            "colorscale": [
             [
              0,
              "#0d0887"
             ],
             [
              0.1111111111111111,
              "#46039f"
             ],
             [
              0.2222222222222222,
              "#7201a8"
             ],
             [
              0.3333333333333333,
              "#9c179e"
             ],
             [
              0.4444444444444444,
              "#bd3786"
             ],
             [
              0.5555555555555556,
              "#d8576b"
             ],
             [
              0.6666666666666666,
              "#ed7953"
             ],
             [
              0.7777777777777778,
              "#fb9f3a"
             ],
             [
              0.8888888888888888,
              "#fdca26"
             ],
             [
              1,
              "#f0f921"
             ]
            ],
            "type": "histogram2d"
           }
          ],
          "histogram2dcontour": [
           {
            "colorbar": {
             "outlinewidth": 0,
             "ticks": ""
            },
            "colorscale": [
             [
              0,
              "#0d0887"
             ],
             [
              0.1111111111111111,
              "#46039f"
             ],
             [
              0.2222222222222222,
              "#7201a8"
             ],
             [
              0.3333333333333333,
              "#9c179e"
             ],
             [
              0.4444444444444444,
              "#bd3786"
             ],
             [
              0.5555555555555556,
              "#d8576b"
             ],
             [
              0.6666666666666666,
              "#ed7953"
             ],
             [
              0.7777777777777778,
              "#fb9f3a"
             ],
             [
              0.8888888888888888,
              "#fdca26"
             ],
             [
              1,
              "#f0f921"
             ]
            ],
            "type": "histogram2dcontour"
           }
          ],
          "mesh3d": [
           {
            "colorbar": {
             "outlinewidth": 0,
             "ticks": ""
            },
            "type": "mesh3d"
           }
          ],
          "parcoords": [
           {
            "line": {
             "colorbar": {
              "outlinewidth": 0,
              "ticks": ""
             }
            },
            "type": "parcoords"
           }
          ],
          "pie": [
           {
            "automargin": true,
            "type": "pie"
           }
          ],
          "scatter": [
           {
            "marker": {
             "colorbar": {
              "outlinewidth": 0,
              "ticks": ""
             }
            },
            "type": "scatter"
           }
          ],
          "scatter3d": [
           {
            "line": {
             "colorbar": {
              "outlinewidth": 0,
              "ticks": ""
             }
            },
            "marker": {
             "colorbar": {
              "outlinewidth": 0,
              "ticks": ""
             }
            },
            "type": "scatter3d"
           }
          ],
          "scattercarpet": [
           {
            "marker": {
             "colorbar": {
              "outlinewidth": 0,
              "ticks": ""
             }
            },
            "type": "scattercarpet"
           }
          ],
          "scattergeo": [
           {
            "marker": {
             "colorbar": {
              "outlinewidth": 0,
              "ticks": ""
             }
            },
            "type": "scattergeo"
           }
          ],
          "scattergl": [
           {
            "marker": {
             "colorbar": {
              "outlinewidth": 0,
              "ticks": ""
             }
            },
            "type": "scattergl"
           }
          ],
          "scattermapbox": [
           {
            "marker": {
             "colorbar": {
              "outlinewidth": 0,
              "ticks": ""
             }
            },
            "type": "scattermapbox"
           }
          ],
          "scatterpolar": [
           {
            "marker": {
             "colorbar": {
              "outlinewidth": 0,
              "ticks": ""
             }
            },
            "type": "scatterpolar"
           }
          ],
          "scatterpolargl": [
           {
            "marker": {
             "colorbar": {
              "outlinewidth": 0,
              "ticks": ""
             }
            },
            "type": "scatterpolargl"
           }
          ],
          "scatterternary": [
           {
            "marker": {
             "colorbar": {
              "outlinewidth": 0,
              "ticks": ""
             }
            },
            "type": "scatterternary"
           }
          ],
          "surface": [
           {
            "colorbar": {
             "outlinewidth": 0,
             "ticks": ""
            },
            "colorscale": [
             [
              0,
              "#0d0887"
             ],
             [
              0.1111111111111111,
              "#46039f"
             ],
             [
              0.2222222222222222,
              "#7201a8"
             ],
             [
              0.3333333333333333,
              "#9c179e"
             ],
             [
              0.4444444444444444,
              "#bd3786"
             ],
             [
              0.5555555555555556,
              "#d8576b"
             ],
             [
              0.6666666666666666,
              "#ed7953"
             ],
             [
              0.7777777777777778,
              "#fb9f3a"
             ],
             [
              0.8888888888888888,
              "#fdca26"
             ],
             [
              1,
              "#f0f921"
             ]
            ],
            "type": "surface"
           }
          ],
          "table": [
           {
            "cells": {
             "fill": {
              "color": "#EBF0F8"
             },
             "line": {
              "color": "white"
             }
            },
            "header": {
             "fill": {
              "color": "#C8D4E3"
             },
             "line": {
              "color": "white"
             }
            },
            "type": "table"
           }
          ]
         },
         "layout": {
          "annotationdefaults": {
           "arrowcolor": "#2a3f5f",
           "arrowhead": 0,
           "arrowwidth": 1
          },
          "coloraxis": {
           "colorbar": {
            "outlinewidth": 0,
            "ticks": ""
           }
          },
          "colorscale": {
           "diverging": [
            [
             0,
             "#8e0152"
            ],
            [
             0.1,
             "#c51b7d"
            ],
            [
             0.2,
             "#de77ae"
            ],
            [
             0.3,
             "#f1b6da"
            ],
            [
             0.4,
             "#fde0ef"
            ],
            [
             0.5,
             "#f7f7f7"
            ],
            [
             0.6,
             "#e6f5d0"
            ],
            [
             0.7,
             "#b8e186"
            ],
            [
             0.8,
             "#7fbc41"
            ],
            [
             0.9,
             "#4d9221"
            ],
            [
             1,
             "#276419"
            ]
           ],
           "sequential": [
            [
             0,
             "#0d0887"
            ],
            [
             0.1111111111111111,
             "#46039f"
            ],
            [
             0.2222222222222222,
             "#7201a8"
            ],
            [
             0.3333333333333333,
             "#9c179e"
            ],
            [
             0.4444444444444444,
             "#bd3786"
            ],
            [
             0.5555555555555556,
             "#d8576b"
            ],
            [
             0.6666666666666666,
             "#ed7953"
            ],
            [
             0.7777777777777778,
             "#fb9f3a"
            ],
            [
             0.8888888888888888,
             "#fdca26"
            ],
            [
             1,
             "#f0f921"
            ]
           ],
           "sequentialminus": [
            [
             0,
             "#0d0887"
            ],
            [
             0.1111111111111111,
             "#46039f"
            ],
            [
             0.2222222222222222,
             "#7201a8"
            ],
            [
             0.3333333333333333,
             "#9c179e"
            ],
            [
             0.4444444444444444,
             "#bd3786"
            ],
            [
             0.5555555555555556,
             "#d8576b"
            ],
            [
             0.6666666666666666,
             "#ed7953"
            ],
            [
             0.7777777777777778,
             "#fb9f3a"
            ],
            [
             0.8888888888888888,
             "#fdca26"
            ],
            [
             1,
             "#f0f921"
            ]
           ]
          },
          "colorway": [
           "#636efa",
           "#EF553B",
           "#00cc96",
           "#ab63fa",
           "#FFA15A",
           "#19d3f3",
           "#FF6692",
           "#B6E880",
           "#FF97FF",
           "#FECB52"
          ],
          "font": {
           "color": "#2a3f5f"
          },
          "geo": {
           "bgcolor": "white",
           "lakecolor": "white",
           "landcolor": "#E5ECF6",
           "showlakes": true,
           "showland": true,
           "subunitcolor": "white"
          },
          "hoverlabel": {
           "align": "left"
          },
          "hovermode": "closest",
          "mapbox": {
           "style": "light"
          },
          "paper_bgcolor": "white",
          "plot_bgcolor": "#E5ECF6",
          "polar": {
           "angularaxis": {
            "gridcolor": "white",
            "linecolor": "white",
            "ticks": ""
           },
           "bgcolor": "#E5ECF6",
           "radialaxis": {
            "gridcolor": "white",
            "linecolor": "white",
            "ticks": ""
           }
          },
          "scene": {
           "xaxis": {
            "backgroundcolor": "#E5ECF6",
            "gridcolor": "white",
            "gridwidth": 2,
            "linecolor": "white",
            "showbackground": true,
            "ticks": "",
            "zerolinecolor": "white"
           },
           "yaxis": {
            "backgroundcolor": "#E5ECF6",
            "gridcolor": "white",
            "gridwidth": 2,
            "linecolor": "white",
            "showbackground": true,
            "ticks": "",
            "zerolinecolor": "white"
           },
           "zaxis": {
            "backgroundcolor": "#E5ECF6",
            "gridcolor": "white",
            "gridwidth": 2,
            "linecolor": "white",
            "showbackground": true,
            "ticks": "",
            "zerolinecolor": "white"
           }
          },
          "shapedefaults": {
           "line": {
            "color": "#2a3f5f"
           }
          },
          "ternary": {
           "aaxis": {
            "gridcolor": "white",
            "linecolor": "white",
            "ticks": ""
           },
           "baxis": {
            "gridcolor": "white",
            "linecolor": "white",
            "ticks": ""
           },
           "bgcolor": "#E5ECF6",
           "caxis": {
            "gridcolor": "white",
            "linecolor": "white",
            "ticks": ""
           }
          },
          "title": {
           "x": 0.05
          },
          "xaxis": {
           "automargin": true,
           "gridcolor": "white",
           "linecolor": "white",
           "ticks": "",
           "title": {
            "standoff": 15
           },
           "zerolinecolor": "white",
           "zerolinewidth": 2
          },
          "yaxis": {
           "automargin": true,
           "gridcolor": "white",
           "linecolor": "white",
           "ticks": "",
           "title": {
            "standoff": 15
           },
           "zerolinecolor": "white",
           "zerolinewidth": 2
          }
         }
        },
        "width": 900
       }
      },
      "text/html": [
       "<div>\n",
       "        \n",
       "        \n",
       "            <div id=\"176b533c-a582-4592-9f70-bc632de0f548\" class=\"plotly-graph-div\" style=\"height:900px; width:900px;\"></div>\n",
       "            <script type=\"text/javascript\">\n",
       "                require([\"plotly\"], function(Plotly) {\n",
       "                    window.PLOTLYENV=window.PLOTLYENV || {};\n",
       "                    \n",
       "                if (document.getElementById(\"176b533c-a582-4592-9f70-bc632de0f548\")) {\n",
       "                    Plotly.newPlot(\n",
       "                        '176b533c-a582-4592-9f70-bc632de0f548',\n",
       "                        [{\"colorscale\": [[0.0, \"rgb(165,0,38)\"], [0.1111111111111111, \"rgb(215,48,39)\"], [0.2222222222222222, \"rgb(244,109,67)\"], [0.3333333333333333, \"rgb(253,174,97)\"], [0.4444444444444444, \"rgb(254,224,144)\"], [0.5555555555555556, \"rgb(224,243,248)\"], [0.6666666666666666, \"rgb(171,217,233)\"], [0.7777777777777778, \"rgb(116,173,209)\"], [0.8888888888888888, \"rgb(69,117,180)\"], [1.0, \"rgb(49,54,149)\"]], \"opacity\": 0.9, \"type\": \"heatmap\", \"x\": [\"Survived\", \"Pclass\", \"Age\", \"Fare\", \"fam_Size\"], \"y\": [\"Survived\", \"Pclass\", \"Age\", \"Fare\", \"fam_Size\"], \"z\": [[1.0, -0.33554885935682527, -0.07269943287187476, 0.25529046130469846, 0.018277468327593426], [-0.33554885935682527, 1.0, -0.3315876707487704, -0.5481932852366427, 0.06422052521085388], [-0.07269943287187476, -0.3315876707487704, 1.0, 0.09073565394209958, -0.24642724626194615], [0.25529046130469846, -0.5481932852366427, 0.09073565394209958, 1.0, 0.2186581739041103], [0.018277468327593426, 0.06422052521085388, -0.24642724626194615, 0.2186581739041103, 1.0]]}],\n",
       "                        {\"autosize\": false, \"height\": 900, \"margin\": {\"b\": 200, \"l\": 200, \"r\": 200, \"t\": 200}, \"showlegend\": false, \"template\": {\"data\": {\"bar\": [{\"error_x\": {\"color\": \"#2a3f5f\"}, \"error_y\": {\"color\": \"#2a3f5f\"}, \"marker\": {\"line\": {\"color\": \"#E5ECF6\", \"width\": 0.5}}, \"type\": \"bar\"}], \"barpolar\": [{\"marker\": {\"line\": {\"color\": \"#E5ECF6\", \"width\": 0.5}}, \"type\": \"barpolar\"}], \"carpet\": [{\"aaxis\": {\"endlinecolor\": \"#2a3f5f\", \"gridcolor\": \"white\", \"linecolor\": \"white\", \"minorgridcolor\": \"white\", \"startlinecolor\": \"#2a3f5f\"}, \"baxis\": {\"endlinecolor\": \"#2a3f5f\", \"gridcolor\": \"white\", \"linecolor\": \"white\", \"minorgridcolor\": \"white\", \"startlinecolor\": \"#2a3f5f\"}, \"type\": \"carpet\"}], \"choropleth\": [{\"colorbar\": {\"outlinewidth\": 0, \"ticks\": \"\"}, \"type\": \"choropleth\"}], \"contour\": [{\"colorbar\": {\"outlinewidth\": 0, \"ticks\": \"\"}, \"colorscale\": [[0.0, \"#0d0887\"], [0.1111111111111111, \"#46039f\"], [0.2222222222222222, \"#7201a8\"], [0.3333333333333333, \"#9c179e\"], [0.4444444444444444, \"#bd3786\"], [0.5555555555555556, \"#d8576b\"], [0.6666666666666666, \"#ed7953\"], [0.7777777777777778, \"#fb9f3a\"], [0.8888888888888888, \"#fdca26\"], [1.0, \"#f0f921\"]], \"type\": \"contour\"}], \"contourcarpet\": [{\"colorbar\": {\"outlinewidth\": 0, \"ticks\": \"\"}, \"type\": \"contourcarpet\"}], \"heatmap\": [{\"colorbar\": {\"outlinewidth\": 0, \"ticks\": \"\"}, \"colorscale\": [[0.0, \"#0d0887\"], [0.1111111111111111, \"#46039f\"], [0.2222222222222222, \"#7201a8\"], [0.3333333333333333, \"#9c179e\"], [0.4444444444444444, \"#bd3786\"], [0.5555555555555556, \"#d8576b\"], [0.6666666666666666, \"#ed7953\"], [0.7777777777777778, \"#fb9f3a\"], [0.8888888888888888, \"#fdca26\"], [1.0, \"#f0f921\"]], \"type\": \"heatmap\"}], \"heatmapgl\": [{\"colorbar\": {\"outlinewidth\": 0, \"ticks\": \"\"}, \"colorscale\": [[0.0, \"#0d0887\"], [0.1111111111111111, \"#46039f\"], [0.2222222222222222, \"#7201a8\"], [0.3333333333333333, \"#9c179e\"], [0.4444444444444444, \"#bd3786\"], [0.5555555555555556, \"#d8576b\"], [0.6666666666666666, \"#ed7953\"], [0.7777777777777778, \"#fb9f3a\"], [0.8888888888888888, \"#fdca26\"], [1.0, \"#f0f921\"]], \"type\": \"heatmapgl\"}], \"histogram\": [{\"marker\": {\"colorbar\": {\"outlinewidth\": 0, \"ticks\": \"\"}}, \"type\": \"histogram\"}], \"histogram2d\": [{\"colorbar\": {\"outlinewidth\": 0, \"ticks\": \"\"}, \"colorscale\": [[0.0, \"#0d0887\"], [0.1111111111111111, \"#46039f\"], [0.2222222222222222, \"#7201a8\"], [0.3333333333333333, \"#9c179e\"], [0.4444444444444444, \"#bd3786\"], [0.5555555555555556, \"#d8576b\"], [0.6666666666666666, \"#ed7953\"], [0.7777777777777778, \"#fb9f3a\"], [0.8888888888888888, \"#fdca26\"], [1.0, \"#f0f921\"]], \"type\": \"histogram2d\"}], \"histogram2dcontour\": [{\"colorbar\": {\"outlinewidth\": 0, \"ticks\": \"\"}, \"colorscale\": [[0.0, \"#0d0887\"], [0.1111111111111111, \"#46039f\"], [0.2222222222222222, \"#7201a8\"], [0.3333333333333333, \"#9c179e\"], [0.4444444444444444, \"#bd3786\"], [0.5555555555555556, \"#d8576b\"], [0.6666666666666666, \"#ed7953\"], [0.7777777777777778, \"#fb9f3a\"], [0.8888888888888888, \"#fdca26\"], [1.0, \"#f0f921\"]], \"type\": \"histogram2dcontour\"}], \"mesh3d\": [{\"colorbar\": {\"outlinewidth\": 0, \"ticks\": \"\"}, \"type\": \"mesh3d\"}], \"parcoords\": [{\"line\": {\"colorbar\": {\"outlinewidth\": 0, \"ticks\": \"\"}}, \"type\": \"parcoords\"}], \"pie\": [{\"automargin\": true, \"type\": \"pie\"}], \"scatter\": [{\"marker\": {\"colorbar\": {\"outlinewidth\": 0, \"ticks\": \"\"}}, \"type\": \"scatter\"}], \"scatter3d\": [{\"line\": {\"colorbar\": {\"outlinewidth\": 0, \"ticks\": \"\"}}, \"marker\": {\"colorbar\": {\"outlinewidth\": 0, \"ticks\": \"\"}}, \"type\": \"scatter3d\"}], \"scattercarpet\": [{\"marker\": {\"colorbar\": {\"outlinewidth\": 0, \"ticks\": \"\"}}, \"type\": \"scattercarpet\"}], \"scattergeo\": [{\"marker\": {\"colorbar\": {\"outlinewidth\": 0, \"ticks\": \"\"}}, \"type\": \"scattergeo\"}], \"scattergl\": [{\"marker\": {\"colorbar\": {\"outlinewidth\": 0, \"ticks\": \"\"}}, \"type\": \"scattergl\"}], \"scattermapbox\": [{\"marker\": {\"colorbar\": {\"outlinewidth\": 0, \"ticks\": \"\"}}, \"type\": \"scattermapbox\"}], \"scatterpolar\": [{\"marker\": {\"colorbar\": {\"outlinewidth\": 0, \"ticks\": \"\"}}, \"type\": \"scatterpolar\"}], \"scatterpolargl\": [{\"marker\": {\"colorbar\": {\"outlinewidth\": 0, \"ticks\": \"\"}}, \"type\": \"scatterpolargl\"}], \"scatterternary\": [{\"marker\": {\"colorbar\": {\"outlinewidth\": 0, \"ticks\": \"\"}}, \"type\": \"scatterternary\"}], \"surface\": [{\"colorbar\": {\"outlinewidth\": 0, \"ticks\": \"\"}, \"colorscale\": [[0.0, \"#0d0887\"], [0.1111111111111111, \"#46039f\"], [0.2222222222222222, \"#7201a8\"], [0.3333333333333333, \"#9c179e\"], [0.4444444444444444, \"#bd3786\"], [0.5555555555555556, \"#d8576b\"], [0.6666666666666666, \"#ed7953\"], [0.7777777777777778, \"#fb9f3a\"], [0.8888888888888888, \"#fdca26\"], [1.0, \"#f0f921\"]], \"type\": \"surface\"}], \"table\": [{\"cells\": {\"fill\": {\"color\": \"#EBF0F8\"}, \"line\": {\"color\": \"white\"}}, \"header\": {\"fill\": {\"color\": \"#C8D4E3\"}, \"line\": {\"color\": \"white\"}}, \"type\": \"table\"}]}, \"layout\": {\"annotationdefaults\": {\"arrowcolor\": \"#2a3f5f\", \"arrowhead\": 0, \"arrowwidth\": 1}, \"coloraxis\": {\"colorbar\": {\"outlinewidth\": 0, \"ticks\": \"\"}}, \"colorscale\": {\"diverging\": [[0, \"#8e0152\"], [0.1, \"#c51b7d\"], [0.2, \"#de77ae\"], [0.3, \"#f1b6da\"], [0.4, \"#fde0ef\"], [0.5, \"#f7f7f7\"], [0.6, \"#e6f5d0\"], [0.7, \"#b8e186\"], [0.8, \"#7fbc41\"], [0.9, \"#4d9221\"], [1, \"#276419\"]], \"sequential\": [[0.0, \"#0d0887\"], [0.1111111111111111, \"#46039f\"], [0.2222222222222222, \"#7201a8\"], [0.3333333333333333, \"#9c179e\"], [0.4444444444444444, \"#bd3786\"], [0.5555555555555556, \"#d8576b\"], [0.6666666666666666, \"#ed7953\"], [0.7777777777777778, \"#fb9f3a\"], [0.8888888888888888, \"#fdca26\"], [1.0, \"#f0f921\"]], \"sequentialminus\": [[0.0, \"#0d0887\"], [0.1111111111111111, \"#46039f\"], [0.2222222222222222, \"#7201a8\"], [0.3333333333333333, \"#9c179e\"], [0.4444444444444444, \"#bd3786\"], [0.5555555555555556, \"#d8576b\"], [0.6666666666666666, \"#ed7953\"], [0.7777777777777778, \"#fb9f3a\"], [0.8888888888888888, \"#fdca26\"], [1.0, \"#f0f921\"]]}, \"colorway\": [\"#636efa\", \"#EF553B\", \"#00cc96\", \"#ab63fa\", \"#FFA15A\", \"#19d3f3\", \"#FF6692\", \"#B6E880\", \"#FF97FF\", \"#FECB52\"], \"font\": {\"color\": \"#2a3f5f\"}, \"geo\": {\"bgcolor\": \"white\", \"lakecolor\": \"white\", \"landcolor\": \"#E5ECF6\", \"showlakes\": true, \"showland\": true, \"subunitcolor\": \"white\"}, \"hoverlabel\": {\"align\": \"left\"}, \"hovermode\": \"closest\", \"mapbox\": {\"style\": \"light\"}, \"paper_bgcolor\": \"white\", \"plot_bgcolor\": \"#E5ECF6\", \"polar\": {\"angularaxis\": {\"gridcolor\": \"white\", \"linecolor\": \"white\", \"ticks\": \"\"}, \"bgcolor\": \"#E5ECF6\", \"radialaxis\": {\"gridcolor\": \"white\", \"linecolor\": \"white\", \"ticks\": \"\"}}, \"scene\": {\"xaxis\": {\"backgroundcolor\": \"#E5ECF6\", \"gridcolor\": \"white\", \"gridwidth\": 2, \"linecolor\": \"white\", \"showbackground\": true, \"ticks\": \"\", \"zerolinecolor\": \"white\"}, \"yaxis\": {\"backgroundcolor\": \"#E5ECF6\", \"gridcolor\": \"white\", \"gridwidth\": 2, \"linecolor\": \"white\", \"showbackground\": true, \"ticks\": \"\", \"zerolinecolor\": \"white\"}, \"zaxis\": {\"backgroundcolor\": \"#E5ECF6\", \"gridcolor\": \"white\", \"gridwidth\": 2, \"linecolor\": \"white\", \"showbackground\": true, \"ticks\": \"\", \"zerolinecolor\": \"white\"}}, \"shapedefaults\": {\"line\": {\"color\": \"#2a3f5f\"}}, \"ternary\": {\"aaxis\": {\"gridcolor\": \"white\", \"linecolor\": \"white\", \"ticks\": \"\"}, \"baxis\": {\"gridcolor\": \"white\", \"linecolor\": \"white\", \"ticks\": \"\"}, \"bgcolor\": \"#E5ECF6\", \"caxis\": {\"gridcolor\": \"white\", \"linecolor\": \"white\", \"ticks\": \"\"}}, \"title\": {\"x\": 0.05}, \"xaxis\": {\"automargin\": true, \"gridcolor\": \"white\", \"linecolor\": \"white\", \"ticks\": \"\", \"title\": {\"standoff\": 15}, \"zerolinecolor\": \"white\", \"zerolinewidth\": 2}, \"yaxis\": {\"automargin\": true, \"gridcolor\": \"white\", \"linecolor\": \"white\", \"ticks\": \"\", \"title\": {\"standoff\": 15}, \"zerolinecolor\": \"white\", \"zerolinewidth\": 2}}}, \"width\": 900},\n",
       "                        {\"responsive\": true}\n",
       "                    ).then(function(){\n",
       "                            \n",
       "var gd = document.getElementById('176b533c-a582-4592-9f70-bc632de0f548');\n",
       "var x = new MutationObserver(function (mutations, observer) {{\n",
       "        var display = window.getComputedStyle(gd).display;\n",
       "        if (!display || display === 'none') {{\n",
       "            console.log([gd, 'removed!']);\n",
       "            Plotly.purge(gd);\n",
       "            observer.disconnect();\n",
       "        }}\n",
       "}});\n",
       "\n",
       "// Listen for the removal of the full notebook cells\n",
       "var notebookContainer = gd.closest('#notebook-container');\n",
       "if (notebookContainer) {{\n",
       "    x.observe(notebookContainer, {childList: true});\n",
       "}}\n",
       "\n",
       "// Listen for the clearing of the current output cell\n",
       "var outputEl = gd.closest('.output');\n",
       "if (outputEl) {{\n",
       "    x.observe(outputEl, {childList: true});\n",
       "}}\n",
       "\n",
       "                        })\n",
       "                };\n",
       "                });\n",
       "            </script>\n",
       "        </div>"
      ]
     },
     "metadata": {},
     "output_type": "display_data"
    }
   ],
   "source": [
    "import plotly.graph_objects as go\n",
    "\n",
    "corr = data.corr()\n",
    "\n",
    "\n",
    "fig = go.Figure(data=go.Heatmap(\n",
    "                   z= corr,\n",
    "                   x=['Survived','Pclass','Age','Fare','fam_Size'],\n",
    "                   y=['Survived','Pclass','Age','Fare','fam_Size'],\n",
    "                   colorscale=[[0.0, 'rgb(165,0,38)'], \n",
    "                               [0.1111111111111111, 'rgb(215,48,39)'], \n",
    "                               [0.2222222222222222, 'rgb(244,109,67)'], \n",
    "                               [0.3333333333333333, 'rgb(253,174,97)'], \n",
    "                               [0.4444444444444444, 'rgb(254,224,144)'], \n",
    "                               [0.5555555555555556, 'rgb(224,243,248)'], \n",
    "                               [0.6666666666666666, 'rgb(171,217,233)'], \n",
    "                               [0.7777777777777778, 'rgb(116,173,209)'], \n",
    "                               [0.8888888888888888, 'rgb(69,117,180)'], \n",
    "                               [1.0, 'rgb(49,54,149)']], opacity=0.9))\n",
    "\n",
    "fig.update_layout(margin = dict(t=200,r=200,b=200,l=200),\n",
    "    showlegend = False,\n",
    "    width = 900, height = 900,\n",
    "    autosize = False )\n",
    "fig.show()"
   ]
  }
 ],
 "metadata": {
  "kernelspec": {
   "display_name": "Python 3",
   "language": "python",
   "name": "python3"
  },
  "language_info": {
   "codemirror_mode": {
    "name": "ipython",
    "version": 3
   },
   "file_extension": ".py",
   "mimetype": "text/x-python",
   "name": "python",
   "nbconvert_exporter": "python",
   "pygments_lexer": "ipython3",
   "version": "3.7.7"
  }
 },
 "nbformat": 4,
 "nbformat_minor": 4
}
